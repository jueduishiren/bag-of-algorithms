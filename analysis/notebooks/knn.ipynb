{
 "metadata": {
  "name": "",
  "signature": "sha256:a2133c0f5f6d3fa738b3b89e60fec5bebce5d7a931fc4af2b4cea3b0d7b98d76"
 },
 "nbformat": 3,
 "nbformat_minor": 0,
 "worksheets": [
  {
   "cells": [
    {
     "cell_type": "code",
     "collapsed": false,
     "input": [
      "%matplotlib inline"
     ],
     "language": "python",
     "metadata": {},
     "outputs": [],
     "prompt_number": 2
    },
    {
     "cell_type": "code",
     "collapsed": false,
     "input": [
      "from algo_evaluation.datasets import split_dataset, load_higgs_train\n",
      "from algo_evaluation.algos.knn import estimate_best_n_neighbours\n",
      "from algo_evaluation.parameter_search import grid_search_best_parameter"
     ],
     "language": "python",
     "metadata": {},
     "outputs": [
      {
       "output_type": "stream",
       "stream": "stdout",
       "text": [
        "line_width has been deprecated, use display.width instead (currently both are\n",
        "identical)\n",
        "\n"
       ]
      }
     ],
     "prompt_number": 3
    },
    {
     "cell_type": "code",
     "collapsed": false,
     "input": [
      "from sklearn.neighbors import KNeighborsClassifier"
     ],
     "language": "python",
     "metadata": {},
     "outputs": [],
     "prompt_number": 4
    },
    {
     "cell_type": "code",
     "collapsed": false,
     "input": [
      "raw_data = load_higgs_train()\n",
      "features, weights, labels = raw_data\n",
      "print features.shape, weights.shape, labels.shape"
     ],
     "language": "python",
     "metadata": {},
     "outputs": [
      {
       "output_type": "stream",
       "stream": "stderr",
       "text": [
        "INFO:algo_evaluation:Loaded higgs training dataset of size 68114\n"
       ]
      },
      {
       "output_type": "stream",
       "stream": "stdout",
       "text": [
        "(68114, 13) (68114,) (68114,)\n"
       ]
      }
     ],
     "prompt_number": 5
    },
    {
     "cell_type": "code",
     "collapsed": false,
     "input": [
      "dataset = split_dataset(features, weights, labels)"
     ],
     "language": "python",
     "metadata": {},
     "outputs": [],
     "prompt_number": 20
    },
    {
     "cell_type": "code",
     "collapsed": false,
     "input": [
      "clf = KNeighborsClassifier(n_neighbors=3)"
     ],
     "language": "python",
     "metadata": {},
     "outputs": [],
     "prompt_number": 7
    },
    {
     "cell_type": "code",
     "collapsed": false,
     "input": [
      "clf.fit(dataset['training']['features'], dataset['training']['labels'])"
     ],
     "language": "python",
     "metadata": {},
     "outputs": [
      {
       "metadata": {},
       "output_type": "pyout",
       "prompt_number": 8,
       "text": [
        "KNeighborsClassifier(algorithm='auto', leaf_size=30, metric='minkowski',\n",
        "           metric_params=None, n_neighbors=3, p=2, weights='uniform')"
       ]
      }
     ],
     "prompt_number": 8
    },
    {
     "cell_type": "code",
     "collapsed": false,
     "input": [
      "clf.predict(dataset['test']['features'])"
     ],
     "language": "python",
     "metadata": {},
     "outputs": [
      {
       "metadata": {},
       "output_type": "pyout",
       "prompt_number": 9,
       "text": [
        "array(['b', 's', 'b', ..., 's', 's', 'b'], dtype=object)"
       ]
      }
     ],
     "prompt_number": 9
    },
    {
     "cell_type": "code",
     "collapsed": false,
     "input": [
      "clf.score(dataset['test']['features'], dataset['test']['labels'], sample_weight=dataset['test']['weights'])"
     ],
     "language": "python",
     "metadata": {},
     "outputs": [
      {
       "metadata": {},
       "output_type": "pyout",
       "prompt_number": 10,
       "text": [
        "0.80718236206125737"
       ]
      }
     ],
     "prompt_number": 10
    },
    {
     "cell_type": "code",
     "collapsed": false,
     "input": [
      "clf.score(dataset['training']['features'], dataset['training']['labels'], sample_weight=dataset['training']['weights'])"
     ],
     "language": "python",
     "metadata": {},
     "outputs": [
      {
       "metadata": {},
       "output_type": "pyout",
       "prompt_number": 11,
       "text": [
        "0.90001978590952847"
       ]
      }
     ],
     "prompt_number": 11
    },
    {
     "cell_type": "code",
     "collapsed": false,
     "input": [
      "df = estimate_best_n_neighbours()"
     ],
     "language": "python",
     "metadata": {},
     "outputs": [
      {
       "output_type": "stream",
       "stream": "stderr",
       "text": [
        "INFO:algo_evaluation:Loaded higgs training dataset of size 68114\n"
       ]
      },
      {
       "output_type": "stream",
       "stream": "stderr",
       "text": [
        "INFO:algo_evaluation:Created KNN classifier with 1 neighbours\n"
       ]
      },
      {
       "output_type": "stream",
       "stream": "stderr",
       "text": [
        "INFO:algo_evaluation:Trained decision tree classifier\n"
       ]
      },
      {
       "output_type": "stream",
       "stream": "stderr",
       "text": [
        "INFO:algo_evaluation:Generated predictions\n"
       ]
      },
      {
       "output_type": "stream",
       "stream": "stderr",
       "text": [
        "INFO:algo_evaluation:Training Weighted Accuracy score = 1.0\n"
       ]
      },
      {
       "output_type": "stream",
       "stream": "stderr",
       "text": [
        "INFO:algo_evaluation:Test Weighted Accuracy score = 0.769606041223\n"
       ]
      },
      {
       "output_type": "stream",
       "stream": "stderr",
       "text": [
        "INFO:algo_evaluation:Created KNN classifier with 3 neighbours\n"
       ]
      },
      {
       "output_type": "stream",
       "stream": "stderr",
       "text": [
        "INFO:algo_evaluation:Trained decision tree classifier\n"
       ]
      },
      {
       "output_type": "stream",
       "stream": "stderr",
       "text": [
        "INFO:algo_evaluation:Generated predictions\n"
       ]
      },
      {
       "output_type": "stream",
       "stream": "stderr",
       "text": [
        "INFO:algo_evaluation:Training Weighted Accuracy score = 0.89742687859\n"
       ]
      },
      {
       "output_type": "stream",
       "stream": "stderr",
       "text": [
        "INFO:algo_evaluation:Test Weighted Accuracy score = 0.804473338373\n"
       ]
      },
      {
       "output_type": "stream",
       "stream": "stderr",
       "text": [
        "INFO:algo_evaluation:Created KNN classifier with 5 neighbours\n"
       ]
      },
      {
       "output_type": "stream",
       "stream": "stderr",
       "text": [
        "INFO:algo_evaluation:Trained decision tree classifier\n"
       ]
      },
      {
       "output_type": "stream",
       "stream": "stderr",
       "text": [
        "INFO:algo_evaluation:Generated predictions\n"
       ]
      },
      {
       "output_type": "stream",
       "stream": "stderr",
       "text": [
        "INFO:algo_evaluation:Training Weighted Accuracy score = 0.875882499418\n"
       ]
      },
      {
       "output_type": "stream",
       "stream": "stderr",
       "text": [
        "INFO:algo_evaluation:Test Weighted Accuracy score = 0.821321277047\n"
       ]
      },
      {
       "output_type": "stream",
       "stream": "stderr",
       "text": [
        "INFO:algo_evaluation:Created KNN classifier with 7 neighbours\n"
       ]
      },
      {
       "output_type": "stream",
       "stream": "stderr",
       "text": [
        "INFO:algo_evaluation:Trained decision tree classifier\n"
       ]
      },
      {
       "output_type": "stream",
       "stream": "stderr",
       "text": [
        "INFO:algo_evaluation:Generated predictions\n"
       ]
      },
      {
       "output_type": "stream",
       "stream": "stderr",
       "text": [
        "INFO:algo_evaluation:Training Weighted Accuracy score = 0.869353178944\n"
       ]
      },
      {
       "output_type": "stream",
       "stream": "stderr",
       "text": [
        "INFO:algo_evaluation:Test Weighted Accuracy score = 0.821844050193\n"
       ]
      },
      {
       "output_type": "stream",
       "stream": "stderr",
       "text": [
        "INFO:algo_evaluation:Created KNN classifier with 9 neighbours\n"
       ]
      },
      {
       "output_type": "stream",
       "stream": "stderr",
       "text": [
        "INFO:algo_evaluation:Trained decision tree classifier\n"
       ]
      },
      {
       "output_type": "stream",
       "stream": "stderr",
       "text": [
        "INFO:algo_evaluation:Generated predictions\n"
       ]
      },
      {
       "output_type": "stream",
       "stream": "stderr",
       "text": [
        "INFO:algo_evaluation:Training Weighted Accuracy score = 0.861603725368\n"
       ]
      },
      {
       "output_type": "stream",
       "stream": "stderr",
       "text": [
        "INFO:algo_evaluation:Test Weighted Accuracy score = 0.829685505458\n"
       ]
      },
      {
       "output_type": "stream",
       "stream": "stderr",
       "text": [
        "INFO:algo_evaluation:Created KNN classifier with 11 neighbours\n"
       ]
      },
      {
       "output_type": "stream",
       "stream": "stderr",
       "text": [
        "INFO:algo_evaluation:Trained decision tree classifier\n"
       ]
      },
      {
       "output_type": "stream",
       "stream": "stderr",
       "text": [
        "INFO:algo_evaluation:Generated predictions\n"
       ]
      },
      {
       "output_type": "stream",
       "stream": "stderr",
       "text": [
        "INFO:algo_evaluation:Training Weighted Accuracy score = 0.854733708696\n"
       ]
      },
      {
       "output_type": "stream",
       "stream": "stderr",
       "text": [
        "INFO:algo_evaluation:Test Weighted Accuracy score = 0.825766214545\n"
       ]
      },
      {
       "output_type": "stream",
       "stream": "stderr",
       "text": [
        "INFO:algo_evaluation:Created KNN classifier with 13 neighbours\n"
       ]
      },
      {
       "output_type": "stream",
       "stream": "stderr",
       "text": [
        "INFO:algo_evaluation:Trained decision tree classifier\n"
       ]
      },
      {
       "output_type": "stream",
       "stream": "stderr",
       "text": [
        "INFO:algo_evaluation:Generated predictions\n"
       ]
      },
      {
       "output_type": "stream",
       "stream": "stderr",
       "text": [
        "INFO:algo_evaluation:Training Weighted Accuracy score = 0.854525596462\n"
       ]
      },
      {
       "output_type": "stream",
       "stream": "stderr",
       "text": [
        "INFO:algo_evaluation:Test Weighted Accuracy score = 0.836263325112\n"
       ]
      },
      {
       "output_type": "stream",
       "stream": "stderr",
       "text": [
        "INFO:algo_evaluation:Created KNN classifier with 15 neighbours\n"
       ]
      },
      {
       "output_type": "stream",
       "stream": "stderr",
       "text": [
        "INFO:algo_evaluation:Trained decision tree classifier\n"
       ]
      },
      {
       "output_type": "stream",
       "stream": "stderr",
       "text": [
        "INFO:algo_evaluation:Generated predictions\n"
       ]
      },
      {
       "output_type": "stream",
       "stream": "stderr",
       "text": [
        "INFO:algo_evaluation:Training Weighted Accuracy score = 0.85252132\n"
       ]
      },
      {
       "output_type": "stream",
       "stream": "stderr",
       "text": [
        "INFO:algo_evaluation:Test Weighted Accuracy score = 0.828458637093\n"
       ]
      },
      {
       "output_type": "stream",
       "stream": "stderr",
       "text": [
        "INFO:algo_evaluation:Created KNN classifier with 17 neighbours\n"
       ]
      },
      {
       "output_type": "stream",
       "stream": "stderr",
       "text": [
        "INFO:algo_evaluation:Trained decision tree classifier\n"
       ]
      },
      {
       "output_type": "stream",
       "stream": "stderr",
       "text": [
        "INFO:algo_evaluation:Generated predictions\n"
       ]
      },
      {
       "output_type": "stream",
       "stream": "stderr",
       "text": [
        "INFO:algo_evaluation:Training Weighted Accuracy score = 0.848655403955\n"
       ]
      },
      {
       "output_type": "stream",
       "stream": "stderr",
       "text": [
        "INFO:algo_evaluation:Test Weighted Accuracy score = 0.834240240599\n"
       ]
      },
      {
       "output_type": "stream",
       "stream": "stderr",
       "text": [
        "INFO:algo_evaluation:Created KNN classifier with 19 neighbours\n"
       ]
      },
      {
       "output_type": "stream",
       "stream": "stderr",
       "text": [
        "INFO:algo_evaluation:Trained decision tree classifier\n"
       ]
      },
      {
       "output_type": "stream",
       "stream": "stderr",
       "text": [
        "INFO:algo_evaluation:Generated predictions\n"
       ]
      },
      {
       "output_type": "stream",
       "stream": "stderr",
       "text": [
        "INFO:algo_evaluation:Training Weighted Accuracy score = 0.847540456414\n"
       ]
      },
      {
       "output_type": "stream",
       "stream": "stderr",
       "text": [
        "INFO:algo_evaluation:Test Weighted Accuracy score = 0.83839701423\n"
       ]
      },
      {
       "output_type": "stream",
       "stream": "stderr",
       "text": [
        "INFO:algo_evaluation:Performed evaluation of the n_neighbours setting choice\n"
       ]
      },
      {
       "output_type": "stream",
       "stream": "stderr",
       "text": [
        "INFO:algo_evaluation:              training_score  test_score\n",
        "n_neighbours                            \n",
        "1                   1.000000    0.769606\n",
        "3                   0.897427    0.804473\n",
        "5                   0.875882    0.821321\n",
        "7                   0.869353    0.821844\n",
        "9                   0.861604    0.829686\n",
        "11                  0.854734    0.825766\n",
        "13                  0.854526    0.836263\n",
        "15                  0.852521    0.828459\n",
        "17                  0.848655    0.834240\n",
        "19                  0.847540    0.838397\n"
       ]
      }
     ],
     "prompt_number": 12
    },
    {
     "cell_type": "code",
     "collapsed": false,
     "input": [
      "df.plot()"
     ],
     "language": "python",
     "metadata": {},
     "outputs": [
      {
       "metadata": {},
       "output_type": "pyout",
       "prompt_number": 13,
       "text": [
        "<matplotlib.axes._subplots.AxesSubplot at 0x1062c9750>"
       ]
      },
      {
       "metadata": {},
       "output_type": "display_data",
       "png": "[encoded data removed]",
       "text": [
        "<matplotlib.figure.Figure at 0x10942f290>"
       ]
      }
     ],
     "prompt_number": 13
    },
    {
     "cell_type": "code",
     "collapsed": false,
     "input": [
      "import numpy as np\n",
      "tunning_parameters = {'n_neighbors': np.arange(1, 40, 2), 'weights': ['uniform', 'distance']}\n",
      "#dataset['training']['labels'] = [1 if l == 's' else 0 for l in dataset['training']['labels']]\n",
      "#dataset['test']['labels'] = [1 if l == 's' else 0 for l in dataset['test']['labels']]\n",
      "scores = ['precision']"
     ],
     "language": "python",
     "metadata": {},
     "outputs": [],
     "prompt_number": 28
    },
    {
     "cell_type": "code",
     "collapsed": false,
     "input": [
      "grid_search_best_parameter(dataset, KNeighborsClassifier, tunning_parameters, scores=scores)"
     ],
     "language": "python",
     "metadata": {},
     "outputs": [
      {
       "output_type": "stream",
       "stream": "stderr",
       "text": [
        "INFO:algo_evaluation:# Tuning hyper-parameters for precision\n"
       ]
      },
      {
       "output_type": "stream",
       "stream": "stderr",
       "text": [
        "INFO:algo_evaluation:Best parameters set found on development set:\n"
       ]
      },
      {
       "output_type": "stream",
       "stream": "stderr",
       "text": [
        "INFO:algo_evaluation:KNeighborsClassifier(algorithm='auto', leaf_size=30, metric='minkowski',\n",
        "           metric_params=None, n_neighbors=23, p=2, weights='distance')\n"
       ]
      },
      {
       "output_type": "stream",
       "stream": "stderr",
       "text": [
        "INFO:algo_evaluation:Grid scores on development set:\n"
       ]
      },
      {
       "output_type": "stream",
       "stream": "stderr",
       "text": [
        "INFO:algo_evaluation:0.718 (+/-0.002) for {'n_neighbors': 1, 'weights': 'uniform'}\n"
       ]
      },
      {
       "output_type": "stream",
       "stream": "stderr",
       "text": [
        "INFO:algo_evaluation:0.718 (+/-0.002) for {'n_neighbors': 1, 'weights': 'distance'}\n"
       ]
      },
      {
       "output_type": "stream",
       "stream": "stderr",
       "text": [
        "INFO:algo_evaluation:0.755 (+/-0.001) for {'n_neighbors': 3, 'weights': 'uniform'}\n"
       ]
      },
      {
       "output_type": "stream",
       "stream": "stderr",
       "text": [
        "INFO:algo_evaluation:0.754 (+/-0.001) for {'n_neighbors': 3, 'weights': 'distance'}\n"
       ]
      },
      {
       "output_type": "stream",
       "stream": "stderr",
       "text": [
        "INFO:algo_evaluation:0.768 (+/-0.002) for {'n_neighbors': 5, 'weights': 'uniform'}\n"
       ]
      },
      {
       "output_type": "stream",
       "stream": "stderr",
       "text": [
        "INFO:algo_evaluation:0.767 (+/-0.002) for {'n_neighbors': 5, 'weights': 'distance'}\n"
       ]
      },
      {
       "output_type": "stream",
       "stream": "stderr",
       "text": [
        "INFO:algo_evaluation:0.774 (+/-0.003) for {'n_neighbors': 7, 'weights': 'uniform'}\n"
       ]
      },
      {
       "output_type": "stream",
       "stream": "stderr",
       "text": [
        "INFO:algo_evaluation:0.774 (+/-0.003) for {'n_neighbors': 7, 'weights': 'distance'}\n"
       ]
      },
      {
       "output_type": "stream",
       "stream": "stderr",
       "text": [
        "INFO:algo_evaluation:0.777 (+/-0.003) for {'n_neighbors': 9, 'weights': 'uniform'}\n"
       ]
      },
      {
       "output_type": "stream",
       "stream": "stderr",
       "text": [
        "INFO:algo_evaluation:0.777 (+/-0.003) for {'n_neighbors': 9, 'weights': 'distance'}\n"
       ]
      },
      {
       "output_type": "stream",
       "stream": "stderr",
       "text": [
        "INFO:algo_evaluation:0.777 (+/-0.002) for {'n_neighbors': 11, 'weights': 'uniform'}\n"
       ]
      },
      {
       "output_type": "stream",
       "stream": "stderr",
       "text": [
        "INFO:algo_evaluation:0.778 (+/-0.003) for {'n_neighbors': 11, 'weights': 'distance'}\n"
       ]
      },
      {
       "output_type": "stream",
       "stream": "stderr",
       "text": [
        "INFO:algo_evaluation:0.778 (+/-0.003) for {'n_neighbors': 13, 'weights': 'uniform'}\n"
       ]
      },
      {
       "output_type": "stream",
       "stream": "stderr",
       "text": [
        "INFO:algo_evaluation:0.778 (+/-0.003) for {'n_neighbors': 13, 'weights': 'distance'}\n"
       ]
      },
      {
       "output_type": "stream",
       "stream": "stderr",
       "text": [
        "INFO:algo_evaluation:0.782 (+/-0.002) for {'n_neighbors': 15, 'weights': 'uniform'}\n"
       ]
      },
      {
       "output_type": "stream",
       "stream": "stderr",
       "text": [
        "INFO:algo_evaluation:0.782 (+/-0.003) for {'n_neighbors': 15, 'weights': 'distance'}\n"
       ]
      },
      {
       "output_type": "stream",
       "stream": "stderr",
       "text": [
        "INFO:algo_evaluation:0.783 (+/-0.002) for {'n_neighbors': 17, 'weights': 'uniform'}\n"
       ]
      },
      {
       "output_type": "stream",
       "stream": "stderr",
       "text": [
        "INFO:algo_evaluation:0.782 (+/-0.002) for {'n_neighbors': 17, 'weights': 'distance'}\n"
       ]
      },
      {
       "output_type": "stream",
       "stream": "stderr",
       "text": [
        "INFO:algo_evaluation:0.782 (+/-0.002) for {'n_neighbors': 19, 'weights': 'uniform'}\n"
       ]
      },
      {
       "output_type": "stream",
       "stream": "stderr",
       "text": [
        "INFO:algo_evaluation:0.783 (+/-0.002) for {'n_neighbors': 19, 'weights': 'distance'}\n"
       ]
      },
      {
       "output_type": "stream",
       "stream": "stderr",
       "text": [
        "INFO:algo_evaluation:0.782 (+/-0.002) for {'n_neighbors': 21, 'weights': 'uniform'}\n"
       ]
      },
      {
       "output_type": "stream",
       "stream": "stderr",
       "text": [
        "INFO:algo_evaluation:0.782 (+/-0.002) for {'n_neighbors': 21, 'weights': 'distance'}\n"
       ]
      },
      {
       "output_type": "stream",
       "stream": "stderr",
       "text": [
        "INFO:algo_evaluation:0.782 (+/-0.002) for {'n_neighbors': 23, 'weights': 'uniform'}\n"
       ]
      },
      {
       "output_type": "stream",
       "stream": "stderr",
       "text": [
        "INFO:algo_evaluation:0.783 (+/-0.002) for {'n_neighbors': 23, 'weights': 'distance'}\n"
       ]
      },
      {
       "output_type": "stream",
       "stream": "stderr",
       "text": [
        "INFO:algo_evaluation:0.782 (+/-0.002) for {'n_neighbors': 25, 'weights': 'uniform'}\n"
       ]
      },
      {
       "output_type": "stream",
       "stream": "stderr",
       "text": [
        "INFO:algo_evaluation:0.782 (+/-0.002) for {'n_neighbors': 25, 'weights': 'distance'}\n"
       ]
      },
      {
       "output_type": "stream",
       "stream": "stderr",
       "text": [
        "INFO:algo_evaluation:0.782 (+/-0.002) for {'n_neighbors': 27, 'weights': 'uniform'}\n"
       ]
      },
      {
       "output_type": "stream",
       "stream": "stderr",
       "text": [
        "INFO:algo_evaluation:0.783 (+/-0.003) for {'n_neighbors': 27, 'weights': 'distance'}\n"
       ]
      },
      {
       "output_type": "stream",
       "stream": "stderr",
       "text": [
        "INFO:algo_evaluation:0.782 (+/-0.002) for {'n_neighbors': 29, 'weights': 'uniform'}\n"
       ]
      },
      {
       "output_type": "stream",
       "stream": "stderr",
       "text": [
        "INFO:algo_evaluation:0.783 (+/-0.003) for {'n_neighbors': 29, 'weights': 'distance'}\n"
       ]
      },
      {
       "output_type": "stream",
       "stream": "stderr",
       "text": [
        "INFO:algo_evaluation:0.781 (+/-0.002) for {'n_neighbors': 31, 'weights': 'uniform'}\n"
       ]
      },
      {
       "output_type": "stream",
       "stream": "stderr",
       "text": [
        "INFO:algo_evaluation:0.782 (+/-0.002) for {'n_neighbors': 31, 'weights': 'distance'}\n"
       ]
      },
      {
       "output_type": "stream",
       "stream": "stderr",
       "text": [
        "INFO:algo_evaluation:0.780 (+/-0.002) for {'n_neighbors': 33, 'weights': 'uniform'}\n"
       ]
      },
      {
       "output_type": "stream",
       "stream": "stderr",
       "text": [
        "INFO:algo_evaluation:0.782 (+/-0.002) for {'n_neighbors': 33, 'weights': 'distance'}\n"
       ]
      },
      {
       "output_type": "stream",
       "stream": "stderr",
       "text": [
        "INFO:algo_evaluation:0.779 (+/-0.002) for {'n_neighbors': 35, 'weights': 'uniform'}\n"
       ]
      },
      {
       "output_type": "stream",
       "stream": "stderr",
       "text": [
        "INFO:algo_evaluation:0.782 (+/-0.002) for {'n_neighbors': 35, 'weights': 'distance'}\n"
       ]
      },
      {
       "output_type": "stream",
       "stream": "stderr",
       "text": [
        "INFO:algo_evaluation:0.779 (+/-0.002) for {'n_neighbors': 37, 'weights': 'uniform'}\n"
       ]
      },
      {
       "output_type": "stream",
       "stream": "stderr",
       "text": [
        "INFO:algo_evaluation:0.781 (+/-0.003) for {'n_neighbors': 37, 'weights': 'distance'}\n"
       ]
      },
      {
       "output_type": "stream",
       "stream": "stderr",
       "text": [
        "INFO:algo_evaluation:0.778 (+/-0.003) for {'n_neighbors': 39, 'weights': 'uniform'}\n"
       ]
      },
      {
       "output_type": "stream",
       "stream": "stderr",
       "text": [
        "INFO:algo_evaluation:0.780 (+/-0.003) for {'n_neighbors': 39, 'weights': 'distance'}\n"
       ]
      },
      {
       "output_type": "stream",
       "stream": "stderr",
       "text": [
        "INFO:algo_evaluation:Detailed classification report:\n"
       ]
      },
      {
       "output_type": "stream",
       "stream": "stderr",
       "text": [
        "INFO:algo_evaluation:The model is trained on the full development set.\n"
       ]
      },
      {
       "output_type": "stream",
       "stream": "stderr",
       "text": [
        "INFO:algo_evaluation:The scores are computed on the full evaluation set.\n"
       ]
      },
      {
       "output_type": "stream",
       "stream": "stderr",
       "text": [
        "INFO:algo_evaluation:             precision    recall  f1-score   support\n",
        "\n",
        "          0       0.82      0.81      0.81     11870\n",
        "          1       0.79      0.80      0.80     10608\n",
        "\n",
        "avg / total       0.81      0.80      0.80     22478\n",
        "\n"
       ]
      }
     ],
     "prompt_number": 29
    },
    {
     "cell_type": "code",
     "collapsed": false,
     "input": [],
     "language": "python",
     "metadata": {},
     "outputs": []
    }
   ],
   "metadata": {}
  }
 ]
}