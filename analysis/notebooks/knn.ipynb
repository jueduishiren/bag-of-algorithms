{
 "metadata": {
  "name": "",
  "signature": "sha256:0234d12a59957dea93cee392cc36511a8bd07e053bb6b75cbb0953f43b3b5197"
 },
 "nbformat": 3,
 "nbformat_minor": 0,
 "worksheets": [
  {
   "cells": [
    {
     "cell_type": "code",
     "collapsed": false,
     "input": [
      "%matplotlib inline"
     ],
     "language": "python",
     "metadata": {},
     "outputs": [],
     "prompt_number": 1
    },
    {
     "cell_type": "code",
     "collapsed": false,
     "input": [
      "from algo_evaluation.datasets import split_dataset, load_higgs_train\n",
      "from algo_evaluation.algos.knn import estimate_best_n_neighbours\n",
      "from algo_evaluation.parameter_search import grid_search_best_parameter"
     ],
     "language": "python",
     "metadata": {},
     "outputs": [],
     "prompt_number": 13
    },
    {
     "cell_type": "code",
     "collapsed": false,
     "input": [
      "from sklearn.neighbors import KNeighborsClassifier"
     ],
     "language": "python",
     "metadata": {},
     "outputs": [],
     "prompt_number": 3
    },
    {
     "cell_type": "code",
     "collapsed": false,
     "input": [
      "raw_data = load_higgs_train()\n",
      "features, weights, labels = raw_data\n",
      "print features.shape, weights.shape, labels.shape"
     ],
     "language": "python",
     "metadata": {},
     "outputs": [
      {
       "output_type": "stream",
       "stream": "stderr",
       "text": [
        "INFO:algo_evaluation:Loaded higgs training dataset of size 68114\n"
       ]
      },
      {
       "output_type": "stream",
       "stream": "stdout",
       "text": [
        "(68114, 13) (68114,) (68114,)\n"
       ]
      }
     ],
     "prompt_number": 4
    },
    {
     "cell_type": "code",
     "collapsed": false,
     "input": [
      "dataset = split_dataset(features, weights, labels)"
     ],
     "language": "python",
     "metadata": {},
     "outputs": [],
     "prompt_number": 5
    },
    {
     "cell_type": "code",
     "collapsed": false,
     "input": [
      "clf = KNeighborsClassifier(n_neighbors=3)"
     ],
     "language": "python",
     "metadata": {},
     "outputs": [],
     "prompt_number": 6
    },
    {
     "cell_type": "code",
     "collapsed": false,
     "input": [
      "clf.fit(dataset['training']['features'], dataset['training']['labels'])"
     ],
     "language": "python",
     "metadata": {},
     "outputs": [
      {
       "metadata": {},
       "output_type": "pyout",
       "prompt_number": 7,
       "text": [
        "KNeighborsClassifier(algorithm='auto', leaf_size=30, metric='minkowski',\n",
        "           metric_params=None, n_neighbors=3, p=2, weights='uniform')"
       ]
      }
     ],
     "prompt_number": 7
    },
    {
     "cell_type": "code",
     "collapsed": false,
     "input": [
      "clf.predict(dataset['test']['features'])"
     ],
     "language": "python",
     "metadata": {},
     "outputs": [
      {
       "metadata": {},
       "output_type": "pyout",
       "prompt_number": 8,
       "text": [
        "array(['s', 's', 'b', ..., 'b', 'b', 'b'], dtype=object)"
       ]
      }
     ],
     "prompt_number": 8
    },
    {
     "cell_type": "code",
     "collapsed": false,
     "input": [
      "clf.score(dataset['test']['features'], dataset['test']['labels'], sample_weight=dataset['test']['weights'])"
     ],
     "language": "python",
     "metadata": {},
     "outputs": [
      {
       "metadata": {},
       "output_type": "pyout",
       "prompt_number": 9,
       "text": [
        "0.80994704428548414"
       ]
      }
     ],
     "prompt_number": 9
    },
    {
     "cell_type": "code",
     "collapsed": false,
     "input": [
      "clf.score(dataset['training']['features'], dataset['training']['labels'], sample_weight=dataset['training']['weights'])"
     ],
     "language": "python",
     "metadata": {},
     "outputs": [
      {
       "metadata": {},
       "output_type": "pyout",
       "prompt_number": 10,
       "text": [
        "0.89402607965129532"
       ]
      }
     ],
     "prompt_number": 10
    },
    {
     "cell_type": "code",
     "collapsed": false,
     "input": [
      "df = estimate_best_n_neighbours()"
     ],
     "language": "python",
     "metadata": {},
     "outputs": [
      {
       "output_type": "stream",
       "stream": "stderr",
       "text": [
        "INFO:algo_evaluation:Loaded higgs training dataset of size 68114\n"
       ]
      },
      {
       "output_type": "stream",
       "stream": "stderr",
       "text": [
        "INFO:algo_evaluation:Created KNN classifier with 1.0 neighbours\n"
       ]
      },
      {
       "output_type": "stream",
       "stream": "stderr",
       "text": [
        "INFO:algo_evaluation:Trained decision tree classifier\n"
       ]
      },
      {
       "output_type": "stream",
       "stream": "stderr",
       "text": [
        "/Users/maestro/anaconda/lib/python2.7/site-packages/sklearn/neighbors/base.py:332: DeprecationWarning: using a non-integer number instead of an integer will result in an error in the future\n",
        "  return_distance=return_distance)\n",
        "/Users/maestro/anaconda/lib/python2.7/site-packages/sklearn/neighbors/base.py:332: DeprecationWarning: using a non-integer number instead of an integer will result in an error in the future\n",
        "  return_distance=return_distance)\n",
        "/Users/maestro/anaconda/lib/python2.7/site-packages/sklearn/neighbors/base.py:332: DeprecationWarning: using a non-integer number instead of an integer will result in an error in the future\n",
        "  return_distance=return_distance)\n"
       ]
      },
      {
       "output_type": "stream",
       "stream": "stderr",
       "text": [
        "/Users/maestro/anaconda/lib/python2.7/site-packages/sklearn/neighbors/base.py:332: DeprecationWarning: using a non-integer number instead of an integer will result in an error in the future\n",
        "  return_distance=return_distance)\n",
        "INFO:algo_evaluation:Generated predictions\n"
       ]
      },
      {
       "output_type": "stream",
       "stream": "stderr",
       "text": [
        "/Users/maestro/anaconda/lib/python2.7/site-packages/sklearn/neighbors/base.py:332: DeprecationWarning: using a non-integer number instead of an integer will result in an error in the future\n",
        "  return_distance=return_distance)\n",
        "/Users/maestro/anaconda/lib/python2.7/site-packages/sklearn/neighbors/base.py:332: DeprecationWarning: using a non-integer number instead of an integer will result in an error in the future\n",
        "  return_distance=return_distance)\n",
        "/Users/maestro/anaconda/lib/python2.7/site-packages/sklearn/neighbors/base.py:332: DeprecationWarning: using a non-integer number instead of an integer will result in an error in the future\n",
        "  return_distance=return_distance)\n"
       ]
      },
      {
       "output_type": "stream",
       "stream": "stderr",
       "text": [
        "/Users/maestro/anaconda/lib/python2.7/site-packages/sklearn/neighbors/base.py:332: DeprecationWarning: using a non-integer number instead of an integer will result in an error in the future\n",
        "  return_distance=return_distance)\n",
        "/Users/maestro/anaconda/lib/python2.7/site-packages/sklearn/neighbors/base.py:332: DeprecationWarning: using a non-integer number instead of an integer will result in an error in the future\n",
        "  return_distance=return_distance)\n",
        "/Users/maestro/anaconda/lib/python2.7/site-packages/sklearn/neighbors/base.py:332: DeprecationWarning: using a non-integer number instead of an integer will result in an error in the future\n",
        "  return_distance=return_distance)\n",
        "/Users/maestro/anaconda/lib/python2.7/site-packages/sklearn/neighbors/base.py:332: DeprecationWarning: using a non-integer number instead of an integer will result in an error in the future\n",
        "  return_distance=return_distance)\n"
       ]
      },
      {
       "output_type": "stream",
       "stream": "stderr",
       "text": [
        "/Users/maestro/anaconda/lib/python2.7/site-packages/sklearn/neighbors/base.py:332: DeprecationWarning: using a non-integer number instead of an integer will result in an error in the future\n",
        "  return_distance=return_distance)\n",
        "INFO:algo_evaluation:Training Weighted Accuracy score = 1.0\n"
       ]
      },
      {
       "output_type": "stream",
       "stream": "stderr",
       "text": [
        "INFO:algo_evaluation:Test Weighted Accuracy score = 0.775459406078\n"
       ]
      },
      {
       "output_type": "stream",
       "stream": "stderr",
       "text": [
        "INFO:algo_evaluation:Created KNN classifier with 3.0 neighbours\n"
       ]
      },
      {
       "output_type": "stream",
       "stream": "stderr",
       "text": [
        "INFO:algo_evaluation:Trained decision tree classifier\n"
       ]
      },
      {
       "output_type": "stream",
       "stream": "stderr",
       "text": [
        "/Users/maestro/anaconda/lib/python2.7/site-packages/sklearn/neighbors/base.py:332: DeprecationWarning: using a non-integer number instead of an integer will result in an error in the future\n",
        "  return_distance=return_distance)\n",
        "/Users/maestro/anaconda/lib/python2.7/site-packages/sklearn/neighbors/base.py:332: DeprecationWarning: using a non-integer number instead of an integer will result in an error in the future\n",
        "  return_distance=return_distance)\n",
        "/Users/maestro/anaconda/lib/python2.7/site-packages/sklearn/neighbors/base.py:332: DeprecationWarning: using a non-integer number instead of an integer will result in an error in the future\n",
        "  return_distance=return_distance)\n"
       ]
      },
      {
       "output_type": "stream",
       "stream": "stderr",
       "text": [
        "/Users/maestro/anaconda/lib/python2.7/site-packages/sklearn/neighbors/base.py:332: DeprecationWarning: using a non-integer number instead of an integer will result in an error in the future\n",
        "  return_distance=return_distance)\n",
        "INFO:algo_evaluation:Generated predictions\n"
       ]
      },
      {
       "output_type": "stream",
       "stream": "stderr",
       "text": [
        "/Users/maestro/anaconda/lib/python2.7/site-packages/sklearn/neighbors/base.py:332: DeprecationWarning: using a non-integer number instead of an integer will result in an error in the future\n",
        "  return_distance=return_distance)\n",
        "/Users/maestro/anaconda/lib/python2.7/site-packages/sklearn/neighbors/base.py:332: DeprecationWarning: using a non-integer number instead of an integer will result in an error in the future\n",
        "  return_distance=return_distance)\n",
        "/Users/maestro/anaconda/lib/python2.7/site-packages/sklearn/neighbors/base.py:332: DeprecationWarning: using a non-integer number instead of an integer will result in an error in the future\n",
        "  return_distance=return_distance)\n"
       ]
      },
      {
       "output_type": "stream",
       "stream": "stderr",
       "text": [
        "/Users/maestro/anaconda/lib/python2.7/site-packages/sklearn/neighbors/base.py:332: DeprecationWarning: using a non-integer number instead of an integer will result in an error in the future\n",
        "  return_distance=return_distance)\n",
        "/Users/maestro/anaconda/lib/python2.7/site-packages/sklearn/neighbors/base.py:332: DeprecationWarning: using a non-integer number instead of an integer will result in an error in the future\n",
        "  return_distance=return_distance)\n",
        "/Users/maestro/anaconda/lib/python2.7/site-packages/sklearn/neighbors/base.py:332: DeprecationWarning: using a non-integer number instead of an integer will result in an error in the future\n",
        "  return_distance=return_distance)\n",
        "/Users/maestro/anaconda/lib/python2.7/site-packages/sklearn/neighbors/base.py:332: DeprecationWarning: using a non-integer number instead of an integer will result in an error in the future\n",
        "  return_distance=return_distance)\n"
       ]
      },
      {
       "output_type": "stream",
       "stream": "stderr",
       "text": [
        "/Users/maestro/anaconda/lib/python2.7/site-packages/sklearn/neighbors/base.py:332: DeprecationWarning: using a non-integer number instead of an integer will result in an error in the future\n",
        "  return_distance=return_distance)\n",
        "INFO:algo_evaluation:Training Weighted Accuracy score = 0.896056025237\n"
       ]
      },
      {
       "output_type": "stream",
       "stream": "stderr",
       "text": [
        "INFO:algo_evaluation:Test Weighted Accuracy score = 0.803218466265\n"
       ]
      },
      {
       "output_type": "stream",
       "stream": "stderr",
       "text": [
        "INFO:algo_evaluation:Created KNN classifier with 5.0 neighbours\n"
       ]
      },
      {
       "output_type": "stream",
       "stream": "stderr",
       "text": [
        "INFO:algo_evaluation:Trained decision tree classifier\n"
       ]
      },
      {
       "output_type": "stream",
       "stream": "stderr",
       "text": [
        "/Users/maestro/anaconda/lib/python2.7/site-packages/sklearn/neighbors/base.py:332: DeprecationWarning: using a non-integer number instead of an integer will result in an error in the future\n",
        "  return_distance=return_distance)\n",
        "/Users/maestro/anaconda/lib/python2.7/site-packages/sklearn/neighbors/base.py:332: DeprecationWarning: using a non-integer number instead of an integer will result in an error in the future\n",
        "  return_distance=return_distance)\n",
        "/Users/maestro/anaconda/lib/python2.7/site-packages/sklearn/neighbors/base.py:332: DeprecationWarning: using a non-integer number instead of an integer will result in an error in the future\n",
        "  return_distance=return_distance)\n"
       ]
      },
      {
       "output_type": "stream",
       "stream": "stderr",
       "text": [
        "/Users/maestro/anaconda/lib/python2.7/site-packages/sklearn/neighbors/base.py:332: DeprecationWarning: using a non-integer number instead of an integer will result in an error in the future\n",
        "  return_distance=return_distance)\n",
        "INFO:algo_evaluation:Generated predictions\n"
       ]
      },
      {
       "output_type": "stream",
       "stream": "stderr",
       "text": [
        "/Users/maestro/anaconda/lib/python2.7/site-packages/sklearn/neighbors/base.py:332: DeprecationWarning: using a non-integer number instead of an integer will result in an error in the future\n",
        "  return_distance=return_distance)\n",
        "/Users/maestro/anaconda/lib/python2.7/site-packages/sklearn/neighbors/base.py:332: DeprecationWarning: using a non-integer number instead of an integer will result in an error in the future\n",
        "  return_distance=return_distance)\n",
        "/Users/maestro/anaconda/lib/python2.7/site-packages/sklearn/neighbors/base.py:332: DeprecationWarning: using a non-integer number instead of an integer will result in an error in the future\n",
        "  return_distance=return_distance)\n"
       ]
      },
      {
       "output_type": "stream",
       "stream": "stderr",
       "text": [
        "/Users/maestro/anaconda/lib/python2.7/site-packages/sklearn/neighbors/base.py:332: DeprecationWarning: using a non-integer number instead of an integer will result in an error in the future\n",
        "  return_distance=return_distance)\n",
        "/Users/maestro/anaconda/lib/python2.7/site-packages/sklearn/neighbors/base.py:332: DeprecationWarning: using a non-integer number instead of an integer will result in an error in the future\n",
        "  return_distance=return_distance)\n",
        "/Users/maestro/anaconda/lib/python2.7/site-packages/sklearn/neighbors/base.py:332: DeprecationWarning: using a non-integer number instead of an integer will result in an error in the future\n",
        "  return_distance=return_distance)\n",
        "/Users/maestro/anaconda/lib/python2.7/site-packages/sklearn/neighbors/base.py:332: DeprecationWarning: using a non-integer number instead of an integer will result in an error in the future\n",
        "  return_distance=return_distance)\n"
       ]
      },
      {
       "output_type": "stream",
       "stream": "stderr",
       "text": [
        "/Users/maestro/anaconda/lib/python2.7/site-packages/sklearn/neighbors/base.py:332: DeprecationWarning: using a non-integer number instead of an integer will result in an error in the future\n",
        "  return_distance=return_distance)\n",
        "INFO:algo_evaluation:Training Weighted Accuracy score = 0.875484611615\n"
       ]
      },
      {
       "output_type": "stream",
       "stream": "stderr",
       "text": [
        "INFO:algo_evaluation:Test Weighted Accuracy score = 0.822720781746\n"
       ]
      },
      {
       "output_type": "stream",
       "stream": "stderr",
       "text": [
        "INFO:algo_evaluation:Created KNN classifier with 7.0 neighbours\n"
       ]
      },
      {
       "output_type": "stream",
       "stream": "stderr",
       "text": [
        "INFO:algo_evaluation:Trained decision tree classifier\n"
       ]
      },
      {
       "output_type": "stream",
       "stream": "stderr",
       "text": [
        "/Users/maestro/anaconda/lib/python2.7/site-packages/sklearn/neighbors/base.py:332: DeprecationWarning: using a non-integer number instead of an integer will result in an error in the future\n",
        "  return_distance=return_distance)\n",
        "/Users/maestro/anaconda/lib/python2.7/site-packages/sklearn/neighbors/base.py:332: DeprecationWarning: using a non-integer number instead of an integer will result in an error in the future\n",
        "  return_distance=return_distance)\n",
        "/Users/maestro/anaconda/lib/python2.7/site-packages/sklearn/neighbors/base.py:332: DeprecationWarning: using a non-integer number instead of an integer will result in an error in the future\n",
        "  return_distance=return_distance)\n"
       ]
      },
      {
       "output_type": "stream",
       "stream": "stderr",
       "text": [
        "/Users/maestro/anaconda/lib/python2.7/site-packages/sklearn/neighbors/base.py:332: DeprecationWarning: using a non-integer number instead of an integer will result in an error in the future\n",
        "  return_distance=return_distance)\n",
        "INFO:algo_evaluation:Generated predictions\n"
       ]
      },
      {
       "output_type": "stream",
       "stream": "stderr",
       "text": [
        "/Users/maestro/anaconda/lib/python2.7/site-packages/sklearn/neighbors/base.py:332: DeprecationWarning: using a non-integer number instead of an integer will result in an error in the future\n",
        "  return_distance=return_distance)\n",
        "/Users/maestro/anaconda/lib/python2.7/site-packages/sklearn/neighbors/base.py:332: DeprecationWarning: using a non-integer number instead of an integer will result in an error in the future\n",
        "  return_distance=return_distance)\n",
        "/Users/maestro/anaconda/lib/python2.7/site-packages/sklearn/neighbors/base.py:332: DeprecationWarning: using a non-integer number instead of an integer will result in an error in the future\n",
        "  return_distance=return_distance)\n"
       ]
      },
      {
       "output_type": "stream",
       "stream": "stderr",
       "text": [
        "/Users/maestro/anaconda/lib/python2.7/site-packages/sklearn/neighbors/base.py:332: DeprecationWarning: using a non-integer number instead of an integer will result in an error in the future\n",
        "  return_distance=return_distance)\n",
        "/Users/maestro/anaconda/lib/python2.7/site-packages/sklearn/neighbors/base.py:332: DeprecationWarning: using a non-integer number instead of an integer will result in an error in the future\n",
        "  return_distance=return_distance)\n",
        "/Users/maestro/anaconda/lib/python2.7/site-packages/sklearn/neighbors/base.py:332: DeprecationWarning: using a non-integer number instead of an integer will result in an error in the future\n",
        "  return_distance=return_distance)\n",
        "/Users/maestro/anaconda/lib/python2.7/site-packages/sklearn/neighbors/base.py:332: DeprecationWarning: using a non-integer number instead of an integer will result in an error in the future\n",
        "  return_distance=return_distance)\n"
       ]
      },
      {
       "output_type": "stream",
       "stream": "stderr",
       "text": [
        "/Users/maestro/anaconda/lib/python2.7/site-packages/sklearn/neighbors/base.py:332: DeprecationWarning: using a non-integer number instead of an integer will result in an error in the future\n",
        "  return_distance=return_distance)\n",
        "INFO:algo_evaluation:Training Weighted Accuracy score = 0.865072229697\n"
       ]
      },
      {
       "output_type": "stream",
       "stream": "stderr",
       "text": [
        "INFO:algo_evaluation:Test Weighted Accuracy score = 0.829236271133\n"
       ]
      },
      {
       "output_type": "stream",
       "stream": "stderr",
       "text": [
        "INFO:algo_evaluation:Created KNN classifier with 9.0 neighbours\n"
       ]
      },
      {
       "output_type": "stream",
       "stream": "stderr",
       "text": [
        "INFO:algo_evaluation:Trained decision tree classifier\n"
       ]
      },
      {
       "output_type": "stream",
       "stream": "stderr",
       "text": [
        "/Users/maestro/anaconda/lib/python2.7/site-packages/sklearn/neighbors/base.py:332: DeprecationWarning: using a non-integer number instead of an integer will result in an error in the future\n",
        "  return_distance=return_distance)\n",
        "/Users/maestro/anaconda/lib/python2.7/site-packages/sklearn/neighbors/base.py:332: DeprecationWarning: using a non-integer number instead of an integer will result in an error in the future\n",
        "  return_distance=return_distance)\n",
        "/Users/maestro/anaconda/lib/python2.7/site-packages/sklearn/neighbors/base.py:332: DeprecationWarning: using a non-integer number instead of an integer will result in an error in the future\n",
        "  return_distance=return_distance)\n"
       ]
      },
      {
       "output_type": "stream",
       "stream": "stderr",
       "text": [
        "/Users/maestro/anaconda/lib/python2.7/site-packages/sklearn/neighbors/base.py:332: DeprecationWarning: using a non-integer number instead of an integer will result in an error in the future\n",
        "  return_distance=return_distance)\n",
        "INFO:algo_evaluation:Generated predictions\n"
       ]
      },
      {
       "output_type": "stream",
       "stream": "stderr",
       "text": [
        "/Users/maestro/anaconda/lib/python2.7/site-packages/sklearn/neighbors/base.py:332: DeprecationWarning: using a non-integer number instead of an integer will result in an error in the future\n",
        "  return_distance=return_distance)\n",
        "/Users/maestro/anaconda/lib/python2.7/site-packages/sklearn/neighbors/base.py:332: DeprecationWarning: using a non-integer number instead of an integer will result in an error in the future\n",
        "  return_distance=return_distance)\n",
        "/Users/maestro/anaconda/lib/python2.7/site-packages/sklearn/neighbors/base.py:332: DeprecationWarning: using a non-integer number instead of an integer will result in an error in the future\n",
        "  return_distance=return_distance)\n"
       ]
      },
      {
       "output_type": "stream",
       "stream": "stderr",
       "text": [
        "/Users/maestro/anaconda/lib/python2.7/site-packages/sklearn/neighbors/base.py:332: DeprecationWarning: using a non-integer number instead of an integer will result in an error in the future\n",
        "  return_distance=return_distance)\n",
        "/Users/maestro/anaconda/lib/python2.7/site-packages/sklearn/neighbors/base.py:332: DeprecationWarning: using a non-integer number instead of an integer will result in an error in the future\n",
        "  return_distance=return_distance)\n",
        "/Users/maestro/anaconda/lib/python2.7/site-packages/sklearn/neighbors/base.py:332: DeprecationWarning: using a non-integer number instead of an integer will result in an error in the future\n",
        "  return_distance=return_distance)\n",
        "/Users/maestro/anaconda/lib/python2.7/site-packages/sklearn/neighbors/base.py:332: DeprecationWarning: using a non-integer number instead of an integer will result in an error in the future\n",
        "  return_distance=return_distance)\n"
       ]
      },
      {
       "output_type": "stream",
       "stream": "stderr",
       "text": [
        "/Users/maestro/anaconda/lib/python2.7/site-packages/sklearn/neighbors/base.py:332: DeprecationWarning: using a non-integer number instead of an integer will result in an error in the future\n",
        "  return_distance=return_distance)\n",
        "INFO:algo_evaluation:Training Weighted Accuracy score = 0.861440520404\n"
       ]
      },
      {
       "output_type": "stream",
       "stream": "stderr",
       "text": [
        "INFO:algo_evaluation:Test Weighted Accuracy score = 0.821614539398\n"
       ]
      },
      {
       "output_type": "stream",
       "stream": "stderr",
       "text": [
        "INFO:algo_evaluation:Created KNN classifier with 11.0 neighbours\n"
       ]
      },
      {
       "output_type": "stream",
       "stream": "stderr",
       "text": [
        "INFO:algo_evaluation:Trained decision tree classifier\n"
       ]
      },
      {
       "output_type": "stream",
       "stream": "stderr",
       "text": [
        "/Users/maestro/anaconda/lib/python2.7/site-packages/sklearn/neighbors/base.py:332: DeprecationWarning: using a non-integer number instead of an integer will result in an error in the future\n",
        "  return_distance=return_distance)\n",
        "/Users/maestro/anaconda/lib/python2.7/site-packages/sklearn/neighbors/base.py:332: DeprecationWarning: using a non-integer number instead of an integer will result in an error in the future\n",
        "  return_distance=return_distance)\n",
        "/Users/maestro/anaconda/lib/python2.7/site-packages/sklearn/neighbors/base.py:332: DeprecationWarning: using a non-integer number instead of an integer will result in an error in the future\n",
        "  return_distance=return_distance)\n"
       ]
      },
      {
       "output_type": "stream",
       "stream": "stderr",
       "text": [
        "/Users/maestro/anaconda/lib/python2.7/site-packages/sklearn/neighbors/base.py:332: DeprecationWarning: using a non-integer number instead of an integer will result in an error in the future\n",
        "  return_distance=return_distance)\n",
        "INFO:algo_evaluation:Generated predictions\n"
       ]
      },
      {
       "output_type": "stream",
       "stream": "stderr",
       "text": [
        "/Users/maestro/anaconda/lib/python2.7/site-packages/sklearn/neighbors/base.py:332: DeprecationWarning: using a non-integer number instead of an integer will result in an error in the future\n",
        "  return_distance=return_distance)\n",
        "/Users/maestro/anaconda/lib/python2.7/site-packages/sklearn/neighbors/base.py:332: DeprecationWarning: using a non-integer number instead of an integer will result in an error in the future\n",
        "  return_distance=return_distance)\n",
        "/Users/maestro/anaconda/lib/python2.7/site-packages/sklearn/neighbors/base.py:332: DeprecationWarning: using a non-integer number instead of an integer will result in an error in the future\n",
        "  return_distance=return_distance)\n"
       ]
      },
      {
       "output_type": "stream",
       "stream": "stderr",
       "text": [
        "/Users/maestro/anaconda/lib/python2.7/site-packages/sklearn/neighbors/base.py:332: DeprecationWarning: using a non-integer number instead of an integer will result in an error in the future\n",
        "  return_distance=return_distance)\n",
        "/Users/maestro/anaconda/lib/python2.7/site-packages/sklearn/neighbors/base.py:332: DeprecationWarning: using a non-integer number instead of an integer will result in an error in the future\n",
        "  return_distance=return_distance)\n",
        "/Users/maestro/anaconda/lib/python2.7/site-packages/sklearn/neighbors/base.py:332: DeprecationWarning: using a non-integer number instead of an integer will result in an error in the future\n",
        "  return_distance=return_distance)\n",
        "/Users/maestro/anaconda/lib/python2.7/site-packages/sklearn/neighbors/base.py:332: DeprecationWarning: using a non-integer number instead of an integer will result in an error in the future\n",
        "  return_distance=return_distance)\n"
       ]
      },
      {
       "output_type": "stream",
       "stream": "stderr",
       "text": [
        "/Users/maestro/anaconda/lib/python2.7/site-packages/sklearn/neighbors/base.py:332: DeprecationWarning: using a non-integer number instead of an integer will result in an error in the future\n",
        "  return_distance=return_distance)\n",
        "INFO:algo_evaluation:Training Weighted Accuracy score = 0.857379570173\n"
       ]
      },
      {
       "output_type": "stream",
       "stream": "stderr",
       "text": [
        "INFO:algo_evaluation:Test Weighted Accuracy score = 0.827686296242\n"
       ]
      },
      {
       "output_type": "stream",
       "stream": "stderr",
       "text": [
        "INFO:algo_evaluation:Created KNN classifier with 13.0 neighbours\n"
       ]
      },
      {
       "output_type": "stream",
       "stream": "stderr",
       "text": [
        "INFO:algo_evaluation:Trained decision tree classifier\n"
       ]
      },
      {
       "output_type": "stream",
       "stream": "stderr",
       "text": [
        "/Users/maestro/anaconda/lib/python2.7/site-packages/sklearn/neighbors/base.py:332: DeprecationWarning: using a non-integer number instead of an integer will result in an error in the future\n",
        "  return_distance=return_distance)\n",
        "/Users/maestro/anaconda/lib/python2.7/site-packages/sklearn/neighbors/base.py:332: DeprecationWarning: using a non-integer number instead of an integer will result in an error in the future\n",
        "  return_distance=return_distance)\n",
        "/Users/maestro/anaconda/lib/python2.7/site-packages/sklearn/neighbors/base.py:332: DeprecationWarning: using a non-integer number instead of an integer will result in an error in the future\n",
        "  return_distance=return_distance)\n"
       ]
      },
      {
       "output_type": "stream",
       "stream": "stderr",
       "text": [
        "/Users/maestro/anaconda/lib/python2.7/site-packages/sklearn/neighbors/base.py:332: DeprecationWarning: using a non-integer number instead of an integer will result in an error in the future\n",
        "  return_distance=return_distance)\n",
        "INFO:algo_evaluation:Generated predictions\n"
       ]
      },
      {
       "output_type": "stream",
       "stream": "stderr",
       "text": [
        "/Users/maestro/anaconda/lib/python2.7/site-packages/sklearn/neighbors/base.py:332: DeprecationWarning: using a non-integer number instead of an integer will result in an error in the future\n",
        "  return_distance=return_distance)\n",
        "/Users/maestro/anaconda/lib/python2.7/site-packages/sklearn/neighbors/base.py:332: DeprecationWarning: using a non-integer number instead of an integer will result in an error in the future\n",
        "  return_distance=return_distance)\n",
        "/Users/maestro/anaconda/lib/python2.7/site-packages/sklearn/neighbors/base.py:332: DeprecationWarning: using a non-integer number instead of an integer will result in an error in the future\n",
        "  return_distance=return_distance)\n"
       ]
      },
      {
       "output_type": "stream",
       "stream": "stderr",
       "text": [
        "/Users/maestro/anaconda/lib/python2.7/site-packages/sklearn/neighbors/base.py:332: DeprecationWarning: using a non-integer number instead of an integer will result in an error in the future\n",
        "  return_distance=return_distance)\n",
        "/Users/maestro/anaconda/lib/python2.7/site-packages/sklearn/neighbors/base.py:332: DeprecationWarning: using a non-integer number instead of an integer will result in an error in the future\n",
        "  return_distance=return_distance)\n",
        "/Users/maestro/anaconda/lib/python2.7/site-packages/sklearn/neighbors/base.py:332: DeprecationWarning: using a non-integer number instead of an integer will result in an error in the future\n",
        "  return_distance=return_distance)\n",
        "/Users/maestro/anaconda/lib/python2.7/site-packages/sklearn/neighbors/base.py:332: DeprecationWarning: using a non-integer number instead of an integer will result in an error in the future\n",
        "  return_distance=return_distance)\n"
       ]
      },
      {
       "output_type": "stream",
       "stream": "stderr",
       "text": [
        "/Users/maestro/anaconda/lib/python2.7/site-packages/sklearn/neighbors/base.py:332: DeprecationWarning: using a non-integer number instead of an integer will result in an error in the future\n",
        "  return_distance=return_distance)\n",
        "INFO:algo_evaluation:Training Weighted Accuracy score = 0.857977166598\n"
       ]
      },
      {
       "output_type": "stream",
       "stream": "stderr",
       "text": [
        "INFO:algo_evaluation:Test Weighted Accuracy score = 0.831167875216\n"
       ]
      },
      {
       "output_type": "stream",
       "stream": "stderr",
       "text": [
        "INFO:algo_evaluation:Created KNN classifier with 15.0 neighbours\n"
       ]
      },
      {
       "output_type": "stream",
       "stream": "stderr",
       "text": [
        "INFO:algo_evaluation:Trained decision tree classifier\n"
       ]
      },
      {
       "output_type": "stream",
       "stream": "stderr",
       "text": [
        "/Users/maestro/anaconda/lib/python2.7/site-packages/sklearn/neighbors/base.py:332: DeprecationWarning: using a non-integer number instead of an integer will result in an error in the future\n",
        "  return_distance=return_distance)\n",
        "/Users/maestro/anaconda/lib/python2.7/site-packages/sklearn/neighbors/base.py:332: DeprecationWarning: using a non-integer number instead of an integer will result in an error in the future\n",
        "  return_distance=return_distance)\n",
        "/Users/maestro/anaconda/lib/python2.7/site-packages/sklearn/neighbors/base.py:332: DeprecationWarning: using a non-integer number instead of an integer will result in an error in the future\n",
        "  return_distance=return_distance)\n"
       ]
      },
      {
       "output_type": "stream",
       "stream": "stderr",
       "text": [
        "/Users/maestro/anaconda/lib/python2.7/site-packages/sklearn/neighbors/base.py:332: DeprecationWarning: using a non-integer number instead of an integer will result in an error in the future\n",
        "  return_distance=return_distance)\n",
        "INFO:algo_evaluation:Generated predictions\n"
       ]
      },
      {
       "output_type": "stream",
       "stream": "stderr",
       "text": [
        "/Users/maestro/anaconda/lib/python2.7/site-packages/sklearn/neighbors/base.py:332: DeprecationWarning: using a non-integer number instead of an integer will result in an error in the future\n",
        "  return_distance=return_distance)\n",
        "/Users/maestro/anaconda/lib/python2.7/site-packages/sklearn/neighbors/base.py:332: DeprecationWarning: using a non-integer number instead of an integer will result in an error in the future\n",
        "  return_distance=return_distance)\n",
        "/Users/maestro/anaconda/lib/python2.7/site-packages/sklearn/neighbors/base.py:332: DeprecationWarning: using a non-integer number instead of an integer will result in an error in the future\n",
        "  return_distance=return_distance)\n"
       ]
      },
      {
       "output_type": "stream",
       "stream": "stderr",
       "text": [
        "/Users/maestro/anaconda/lib/python2.7/site-packages/sklearn/neighbors/base.py:332: DeprecationWarning: using a non-integer number instead of an integer will result in an error in the future\n",
        "  return_distance=return_distance)\n",
        "/Users/maestro/anaconda/lib/python2.7/site-packages/sklearn/neighbors/base.py:332: DeprecationWarning: using a non-integer number instead of an integer will result in an error in the future\n",
        "  return_distance=return_distance)\n",
        "/Users/maestro/anaconda/lib/python2.7/site-packages/sklearn/neighbors/base.py:332: DeprecationWarning: using a non-integer number instead of an integer will result in an error in the future\n",
        "  return_distance=return_distance)\n",
        "/Users/maestro/anaconda/lib/python2.7/site-packages/sklearn/neighbors/base.py:332: DeprecationWarning: using a non-integer number instead of an integer will result in an error in the future\n",
        "  return_distance=return_distance)\n"
       ]
      },
      {
       "output_type": "stream",
       "stream": "stderr",
       "text": [
        "/Users/maestro/anaconda/lib/python2.7/site-packages/sklearn/neighbors/base.py:332: DeprecationWarning: using a non-integer number instead of an integer will result in an error in the future\n",
        "  return_distance=return_distance)\n",
        "INFO:algo_evaluation:Training Weighted Accuracy score = 0.851240973721\n"
       ]
      },
      {
       "output_type": "stream",
       "stream": "stderr",
       "text": [
        "INFO:algo_evaluation:Test Weighted Accuracy score = 0.83506375881\n"
       ]
      },
      {
       "output_type": "stream",
       "stream": "stderr",
       "text": [
        "INFO:algo_evaluation:Created KNN classifier with 17.0 neighbours\n"
       ]
      },
      {
       "output_type": "stream",
       "stream": "stderr",
       "text": [
        "INFO:algo_evaluation:Trained decision tree classifier\n"
       ]
      },
      {
       "output_type": "stream",
       "stream": "stderr",
       "text": [
        "/Users/maestro/anaconda/lib/python2.7/site-packages/sklearn/neighbors/base.py:332: DeprecationWarning: using a non-integer number instead of an integer will result in an error in the future\n",
        "  return_distance=return_distance)\n",
        "/Users/maestro/anaconda/lib/python2.7/site-packages/sklearn/neighbors/base.py:332: DeprecationWarning: using a non-integer number instead of an integer will result in an error in the future\n",
        "  return_distance=return_distance)\n",
        "/Users/maestro/anaconda/lib/python2.7/site-packages/sklearn/neighbors/base.py:332: DeprecationWarning: using a non-integer number instead of an integer will result in an error in the future\n",
        "  return_distance=return_distance)\n"
       ]
      },
      {
       "output_type": "stream",
       "stream": "stderr",
       "text": [
        "/Users/maestro/anaconda/lib/python2.7/site-packages/sklearn/neighbors/base.py:332: DeprecationWarning: using a non-integer number instead of an integer will result in an error in the future\n",
        "  return_distance=return_distance)\n",
        "INFO:algo_evaluation:Generated predictions\n"
       ]
      },
      {
       "output_type": "stream",
       "stream": "stderr",
       "text": [
        "/Users/maestro/anaconda/lib/python2.7/site-packages/sklearn/neighbors/base.py:332: DeprecationWarning: using a non-integer number instead of an integer will result in an error in the future\n",
        "  return_distance=return_distance)\n",
        "/Users/maestro/anaconda/lib/python2.7/site-packages/sklearn/neighbors/base.py:332: DeprecationWarning: using a non-integer number instead of an integer will result in an error in the future\n",
        "  return_distance=return_distance)\n",
        "/Users/maestro/anaconda/lib/python2.7/site-packages/sklearn/neighbors/base.py:332: DeprecationWarning: using a non-integer number instead of an integer will result in an error in the future\n",
        "  return_distance=return_distance)\n"
       ]
      },
      {
       "output_type": "stream",
       "stream": "stderr",
       "text": [
        "/Users/maestro/anaconda/lib/python2.7/site-packages/sklearn/neighbors/base.py:332: DeprecationWarning: using a non-integer number instead of an integer will result in an error in the future\n",
        "  return_distance=return_distance)\n",
        "/Users/maestro/anaconda/lib/python2.7/site-packages/sklearn/neighbors/base.py:332: DeprecationWarning: using a non-integer number instead of an integer will result in an error in the future\n",
        "  return_distance=return_distance)\n",
        "/Users/maestro/anaconda/lib/python2.7/site-packages/sklearn/neighbors/base.py:332: DeprecationWarning: using a non-integer number instead of an integer will result in an error in the future\n",
        "  return_distance=return_distance)\n",
        "/Users/maestro/anaconda/lib/python2.7/site-packages/sklearn/neighbors/base.py:332: DeprecationWarning: using a non-integer number instead of an integer will result in an error in the future\n",
        "  return_distance=return_distance)\n"
       ]
      },
      {
       "output_type": "stream",
       "stream": "stderr",
       "text": [
        "/Users/maestro/anaconda/lib/python2.7/site-packages/sklearn/neighbors/base.py:332: DeprecationWarning: using a non-integer number instead of an integer will result in an error in the future\n",
        "  return_distance=return_distance)\n",
        "INFO:algo_evaluation:Training Weighted Accuracy score = 0.850895304692\n"
       ]
      },
      {
       "output_type": "stream",
       "stream": "stderr",
       "text": [
        "INFO:algo_evaluation:Test Weighted Accuracy score = 0.82666033118\n"
       ]
      },
      {
       "output_type": "stream",
       "stream": "stderr",
       "text": [
        "INFO:algo_evaluation:Created KNN classifier with 19.0 neighbours\n"
       ]
      },
      {
       "output_type": "stream",
       "stream": "stderr",
       "text": [
        "INFO:algo_evaluation:Trained decision tree classifier\n"
       ]
      },
      {
       "output_type": "stream",
       "stream": "stderr",
       "text": [
        "/Users/maestro/anaconda/lib/python2.7/site-packages/sklearn/neighbors/base.py:332: DeprecationWarning: using a non-integer number instead of an integer will result in an error in the future\n",
        "  return_distance=return_distance)\n",
        "/Users/maestro/anaconda/lib/python2.7/site-packages/sklearn/neighbors/base.py:332: DeprecationWarning: using a non-integer number instead of an integer will result in an error in the future\n",
        "  return_distance=return_distance)\n",
        "/Users/maestro/anaconda/lib/python2.7/site-packages/sklearn/neighbors/base.py:332: DeprecationWarning: using a non-integer number instead of an integer will result in an error in the future\n",
        "  return_distance=return_distance)\n"
       ]
      },
      {
       "output_type": "stream",
       "stream": "stderr",
       "text": [
        "/Users/maestro/anaconda/lib/python2.7/site-packages/sklearn/neighbors/base.py:332: DeprecationWarning: using a non-integer number instead of an integer will result in an error in the future\n",
        "  return_distance=return_distance)\n",
        "INFO:algo_evaluation:Generated predictions\n"
       ]
      },
      {
       "output_type": "stream",
       "stream": "stderr",
       "text": [
        "/Users/maestro/anaconda/lib/python2.7/site-packages/sklearn/neighbors/base.py:332: DeprecationWarning: using a non-integer number instead of an integer will result in an error in the future\n",
        "  return_distance=return_distance)\n",
        "/Users/maestro/anaconda/lib/python2.7/site-packages/sklearn/neighbors/base.py:332: DeprecationWarning: using a non-integer number instead of an integer will result in an error in the future\n",
        "  return_distance=return_distance)\n",
        "/Users/maestro/anaconda/lib/python2.7/site-packages/sklearn/neighbors/base.py:332: DeprecationWarning: using a non-integer number instead of an integer will result in an error in the future\n",
        "  return_distance=return_distance)\n"
       ]
      },
      {
       "output_type": "stream",
       "stream": "stderr",
       "text": [
        "/Users/maestro/anaconda/lib/python2.7/site-packages/sklearn/neighbors/base.py:332: DeprecationWarning: using a non-integer number instead of an integer will result in an error in the future\n",
        "  return_distance=return_distance)\n",
        "/Users/maestro/anaconda/lib/python2.7/site-packages/sklearn/neighbors/base.py:332: DeprecationWarning: using a non-integer number instead of an integer will result in an error in the future\n",
        "  return_distance=return_distance)\n"
       ]
      },
      {
       "output_type": "stream",
       "stream": "stderr",
       "text": [
        "/Users/maestro/anaconda/lib/python2.7/site-packages/sklearn/neighbors/base.py:332: DeprecationWarning: using a non-integer number instead of an integer will result in an error in the future\n",
        "  return_distance=return_distance)\n",
        "/Users/maestro/anaconda/lib/python2.7/site-packages/sklearn/neighbors/base.py:332: DeprecationWarning: using a non-integer number instead of an integer will result in an error in the future\n",
        "  return_distance=return_distance)\n"
       ]
      },
      {
       "output_type": "stream",
       "stream": "stderr",
       "text": [
        "/Users/maestro/anaconda/lib/python2.7/site-packages/sklearn/neighbors/base.py:332: DeprecationWarning: using a non-integer number instead of an integer will result in an error in the future\n",
        "  return_distance=return_distance)\n",
        "INFO:algo_evaluation:Training Weighted Accuracy score = 0.851957108484\n"
       ]
      },
      {
       "output_type": "stream",
       "stream": "stderr",
       "text": [
        "INFO:algo_evaluation:Test Weighted Accuracy score = 0.826284475506\n"
       ]
      },
      {
       "output_type": "stream",
       "stream": "stderr",
       "text": [
        "INFO:algo_evaluation:Performed evaluation of the n_neighbours setting choice\n"
       ]
      },
      {
       "output_type": "stream",
       "stream": "stderr",
       "text": [
        "INFO:algo_evaluation:              training_score  test_score\n",
        "n_neighbours                            \n",
        "1                   1.000000    0.775459\n",
        "3                   0.896056    0.803218\n",
        "5                   0.875485    0.822721\n",
        "7                   0.865072    0.829236\n",
        "9                   0.861441    0.821615\n",
        "11                  0.857380    0.827686\n",
        "13                  0.857977    0.831168\n",
        "15                  0.851241    0.835064\n",
        "17                  0.850895    0.826660\n",
        "19                  0.851957    0.826284\n"
       ]
      }
     ],
     "prompt_number": 11
    },
    {
     "cell_type": "code",
     "collapsed": false,
     "input": [
      "df.plot()"
     ],
     "language": "python",
     "metadata": {},
     "outputs": [
      {
       "metadata": {},
       "output_type": "pyout",
       "prompt_number": 12,
       "text": [
        "<matplotlib.axes._subplots.AxesSubplot at 0x102f76b90>"
       ]
      },
      {
       "metadata": {},
       "output_type": "display_data",
       "png": "[encoded data removed]",
       "text": [
        "<matplotlib.figure.Figure at 0x109981a10>"
       ]
      }
     ],
     "prompt_number": 12
    },
    {
     "cell_type": "code",
     "collapsed": false,
     "input": [
      "import numpy as np\n",
      "tunning_parameters = {'n_neighbors': np.arange(1, 20, 2)}\n",
      "dataset['training']['labels'] = [1 if l == 's' else for l in dataset['training']['labels']]"
     ],
     "language": "python",
     "metadata": {},
     "outputs": [
      {
       "metadata": {},
       "output_type": "pyout",
       "prompt_number": 22,
       "text": [
        "array(['s', 's', 's', ..., 'b', 'b', 's'], dtype=object)"
       ]
      }
     ],
     "prompt_number": 22
    },
    {
     "cell_type": "code",
     "collapsed": false,
     "input": [
      "grid_search_best_parameter(dataset, KNeighborsClassifier, tunning_parameters)"
     ],
     "language": "python",
     "metadata": {},
     "outputs": [
      {
       "output_type": "stream",
       "stream": "stderr",
       "text": [
        "INFO:algo_evaluation:# Tuning hyper-parameters for precision\n"
       ]
      },
      {
       "ename": "ValueError",
       "evalue": "pos_label=1 is not a valid label: array(['b', 's'], \n      dtype='|S1')",
       "output_type": "pyerr",
       "traceback": [
        "\u001b[0;31m---------------------------------------------------------------------------\u001b[0m\n\u001b[0;31mValueError\u001b[0m                                Traceback (most recent call last)",
        "\u001b[0;32m<ipython-input-21-b1e7fadb69e7>\u001b[0m in \u001b[0;36m<module>\u001b[0;34m()\u001b[0m\n\u001b[0;32m----> 1\u001b[0;31m \u001b[0mgrid_search_best_parameter\u001b[0m\u001b[0;34m(\u001b[0m\u001b[0mdataset\u001b[0m\u001b[0;34m,\u001b[0m \u001b[0mKNeighborsClassifier\u001b[0m\u001b[0;34m,\u001b[0m \u001b[0mtunning_parameters\u001b[0m\u001b[0;34m)\u001b[0m\u001b[0;34m\u001b[0m\u001b[0m\n\u001b[0m",
        "\u001b[0;32m/Users/maestro/schoolspace/bag-of-algorithms/algo_evaluation/parameter_search.py\u001b[0m in \u001b[0;36mgrid_search_best_parameter\u001b[0;34m(split_dataset, clf, tuned_parameters)\u001b[0m\n\u001b[1;32m     12\u001b[0m         \u001b[0mLOGGER\u001b[0m\u001b[0;34m.\u001b[0m\u001b[0minfo\u001b[0m\u001b[0;34m(\u001b[0m\u001b[0;34m\"# Tuning hyper-parameters for %s\"\u001b[0m \u001b[0;34m%\u001b[0m \u001b[0mscore\u001b[0m\u001b[0;34m)\u001b[0m\u001b[0;34m\u001b[0m\u001b[0m\n\u001b[1;32m     13\u001b[0m         \u001b[0mclf\u001b[0m \u001b[0;34m=\u001b[0m \u001b[0mGridSearchCV\u001b[0m\u001b[0;34m(\u001b[0m\u001b[0mclf\u001b[0m\u001b[0;34m(\u001b[0m\u001b[0;34m)\u001b[0m\u001b[0;34m,\u001b[0m \u001b[0mtuned_parameters\u001b[0m\u001b[0;34m,\u001b[0m \u001b[0mcv\u001b[0m\u001b[0;34m=\u001b[0m\u001b[0;36m5\u001b[0m\u001b[0;34m,\u001b[0m \u001b[0mscoring\u001b[0m\u001b[0;34m=\u001b[0m\u001b[0mscore\u001b[0m\u001b[0;34m)\u001b[0m\u001b[0;34m\u001b[0m\u001b[0m\n\u001b[0;32m---> 14\u001b[0;31m         \u001b[0mclf\u001b[0m\u001b[0;34m.\u001b[0m\u001b[0mfit\u001b[0m\u001b[0;34m(\u001b[0m\u001b[0msplit_dataset\u001b[0m\u001b[0;34m[\u001b[0m\u001b[0;34m'training'\u001b[0m\u001b[0;34m]\u001b[0m\u001b[0;34m[\u001b[0m\u001b[0;34m'features'\u001b[0m\u001b[0;34m]\u001b[0m\u001b[0;34m,\u001b[0m \u001b[0msplit_dataset\u001b[0m\u001b[0;34m[\u001b[0m\u001b[0;34m'training'\u001b[0m\u001b[0;34m]\u001b[0m\u001b[0;34m[\u001b[0m\u001b[0;34m'labels'\u001b[0m\u001b[0;34m]\u001b[0m\u001b[0;34m)\u001b[0m\u001b[0;34m\u001b[0m\u001b[0m\n\u001b[0m\u001b[1;32m     15\u001b[0m \u001b[0;34m\u001b[0m\u001b[0m\n\u001b[1;32m     16\u001b[0m         \u001b[0mLOGGER\u001b[0m\u001b[0;34m.\u001b[0m\u001b[0minfo\u001b[0m\u001b[0;34m(\u001b[0m\u001b[0;34m\"Best parameters set found on development set:\"\u001b[0m\u001b[0;34m)\u001b[0m\u001b[0;34m\u001b[0m\u001b[0m\n",
        "\u001b[0;32m/Users/maestro/anaconda/lib/python2.7/site-packages/sklearn/grid_search.pyc\u001b[0m in \u001b[0;36mfit\u001b[0;34m(self, X, y)\u001b[0m\n\u001b[1;32m    594\u001b[0m \u001b[0;34m\u001b[0m\u001b[0m\n\u001b[1;32m    595\u001b[0m         \"\"\"\n\u001b[0;32m--> 596\u001b[0;31m         \u001b[0;32mreturn\u001b[0m \u001b[0mself\u001b[0m\u001b[0;34m.\u001b[0m\u001b[0m_fit\u001b[0m\u001b[0;34m(\u001b[0m\u001b[0mX\u001b[0m\u001b[0;34m,\u001b[0m \u001b[0my\u001b[0m\u001b[0;34m,\u001b[0m \u001b[0mParameterGrid\u001b[0m\u001b[0;34m(\u001b[0m\u001b[0mself\u001b[0m\u001b[0;34m.\u001b[0m\u001b[0mparam_grid\u001b[0m\u001b[0;34m)\u001b[0m\u001b[0;34m)\u001b[0m\u001b[0;34m\u001b[0m\u001b[0m\n\u001b[0m\u001b[1;32m    597\u001b[0m \u001b[0;34m\u001b[0m\u001b[0m\n\u001b[1;32m    598\u001b[0m \u001b[0;34m\u001b[0m\u001b[0m\n",
        "\u001b[0;32m/Users/maestro/anaconda/lib/python2.7/site-packages/sklearn/grid_search.pyc\u001b[0m in \u001b[0;36m_fit\u001b[0;34m(self, X, y, parameter_iterable)\u001b[0m\n\u001b[1;32m    376\u001b[0m                                     \u001b[0mtrain\u001b[0m\u001b[0;34m,\u001b[0m \u001b[0mtest\u001b[0m\u001b[0;34m,\u001b[0m \u001b[0mself\u001b[0m\u001b[0;34m.\u001b[0m\u001b[0mverbose\u001b[0m\u001b[0;34m,\u001b[0m \u001b[0mparameters\u001b[0m\u001b[0;34m,\u001b[0m\u001b[0;34m\u001b[0m\u001b[0m\n\u001b[1;32m    377\u001b[0m                                     self.fit_params, return_parameters=True)\n\u001b[0;32m--> 378\u001b[0;31m             \u001b[0;32mfor\u001b[0m \u001b[0mparameters\u001b[0m \u001b[0;32min\u001b[0m \u001b[0mparameter_iterable\u001b[0m\u001b[0;34m\u001b[0m\u001b[0m\n\u001b[0m\u001b[1;32m    379\u001b[0m             for train, test in cv)\n\u001b[1;32m    380\u001b[0m \u001b[0;34m\u001b[0m\u001b[0m\n",
        "\u001b[0;32m/Users/maestro/anaconda/lib/python2.7/site-packages/sklearn/externals/joblib/parallel.pyc\u001b[0m in \u001b[0;36m__call__\u001b[0;34m(self, iterable)\u001b[0m\n\u001b[1;32m    651\u001b[0m             \u001b[0mself\u001b[0m\u001b[0;34m.\u001b[0m\u001b[0m_iterating\u001b[0m \u001b[0;34m=\u001b[0m \u001b[0mTrue\u001b[0m\u001b[0;34m\u001b[0m\u001b[0m\n\u001b[1;32m    652\u001b[0m             \u001b[0;32mfor\u001b[0m \u001b[0mfunction\u001b[0m\u001b[0;34m,\u001b[0m \u001b[0margs\u001b[0m\u001b[0;34m,\u001b[0m \u001b[0mkwargs\u001b[0m \u001b[0;32min\u001b[0m \u001b[0miterable\u001b[0m\u001b[0;34m:\u001b[0m\u001b[0;34m\u001b[0m\u001b[0m\n\u001b[0;32m--> 653\u001b[0;31m                 \u001b[0mself\u001b[0m\u001b[0;34m.\u001b[0m\u001b[0mdispatch\u001b[0m\u001b[0;34m(\u001b[0m\u001b[0mfunction\u001b[0m\u001b[0;34m,\u001b[0m \u001b[0margs\u001b[0m\u001b[0;34m,\u001b[0m \u001b[0mkwargs\u001b[0m\u001b[0;34m)\u001b[0m\u001b[0;34m\u001b[0m\u001b[0m\n\u001b[0m\u001b[1;32m    654\u001b[0m \u001b[0;34m\u001b[0m\u001b[0m\n\u001b[1;32m    655\u001b[0m             \u001b[0;32mif\u001b[0m \u001b[0mpre_dispatch\u001b[0m \u001b[0;34m==\u001b[0m \u001b[0;34m\"all\"\u001b[0m \u001b[0;32mor\u001b[0m \u001b[0mn_jobs\u001b[0m \u001b[0;34m==\u001b[0m \u001b[0;36m1\u001b[0m\u001b[0;34m:\u001b[0m\u001b[0;34m\u001b[0m\u001b[0m\n",
        "\u001b[0;32m/Users/maestro/anaconda/lib/python2.7/site-packages/sklearn/externals/joblib/parallel.pyc\u001b[0m in \u001b[0;36mdispatch\u001b[0;34m(self, func, args, kwargs)\u001b[0m\n\u001b[1;32m    398\u001b[0m         \"\"\"\n\u001b[1;32m    399\u001b[0m         \u001b[0;32mif\u001b[0m \u001b[0mself\u001b[0m\u001b[0;34m.\u001b[0m\u001b[0m_pool\u001b[0m \u001b[0;32mis\u001b[0m \u001b[0mNone\u001b[0m\u001b[0;34m:\u001b[0m\u001b[0;34m\u001b[0m\u001b[0m\n\u001b[0;32m--> 400\u001b[0;31m             \u001b[0mjob\u001b[0m \u001b[0;34m=\u001b[0m \u001b[0mImmediateApply\u001b[0m\u001b[0;34m(\u001b[0m\u001b[0mfunc\u001b[0m\u001b[0;34m,\u001b[0m \u001b[0margs\u001b[0m\u001b[0;34m,\u001b[0m \u001b[0mkwargs\u001b[0m\u001b[0;34m)\u001b[0m\u001b[0;34m\u001b[0m\u001b[0m\n\u001b[0m\u001b[1;32m    401\u001b[0m             \u001b[0mindex\u001b[0m \u001b[0;34m=\u001b[0m \u001b[0mlen\u001b[0m\u001b[0;34m(\u001b[0m\u001b[0mself\u001b[0m\u001b[0;34m.\u001b[0m\u001b[0m_jobs\u001b[0m\u001b[0;34m)\u001b[0m\u001b[0;34m\u001b[0m\u001b[0m\n\u001b[1;32m    402\u001b[0m             \u001b[0;32mif\u001b[0m \u001b[0;32mnot\u001b[0m \u001b[0m_verbosity_filter\u001b[0m\u001b[0;34m(\u001b[0m\u001b[0mindex\u001b[0m\u001b[0;34m,\u001b[0m \u001b[0mself\u001b[0m\u001b[0;34m.\u001b[0m\u001b[0mverbose\u001b[0m\u001b[0;34m)\u001b[0m\u001b[0;34m:\u001b[0m\u001b[0;34m\u001b[0m\u001b[0m\n",
        "\u001b[0;32m/Users/maestro/anaconda/lib/python2.7/site-packages/sklearn/externals/joblib/parallel.pyc\u001b[0m in \u001b[0;36m__init__\u001b[0;34m(self, func, args, kwargs)\u001b[0m\n\u001b[1;32m    136\u001b[0m         \u001b[0;31m# Don't delay the application, to avoid keeping the input\u001b[0m\u001b[0;34m\u001b[0m\u001b[0;34m\u001b[0m\u001b[0m\n\u001b[1;32m    137\u001b[0m         \u001b[0;31m# arguments in memory\u001b[0m\u001b[0;34m\u001b[0m\u001b[0;34m\u001b[0m\u001b[0m\n\u001b[0;32m--> 138\u001b[0;31m         \u001b[0mself\u001b[0m\u001b[0;34m.\u001b[0m\u001b[0mresults\u001b[0m \u001b[0;34m=\u001b[0m \u001b[0mfunc\u001b[0m\u001b[0;34m(\u001b[0m\u001b[0;34m*\u001b[0m\u001b[0margs\u001b[0m\u001b[0;34m,\u001b[0m \u001b[0;34m**\u001b[0m\u001b[0mkwargs\u001b[0m\u001b[0;34m)\u001b[0m\u001b[0;34m\u001b[0m\u001b[0m\n\u001b[0m\u001b[1;32m    139\u001b[0m \u001b[0;34m\u001b[0m\u001b[0m\n\u001b[1;32m    140\u001b[0m     \u001b[0;32mdef\u001b[0m \u001b[0mget\u001b[0m\u001b[0;34m(\u001b[0m\u001b[0mself\u001b[0m\u001b[0;34m)\u001b[0m\u001b[0;34m:\u001b[0m\u001b[0;34m\u001b[0m\u001b[0m\n",
        "\u001b[0;32m/Users/maestro/anaconda/lib/python2.7/site-packages/sklearn/cross_validation.pyc\u001b[0m in \u001b[0;36m_fit_and_score\u001b[0;34m(estimator, X, y, scorer, train, test, verbose, parameters, fit_params, return_train_score, return_parameters)\u001b[0m\n\u001b[1;32m   1238\u001b[0m     \u001b[0;32melse\u001b[0m\u001b[0;34m:\u001b[0m\u001b[0;34m\u001b[0m\u001b[0m\n\u001b[1;32m   1239\u001b[0m         \u001b[0mestimator\u001b[0m\u001b[0;34m.\u001b[0m\u001b[0mfit\u001b[0m\u001b[0;34m(\u001b[0m\u001b[0mX_train\u001b[0m\u001b[0;34m,\u001b[0m \u001b[0my_train\u001b[0m\u001b[0;34m,\u001b[0m \u001b[0;34m**\u001b[0m\u001b[0mfit_params\u001b[0m\u001b[0;34m)\u001b[0m\u001b[0;34m\u001b[0m\u001b[0m\n\u001b[0;32m-> 1240\u001b[0;31m     \u001b[0mtest_score\u001b[0m \u001b[0;34m=\u001b[0m \u001b[0m_score\u001b[0m\u001b[0;34m(\u001b[0m\u001b[0mestimator\u001b[0m\u001b[0;34m,\u001b[0m \u001b[0mX_test\u001b[0m\u001b[0;34m,\u001b[0m \u001b[0my_test\u001b[0m\u001b[0;34m,\u001b[0m \u001b[0mscorer\u001b[0m\u001b[0;34m)\u001b[0m\u001b[0;34m\u001b[0m\u001b[0m\n\u001b[0m\u001b[1;32m   1241\u001b[0m     \u001b[0;32mif\u001b[0m \u001b[0mreturn_train_score\u001b[0m\u001b[0;34m:\u001b[0m\u001b[0;34m\u001b[0m\u001b[0m\n\u001b[1;32m   1242\u001b[0m         \u001b[0mtrain_score\u001b[0m \u001b[0;34m=\u001b[0m \u001b[0m_score\u001b[0m\u001b[0;34m(\u001b[0m\u001b[0mestimator\u001b[0m\u001b[0;34m,\u001b[0m \u001b[0mX_train\u001b[0m\u001b[0;34m,\u001b[0m \u001b[0my_train\u001b[0m\u001b[0;34m,\u001b[0m \u001b[0mscorer\u001b[0m\u001b[0;34m)\u001b[0m\u001b[0;34m\u001b[0m\u001b[0m\n",
        "\u001b[0;32m/Users/maestro/anaconda/lib/python2.7/site-packages/sklearn/cross_validation.pyc\u001b[0m in \u001b[0;36m_score\u001b[0;34m(estimator, X_test, y_test, scorer)\u001b[0m\n\u001b[1;32m   1294\u001b[0m         \u001b[0mscore\u001b[0m \u001b[0;34m=\u001b[0m \u001b[0mscorer\u001b[0m\u001b[0;34m(\u001b[0m\u001b[0mestimator\u001b[0m\u001b[0;34m,\u001b[0m \u001b[0mX_test\u001b[0m\u001b[0;34m)\u001b[0m\u001b[0;34m\u001b[0m\u001b[0m\n\u001b[1;32m   1295\u001b[0m     \u001b[0;32melse\u001b[0m\u001b[0;34m:\u001b[0m\u001b[0;34m\u001b[0m\u001b[0m\n\u001b[0;32m-> 1296\u001b[0;31m         \u001b[0mscore\u001b[0m \u001b[0;34m=\u001b[0m \u001b[0mscorer\u001b[0m\u001b[0;34m(\u001b[0m\u001b[0mestimator\u001b[0m\u001b[0;34m,\u001b[0m \u001b[0mX_test\u001b[0m\u001b[0;34m,\u001b[0m \u001b[0my_test\u001b[0m\u001b[0;34m)\u001b[0m\u001b[0;34m\u001b[0m\u001b[0m\n\u001b[0m\u001b[1;32m   1297\u001b[0m     \u001b[0;32mif\u001b[0m \u001b[0;32mnot\u001b[0m \u001b[0misinstance\u001b[0m\u001b[0;34m(\u001b[0m\u001b[0mscore\u001b[0m\u001b[0;34m,\u001b[0m \u001b[0mnumbers\u001b[0m\u001b[0;34m.\u001b[0m\u001b[0mNumber\u001b[0m\u001b[0;34m)\u001b[0m\u001b[0;34m:\u001b[0m\u001b[0;34m\u001b[0m\u001b[0m\n\u001b[1;32m   1298\u001b[0m         raise ValueError(\"scoring must return a number, got %s (%s) instead.\"\n",
        "\u001b[0;32m/Users/maestro/anaconda/lib/python2.7/site-packages/sklearn/metrics/scorer.pyc\u001b[0m in \u001b[0;36m__call__\u001b[0;34m(self, estimator, X, y_true)\u001b[0m\n\u001b[1;32m     78\u001b[0m         \"\"\"\n\u001b[1;32m     79\u001b[0m         \u001b[0my_pred\u001b[0m \u001b[0;34m=\u001b[0m \u001b[0mestimator\u001b[0m\u001b[0;34m.\u001b[0m\u001b[0mpredict\u001b[0m\u001b[0;34m(\u001b[0m\u001b[0mX\u001b[0m\u001b[0;34m)\u001b[0m\u001b[0;34m\u001b[0m\u001b[0m\n\u001b[0;32m---> 80\u001b[0;31m         \u001b[0;32mreturn\u001b[0m \u001b[0mself\u001b[0m\u001b[0;34m.\u001b[0m\u001b[0m_sign\u001b[0m \u001b[0;34m*\u001b[0m \u001b[0mself\u001b[0m\u001b[0;34m.\u001b[0m\u001b[0m_score_func\u001b[0m\u001b[0;34m(\u001b[0m\u001b[0my_true\u001b[0m\u001b[0;34m,\u001b[0m \u001b[0my_pred\u001b[0m\u001b[0;34m,\u001b[0m \u001b[0;34m**\u001b[0m\u001b[0mself\u001b[0m\u001b[0;34m.\u001b[0m\u001b[0m_kwargs\u001b[0m\u001b[0;34m)\u001b[0m\u001b[0;34m\u001b[0m\u001b[0m\n\u001b[0m\u001b[1;32m     81\u001b[0m \u001b[0;34m\u001b[0m\u001b[0m\n\u001b[1;32m     82\u001b[0m \u001b[0;34m\u001b[0m\u001b[0m\n",
        "\u001b[0;32m/Users/maestro/anaconda/lib/python2.7/site-packages/sklearn/metrics/metrics.pyc\u001b[0m in \u001b[0;36mprecision_score\u001b[0;34m(y_true, y_pred, labels, pos_label, average, sample_weight)\u001b[0m\n\u001b[1;32m   1883\u001b[0m                                                  \u001b[0maverage\u001b[0m\u001b[0;34m=\u001b[0m\u001b[0maverage\u001b[0m\u001b[0;34m,\u001b[0m\u001b[0;34m\u001b[0m\u001b[0m\n\u001b[1;32m   1884\u001b[0m                                                  \u001b[0mwarn_for\u001b[0m\u001b[0;34m=\u001b[0m\u001b[0;34m(\u001b[0m\u001b[0;34m'precision'\u001b[0m\u001b[0;34m,\u001b[0m\u001b[0;34m)\u001b[0m\u001b[0;34m,\u001b[0m\u001b[0;34m\u001b[0m\u001b[0m\n\u001b[0;32m-> 1885\u001b[0;31m                                                  sample_weight=sample_weight)\n\u001b[0m\u001b[1;32m   1886\u001b[0m     \u001b[0;32mreturn\u001b[0m \u001b[0mp\u001b[0m\u001b[0;34m\u001b[0m\u001b[0m\n\u001b[1;32m   1887\u001b[0m \u001b[0;34m\u001b[0m\u001b[0m\n",
        "\u001b[0;32m/Users/maestro/anaconda/lib/python2.7/site-packages/sklearn/metrics/metrics.pyc\u001b[0m in \u001b[0;36mprecision_recall_fscore_support\u001b[0;34m(y_true, y_pred, beta, labels, pos_label, average, warn_for, sample_weight)\u001b[0m\n\u001b[1;32m   1749\u001b[0m             \u001b[0;32melse\u001b[0m\u001b[0;34m:\u001b[0m\u001b[0;34m\u001b[0m\u001b[0m\n\u001b[1;32m   1750\u001b[0m                 raise ValueError(\"pos_label=%r is not a valid label: %r\" %\n\u001b[0;32m-> 1751\u001b[0;31m                                  (pos_label, labels))\n\u001b[0m\u001b[1;32m   1752\u001b[0m         \u001b[0mpos_label_idx\u001b[0m \u001b[0;34m=\u001b[0m \u001b[0mlabels\u001b[0m \u001b[0;34m==\u001b[0m \u001b[0mpos_label\u001b[0m\u001b[0;34m\u001b[0m\u001b[0m\n\u001b[1;32m   1753\u001b[0m         \u001b[0mtp_sum\u001b[0m \u001b[0;34m=\u001b[0m \u001b[0mtp_sum\u001b[0m\u001b[0;34m[\u001b[0m\u001b[0mpos_label_idx\u001b[0m\u001b[0;34m]\u001b[0m\u001b[0;34m\u001b[0m\u001b[0m\n",
        "\u001b[0;31mValueError\u001b[0m: pos_label=1 is not a valid label: array(['b', 's'], \n      dtype='|S1')"
       ]
      }
     ],
     "prompt_number": 21
    },
    {
     "cell_type": "code",
     "collapsed": false,
     "input": [],
     "language": "python",
     "metadata": {},
     "outputs": []
    }
   ],
   "metadata": {}
  }
 ]
}