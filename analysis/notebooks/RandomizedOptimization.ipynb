{
 "metadata": {
  "name": "",
  "signature": "sha256:2a3df91bf153f47bce387d21952b344e55d2663c4bbcf8fe26650dc79fbee255"
 },
 "nbformat": 3,
 "nbformat_minor": 0,
 "worksheets": [
  {
   "cells": [
    {
     "cell_type": "markdown",
     "metadata": {},
     "source": [
      "### References"
     ]
    },
    {
     "cell_type": "markdown",
     "metadata": {},
     "source": [
      "[1] Pybrain Optimization Documentation, Online Available, at http://pybrain.org/docs/tutorial/optimization.html\n",
      "\n",
      "[2] http://www.cc.gatech.edu/~isbell/papers/isbell-mimic-nips-1997.pdf\n",
      "\n",
      "[3] http://docs.scipy.org/doc/scipy-0.14.0/reference/generated/scipy.optimize.anneal.html"
     ]
    },
    {
     "cell_type": "code",
     "collapsed": false,
     "input": [],
     "language": "python",
     "metadata": {},
     "outputs": []
    }
   ],
   "metadata": {}
  }
 ]
}