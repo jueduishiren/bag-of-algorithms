{
 "metadata": {
  "name": "",
  "signature": "sha256:3591fc4c68f3368ac59517453df0dcb7b5420ea9a4d101d15f6775470781b7f0"
 },
 "nbformat": 3,
 "nbformat_minor": 0,
 "worksheets": [
  {
   "cells": [
    {
     "cell_type": "markdown",
     "metadata": {},
     "source": [
      "# Randomized Optimization Algorithms"
     ]
    },
    {
     "cell_type": "markdown",
     "metadata": {},
     "source": [
      "## Introduction"
     ]
    },
    {
     "cell_type": "markdown",
     "metadata": {},
     "source": [
      "In the previous assighnment we analysed various supervised algorithms, which were all solving some optimization problem in the form of minimizing the derivative of the error. What if the derivative does not exists, like in discrete problems which are not defined on continuous functions? Since discrete functions cannot be differentiated, then gradient descent tool cannot be used.\n",
      "Here we turn towards search and various way of optimizing it using randomized optimization algorithms. "
     ]
    },
    {
     "cell_type": "markdown",
     "metadata": {},
     "source": [
      "### Genetic Algorithm on the problem \"Where is Waldo?\""
     ]
    },
    {
     "cell_type": "markdown",
     "metadata": {},
     "source": [
      "I only recently came across Waldo-spotting book series (since I grew up outside of US) through the blogpost of Randy Olson where he demonstrated optimal search using genetic algorithm. This problem fascinated me by being both fun and illuminating and here I tried to reproduce some of his results using different implementation of the genetic algorithm "
     ]
    },
    {
     "cell_type": "code",
     "collapsed": false,
     "input": [
      "%matplotlib inline\n",
      "from algo_evaluation.datasets import *\n",
      "from algo_evaluation.plotting import plot_waldo_data as plt\n",
      "reload(plt)"
     ],
     "language": "python",
     "metadata": {},
     "outputs": [
      {
       "metadata": {},
       "output_type": "pyout",
       "prompt_number": 6,
       "text": [
        "<module 'algo_evaluation.plotting.plot_waldo_data' from '/Users/maestro/schoolspace/bag-of-algorithms/algo_evaluation/plotting/plot_waldo_data.py'>"
       ]
      }
     ],
     "prompt_number": 6
    },
    {
     "cell_type": "code",
     "collapsed": false,
     "input": [
      "df = load_waldo_dataset()"
     ],
     "language": "python",
     "metadata": {},
     "outputs": [],
     "prompt_number": 2
    },
    {
     "cell_type": "code",
     "collapsed": false,
     "input": [
      "plt.plot_waldo_kde(df)"
     ],
     "language": "python",
     "metadata": {},
     "outputs": [
      {
       "metadata": {},
       "output_type": "display_data",
       "png": "[encoded data removed]",
       "text": [
        "<matplotlib.figure.Figure at 0x10c063550>"
       ]
      }
     ],
     "prompt_number": 7
    },
    {
     "cell_type": "markdown",
     "metadata": {},
     "source": [
      "#### Fitness function"
     ]
    },
    {
     "cell_type": "markdown",
     "metadata": {},
     "source": [
      "We need to minimaize the distance between what waldo-looking solutions covers and the real waldo coordinates. "
     ]
    },
    {
     "cell_type": "markdown",
     "metadata": {},
     "source": [
      "Genetic algorithm continuosly tinkers with the solution by slightly mutating the existing best solution until no better solution can be found."
     ]
    },
    {
     "cell_type": "markdown",
     "metadata": {},
     "source": [
      "## Finding weights for ANN"
     ]
    },
    {
     "cell_type": "markdown",
     "metadata": {},
     "source": [
      "In this section I will use optimization algorithms to search for the best weights in the Neural Network classification on the problem of Higgs detection from the previous assignment.\n",
      "\n",
      "Quick review:\n",
      "   - given outcomes of particle decays, detect Higgs boson; \n",
      "   - most of the supervised algorithms gave acceptable accuracy ranging from 0.8 - 0.9;\n",
      "   - neural network gave the worse accuracy of around 0.5 (50%) across all expreriments with tunning paramaters;\n",
      "    \n",
      "Since backpropagation algorithm in the neural network did not provide satisfactory accuracy on the higgs dataset, the problem is higgs detection becomes a great candidate to apply randomized optimization algorithms weights learning."
     ]
    },
    {
     "cell_type": "code",
     "collapsed": false,
     "input": [
      "higgs_data = load_higgs_train(sample_size=30000)\n",
      "features, weights, labels = higgs_data\n",
      "print 'Size of the dataset:', features.shape[0]\n",
      "print 'Number of features:', features.shape[1]\n",
      "print 'Number of positives (signal):', labels.value_counts()['s']\n",
      "print 'Number of negatives (background):', labels.value_counts()['b']"
     ],
     "language": "python",
     "metadata": {},
     "outputs": [
      {
       "output_type": "stream",
       "stream": "stdout",
       "text": [
        "Size of the dataset: 8242\n",
        "Number of features: 13\n",
        "Number of positives (signal): 3812\n",
        "Number of negatives (background): 4430\n"
       ]
      }
     ],
     "prompt_number": 74
    },
    {
     "cell_type": "code",
     "collapsed": false,
     "input": [
      "from algo_evaluation.algos import neural_network as nn"
     ],
     "language": "python",
     "metadata": {},
     "outputs": []
    },
    {
     "cell_type": "code",
     "collapsed": false,
     "input": [
      "nn.compare_weight_learning_optimized(higgs_data)"
     ],
     "language": "python",
     "metadata": {},
     "outputs": []
    },
    {
     "cell_type": "markdown",
     "metadata": {},
     "source": [
      "### References"
     ]
    },
    {
     "cell_type": "markdown",
     "metadata": {},
     "source": [
      "[1] Pybrain Optimization Documentation, Online Available, at http://pybrain.org/docs/tutorial/optimization.html\n",
      "\n",
      "[2] http://www.cc.gatech.edu/~isbell/papers/isbell-mimic-nips-1997.pdf\n",
      "\n",
      "[3] http://docs.scipy.org/doc/scipy-0.14.0/reference/generated/scipy.optimize.anneal.html\n",
      "\n",
      "[4] http://www.randalolson.com/2015/02/03/heres-waldo-computing-the-optimal-search-strategy-for-finding-waldo/"
     ]
    }
   ],
   "metadata": {}
  }
 ]
}