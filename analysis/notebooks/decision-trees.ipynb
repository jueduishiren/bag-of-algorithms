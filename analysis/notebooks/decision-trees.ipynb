{
 "metadata": {
  "name": "",
  "signature": "sha256:a4cc6f0047108aa0265d0dec8c070405cab4029833f732190671c53e26cbfed8"
 },
 "nbformat": 3,
 "nbformat_minor": 0,
 "worksheets": [
  {
   "cells": [
    {
     "cell_type": "code",
     "collapsed": false,
     "input": [
      "%matplotlib inline\n",
      "import pandas as pd\n",
      "pd.set_option('display.max_columns', 15)\n",
      "pd.set_option('display.line_width', 400)\n",
      "pd.set_option('display.mpl_style', 'default')\n",
      "from algorithms.datasets import load_higgs_train\n",
      "from sklearn.cross_validation import train_test_split\n",
      "from sklearn.metrics import accuracy_score\n",
      "import numpy as np\n",
      "import matplotlib.pyplot as plt"
     ],
     "language": "python",
     "metadata": {},
     "outputs": [
      {
       "output_type": "stream",
       "stream": "stdout",
       "text": [
        "line_width has been deprecated, use display.width instead (currently both are\n",
        "identical)\n",
        "\n"
       ]
      }
     ],
     "prompt_number": 2
    },
    {
     "cell_type": "code",
     "collapsed": false,
     "input": [
      "features, weights, labels = load_higgs_train()"
     ],
     "language": "python",
     "metadata": {},
     "outputs": [
      {
       "output_type": "stream",
       "stream": "stderr",
       "text": [
        "INFO:algorithms:Loaded higgs training dataset of size 68114\n"
       ]
      }
     ],
     "prompt_number": 6
    },
    {
     "cell_type": "code",
     "collapsed": false,
     "input": [
      "features.set_index('EventId', inplace=True)\n",
      "features.head()"
     ],
     "language": "python",
     "metadata": {},
     "outputs": [
      {
       "html": [
        "<div style=\"max-height:1000px;max-width:1500px;overflow:auto;\">\n",
        "<table border=\"1\" class=\"dataframe\">\n",
        "  <thead>\n",
        "    <tr style=\"text-align: right;\">\n",
        "      <th></th>\n",
        "      <th>DER_mass_MMC</th>\n",
        "      <th>DER_mass_transverse_met_lep</th>\n",
        "      <th>DER_mass_vis</th>\n",
        "      <th>DER_pt_h</th>\n",
        "      <th>DER_deltaeta_jet_jet</th>\n",
        "      <th>DER_mass_jet_jet</th>\n",
        "      <th>DER_prodeta_jet_jet</th>\n",
        "      <th>...</th>\n",
        "      <th>PRI_jet_leading_pt</th>\n",
        "      <th>PRI_jet_leading_eta</th>\n",
        "      <th>PRI_jet_leading_phi</th>\n",
        "      <th>PRI_jet_subleading_pt</th>\n",
        "      <th>PRI_jet_subleading_eta</th>\n",
        "      <th>PRI_jet_subleading_phi</th>\n",
        "      <th>PRI_jet_all_pt</th>\n",
        "    </tr>\n",
        "    <tr>\n",
        "      <th>EventId</th>\n",
        "      <th></th>\n",
        "      <th></th>\n",
        "      <th></th>\n",
        "      <th></th>\n",
        "      <th></th>\n",
        "      <th></th>\n",
        "      <th></th>\n",
        "      <th></th>\n",
        "      <th></th>\n",
        "      <th></th>\n",
        "      <th></th>\n",
        "      <th></th>\n",
        "      <th></th>\n",
        "      <th></th>\n",
        "      <th></th>\n",
        "    </tr>\n",
        "  </thead>\n",
        "  <tbody>\n",
        "    <tr>\n",
        "      <th>100000</th>\n",
        "      <td> 138.470</td>\n",
        "      <td> 51.655</td>\n",
        "      <td>  97.827</td>\n",
        "      <td>  27.980</td>\n",
        "      <td> 0.910</td>\n",
        "      <td> 124.711</td>\n",
        "      <td> 2.666</td>\n",
        "      <td>...</td>\n",
        "      <td>  67.435</td>\n",
        "      <td> 2.150</td>\n",
        "      <td> 0.444</td>\n",
        "      <td> 46.062</td>\n",
        "      <td> 1.240</td>\n",
        "      <td>-2.475</td>\n",
        "      <td> 113.497</td>\n",
        "    </tr>\n",
        "    <tr>\n",
        "      <th>100005</th>\n",
        "      <td>  89.744</td>\n",
        "      <td> 13.550</td>\n",
        "      <td>  59.149</td>\n",
        "      <td> 116.344</td>\n",
        "      <td> 2.636</td>\n",
        "      <td> 284.584</td>\n",
        "      <td>-0.540</td>\n",
        "      <td>...</td>\n",
        "      <td>  90.547</td>\n",
        "      <td>-2.412</td>\n",
        "      <td>-0.653</td>\n",
        "      <td> 56.165</td>\n",
        "      <td> 0.224</td>\n",
        "      <td> 3.106</td>\n",
        "      <td> 193.660</td>\n",
        "    </tr>\n",
        "    <tr>\n",
        "      <th>100006</th>\n",
        "      <td> 148.754</td>\n",
        "      <td> 28.862</td>\n",
        "      <td> 107.782</td>\n",
        "      <td> 106.130</td>\n",
        "      <td> 0.733</td>\n",
        "      <td> 158.359</td>\n",
        "      <td> 0.113</td>\n",
        "      <td>...</td>\n",
        "      <td> 123.010</td>\n",
        "      <td> 0.864</td>\n",
        "      <td> 1.450</td>\n",
        "      <td> 56.867</td>\n",
        "      <td> 0.131</td>\n",
        "      <td>-2.767</td>\n",
        "      <td> 179.877</td>\n",
        "    </tr>\n",
        "    <tr>\n",
        "      <th>100011</th>\n",
        "      <td> 114.744</td>\n",
        "      <td> 10.286</td>\n",
        "      <td>  75.712</td>\n",
        "      <td>  30.816</td>\n",
        "      <td> 2.563</td>\n",
        "      <td> 252.599</td>\n",
        "      <td>-1.401</td>\n",
        "      <td>...</td>\n",
        "      <td>  76.773</td>\n",
        "      <td>-0.790</td>\n",
        "      <td> 0.303</td>\n",
        "      <td> 56.876</td>\n",
        "      <td> 1.773</td>\n",
        "      <td>-2.079</td>\n",
        "      <td> 165.640</td>\n",
        "    </tr>\n",
        "    <tr>\n",
        "      <th>100023</th>\n",
        "      <td> 141.481</td>\n",
        "      <td>  0.736</td>\n",
        "      <td> 111.581</td>\n",
        "      <td> 174.075</td>\n",
        "      <td> 1.955</td>\n",
        "      <td> 364.344</td>\n",
        "      <td>-0.923</td>\n",
        "      <td>...</td>\n",
        "      <td> 195.533</td>\n",
        "      <td> 1.156</td>\n",
        "      <td> 1.416</td>\n",
        "      <td> 82.477</td>\n",
        "      <td>-0.798</td>\n",
        "      <td>-2.785</td>\n",
        "      <td> 278.009</td>\n",
        "    </tr>\n",
        "  </tbody>\n",
        "</table>\n",
        "<p>5 rows \u00d7 30 columns</p>\n",
        "</div>"
       ],
       "metadata": {},
       "output_type": "pyout",
       "prompt_number": 7,
       "text": [
        "         DER_mass_MMC  DER_mass_transverse_met_lep  DER_mass_vis  DER_pt_h  DER_deltaeta_jet_jet  DER_mass_jet_jet  DER_prodeta_jet_jet         ...           PRI_jet_leading_pt  PRI_jet_leading_eta  PRI_jet_leading_phi  PRI_jet_subleading_pt  PRI_jet_subleading_eta  PRI_jet_subleading_phi  PRI_jet_all_pt\n",
        "EventId                                                                                                                                         ...                                                                                                                                                              \n",
        "100000        138.470                       51.655        97.827    27.980                 0.910           124.711                2.666         ...                       67.435                2.150                0.444                 46.062                   1.240                  -2.475         113.497\n",
        "100005         89.744                       13.550        59.149   116.344                 2.636           284.584               -0.540         ...                       90.547               -2.412               -0.653                 56.165                   0.224                   3.106         193.660\n",
        "100006        148.754                       28.862       107.782   106.130                 0.733           158.359                0.113         ...                      123.010                0.864                1.450                 56.867                   0.131                  -2.767         179.877\n",
        "100011        114.744                       10.286        75.712    30.816                 2.563           252.599               -1.401         ...                       76.773               -0.790                0.303                 56.876                   1.773                  -2.079         165.640\n",
        "100023        141.481                        0.736       111.581   174.075                 1.955           364.344               -0.923         ...                      195.533                1.156                1.416                 82.477                  -0.798                  -2.785         278.009\n",
        "\n",
        "[5 rows x 30 columns]"
       ]
      }
     ],
     "prompt_number": 7
    },
    {
     "cell_type": "code",
     "collapsed": false,
     "input": [
      "derived_features_names = [f for f in features.columns if f.startswith('DER')]\n",
      "derived_features = features[derived_features_names]"
     ],
     "language": "python",
     "metadata": {},
     "outputs": [],
     "prompt_number": 10
    },
    {
     "cell_type": "code",
     "collapsed": false,
     "input": [
      "features_train, features_test, labels_train, labels_test = train_test_split(derived_features, labels, test_size=0.33)"
     ],
     "language": "python",
     "metadata": {},
     "outputs": [],
     "prompt_number": 11
    },
    {
     "cell_type": "code",
     "collapsed": false,
     "input": [
      "from sklearn import tree"
     ],
     "language": "python",
     "metadata": {},
     "outputs": [],
     "prompt_number": 12
    },
    {
     "cell_type": "code",
     "collapsed": false,
     "input": [
      "clf = tree.DecisionTreeClassifier()"
     ],
     "language": "python",
     "metadata": {},
     "outputs": [],
     "prompt_number": 13
    },
    {
     "cell_type": "code",
     "collapsed": false,
     "input": [
      "clf = clf.fit(features_train, labels_train)"
     ],
     "language": "python",
     "metadata": {},
     "outputs": [],
     "prompt_number": 14
    },
    {
     "cell_type": "code",
     "collapsed": false,
     "input": [
      "predictions = clf.predict(features_test)"
     ],
     "language": "python",
     "metadata": {},
     "outputs": [],
     "prompt_number": 15
    },
    {
     "cell_type": "code",
     "collapsed": false,
     "input": [
      "predictions"
     ],
     "language": "python",
     "metadata": {},
     "outputs": [
      {
       "metadata": {},
       "output_type": "pyout",
       "prompt_number": 16,
       "text": [
        "array(['s', 's', 's', ..., 's', 'b', 's'], dtype=object)"
       ]
      }
     ],
     "prompt_number": 16
    },
    {
     "cell_type": "code",
     "collapsed": false,
     "input": [
      "accuracy_score(labels_test, predictions)"
     ],
     "language": "python",
     "metadata": {},
     "outputs": [
      {
       "metadata": {},
       "output_type": "pyout",
       "prompt_number": 17,
       "text": [
        "0.77377880594358928"
       ]
      }
     ],
     "prompt_number": 17
    },
    {
     "cell_type": "code",
     "collapsed": false,
     "input": [
      "# Parameters\n",
      "n_classes = 2\n",
      "plot_colors = \"br\"\n",
      "plot_step = 0.02"
     ],
     "language": "python",
     "metadata": {},
     "outputs": [],
     "prompt_number": 18
    },
    {
     "cell_type": "code",
     "collapsed": false,
     "input": [
      "# Plot the training points\n",
      "X = features_train[:, [0,1]]\n",
      "Y = labels_train\n",
      "for i, color in zip(set(Y), plot_colors):\n",
      "    idx = np.where(Y == i)\n",
      "    plt.scatter(X[idx, 0], X[idx, 1], c=color, label=i, cmap=plt.cm.Paired)\n",
      "plt.legend()"
     ],
     "language": "python",
     "metadata": {},
     "outputs": [
      {
       "metadata": {},
       "output_type": "pyout",
       "prompt_number": 19,
       "text": [
        "<matplotlib.legend.Legend at 0x10a000fd0>"
       ]
      },
      {
       "metadata": {},
       "output_type": "display_data",
       "png": "[encoded data removed]",
       "text": [
        "<matplotlib.figure.Figure at 0x105e8f2d0>"
       ]
      }
     ],
     "prompt_number": 19
    },
    {
     "cell_type": "code",
     "collapsed": false,
     "input": [
      "x_min, x_max = X[:, 0].min() - 1, X[:, 0].max() + 1\n",
      "y_min, y_max = X[:, 1].min() - 1, X[:, 1].max() + 1\n",
      "xx, yy = np.meshgrid(np.arange(x_min, x_max, plot_step),\n",
      "                         np.arange(y_min, y_max, plot_step))\n",
      "#cs = plt.contourf(xx, yy, predictions, cmap=plt.cm.Paired)"
     ],
     "language": "python",
     "metadata": {},
     "outputs": []
    },
    {
     "cell_type": "code",
     "collapsed": false,
     "input": [],
     "language": "python",
     "metadata": {},
     "outputs": []
    }
   ],
   "metadata": {}
  }
 ]
}