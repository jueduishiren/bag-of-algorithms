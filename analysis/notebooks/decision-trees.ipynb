{
 "metadata": {
  "name": "",
  "signature": "sha256:76bc95a2e7ba484c86ba90e19168297d18ca89110f4f17f32730aacd21309956"
 },
 "nbformat": 3,
 "nbformat_minor": 0,
 "worksheets": [
  {
   "cells": [
    {
     "cell_type": "code",
     "collapsed": false,
     "input": [
      "%matplotlib inline\n",
      "import pandas as pd\n",
      "pd.set_option('display.max_columns', 15)\n",
      "pd.set_option('display.line_width', 400)\n",
      "pd.set_option('display.mpl_style', 'default')\n",
      "from algorithms.decision_tree import DecisionTree, estimate_best_min_samples_split, estimate_best_max_depth, load_higgs_train\n",
      "import numpy as np\n",
      "import matplotlib.pyplot as plt\n",
      "from sklearn.metrics import accuracy_score\n",
      "from sklearn.cross_validation import train_test_split\n",
      "import sklearn"
     ],
     "language": "python",
     "metadata": {},
     "outputs": [
      {
       "output_type": "stream",
       "stream": "stdout",
       "text": [
        "line_width has been deprecated, use display.width instead (currently both are\n",
        "identical)\n",
        "\n"
       ]
      }
     ],
     "prompt_number": 9
    },
    {
     "cell_type": "code",
     "collapsed": false,
     "input": [
      "data = load_higgs_train()\n",
      "dt = DecisionTree(data=data)\n",
      "dt.train()\n",
      "dt.predict()\n",
      "dt.evaluate()"
     ],
     "language": "python",
     "metadata": {},
     "outputs": [
      {
       "output_type": "stream",
       "stream": "stderr",
       "text": [
        "INFO:algorithms:Loaded higgs training dataset of size 68114\n"
       ]
      },
      {
       "output_type": "stream",
       "stream": "stderr",
       "text": [
        "INFO:algorithms:Created classifier with min_samples_split = 40 and max depth None\n"
       ]
      },
      {
       "output_type": "stream",
       "stream": "stderr",
       "text": [
        "INFO:algorithms:Trained decision tree classifier\n"
       ]
      },
      {
       "output_type": "stream",
       "stream": "stderr",
       "text": [
        "INFO:algorithms:Generated predictions\n"
       ]
      },
      {
       "output_type": "stream",
       "stream": "stderr",
       "text": [
        "INFO:algorithms:Training Accuracy score = 0.891160487335\n"
       ]
      },
      {
       "output_type": "stream",
       "stream": "stderr",
       "text": [
        "INFO:algorithms:Test Accuracy score = 0.792730669988\n"
       ]
      },
      {
       "output_type": "stream",
       "stream": "stderr",
       "text": [
        "INFO:algorithms:Training Weighted Accuracy score = 0.923279816423\n"
       ]
      },
      {
       "output_type": "stream",
       "stream": "stderr",
       "text": [
        "INFO:algorithms:Test Weighted Accuracy score = 0.83284812631\n"
       ]
      }
     ],
     "prompt_number": 2
    },
    {
     "cell_type": "code",
     "collapsed": false,
     "input": [
      "dt.feature_names"
     ],
     "language": "python",
     "metadata": {},
     "outputs": []
    },
    {
     "cell_type": "code",
     "collapsed": false,
     "input": [
      "# Parameters\n",
      "n_classes = 2\n",
      "plot_colors = \"br\"\n",
      "plot_step = 0.02\n",
      "# Plot the decision boundary\n",
      "plt.close()\n"
     ],
     "language": "python",
     "metadata": {},
     "outputs": []
    },
    {
     "cell_type": "code",
     "collapsed": false,
     "input": [
      "def plot_training_points(feature_group, plot_number):\n",
      "    plt.figure(figsize=(20,20))\n",
      "    plt.subplot(len(dt.feature_names), 1, plot_number)\n",
      "    feature_1, feature_2 = feature_group\n",
      "    X = dt.features_train[:, [dt.feature_names.index(feature_1),dt.feature_names.index(feature_2)]]\n",
      "    Y = dt.labels_train\n",
      "    for i, color in zip(set(Y), plot_colors):\n",
      "        idx = np.where(Y == i)\n",
      "        plt.scatter(X[idx, 0], X[idx, 1], c=color, label=i, cmap=plt.cm.Paired)\n",
      "\n",
      "    plt.xlabel(feature_1)\n",
      "    plt.ylabel(feature_2)\n",
      "    plt.axis(\"tight\")\n",
      "    plt.legend()"
     ],
     "language": "python",
     "metadata": {},
     "outputs": []
    },
    {
     "cell_type": "code",
     "collapsed": false,
     "input": [
      "i = 1\n",
      "for feature_1, feature_2 in zip(dt.feature_names[:-1], dt.feature_names[1:]):\n",
      "    plot_training_points([feature_1, feature_2], i)\n",
      "    i += 1"
     ],
     "language": "python",
     "metadata": {},
     "outputs": []
    },
    {
     "cell_type": "code",
     "collapsed": false,
     "input": [
      "#x_min, x_max = X[:, 0].min() - 1, X[:, 0].max() + 1\n",
      "#y_min, y_max = X[:, 1].min() - 1, X[:, 1].max() + 1\n",
      "#xx, yy = np.meshgrid(np.arange(x_min, x_max, plot_step),\n",
      "#                         np.arange(y_min, y_max, plot_step))\n",
      "#zz = np.array([1 if p=='s' else 0 for p in dt.predictions])\n",
      "#cs = plt.contourf(xx, yy, zz, cmap=plt.cm.Paired)"
     ],
     "language": "python",
     "metadata": {},
     "outputs": []
    },
    {
     "cell_type": "code",
     "collapsed": false,
     "input": [
      "df = estimate_best_min_samples_split()"
     ],
     "language": "python",
     "metadata": {},
     "outputs": [
      {
       "output_type": "stream",
       "stream": "stderr",
       "text": [
        "INFO:algorithms:Loaded higgs training dataset of size 68114\n"
       ]
      },
      {
       "output_type": "stream",
       "stream": "stderr",
       "text": [
        "INFO:algorithms:Created classifier with min_samples_split = 2 and max depth None\n"
       ]
      },
      {
       "output_type": "stream",
       "stream": "stderr",
       "text": [
        "INFO:algorithms:Trained decision tree classifier\n"
       ]
      },
      {
       "output_type": "stream",
       "stream": "stderr",
       "text": [
        "INFO:algorithms:Generated predictions\n"
       ]
      },
      {
       "output_type": "stream",
       "stream": "stderr",
       "text": [
        "INFO:algorithms:Training Accuracy score = 1.0\n"
       ]
      },
      {
       "output_type": "stream",
       "stream": "stderr",
       "text": [
        "INFO:algorithms:Test Accuracy score = 0.76901859596\n"
       ]
      },
      {
       "output_type": "stream",
       "stream": "stderr",
       "text": [
        "INFO:algorithms:Training Weighted Accuracy score = 1.0\n"
       ]
      },
      {
       "output_type": "stream",
       "stream": "stderr",
       "text": [
        "INFO:algorithms:Test Weighted Accuracy score = 0.790378740325\n"
       ]
      },
      {
       "output_type": "stream",
       "stream": "stderr",
       "text": [
        "INFO:algorithms:Created classifier with min_samples_split = 4 and max depth None\n"
       ]
      },
      {
       "output_type": "stream",
       "stream": "stderr",
       "text": [
        "INFO:algorithms:Trained decision tree classifier\n"
       ]
      },
      {
       "output_type": "stream",
       "stream": "stderr",
       "text": [
        "INFO:algorithms:Generated predictions\n"
       ]
      },
      {
       "output_type": "stream",
       "stream": "stderr",
       "text": [
        "INFO:algorithms:Training Accuracy score = 0.987422210536\n"
       ]
      },
      {
       "output_type": "stream",
       "stream": "stderr",
       "text": [
        "INFO:algorithms:Test Accuracy score = 0.768840644185\n"
       ]
      },
      {
       "output_type": "stream",
       "stream": "stderr",
       "text": [
        "INFO:algorithms:Training Weighted Accuracy score = 0.992243468378\n"
       ]
      },
      {
       "output_type": "stream",
       "stream": "stderr",
       "text": [
        "INFO:algorithms:Test Weighted Accuracy score = 0.814119470106\n"
       ]
      },
      {
       "output_type": "stream",
       "stream": "stderr",
       "text": [
        "INFO:algorithms:Created classifier with min_samples_split = 6 and max depth None\n"
       ]
      },
      {
       "output_type": "stream",
       "stream": "stderr",
       "text": [
        "INFO:algorithms:Trained decision tree classifier\n"
       ]
      },
      {
       "output_type": "stream",
       "stream": "stderr",
       "text": [
        "INFO:algorithms:Generated predictions\n"
       ]
      },
      {
       "output_type": "stream",
       "stream": "stderr",
       "text": [
        "INFO:algorithms:Training Accuracy score = 0.977167148742\n"
       ]
      },
      {
       "output_type": "stream",
       "stream": "stderr",
       "text": [
        "INFO:algorithms:Test Accuracy score = 0.773333926506\n"
       ]
      },
      {
       "output_type": "stream",
       "stream": "stderr",
       "text": [
        "INFO:algorithms:Training Weighted Accuracy score = 0.983966935071\n"
       ]
      },
      {
       "output_type": "stream",
       "stream": "stderr",
       "text": [
        "INFO:algorithms:Test Weighted Accuracy score = 0.806168992976\n"
       ]
      },
      {
       "output_type": "stream",
       "stream": "stderr",
       "text": [
        "INFO:algorithms:Created classifier with min_samples_split = 8 and max depth None\n"
       ]
      },
      {
       "output_type": "stream",
       "stream": "stderr",
       "text": [
        "INFO:algorithms:Trained decision tree classifier\n"
       ]
      },
      {
       "output_type": "stream",
       "stream": "stderr",
       "text": [
        "INFO:algorithms:Generated predictions\n"
       ]
      },
      {
       "output_type": "stream",
       "stream": "stderr",
       "text": [
        "INFO:algorithms:Training Accuracy score = 0.965772635639\n"
       ]
      },
      {
       "output_type": "stream",
       "stream": "stderr",
       "text": [
        "INFO:algorithms:Test Accuracy score = 0.774579588931\n"
       ]
      },
      {
       "output_type": "stream",
       "stream": "stderr",
       "text": [
        "INFO:algorithms:Training Weighted Accuracy score = 0.980277794199\n"
       ]
      },
      {
       "output_type": "stream",
       "stream": "stderr",
       "text": [
        "INFO:algorithms:Test Weighted Accuracy score = 0.814393298953\n"
       ]
      },
      {
       "output_type": "stream",
       "stream": "stderr",
       "text": [
        "INFO:algorithms:Created classifier with min_samples_split = 10 and max depth None\n"
       ]
      },
      {
       "output_type": "stream",
       "stream": "stderr",
       "text": [
        "INFO:algorithms:Trained decision tree classifier\n"
       ]
      },
      {
       "output_type": "stream",
       "stream": "stderr",
       "text": [
        "INFO:algorithms:Generated predictions\n"
       ]
      },
      {
       "output_type": "stream",
       "stream": "stderr",
       "text": [
        "INFO:algorithms:Training Accuracy score = 0.955013585766\n"
       ]
      },
      {
       "output_type": "stream",
       "stream": "stderr",
       "text": [
        "INFO:algorithms:Test Accuracy score = 0.772755583237\n"
       ]
      },
      {
       "output_type": "stream",
       "stream": "stderr",
       "text": [
        "INFO:algorithms:Training Weighted Accuracy score = 0.970776946731\n"
       ]
      },
      {
       "output_type": "stream",
       "stream": "stderr",
       "text": [
        "INFO:algorithms:Test Weighted Accuracy score = 0.816024251186\n"
       ]
      },
      {
       "output_type": "stream",
       "stream": "stderr",
       "text": [
        "INFO:algorithms:Created classifier with min_samples_split = 12 and max depth None\n"
       ]
      },
      {
       "output_type": "stream",
       "stream": "stderr",
       "text": [
        "INFO:algorithms:Trained decision tree classifier\n"
       ]
      },
      {
       "output_type": "stream",
       "stream": "stderr",
       "text": [
        "INFO:algorithms:Generated predictions\n"
       ]
      },
      {
       "output_type": "stream",
       "stream": "stderr",
       "text": [
        "INFO:algorithms:Training Accuracy score = 0.946708738715\n"
       ]
      },
      {
       "output_type": "stream",
       "stream": "stderr",
       "text": [
        "INFO:algorithms:Test Accuracy score = 0.784322448616\n"
       ]
      },
      {
       "output_type": "stream",
       "stream": "stderr",
       "text": [
        "INFO:algorithms:Training Weighted Accuracy score = 0.964364981953\n"
       ]
      },
      {
       "output_type": "stream",
       "stream": "stderr",
       "text": [
        "INFO:algorithms:Test Weighted Accuracy score = 0.829863276324\n"
       ]
      },
      {
       "output_type": "stream",
       "stream": "stderr",
       "text": [
        "INFO:algorithms:Created classifier with min_samples_split = 14 and max depth None\n"
       ]
      },
      {
       "output_type": "stream",
       "stream": "stderr",
       "text": [
        "INFO:algorithms:Trained decision tree classifier\n"
       ]
      },
      {
       "output_type": "stream",
       "stream": "stderr",
       "text": [
        "INFO:algorithms:Generated predictions\n"
       ]
      },
      {
       "output_type": "stream",
       "stream": "stderr",
       "text": [
        "INFO:algorithms:Training Accuracy score = 0.937176790253\n"
       ]
      },
      {
       "output_type": "stream",
       "stream": "stderr",
       "text": [
        "INFO:algorithms:Test Accuracy score = 0.775380371919\n"
       ]
      },
      {
       "output_type": "stream",
       "stream": "stderr",
       "text": [
        "INFO:algorithms:Training Weighted Accuracy score = 0.956816390949\n"
       ]
      },
      {
       "output_type": "stream",
       "stream": "stderr",
       "text": [
        "INFO:algorithms:Test Weighted Accuracy score = 0.823244572238\n"
       ]
      },
      {
       "output_type": "stream",
       "stream": "stderr",
       "text": [
        "INFO:algorithms:Created classifier with min_samples_split = 16 and max depth None\n"
       ]
      },
      {
       "output_type": "stream",
       "stream": "stderr",
       "text": [
        "INFO:algorithms:Trained decision tree classifier\n"
       ]
      },
      {
       "output_type": "stream",
       "stream": "stderr",
       "text": [
        "INFO:algorithms:Generated predictions\n"
       ]
      },
      {
       "output_type": "stream",
       "stream": "stderr",
       "text": [
        "INFO:algorithms:Training Accuracy score = 0.933626961171\n"
       ]
      },
      {
       "output_type": "stream",
       "stream": "stderr",
       "text": [
        "INFO:algorithms:Test Accuracy score = 0.783477177685\n"
       ]
      },
      {
       "output_type": "stream",
       "stream": "stderr",
       "text": [
        "INFO:algorithms:Training Weighted Accuracy score = 0.953233352444\n"
       ]
      },
      {
       "output_type": "stream",
       "stream": "stderr",
       "text": [
        "INFO:algorithms:Test Weighted Accuracy score = 0.831011440001\n"
       ]
      },
      {
       "output_type": "stream",
       "stream": "stderr",
       "text": [
        "INFO:algorithms:Created classifier with min_samples_split = 18 and max depth None\n"
       ]
      },
      {
       "output_type": "stream",
       "stream": "stderr",
       "text": [
        "INFO:algorithms:Trained decision tree classifier\n"
       ]
      },
      {
       "output_type": "stream",
       "stream": "stderr",
       "text": [
        "INFO:algorithms:Generated predictions\n"
       ]
      },
      {
       "output_type": "stream",
       "stream": "stderr",
       "text": [
        "INFO:algorithms:Training Accuracy score = 0.927798229468\n"
       ]
      },
      {
       "output_type": "stream",
       "stream": "stderr",
       "text": [
        "INFO:algorithms:Test Accuracy score = 0.780007118071\n"
       ]
      },
      {
       "output_type": "stream",
       "stream": "stderr",
       "text": [
        "INFO:algorithms:Training Weighted Accuracy score = 0.948237032099\n"
       ]
      },
      {
       "output_type": "stream",
       "stream": "stderr",
       "text": [
        "INFO:algorithms:Test Weighted Accuracy score = 0.816760608453\n"
       ]
      },
      {
       "output_type": "stream",
       "stream": "stderr",
       "text": [
        "INFO:algorithms:Created classifier with min_samples_split = 20 and max depth None\n"
       ]
      },
      {
       "output_type": "stream",
       "stream": "stderr",
       "text": [
        "INFO:algorithms:Trained decision tree classifier\n"
       ]
      },
      {
       "output_type": "stream",
       "stream": "stderr",
       "text": [
        "INFO:algorithms:Generated predictions\n"
       ]
      },
      {
       "output_type": "stream",
       "stream": "stderr",
       "text": [
        "INFO:algorithms:Training Accuracy score = 0.922320098168\n"
       ]
      },
      {
       "output_type": "stream",
       "stream": "stderr",
       "text": [
        "INFO:algorithms:Test Accuracy score = 0.787748020287\n"
       ]
      },
      {
       "output_type": "stream",
       "stream": "stderr",
       "text": [
        "INFO:algorithms:Training Weighted Accuracy score = 0.946187860514\n"
       ]
      },
      {
       "output_type": "stream",
       "stream": "stderr",
       "text": [
        "INFO:algorithms:Test Weighted Accuracy score = 0.832931532691\n"
       ]
      },
      {
       "output_type": "stream",
       "stream": "stderr",
       "text": [
        "INFO:algorithms:Created classifier with min_samples_split = 22 and max depth None\n"
       ]
      },
      {
       "output_type": "stream",
       "stream": "stderr",
       "text": [
        "INFO:algorithms:Trained decision tree classifier\n"
       ]
      },
      {
       "output_type": "stream",
       "stream": "stderr",
       "text": [
        "INFO:algorithms:Generated predictions\n"
       ]
      },
      {
       "output_type": "stream",
       "stream": "stderr",
       "text": [
        "INFO:algorithms:Training Accuracy score = 0.918551143834\n"
       ]
      },
      {
       "output_type": "stream",
       "stream": "stderr",
       "text": [
        "INFO:algorithms:Test Accuracy score = 0.788192899724\n"
       ]
      },
      {
       "output_type": "stream",
       "stream": "stderr",
       "text": [
        "INFO:algorithms:Training Weighted Accuracy score = 0.942476750638\n"
       ]
      },
      {
       "output_type": "stream",
       "stream": "stderr",
       "text": [
        "INFO:algorithms:Test Weighted Accuracy score = 0.83157812699\n"
       ]
      },
      {
       "output_type": "stream",
       "stream": "stderr",
       "text": [
        "INFO:algorithms:Created classifier with min_samples_split = 24 and max depth None\n"
       ]
      },
      {
       "output_type": "stream",
       "stream": "stderr",
       "text": [
        "INFO:algorithms:Trained decision tree classifier\n"
       ]
      },
      {
       "output_type": "stream",
       "stream": "stderr",
       "text": [
        "INFO:algorithms:Generated predictions\n"
       ]
      },
      {
       "output_type": "stream",
       "stream": "stderr",
       "text": [
        "INFO:algorithms:Training Accuracy score = 0.912831974757\n"
       ]
      },
      {
       "output_type": "stream",
       "stream": "stderr",
       "text": [
        "INFO:algorithms:Test Accuracy score = 0.790061393362\n"
       ]
      },
      {
       "output_type": "stream",
       "stream": "stderr",
       "text": [
        "INFO:algorithms:Training Weighted Accuracy score = 0.937782457328\n"
       ]
      },
      {
       "output_type": "stream",
       "stream": "stderr",
       "text": [
        "INFO:algorithms:Test Weighted Accuracy score = 0.817890175749\n"
       ]
      },
      {
       "output_type": "stream",
       "stream": "stderr",
       "text": [
        "INFO:algorithms:Created classifier with min_samples_split = 26 and max depth None\n"
       ]
      },
      {
       "output_type": "stream",
       "stream": "stderr",
       "text": [
        "INFO:algorithms:Trained decision tree classifier\n"
       ]
      },
      {
       "output_type": "stream",
       "stream": "stderr",
       "text": [
        "INFO:algorithms:Generated predictions\n"
       ]
      },
      {
       "output_type": "stream",
       "stream": "stderr",
       "text": [
        "INFO:algorithms:Training Accuracy score = 0.911122797791\n"
       ]
      },
      {
       "output_type": "stream",
       "stream": "stderr",
       "text": [
        "INFO:algorithms:Test Accuracy score = 0.78743660468\n"
       ]
      },
      {
       "output_type": "stream",
       "stream": "stderr",
       "text": [
        "INFO:algorithms:Training Weighted Accuracy score = 0.934317601217\n"
       ]
      },
      {
       "output_type": "stream",
       "stream": "stderr",
       "text": [
        "INFO:algorithms:Test Weighted Accuracy score = 0.833751543014\n"
       ]
      },
      {
       "output_type": "stream",
       "stream": "stderr",
       "text": [
        "INFO:algorithms:Created classifier with min_samples_split = 28 and max depth None\n"
       ]
      },
      {
       "output_type": "stream",
       "stream": "stderr",
       "text": [
        "INFO:algorithms:Trained decision tree classifier\n"
       ]
      },
      {
       "output_type": "stream",
       "stream": "stderr",
       "text": [
        "INFO:algorithms:Generated predictions\n"
       ]
      },
      {
       "output_type": "stream",
       "stream": "stderr",
       "text": [
        "INFO:algorithms:Training Accuracy score = 0.906784117802\n"
       ]
      },
      {
       "output_type": "stream",
       "stream": "stderr",
       "text": [
        "INFO:algorithms:Test Accuracy score = 0.791485007563\n"
       ]
      },
      {
       "output_type": "stream",
       "stream": "stderr",
       "text": [
        "INFO:algorithms:Training Weighted Accuracy score = 0.934715074111\n"
       ]
      },
      {
       "output_type": "stream",
       "stream": "stderr",
       "text": [
        "INFO:algorithms:Test Weighted Accuracy score = 0.833815341776\n"
       ]
      },
      {
       "output_type": "stream",
       "stream": "stderr",
       "text": [
        "INFO:algorithms:Created classifier with min_samples_split = 30 and max depth None\n"
       ]
      },
      {
       "output_type": "stream",
       "stream": "stderr",
       "text": [
        "INFO:algorithms:Trained decision tree classifier\n"
       ]
      },
      {
       "output_type": "stream",
       "stream": "stderr",
       "text": [
        "INFO:algorithms:Generated predictions\n"
       ]
      },
      {
       "output_type": "stream",
       "stream": "stderr",
       "text": [
        "INFO:algorithms:Training Accuracy score = 0.902839863266\n"
       ]
      },
      {
       "output_type": "stream",
       "stream": "stderr",
       "text": [
        "INFO:algorithms:Test Accuracy score = 0.792018862888\n"
       ]
      },
      {
       "output_type": "stream",
       "stream": "stderr",
       "text": [
        "INFO:algorithms:Training Weighted Accuracy score = 0.931282641909\n"
       ]
      },
      {
       "output_type": "stream",
       "stream": "stderr",
       "text": [
        "INFO:algorithms:Test Weighted Accuracy score = 0.844516320265\n"
       ]
      },
      {
       "output_type": "stream",
       "stream": "stderr",
       "text": [
        "INFO:algorithms:Created classifier with min_samples_split = 32 and max depth None\n"
       ]
      },
      {
       "output_type": "stream",
       "stream": "stderr",
       "text": [
        "INFO:algorithms:Trained decision tree classifier\n"
       ]
      },
      {
       "output_type": "stream",
       "stream": "stderr",
       "text": [
        "INFO:algorithms:Generated predictions\n"
       ]
      },
      {
       "output_type": "stream",
       "stream": "stderr",
       "text": [
        "INFO:algorithms:Training Accuracy score = 0.900517135595\n"
       ]
      },
      {
       "output_type": "stream",
       "stream": "stderr",
       "text": [
        "INFO:algorithms:Test Accuracy score = 0.786457869917\n"
       ]
      },
      {
       "output_type": "stream",
       "stream": "stderr",
       "text": [
        "INFO:algorithms:Training Weighted Accuracy score = 0.930368985803\n"
       ]
      },
      {
       "output_type": "stream",
       "stream": "stderr",
       "text": [
        "INFO:algorithms:Test Weighted Accuracy score = 0.830891011722\n"
       ]
      },
      {
       "output_type": "stream",
       "stream": "stderr",
       "text": [
        "INFO:algorithms:Created classifier with min_samples_split = 34 and max depth None\n"
       ]
      },
      {
       "output_type": "stream",
       "stream": "stderr",
       "text": [
        "INFO:algorithms:Trained decision tree classifier\n"
       ]
      },
      {
       "output_type": "stream",
       "stream": "stderr",
       "text": [
        "INFO:algorithms:Generated predictions\n"
       ]
      },
      {
       "output_type": "stream",
       "stream": "stderr",
       "text": [
        "INFO:algorithms:Training Accuracy score = 0.899881672364\n"
       ]
      },
      {
       "output_type": "stream",
       "stream": "stderr",
       "text": [
        "INFO:algorithms:Test Accuracy score = 0.793353501201\n"
       ]
      },
      {
       "output_type": "stream",
       "stream": "stderr",
       "text": [
        "INFO:algorithms:Training Weighted Accuracy score = 0.932589250787\n"
       ]
      },
      {
       "output_type": "stream",
       "stream": "stderr",
       "text": [
        "INFO:algorithms:Test Weighted Accuracy score = 0.841412030605\n"
       ]
      },
      {
       "output_type": "stream",
       "stream": "stderr",
       "text": [
        "INFO:algorithms:Created classifier with min_samples_split = 36 and max depth None\n"
       ]
      },
      {
       "output_type": "stream",
       "stream": "stderr",
       "text": [
        "INFO:algorithms:Trained decision tree classifier\n"
       ]
      },
      {
       "output_type": "stream",
       "stream": "stderr",
       "text": [
        "INFO:algorithms:Generated predictions\n"
       ]
      },
      {
       "output_type": "stream",
       "stream": "stderr",
       "text": [
        "INFO:algorithms:Training Accuracy score = 0.895674467526\n"
       ]
      },
      {
       "output_type": "stream",
       "stream": "stderr",
       "text": [
        "INFO:algorithms:Test Accuracy score = 0.796378681377\n"
       ]
      },
      {
       "output_type": "stream",
       "stream": "stderr",
       "text": [
        "INFO:algorithms:Training Weighted Accuracy score = 0.928806006508\n"
       ]
      },
      {
       "output_type": "stream",
       "stream": "stderr",
       "text": [
        "INFO:algorithms:Test Weighted Accuracy score = 0.837683784333\n"
       ]
      },
      {
       "output_type": "stream",
       "stream": "stderr",
       "text": [
        "INFO:algorithms:Created classifier with min_samples_split = 38 and max depth None\n"
       ]
      },
      {
       "output_type": "stream",
       "stream": "stderr",
       "text": [
        "INFO:algorithms:Trained decision tree classifier\n"
       ]
      },
      {
       "output_type": "stream",
       "stream": "stderr",
       "text": [
        "INFO:algorithms:Generated predictions\n"
       ]
      },
      {
       "output_type": "stream",
       "stream": "stderr",
       "text": [
        "INFO:algorithms:Training Accuracy score = 0.891883600666\n"
       ]
      },
      {
       "output_type": "stream",
       "stream": "stderr",
       "text": [
        "INFO:algorithms:Test Accuracy score = 0.796067265771\n"
       ]
      },
      {
       "output_type": "stream",
       "stream": "stderr",
       "text": [
        "INFO:algorithms:Training Weighted Accuracy score = 0.923356297333\n"
       ]
      },
      {
       "output_type": "stream",
       "stream": "stderr",
       "text": [
        "INFO:algorithms:Test Weighted Accuracy score = 0.833327268668\n"
       ]
      },
      {
       "output_type": "stream",
       "stream": "stderr",
       "text": [
        "INFO:algorithms:Created classifier with min_samples_split = 40 and max depth None\n"
       ]
      },
      {
       "output_type": "stream",
       "stream": "stderr",
       "text": [
        "INFO:algorithms:Trained decision tree classifier\n"
       ]
      },
      {
       "output_type": "stream",
       "stream": "stderr",
       "text": [
        "INFO:algorithms:Generated predictions\n"
       ]
      },
      {
       "output_type": "stream",
       "stream": "stderr",
       "text": [
        "INFO:algorithms:Training Accuracy score = 0.892913489351\n"
       ]
      },
      {
       "output_type": "stream",
       "stream": "stderr",
       "text": [
        "INFO:algorithms:Test Accuracy score = 0.796334193434\n"
       ]
      },
      {
       "output_type": "stream",
       "stream": "stderr",
       "text": [
        "INFO:algorithms:Training Weighted Accuracy score = 0.923244070181\n"
       ]
      },
      {
       "output_type": "stream",
       "stream": "stderr",
       "text": [
        "INFO:algorithms:Test Weighted Accuracy score = 0.842313549155\n"
       ]
      },
      {
       "output_type": "stream",
       "stream": "stderr",
       "text": [
        "INFO:algorithms:Created classifier with min_samples_split = 42 and max depth None\n"
       ]
      },
      {
       "output_type": "stream",
       "stream": "stderr",
       "text": [
        "INFO:algorithms:Trained decision tree classifier\n"
       ]
      },
      {
       "output_type": "stream",
       "stream": "stderr",
       "text": [
        "INFO:algorithms:Generated predictions\n"
       ]
      },
      {
       "output_type": "stream",
       "stream": "stderr",
       "text": [
        "INFO:algorithms:Training Accuracy score = 0.890656499255\n"
       ]
      },
      {
       "output_type": "stream",
       "stream": "stderr",
       "text": [
        "INFO:algorithms:Test Accuracy score = 0.798514102678\n"
       ]
      },
      {
       "output_type": "stream",
       "stream": "stderr",
       "text": [
        "INFO:algorithms:Training Weighted Accuracy score = 0.927539946887\n"
       ]
      },
      {
       "output_type": "stream",
       "stream": "stderr",
       "text": [
        "INFO:algorithms:Test Weighted Accuracy score = 0.851321990557\n"
       ]
      },
      {
       "output_type": "stream",
       "stream": "stderr",
       "text": [
        "INFO:algorithms:Created classifier with min_samples_split = 44 and max depth None\n"
       ]
      },
      {
       "output_type": "stream",
       "stream": "stderr",
       "text": [
        "INFO:algorithms:Trained decision tree classifier\n"
       ]
      },
      {
       "output_type": "stream",
       "stream": "stderr",
       "text": [
        "INFO:algorithms:Generated predictions\n"
       ]
      },
      {
       "output_type": "stream",
       "stream": "stderr",
       "text": [
        "INFO:algorithms:Training Accuracy score = 0.889363660268\n"
       ]
      },
      {
       "output_type": "stream",
       "stream": "stderr",
       "text": [
        "INFO:algorithms:Test Accuracy score = 0.800293620429\n"
       ]
      },
      {
       "output_type": "stream",
       "stream": "stderr",
       "text": [
        "INFO:algorithms:Training Weighted Accuracy score = 0.913338401082\n"
       ]
      },
      {
       "output_type": "stream",
       "stream": "stderr",
       "text": [
        "INFO:algorithms:Test Weighted Accuracy score = 0.827216386786\n"
       ]
      },
      {
       "output_type": "stream",
       "stream": "stderr",
       "text": [
        "INFO:algorithms:Created classifier with min_samples_split = 46 and max depth None\n"
       ]
      },
      {
       "output_type": "stream",
       "stream": "stderr",
       "text": [
        "INFO:algorithms:Trained decision tree classifier\n"
       ]
      },
      {
       "output_type": "stream",
       "stream": "stderr",
       "text": [
        "INFO:algorithms:Generated predictions\n"
       ]
      },
      {
       "output_type": "stream",
       "stream": "stderr",
       "text": [
        "INFO:algorithms:Training Accuracy score = 0.88684371987\n"
       ]
      },
      {
       "output_type": "stream",
       "stream": "stderr",
       "text": [
        "INFO:algorithms:Test Accuracy score = 0.801895186404\n"
       ]
      },
      {
       "output_type": "stream",
       "stream": "stderr",
       "text": [
        "INFO:algorithms:Training Weighted Accuracy score = 0.913254200282\n"
       ]
      },
      {
       "output_type": "stream",
       "stream": "stderr",
       "text": [
        "INFO:algorithms:Test Weighted Accuracy score = 0.831387521316\n"
       ]
      },
      {
       "output_type": "stream",
       "stream": "stderr",
       "text": [
        "INFO:algorithms:Created classifier with min_samples_split = 48 and max depth None\n"
       ]
      },
      {
       "output_type": "stream",
       "stream": "stderr",
       "text": [
        "INFO:algorithms:Trained decision tree classifier\n"
       ]
      },
      {
       "output_type": "stream",
       "stream": "stderr",
       "text": [
        "INFO:algorithms:Generated predictions\n"
       ]
      },
      {
       "output_type": "stream",
       "stream": "stderr",
       "text": [
        "INFO:algorithms:Training Accuracy score = 0.883885528968\n"
       ]
      },
      {
       "output_type": "stream",
       "stream": "stderr",
       "text": [
        "INFO:algorithms:Test Accuracy score = 0.801628258742\n"
       ]
      },
      {
       "output_type": "stream",
       "stream": "stderr",
       "text": [
        "INFO:algorithms:Training Weighted Accuracy score = 0.911951430105\n"
       ]
      },
      {
       "output_type": "stream",
       "stream": "stderr",
       "text": [
        "INFO:algorithms:Test Weighted Accuracy score = 0.842553043635\n"
       ]
      },
      {
       "output_type": "stream",
       "stream": "stderr",
       "text": [
        "INFO:algorithms:Created classifier with min_samples_split = 50 and max depth None\n"
       ]
      },
      {
       "output_type": "stream",
       "stream": "stderr",
       "text": [
        "INFO:algorithms:Trained decision tree classifier\n"
       ]
      },
      {
       "output_type": "stream",
       "stream": "stderr",
       "text": [
        "INFO:algorithms:Generated predictions\n"
       ]
      },
      {
       "output_type": "stream",
       "stream": "stderr",
       "text": [
        "INFO:algorithms:Training Accuracy score = 0.882877552809\n"
       ]
      },
      {
       "output_type": "stream",
       "stream": "stderr",
       "text": [
        "INFO:algorithms:Test Accuracy score = 0.803808167986\n"
       ]
      },
      {
       "output_type": "stream",
       "stream": "stderr",
       "text": [
        "INFO:algorithms:Training Weighted Accuracy score = 0.918686760205\n"
       ]
      },
      {
       "output_type": "stream",
       "stream": "stderr",
       "text": [
        "INFO:algorithms:Test Weighted Accuracy score = 0.859142936957\n"
       ]
      },
      {
       "output_type": "stream",
       "stream": "stderr",
       "text": [
        "INFO:algorithms:Created classifier with min_samples_split = 52 and max depth None\n"
       ]
      },
      {
       "output_type": "stream",
       "stream": "stderr",
       "text": [
        "INFO:algorithms:Trained decision tree classifier\n"
       ]
      },
      {
       "output_type": "stream",
       "stream": "stderr",
       "text": [
        "INFO:algorithms:Generated predictions\n"
       ]
      },
      {
       "output_type": "stream",
       "stream": "stderr",
       "text": [
        "INFO:algorithms:Training Accuracy score = 0.883118590586\n"
       ]
      },
      {
       "output_type": "stream",
       "stream": "stderr",
       "text": [
        "INFO:algorithms:Test Accuracy score = 0.797891271465\n"
       ]
      },
      {
       "output_type": "stream",
       "stream": "stderr",
       "text": [
        "INFO:algorithms:Training Weighted Accuracy score = 0.910505887227\n"
       ]
      },
      {
       "output_type": "stream",
       "stream": "stderr",
       "text": [
        "INFO:algorithms:Test Weighted Accuracy score = 0.834509821278\n"
       ]
      },
      {
       "output_type": "stream",
       "stream": "stderr",
       "text": [
        "INFO:algorithms:Created classifier with min_samples_split = 54 and max depth None\n"
       ]
      },
      {
       "output_type": "stream",
       "stream": "stderr",
       "text": [
        "INFO:algorithms:Trained decision tree classifier\n"
       ]
      },
      {
       "output_type": "stream",
       "stream": "stderr",
       "text": [
        "INFO:algorithms:Generated predictions\n"
       ]
      },
      {
       "output_type": "stream",
       "stream": "stderr",
       "text": [
        "INFO:algorithms:Training Accuracy score = 0.880905425541\n"
       ]
      },
      {
       "output_type": "stream",
       "stream": "stderr",
       "text": [
        "INFO:algorithms:Test Accuracy score = 0.802918409111\n"
       ]
      },
      {
       "output_type": "stream",
       "stream": "stderr",
       "text": [
        "INFO:algorithms:Training Weighted Accuracy score = 0.9133455831\n"
       ]
      },
      {
       "output_type": "stream",
       "stream": "stderr",
       "text": [
        "INFO:algorithms:Test Weighted Accuracy score = 0.855972599577\n"
       ]
      },
      {
       "output_type": "stream",
       "stream": "stderr",
       "text": [
        "INFO:algorithms:Created classifier with min_samples_split = 56 and max depth None\n"
       ]
      },
      {
       "output_type": "stream",
       "stream": "stderr",
       "text": [
        "INFO:algorithms:Trained decision tree classifier\n"
       ]
      },
      {
       "output_type": "stream",
       "stream": "stderr",
       "text": [
        "INFO:algorithms:Generated predictions\n"
       ]
      },
      {
       "output_type": "stream",
       "stream": "stderr",
       "text": [
        "INFO:algorithms:Training Accuracy score = 0.878363572618\n"
       ]
      },
      {
       "output_type": "stream",
       "stream": "stderr",
       "text": [
        "INFO:algorithms:Test Accuracy score = 0.802028650236\n"
       ]
      },
      {
       "output_type": "stream",
       "stream": "stderr",
       "text": [
        "INFO:algorithms:Training Weighted Accuracy score = 0.907479758202\n"
       ]
      },
      {
       "output_type": "stream",
       "stream": "stderr",
       "text": [
        "INFO:algorithms:Test Weighted Accuracy score = 0.838720531847\n"
       ]
      },
      {
       "output_type": "stream",
       "stream": "stderr",
       "text": [
        "INFO:algorithms:Created classifier with min_samples_split = 58 and max depth None\n"
       ]
      },
      {
       "output_type": "stream",
       "stream": "stderr",
       "text": [
        "INFO:algorithms:Trained decision tree classifier\n"
       ]
      },
      {
       "output_type": "stream",
       "stream": "stderr",
       "text": [
        "INFO:algorithms:Generated predictions\n"
       ]
      },
      {
       "output_type": "stream",
       "stream": "stderr",
       "text": [
        "INFO:algorithms:Training Accuracy score = 0.877925322114\n"
       ]
      },
      {
       "output_type": "stream",
       "stream": "stderr",
       "text": [
        "INFO:algorithms:Test Accuracy score = 0.799581813329\n"
       ]
      },
      {
       "output_type": "stream",
       "stream": "stderr",
       "text": [
        "INFO:algorithms:Training Weighted Accuracy score = 0.908045639753\n"
       ]
      },
      {
       "output_type": "stream",
       "stream": "stderr",
       "text": [
        "INFO:algorithms:Test Weighted Accuracy score = 0.844350445076\n"
       ]
      },
      {
       "output_type": "stream",
       "stream": "stderr",
       "text": [
        "INFO:algorithms:Created classifier with min_samples_split = 60 and max depth None\n"
       ]
      },
      {
       "output_type": "stream",
       "stream": "stderr",
       "text": [
        "INFO:algorithms:Trained decision tree classifier\n"
       ]
      },
      {
       "output_type": "stream",
       "stream": "stderr",
       "text": [
        "INFO:algorithms:Generated predictions\n"
       ]
      },
      {
       "output_type": "stream",
       "stream": "stderr",
       "text": [
        "INFO:algorithms:Training Accuracy score = 0.878100622316\n"
       ]
      },
      {
       "output_type": "stream",
       "stream": "stderr",
       "text": [
        "INFO:algorithms:Test Accuracy score = 0.803229824718\n"
       ]
      },
      {
       "output_type": "stream",
       "stream": "stderr",
       "text": [
        "INFO:algorithms:Training Weighted Accuracy score = 0.902595235803\n"
       ]
      },
      {
       "output_type": "stream",
       "stream": "stderr",
       "text": [
        "INFO:algorithms:Test Weighted Accuracy score = 0.848994645762\n"
       ]
      },
      {
       "output_type": "stream",
       "stream": "stderr",
       "text": [
        "INFO:algorithms:Created classifier with min_samples_split = 62 and max depth None\n"
       ]
      },
      {
       "output_type": "stream",
       "stream": "stderr",
       "text": [
        "INFO:algorithms:Trained decision tree classifier\n"
       ]
      },
      {
       "output_type": "stream",
       "stream": "stderr",
       "text": [
        "INFO:algorithms:Generated predictions\n"
       ]
      },
      {
       "output_type": "stream",
       "stream": "stderr",
       "text": [
        "INFO:algorithms:Training Accuracy score = 0.877224121308\n"
       ]
      },
      {
       "output_type": "stream",
       "stream": "stderr",
       "text": [
        "INFO:algorithms:Test Accuracy score = 0.800293620429\n"
       ]
      },
      {
       "output_type": "stream",
       "stream": "stderr",
       "text": [
        "INFO:algorithms:Training Weighted Accuracy score = 0.906595984529\n"
       ]
      },
      {
       "output_type": "stream",
       "stream": "stderr",
       "text": [
        "INFO:algorithms:Test Weighted Accuracy score = 0.836883390237\n"
       ]
      },
      {
       "output_type": "stream",
       "stream": "stderr",
       "text": [
        "INFO:algorithms:Created classifier with min_samples_split = 64 and max depth None\n"
       ]
      },
      {
       "output_type": "stream",
       "stream": "stderr",
       "text": [
        "INFO:algorithms:Trained decision tree classifier\n"
       ]
      },
      {
       "output_type": "stream",
       "stream": "stderr",
       "text": [
        "INFO:algorithms:Generated predictions\n"
       ]
      },
      {
       "output_type": "stream",
       "stream": "stderr",
       "text": [
        "INFO:algorithms:Training Accuracy score = 0.874528880708\n"
       ]
      },
      {
       "output_type": "stream",
       "stream": "stderr",
       "text": [
        "INFO:algorithms:Test Accuracy score = 0.804519975087\n"
       ]
      },
      {
       "output_type": "stream",
       "stream": "stderr",
       "text": [
        "INFO:algorithms:Training Weighted Accuracy score = 0.912056437339\n"
       ]
      },
      {
       "output_type": "stream",
       "stream": "stderr",
       "text": [
        "INFO:algorithms:Test Weighted Accuracy score = 0.846745001952\n"
       ]
      },
      {
       "output_type": "stream",
       "stream": "stderr",
       "text": [
        "INFO:algorithms:Created classifier with min_samples_split = 66 and max depth None\n"
       ]
      },
      {
       "output_type": "stream",
       "stream": "stderr",
       "text": [
        "INFO:algorithms:Trained decision tree classifier\n"
       ]
      },
      {
       "output_type": "stream",
       "stream": "stderr",
       "text": [
        "INFO:algorithms:Generated predictions\n"
       ]
      },
      {
       "output_type": "stream",
       "stream": "stderr",
       "text": [
        "INFO:algorithms:Training Accuracy score = 0.874857568586\n"
       ]
      },
      {
       "output_type": "stream",
       "stream": "stderr",
       "text": [
        "INFO:algorithms:Test Accuracy score = 0.807367203488\n"
       ]
      },
      {
       "output_type": "stream",
       "stream": "stderr",
       "text": [
        "INFO:algorithms:Training Weighted Accuracy score = 0.913156930121\n"
       ]
      },
      {
       "output_type": "stream",
       "stream": "stderr",
       "text": [
        "INFO:algorithms:Test Weighted Accuracy score = 0.85345342685\n"
       ]
      },
      {
       "output_type": "stream",
       "stream": "stderr",
       "text": [
        "INFO:algorithms:Created classifier with min_samples_split = 68 and max depth None\n"
       ]
      },
      {
       "output_type": "stream",
       "stream": "stderr",
       "text": [
        "INFO:algorithms:Trained decision tree classifier\n"
       ]
      },
      {
       "output_type": "stream",
       "stream": "stderr",
       "text": [
        "INFO:algorithms:Generated predictions\n"
       ]
      },
      {
       "output_type": "stream",
       "stream": "stderr",
       "text": [
        "INFO:algorithms:Training Accuracy score = 0.872315715663\n"
       ]
      },
      {
       "output_type": "stream",
       "stream": "stderr",
       "text": [
        "INFO:algorithms:Test Accuracy score = 0.805231782187\n"
       ]
      },
      {
       "output_type": "stream",
       "stream": "stderr",
       "text": [
        "INFO:algorithms:Training Weighted Accuracy score = 0.905429622159\n"
       ]
      },
      {
       "output_type": "stream",
       "stream": "stderr",
       "text": [
        "INFO:algorithms:Test Weighted Accuracy score = 0.848690047556\n"
       ]
      },
      {
       "output_type": "stream",
       "stream": "stderr",
       "text": [
        "INFO:algorithms:Created classifier with min_samples_split = 70 and max depth None\n"
       ]
      },
      {
       "output_type": "stream",
       "stream": "stderr",
       "text": [
        "INFO:algorithms:Trained decision tree classifier\n"
       ]
      },
      {
       "output_type": "stream",
       "stream": "stderr",
       "text": [
        "INFO:algorithms:Generated predictions\n"
       ]
      },
      {
       "output_type": "stream",
       "stream": "stderr",
       "text": [
        "INFO:algorithms:Training Accuracy score = 0.871373477079\n"
       ]
      },
      {
       "output_type": "stream",
       "stream": "stderr",
       "text": [
        "INFO:algorithms:Test Accuracy score = 0.808167986476\n"
       ]
      },
      {
       "output_type": "stream",
       "stream": "stderr",
       "text": [
        "INFO:algorithms:Training Weighted Accuracy score = 0.902197627828\n"
       ]
      },
      {
       "output_type": "stream",
       "stream": "stderr",
       "text": [
        "INFO:algorithms:Test Weighted Accuracy score = 0.850933169518\n"
       ]
      },
      {
       "output_type": "stream",
       "stream": "stderr",
       "text": [
        "INFO:algorithms:Created classifier with min_samples_split = 72 and max depth None\n"
       ]
      },
      {
       "output_type": "stream",
       "stream": "stderr",
       "text": [
        "INFO:algorithms:Trained decision tree classifier\n"
       ]
      },
      {
       "output_type": "stream",
       "stream": "stderr",
       "text": [
        "INFO:algorithms:Generated predictions\n"
       ]
      },
      {
       "output_type": "stream",
       "stream": "stderr",
       "text": [
        "INFO:algorithms:Training Accuracy score = 0.870891401525\n"
       ]
      },
      {
       "output_type": "stream",
       "stream": "stderr",
       "text": [
        "INFO:algorithms:Test Accuracy score = 0.809013257407\n"
       ]
      },
      {
       "output_type": "stream",
       "stream": "stderr",
       "text": [
        "INFO:algorithms:Training Weighted Accuracy score = 0.906890021759\n"
       ]
      },
      {
       "output_type": "stream",
       "stream": "stderr",
       "text": [
        "INFO:algorithms:Test Weighted Accuracy score = 0.849644719473\n"
       ]
      },
      {
       "output_type": "stream",
       "stream": "stderr",
       "text": [
        "INFO:algorithms:Created classifier with min_samples_split = 74 and max depth None\n"
       ]
      },
      {
       "output_type": "stream",
       "stream": "stderr",
       "text": [
        "INFO:algorithms:Trained decision tree classifier\n"
       ]
      },
      {
       "output_type": "stream",
       "stream": "stderr",
       "text": [
        "INFO:algorithms:Generated predictions\n"
       ]
      },
      {
       "output_type": "stream",
       "stream": "stderr",
       "text": [
        "INFO:algorithms:Training Accuracy score = 0.869423262337\n"
       ]
      },
      {
       "output_type": "stream",
       "stream": "stderr",
       "text": [
        "INFO:algorithms:Test Accuracy score = 0.806610908444\n"
       ]
      },
      {
       "output_type": "stream",
       "stream": "stderr",
       "text": [
        "INFO:algorithms:Training Weighted Accuracy score = 0.90084674064\n"
       ]
      },
      {
       "output_type": "stream",
       "stream": "stderr",
       "text": [
        "INFO:algorithms:Test Weighted Accuracy score = 0.835663020413\n"
       ]
      },
      {
       "output_type": "stream",
       "stream": "stderr",
       "text": [
        "INFO:algorithms:Created classifier with min_samples_split = 76 and max depth None\n"
       ]
      },
      {
       "output_type": "stream",
       "stream": "stderr",
       "text": [
        "INFO:algorithms:Trained decision tree classifier\n"
       ]
      },
      {
       "output_type": "stream",
       "stream": "stderr",
       "text": [
        "INFO:algorithms:Generated predictions\n"
       ]
      },
      {
       "output_type": "stream",
       "stream": "stderr",
       "text": [
        "INFO:algorithms:Training Accuracy score = 0.869642387589\n"
       ]
      },
      {
       "output_type": "stream",
       "stream": "stderr",
       "text": [
        "INFO:algorithms:Test Accuracy score = 0.808345938251\n"
       ]
      },
      {
       "output_type": "stream",
       "stream": "stderr",
       "text": [
        "INFO:algorithms:Training Weighted Accuracy score = 0.904970358984\n"
       ]
      },
      {
       "output_type": "stream",
       "stream": "stderr",
       "text": [
        "INFO:algorithms:Test Weighted Accuracy score = 0.861269948706\n"
       ]
      },
      {
       "output_type": "stream",
       "stream": "stderr",
       "text": [
        "INFO:algorithms:Created classifier with min_samples_split = 78 and max depth None\n"
       ]
      },
      {
       "output_type": "stream",
       "stream": "stderr",
       "text": [
        "INFO:algorithms:Trained decision tree classifier\n"
       ]
      },
      {
       "output_type": "stream",
       "stream": "stderr",
       "text": [
        "INFO:algorithms:Generated predictions\n"
       ]
      },
      {
       "output_type": "stream",
       "stream": "stderr",
       "text": [
        "INFO:algorithms:Training Accuracy score = 0.866377421334\n"
       ]
      },
      {
       "output_type": "stream",
       "stream": "stderr",
       "text": [
        "INFO:algorithms:Test Accuracy score = 0.809903016283\n"
       ]
      },
      {
       "output_type": "stream",
       "stream": "stderr",
       "text": [
        "INFO:algorithms:Training Weighted Accuracy score = 0.900640259505\n"
       ]
      },
      {
       "output_type": "stream",
       "stream": "stderr",
       "text": [
        "INFO:algorithms:Test Weighted Accuracy score = 0.856805038758\n"
       ]
      },
      {
       "output_type": "stream",
       "stream": "stderr",
       "text": [
        "INFO:algorithms:Created classifier with min_samples_split = 80 and max depth None\n"
       ]
      },
      {
       "output_type": "stream",
       "stream": "stderr",
       "text": [
        "INFO:algorithms:Trained decision tree classifier\n"
       ]
      },
      {
       "output_type": "stream",
       "stream": "stderr",
       "text": [
        "INFO:algorithms:Generated predictions\n"
       ]
      },
      {
       "output_type": "stream",
       "stream": "stderr",
       "text": [
        "INFO:algorithms:Training Accuracy score = 0.866114471032\n"
       ]
      },
      {
       "output_type": "stream",
       "stream": "stderr",
       "text": [
        "INFO:algorithms:Test Accuracy score = 0.810614823383\n"
       ]
      },
      {
       "output_type": "stream",
       "stream": "stderr",
       "text": [
        "INFO:algorithms:Training Weighted Accuracy score = 0.900675937257\n"
       ]
      },
      {
       "output_type": "stream",
       "stream": "stderr",
       "text": [
        "INFO:algorithms:Test Weighted Accuracy score = 0.854980733888\n"
       ]
      },
      {
       "output_type": "stream",
       "stream": "stderr",
       "text": [
        "INFO:algorithms:Created classifier with min_samples_split = 82 and max depth None\n"
       ]
      },
      {
       "output_type": "stream",
       "stream": "stderr",
       "text": [
        "INFO:algorithms:Trained decision tree classifier\n"
       ]
      },
      {
       "output_type": "stream",
       "stream": "stderr",
       "text": [
        "INFO:algorithms:Generated predictions\n"
       ]
      },
      {
       "output_type": "stream",
       "stream": "stderr",
       "text": [
        "INFO:algorithms:Training Accuracy score = 0.868371461127\n"
       ]
      },
      {
       "output_type": "stream",
       "stream": "stderr",
       "text": [
        "INFO:algorithms:Test Accuracy score = 0.811282142539\n"
       ]
      },
      {
       "output_type": "stream",
       "stream": "stderr",
       "text": [
        "INFO:algorithms:Training Weighted Accuracy score = 0.906611278595\n"
       ]
      },
      {
       "output_type": "stream",
       "stream": "stderr",
       "text": [
        "INFO:algorithms:Test Weighted Accuracy score = 0.853066470742\n"
       ]
      },
      {
       "output_type": "stream",
       "stream": "stderr",
       "text": [
        "INFO:algorithms:Created classifier with min_samples_split = 84 and max depth None\n"
       ]
      },
      {
       "output_type": "stream",
       "stream": "stderr",
       "text": [
        "INFO:algorithms:Trained decision tree classifier\n"
       ]
      },
      {
       "output_type": "stream",
       "stream": "stderr",
       "text": [
        "INFO:algorithms:Generated predictions\n"
       ]
      },
      {
       "output_type": "stream",
       "stream": "stderr",
       "text": [
        "INFO:algorithms:Training Accuracy score = 0.867210097292\n"
       ]
      },
      {
       "output_type": "stream",
       "stream": "stderr",
       "text": [
        "INFO:algorithms:Test Accuracy score = 0.808301450307\n"
       ]
      },
      {
       "output_type": "stream",
       "stream": "stderr",
       "text": [
        "INFO:algorithms:Training Weighted Accuracy score = 0.902794717536\n"
       ]
      },
      {
       "output_type": "stream",
       "stream": "stderr",
       "text": [
        "INFO:algorithms:Test Weighted Accuracy score = 0.845618345651\n"
       ]
      },
      {
       "output_type": "stream",
       "stream": "stderr",
       "text": [
        "INFO:algorithms:Created classifier with min_samples_split = 86 and max depth None\n"
       ]
      },
      {
       "output_type": "stream",
       "stream": "stderr",
       "text": [
        "INFO:algorithms:Trained decision tree classifier\n"
       ]
      },
      {
       "output_type": "stream",
       "stream": "stderr",
       "text": [
        "INFO:algorithms:Generated predictions\n"
       ]
      },
      {
       "output_type": "stream",
       "stream": "stderr",
       "text": [
        "INFO:algorithms:Training Accuracy score = 0.86543518275\n"
       ]
      },
      {
       "output_type": "stream",
       "stream": "stderr",
       "text": [
        "INFO:algorithms:Test Accuracy score = 0.810926238989\n"
       ]
      },
      {
       "output_type": "stream",
       "stream": "stderr",
       "text": [
        "INFO:algorithms:Training Weighted Accuracy score = 0.908937836444\n"
       ]
      },
      {
       "output_type": "stream",
       "stream": "stderr",
       "text": [
        "INFO:algorithms:Test Weighted Accuracy score = 0.86283444608\n"
       ]
      },
      {
       "output_type": "stream",
       "stream": "stderr",
       "text": [
        "INFO:algorithms:Created classifier with min_samples_split = 88 and max depth None\n"
       ]
      },
      {
       "output_type": "stream",
       "stream": "stderr",
       "text": [
        "INFO:algorithms:Trained decision tree classifier\n"
       ]
      },
      {
       "output_type": "stream",
       "stream": "stderr",
       "text": [
        "INFO:algorithms:Generated predictions\n"
       ]
      },
      {
       "output_type": "stream",
       "stream": "stderr",
       "text": [
        "INFO:algorithms:Training Accuracy score = 0.864405294066\n"
       ]
      },
      {
       "output_type": "stream",
       "stream": "stderr",
       "text": [
        "INFO:algorithms:Test Accuracy score = 0.811815997865\n"
       ]
      },
      {
       "output_type": "stream",
       "stream": "stderr",
       "text": [
        "INFO:algorithms:Training Weighted Accuracy score = 0.910754156568\n"
       ]
      },
      {
       "output_type": "stream",
       "stream": "stderr",
       "text": [
        "INFO:algorithms:Test Weighted Accuracy score = 0.859747846868\n"
       ]
      },
      {
       "output_type": "stream",
       "stream": "stderr",
       "text": [
        "INFO:algorithms:Created classifier with min_samples_split = 90 and max depth None\n"
       ]
      },
      {
       "output_type": "stream",
       "stream": "stderr",
       "text": [
        "INFO:algorithms:Trained decision tree classifier\n"
       ]
      },
      {
       "output_type": "stream",
       "stream": "stderr",
       "text": [
        "INFO:algorithms:Generated predictions\n"
       ]
      },
      {
       "output_type": "stream",
       "stream": "stderr",
       "text": [
        "INFO:algorithms:Training Accuracy score = 0.86488736962\n"
       ]
      },
      {
       "output_type": "stream",
       "stream": "stderr",
       "text": [
        "INFO:algorithms:Test Accuracy score = 0.809903016283\n"
       ]
      },
      {
       "output_type": "stream",
       "stream": "stderr",
       "text": [
        "INFO:algorithms:Training Weighted Accuracy score = 0.90303212999\n"
       ]
      },
      {
       "output_type": "stream",
       "stream": "stderr",
       "text": [
        "INFO:algorithms:Test Weighted Accuracy score = 0.851268779565\n"
       ]
      },
      {
       "output_type": "stream",
       "stream": "stderr",
       "text": [
        "INFO:algorithms:Created classifier with min_samples_split = 92 and max depth None\n"
       ]
      },
      {
       "output_type": "stream",
       "stream": "stderr",
       "text": [
        "INFO:algorithms:Trained decision tree classifier\n"
       ]
      },
      {
       "output_type": "stream",
       "stream": "stderr",
       "text": [
        "INFO:algorithms:Generated predictions\n"
       ]
      },
      {
       "output_type": "stream",
       "stream": "stderr",
       "text": [
        "INFO:algorithms:Training Accuracy score = 0.863178192655\n"
       ]
      },
      {
       "output_type": "stream",
       "stream": "stderr",
       "text": [
        "INFO:algorithms:Test Accuracy score = 0.811949461696\n"
       ]
      },
      {
       "output_type": "stream",
       "stream": "stderr",
       "text": [
        "INFO:algorithms:Training Weighted Accuracy score = 0.897388742551\n"
       ]
      },
      {
       "output_type": "stream",
       "stream": "stderr",
       "text": [
        "INFO:algorithms:Test Weighted Accuracy score = 0.857248170813\n"
       ]
      },
      {
       "output_type": "stream",
       "stream": "stderr",
       "text": [
        "INFO:algorithms:Created classifier with min_samples_split = 94 and max depth None\n"
       ]
      },
      {
       "output_type": "stream",
       "stream": "stderr",
       "text": [
        "INFO:algorithms:Trained decision tree classifier\n"
       ]
      },
      {
       "output_type": "stream",
       "stream": "stderr",
       "text": [
        "INFO:algorithms:Generated predictions\n"
       ]
      },
      {
       "output_type": "stream",
       "stream": "stderr",
       "text": [
        "INFO:algorithms:Training Accuracy score = 0.86425190639\n"
       ]
      },
      {
       "output_type": "stream",
       "stream": "stderr",
       "text": [
        "INFO:algorithms:Test Accuracy score = 0.809413648901\n"
       ]
      },
      {
       "output_type": "stream",
       "stream": "stderr",
       "text": [
        "INFO:algorithms:Training Weighted Accuracy score = 0.89472230401\n"
       ]
      },
      {
       "output_type": "stream",
       "stream": "stderr",
       "text": [
        "INFO:algorithms:Test Weighted Accuracy score = 0.839755061309\n"
       ]
      },
      {
       "output_type": "stream",
       "stream": "stderr",
       "text": [
        "INFO:algorithms:Created classifier with min_samples_split = 96 and max depth None\n"
       ]
      },
      {
       "output_type": "stream",
       "stream": "stderr",
       "text": [
        "INFO:algorithms:Trained decision tree classifier\n"
       ]
      },
      {
       "output_type": "stream",
       "stream": "stderr",
       "text": [
        "INFO:algorithms:Generated predictions\n"
       ]
      },
      {
       "output_type": "stream",
       "stream": "stderr",
       "text": [
        "INFO:algorithms:Training Accuracy score = 0.862301691647\n"
       ]
      },
      {
       "output_type": "stream",
       "stream": "stderr",
       "text": [
        "INFO:algorithms:Test Accuracy score = 0.808390426195\n"
       ]
      },
      {
       "output_type": "stream",
       "stream": "stderr",
       "text": [
        "INFO:algorithms:Training Weighted Accuracy score = 0.906852525817\n"
       ]
      },
      {
       "output_type": "stream",
       "stream": "stderr",
       "text": [
        "INFO:algorithms:Test Weighted Accuracy score = 0.851508553023\n"
       ]
      },
      {
       "output_type": "stream",
       "stream": "stderr",
       "text": [
        "INFO:algorithms:Created classifier with min_samples_split = 98 and max depth None\n"
       ]
      },
      {
       "output_type": "stream",
       "stream": "stderr",
       "text": [
        "INFO:algorithms:Trained decision tree classifier\n"
       ]
      },
      {
       "output_type": "stream",
       "stream": "stderr",
       "text": [
        "INFO:algorithms:Generated predictions\n"
       ]
      },
      {
       "output_type": "stream",
       "stream": "stderr",
       "text": [
        "INFO:algorithms:Training Accuracy score = 0.862959067403\n"
       ]
      },
      {
       "output_type": "stream",
       "stream": "stderr",
       "text": [
        "INFO:algorithms:Test Accuracy score = 0.809413648901\n"
       ]
      },
      {
       "output_type": "stream",
       "stream": "stderr",
       "text": [
        "INFO:algorithms:Training Weighted Accuracy score = 0.901241177072\n"
       ]
      },
      {
       "output_type": "stream",
       "stream": "stderr",
       "text": [
        "INFO:algorithms:Test Weighted Accuracy score = 0.85116583476\n"
       ]
      },
      {
       "output_type": "stream",
       "stream": "stderr",
       "text": [
        "INFO:algorithms:Created classifier with min_samples_split = 100 and max depth None\n"
       ]
      },
      {
       "output_type": "stream",
       "stream": "stderr",
       "text": [
        "INFO:algorithms:Trained decision tree classifier\n"
       ]
      },
      {
       "output_type": "stream",
       "stream": "stderr",
       "text": [
        "INFO:algorithms:Generated predictions\n"
       ]
      },
      {
       "output_type": "stream",
       "stream": "stderr",
       "text": [
        "INFO:algorithms:Training Accuracy score = 0.862520816899\n"
       ]
      },
      {
       "output_type": "stream",
       "stream": "stderr",
       "text": [
        "INFO:algorithms:Test Accuracy score = 0.809680576564\n"
       ]
      },
      {
       "output_type": "stream",
       "stream": "stderr",
       "text": [
        "INFO:algorithms:Training Weighted Accuracy score = 0.898746233009\n"
       ]
      },
      {
       "output_type": "stream",
       "stream": "stderr",
       "text": [
        "INFO:algorithms:Test Weighted Accuracy score = 0.850352217027\n"
       ]
      },
      {
       "output_type": "stream",
       "stream": "stderr",
       "text": [
        "INFO:algorithms:Created classifier with min_samples_split = 102 and max depth None\n"
       ]
      },
      {
       "output_type": "stream",
       "stream": "stderr",
       "text": [
        "INFO:algorithms:Trained decision tree classifier\n"
       ]
      },
      {
       "output_type": "stream",
       "stream": "stderr",
       "text": [
        "INFO:algorithms:Generated predictions\n"
       ]
      },
      {
       "output_type": "stream",
       "stream": "stderr",
       "text": [
        "INFO:algorithms:Training Accuracy score = 0.859496888421\n"
       ]
      },
      {
       "output_type": "stream",
       "stream": "stderr",
       "text": [
        "INFO:algorithms:Test Accuracy score = 0.812216389358\n"
       ]
      },
      {
       "output_type": "stream",
       "stream": "stderr",
       "text": [
        "INFO:algorithms:Training Weighted Accuracy score = 0.892180657571\n"
       ]
      },
      {
       "output_type": "stream",
       "stream": "stderr",
       "text": [
        "INFO:algorithms:Test Weighted Accuracy score = 0.853485842398\n"
       ]
      },
      {
       "output_type": "stream",
       "stream": "stderr",
       "text": [
        "INFO:algorithms:Created classifier with min_samples_split = 104 and max depth None\n"
       ]
      },
      {
       "output_type": "stream",
       "stream": "stderr",
       "text": [
        "INFO:algorithms:Trained decision tree classifier\n"
       ]
      },
      {
       "output_type": "stream",
       "stream": "stderr",
       "text": [
        "INFO:algorithms:Generated predictions\n"
       ]
      },
      {
       "output_type": "stream",
       "stream": "stderr",
       "text": [
        "INFO:algorithms:Training Accuracy score = 0.860680164782\n"
       ]
      },
      {
       "output_type": "stream",
       "stream": "stderr",
       "text": [
        "INFO:algorithms:Test Accuracy score = 0.810881751045\n"
       ]
      },
      {
       "output_type": "stream",
       "stream": "stderr",
       "text": [
        "INFO:algorithms:Training Weighted Accuracy score = 0.894060600001\n"
       ]
      },
      {
       "output_type": "stream",
       "stream": "stderr",
       "text": [
        "INFO:algorithms:Test Weighted Accuracy score = 0.852269009118\n"
       ]
      },
      {
       "output_type": "stream",
       "stream": "stderr",
       "text": [
        "INFO:algorithms:Created classifier with min_samples_split = 106 and max depth None\n"
       ]
      },
      {
       "output_type": "stream",
       "stream": "stderr",
       "text": [
        "INFO:algorithms:Trained decision tree classifier\n"
       ]
      },
      {
       "output_type": "stream",
       "stream": "stderr",
       "text": [
        "INFO:algorithms:Generated predictions\n"
       ]
      },
      {
       "output_type": "stream",
       "stream": "stderr",
       "text": [
        "INFO:algorithms:Training Accuracy score = 0.861184152862\n"
       ]
      },
      {
       "output_type": "stream",
       "stream": "stderr",
       "text": [
        "INFO:algorithms:Test Accuracy score = 0.813995907109\n"
       ]
      },
      {
       "output_type": "stream",
       "stream": "stderr",
       "text": [
        "INFO:algorithms:Training Weighted Accuracy score = 0.894285402469\n"
       ]
      },
      {
       "output_type": "stream",
       "stream": "stderr",
       "text": [
        "INFO:algorithms:Test Weighted Accuracy score = 0.860452153127\n"
       ]
      },
      {
       "output_type": "stream",
       "stream": "stderr",
       "text": [
        "INFO:algorithms:Created classifier with min_samples_split = 108 and max depth None\n"
       ]
      },
      {
       "output_type": "stream",
       "stream": "stderr",
       "text": [
        "INFO:algorithms:Trained decision tree classifier\n"
       ]
      },
      {
       "output_type": "stream",
       "stream": "stderr",
       "text": [
        "INFO:algorithms:Generated predictions\n"
       ]
      },
      {
       "output_type": "stream",
       "stream": "stderr",
       "text": [
        "INFO:algorithms:Training Accuracy score = 0.860614427207\n"
       ]
      },
      {
       "output_type": "stream",
       "stream": "stderr",
       "text": [
        "INFO:algorithms:Test Accuracy score = 0.813640003559\n"
       ]
      },
      {
       "output_type": "stream",
       "stream": "stderr",
       "text": [
        "INFO:algorithms:Training Weighted Accuracy score = 0.899148885096\n"
       ]
      },
      {
       "output_type": "stream",
       "stream": "stderr",
       "text": [
        "INFO:algorithms:Test Weighted Accuracy score = 0.863917487098\n"
       ]
      },
      {
       "output_type": "stream",
       "stream": "stderr",
       "text": [
        "INFO:algorithms:Created classifier with min_samples_split = 110 and max depth None\n"
       ]
      },
      {
       "output_type": "stream",
       "stream": "stderr",
       "text": [
        "INFO:algorithms:Trained decision tree classifier\n"
       ]
      },
      {
       "output_type": "stream",
       "stream": "stderr",
       "text": [
        "INFO:algorithms:Generated predictions\n"
       ]
      },
      {
       "output_type": "stream",
       "stream": "stderr",
       "text": [
        "INFO:algorithms:Training Accuracy score = 0.857393286002\n"
       ]
      },
      {
       "output_type": "stream",
       "stream": "stderr",
       "text": [
        "INFO:algorithms:Test Accuracy score = 0.810792775158\n"
       ]
      },
      {
       "output_type": "stream",
       "stream": "stderr",
       "text": [
        "INFO:algorithms:Training Weighted Accuracy score = 0.893105326191\n"
       ]
      },
      {
       "output_type": "stream",
       "stream": "stderr",
       "text": [
        "INFO:algorithms:Test Weighted Accuracy score = 0.855305458222\n"
       ]
      },
      {
       "output_type": "stream",
       "stream": "stderr",
       "text": [
        "INFO:algorithms:Created classifier with min_samples_split = 112 and max depth None\n"
       ]
      },
      {
       "output_type": "stream",
       "stream": "stderr",
       "text": [
        "INFO:algorithms:Trained decision tree classifier\n"
       ]
      },
      {
       "output_type": "stream",
       "stream": "stderr",
       "text": [
        "INFO:algorithms:Generated predictions\n"
       ]
      },
      {
       "output_type": "stream",
       "stream": "stderr",
       "text": [
        "INFO:algorithms:Training Accuracy score = 0.856319572268\n"
       ]
      },
      {
       "output_type": "stream",
       "stream": "stderr",
       "text": [
        "INFO:algorithms:Test Accuracy score = 0.813328587953\n"
       ]
      },
      {
       "output_type": "stream",
       "stream": "stderr",
       "text": [
        "INFO:algorithms:Training Weighted Accuracy score = 0.887217872456\n"
       ]
      },
      {
       "output_type": "stream",
       "stream": "stderr",
       "text": [
        "INFO:algorithms:Test Weighted Accuracy score = 0.84572979102\n"
       ]
      },
      {
       "output_type": "stream",
       "stream": "stderr",
       "text": [
        "INFO:algorithms:Created classifier with min_samples_split = 114 and max depth None\n"
       ]
      },
      {
       "output_type": "stream",
       "stream": "stderr",
       "text": [
        "INFO:algorithms:Trained decision tree classifier\n"
       ]
      },
      {
       "output_type": "stream",
       "stream": "stderr",
       "text": [
        "INFO:algorithms:Generated predictions\n"
       ]
      },
      {
       "output_type": "stream",
       "stream": "stderr",
       "text": [
        "INFO:algorithms:Training Accuracy score = 0.856779735297\n"
       ]
      },
      {
       "output_type": "stream",
       "stream": "stderr",
       "text": [
        "INFO:algorithms:Test Accuracy score = 0.811504582258\n"
       ]
      },
      {
       "output_type": "stream",
       "stream": "stderr",
       "text": [
        "INFO:algorithms:Training Weighted Accuracy score = 0.903986373124\n"
       ]
      },
      {
       "output_type": "stream",
       "stream": "stderr",
       "text": [
        "INFO:algorithms:Test Weighted Accuracy score = 0.868545722321\n"
       ]
      },
      {
       "output_type": "stream",
       "stream": "stderr",
       "text": [
        "INFO:algorithms:Created classifier with min_samples_split = 116 and max depth None\n"
       ]
      },
      {
       "output_type": "stream",
       "stream": "stderr",
       "text": [
        "INFO:algorithms:Trained decision tree classifier\n"
       ]
      },
      {
       "output_type": "stream",
       "stream": "stderr",
       "text": [
        "INFO:algorithms:Generated predictions\n"
       ]
      },
      {
       "output_type": "stream",
       "stream": "stderr",
       "text": [
        "INFO:algorithms:Training Accuracy score = 0.856955035498\n"
       ]
      },
      {
       "output_type": "stream",
       "stream": "stderr",
       "text": [
        "INFO:algorithms:Test Accuracy score = 0.806299492837\n"
       ]
      },
      {
       "output_type": "stream",
       "stream": "stderr",
       "text": [
        "INFO:algorithms:Training Weighted Accuracy score = 0.902550338239\n"
       ]
      },
      {
       "output_type": "stream",
       "stream": "stderr",
       "text": [
        "INFO:algorithms:Test Weighted Accuracy score = 0.850531480364\n"
       ]
      },
      {
       "output_type": "stream",
       "stream": "stderr",
       "text": [
        "INFO:algorithms:Created classifier with min_samples_split = 118 and max depth None\n"
       ]
      },
      {
       "output_type": "stream",
       "stream": "stderr",
       "text": [
        "INFO:algorithms:Trained decision tree classifier\n"
       ]
      },
      {
       "output_type": "stream",
       "stream": "stderr",
       "text": [
        "INFO:algorithms:Generated predictions\n"
       ]
      },
      {
       "output_type": "stream",
       "stream": "stderr",
       "text": [
        "INFO:algorithms:Training Accuracy score = 0.85767814883\n"
       ]
      },
      {
       "output_type": "stream",
       "stream": "stderr",
       "text": [
        "INFO:algorithms:Test Accuracy score = 0.811415606371\n"
       ]
      },
      {
       "output_type": "stream",
       "stream": "stderr",
       "text": [
        "INFO:algorithms:Training Weighted Accuracy score = 0.899184169886\n"
       ]
      },
      {
       "output_type": "stream",
       "stream": "stderr",
       "text": [
        "INFO:algorithms:Test Weighted Accuracy score = 0.851742154107\n"
       ]
      },
      {
       "output_type": "stream",
       "stream": "stderr",
       "text": [
        "INFO:algorithms:Performed evaluation of the min sample split choice\n"
       ]
      },
      {
       "output_type": "stream",
       "stream": "stderr",
       "text": [
        "INFO:algorithms:                  training_score  training_weighted_score  test_score  test_weighted_score\n",
        "min_sample_split                                                                          \n",
        "2                       1.000000                 1.000000    0.769019             0.790379\n",
        "4                       0.987422                 0.992243    0.768841             0.814119\n",
        "6                       0.977167                 0.983967    0.773334             0.806169\n",
        "8                       0.965773                 0.980278    0.774580             0.814393\n",
        "10                      0.955014                 0.970777    0.772756             0.816024\n",
        "12                      0.946709                 0.964365    0.784322             0.829863\n",
        "14                      0.937177                 0.956816    0.775380             0.823245\n",
        "16                      0.933627                 0.953233    0.783477             0.831011\n",
        "18                      0.927798                 0.948237    0.780007             0.816761\n",
        "20                      0.922320                 0.946188    0.787748             0.832932\n",
        "22                      0.918551                 0.942477    0.788193             0.831578\n",
        "24                      0.912832                 0.937782    0.790061             0.817890\n",
        "26                      0.911123                 0.934318    0.787437             0.833752\n",
        "28                      0.906784                 0.934715    0.791485             0.833815\n",
        "30                      0.902840                 0.931283    0.792019             0.844516\n",
        "32                      0.900517                 0.930369    0.786458             0.830891\n",
        "34                      0.899882                 0.932589    0.793354             0.841412\n",
        "36                      0.895674                 0.928806    0.796379             0.837684\n",
        "38                      0.891884                 0.923356    0.796067             0.833327\n",
        "40                      0.892913                 0.923244    0.796334             0.842314\n",
        "42                      0.890656                 0.927540    0.798514             0.851322\n",
        "44                      0.889364                 0.913338    0.800294             0.827216\n",
        "46                      0.886844                 0.913254    0.801895             0.831388\n",
        "48                      0.883886                 0.911951    0.801628             0.842553\n",
        "50                      0.882878                 0.918687    0.803808             0.859143\n",
        "52                      0.883119                 0.910506    0.797891             0.834510\n",
        "54                      0.880905                 0.913346    0.802918             0.855973\n",
        "56                      0.878364                 0.907480    0.802029             0.838721\n",
        "58                      0.877925                 0.908046    0.799582             0.844350\n",
        "60                      0.878101                 0.902595    0.803230             0.848995\n",
        "62                      0.877224                 0.906596    0.800294             0.836883\n",
        "64                      0.874529                 0.912056    0.804520             0.846745\n",
        "66                      0.874858                 0.913157    0.807367             0.853453\n",
        "68                      0.872316                 0.905430    0.805232             0.848690\n",
        "70                      0.871373                 0.902198    0.808168             0.850933\n",
        "72                      0.870891                 0.906890    0.809013             0.849645\n",
        "74                      0.869423                 0.900847    0.806611             0.835663\n",
        "76                      0.869642                 0.904970    0.808346             0.861270\n",
        "78                      0.866377                 0.900640    0.809903             0.856805\n",
        "80                      0.866114                 0.900676    0.810615             0.854981\n",
        "82                      0.868371                 0.906611    0.811282             0.853066\n",
        "84                      0.867210                 0.902795    0.808301             0.845618\n",
        "86                      0.865435                 0.908938    0.810926             0.862834\n",
        "88                      0.864405                 0.910754    0.811816             0.859748\n",
        "90                      0.864887                 0.903032    0.809903             0.851269\n",
        "92                      0.863178                 0.897389    0.811949             0.857248\n",
        "94                      0.864252                 0.894722    0.809414             0.839755\n",
        "96                      0.862302                 0.906853    0.808390             0.851509\n",
        "98                      0.862959                 0.901241    0.809414             0.851166\n",
        "100                     0.862521                 0.898746    0.809681             0.850352\n",
        "102                     0.859497                 0.892181    0.812216             0.853486\n",
        "104                     0.860680                 0.894061    0.810882             0.852269\n",
        "106                     0.861184                 0.894285    0.813996             0.860452\n",
        "108                     0.860614                 0.899149    0.813640             0.863917\n",
        "110                     0.857393                 0.893105    0.810793             0.855305\n",
        "112                     0.856320                 0.887218    0.813329             0.845730\n",
        "114                     0.856780                 0.903986    0.811505             0.868546\n",
        "116                     0.856955                 0.902550    0.806299             0.850531\n",
        "118                     0.857678                 0.899184    0.811416             0.851742\n"
       ]
      }
     ],
     "prompt_number": 3
    },
    {
     "cell_type": "code",
     "collapsed": false,
     "input": [
      "df = df.drop('error',1)\n",
      "df.plot(title='Accuracy change as a function of min_samples_split')"
     ],
     "language": "python",
     "metadata": {},
     "outputs": [
      {
       "metadata": {},
       "output_type": "pyout",
       "prompt_number": 7,
       "text": [
        "<matplotlib.axes._subplots.AxesSubplot at 0x10a743f90>"
       ]
      },
      {
       "metadata": {},
       "output_type": "display_data",
       "png": "[encoded data removed]",
       "text": [
        "<matplotlib.figure.Figure at 0x10923b150>"
       ]
      }
     ],
     "prompt_number": 7
    },
    {
     "cell_type": "code",
     "collapsed": false,
     "input": [
      "pd.rolling_mean(df, 5).plot(title='Accuracy change as a function of min_samples_split(smoothed)')"
     ],
     "language": "python",
     "metadata": {},
     "outputs": [
      {
       "metadata": {},
       "output_type": "pyout",
       "prompt_number": 21,
       "text": [
        "<matplotlib.axes._subplots.AxesSubplot at 0x10b609ad0>"
       ]
      },
      {
       "metadata": {},
       "output_type": "display_data",
       "png": "[encoded data removed]",
       "text": [
        "<matplotlib.figure.Figure at 0x10b609390>"
       ]
      }
     ],
     "prompt_number": 21
    },
    {
     "cell_type": "code",
     "collapsed": false,
     "input": [
      "df.drop('best_sample_split', axis=1, inplace=True)"
     ],
     "language": "python",
     "metadata": {},
     "outputs": [],
     "prompt_number": 20
    },
    {
     "cell_type": "code",
     "collapsed": false,
     "input": [
      "df"
     ],
     "language": "python",
     "metadata": {},
     "outputs": [
      {
       "html": [
        "<div style=\"max-height:1000px;max-width:1500px;overflow:auto;\">\n",
        "<table border=\"1\" class=\"dataframe\">\n",
        "  <thead>\n",
        "    <tr style=\"text-align: right;\">\n",
        "      <th></th>\n",
        "      <th>training_score</th>\n",
        "      <th>training_weighted_score</th>\n",
        "      <th>test_score</th>\n",
        "      <th>test_weighted_score</th>\n",
        "    </tr>\n",
        "    <tr>\n",
        "      <th>min_sample_split</th>\n",
        "      <th></th>\n",
        "      <th></th>\n",
        "      <th></th>\n",
        "      <th></th>\n",
        "    </tr>\n",
        "  </thead>\n",
        "  <tbody>\n",
        "    <tr>\n",
        "      <th>2  </th>\n",
        "      <td> 1.000000</td>\n",
        "      <td> 1.000000</td>\n",
        "      <td> 0.769019</td>\n",
        "      <td> 0.790379</td>\n",
        "    </tr>\n",
        "    <tr>\n",
        "      <th>4  </th>\n",
        "      <td> 0.987422</td>\n",
        "      <td> 0.992243</td>\n",
        "      <td> 0.768841</td>\n",
        "      <td> 0.814119</td>\n",
        "    </tr>\n",
        "    <tr>\n",
        "      <th>6  </th>\n",
        "      <td> 0.977167</td>\n",
        "      <td> 0.983967</td>\n",
        "      <td> 0.773334</td>\n",
        "      <td> 0.806169</td>\n",
        "    </tr>\n",
        "    <tr>\n",
        "      <th>8  </th>\n",
        "      <td> 0.965773</td>\n",
        "      <td> 0.980278</td>\n",
        "      <td> 0.774580</td>\n",
        "      <td> 0.814393</td>\n",
        "    </tr>\n",
        "    <tr>\n",
        "      <th>10 </th>\n",
        "      <td> 0.955014</td>\n",
        "      <td> 0.970777</td>\n",
        "      <td> 0.772756</td>\n",
        "      <td> 0.816024</td>\n",
        "    </tr>\n",
        "    <tr>\n",
        "      <th>12 </th>\n",
        "      <td> 0.946709</td>\n",
        "      <td> 0.964365</td>\n",
        "      <td> 0.784322</td>\n",
        "      <td> 0.829863</td>\n",
        "    </tr>\n",
        "    <tr>\n",
        "      <th>14 </th>\n",
        "      <td> 0.937177</td>\n",
        "      <td> 0.956816</td>\n",
        "      <td> 0.775380</td>\n",
        "      <td> 0.823245</td>\n",
        "    </tr>\n",
        "    <tr>\n",
        "      <th>16 </th>\n",
        "      <td> 0.933627</td>\n",
        "      <td> 0.953233</td>\n",
        "      <td> 0.783477</td>\n",
        "      <td> 0.831011</td>\n",
        "    </tr>\n",
        "    <tr>\n",
        "      <th>18 </th>\n",
        "      <td> 0.927798</td>\n",
        "      <td> 0.948237</td>\n",
        "      <td> 0.780007</td>\n",
        "      <td> 0.816761</td>\n",
        "    </tr>\n",
        "    <tr>\n",
        "      <th>20 </th>\n",
        "      <td> 0.922320</td>\n",
        "      <td> 0.946188</td>\n",
        "      <td> 0.787748</td>\n",
        "      <td> 0.832932</td>\n",
        "    </tr>\n",
        "    <tr>\n",
        "      <th>22 </th>\n",
        "      <td> 0.918551</td>\n",
        "      <td> 0.942477</td>\n",
        "      <td> 0.788193</td>\n",
        "      <td> 0.831578</td>\n",
        "    </tr>\n",
        "    <tr>\n",
        "      <th>24 </th>\n",
        "      <td> 0.912832</td>\n",
        "      <td> 0.937782</td>\n",
        "      <td> 0.790061</td>\n",
        "      <td> 0.817890</td>\n",
        "    </tr>\n",
        "    <tr>\n",
        "      <th>26 </th>\n",
        "      <td> 0.911123</td>\n",
        "      <td> 0.934318</td>\n",
        "      <td> 0.787437</td>\n",
        "      <td> 0.833752</td>\n",
        "    </tr>\n",
        "    <tr>\n",
        "      <th>28 </th>\n",
        "      <td> 0.906784</td>\n",
        "      <td> 0.934715</td>\n",
        "      <td> 0.791485</td>\n",
        "      <td> 0.833815</td>\n",
        "    </tr>\n",
        "    <tr>\n",
        "      <th>30 </th>\n",
        "      <td> 0.902840</td>\n",
        "      <td> 0.931283</td>\n",
        "      <td> 0.792019</td>\n",
        "      <td> 0.844516</td>\n",
        "    </tr>\n",
        "    <tr>\n",
        "      <th>32 </th>\n",
        "      <td> 0.900517</td>\n",
        "      <td> 0.930369</td>\n",
        "      <td> 0.786458</td>\n",
        "      <td> 0.830891</td>\n",
        "    </tr>\n",
        "    <tr>\n",
        "      <th>34 </th>\n",
        "      <td> 0.899882</td>\n",
        "      <td> 0.932589</td>\n",
        "      <td> 0.793354</td>\n",
        "      <td> 0.841412</td>\n",
        "    </tr>\n",
        "    <tr>\n",
        "      <th>36 </th>\n",
        "      <td> 0.895674</td>\n",
        "      <td> 0.928806</td>\n",
        "      <td> 0.796379</td>\n",
        "      <td> 0.837684</td>\n",
        "    </tr>\n",
        "    <tr>\n",
        "      <th>38 </th>\n",
        "      <td> 0.891884</td>\n",
        "      <td> 0.923356</td>\n",
        "      <td> 0.796067</td>\n",
        "      <td> 0.833327</td>\n",
        "    </tr>\n",
        "    <tr>\n",
        "      <th>40 </th>\n",
        "      <td> 0.892913</td>\n",
        "      <td> 0.923244</td>\n",
        "      <td> 0.796334</td>\n",
        "      <td> 0.842314</td>\n",
        "    </tr>\n",
        "    <tr>\n",
        "      <th>42 </th>\n",
        "      <td> 0.890656</td>\n",
        "      <td> 0.927540</td>\n",
        "      <td> 0.798514</td>\n",
        "      <td> 0.851322</td>\n",
        "    </tr>\n",
        "    <tr>\n",
        "      <th>44 </th>\n",
        "      <td> 0.889364</td>\n",
        "      <td> 0.913338</td>\n",
        "      <td> 0.800294</td>\n",
        "      <td> 0.827216</td>\n",
        "    </tr>\n",
        "    <tr>\n",
        "      <th>46 </th>\n",
        "      <td> 0.886844</td>\n",
        "      <td> 0.913254</td>\n",
        "      <td> 0.801895</td>\n",
        "      <td> 0.831388</td>\n",
        "    </tr>\n",
        "    <tr>\n",
        "      <th>48 </th>\n",
        "      <td> 0.883886</td>\n",
        "      <td> 0.911951</td>\n",
        "      <td> 0.801628</td>\n",
        "      <td> 0.842553</td>\n",
        "    </tr>\n",
        "    <tr>\n",
        "      <th>50 </th>\n",
        "      <td> 0.882878</td>\n",
        "      <td> 0.918687</td>\n",
        "      <td> 0.803808</td>\n",
        "      <td> 0.859143</td>\n",
        "    </tr>\n",
        "    <tr>\n",
        "      <th>52 </th>\n",
        "      <td> 0.883119</td>\n",
        "      <td> 0.910506</td>\n",
        "      <td> 0.797891</td>\n",
        "      <td> 0.834510</td>\n",
        "    </tr>\n",
        "    <tr>\n",
        "      <th>54 </th>\n",
        "      <td> 0.880905</td>\n",
        "      <td> 0.913346</td>\n",
        "      <td> 0.802918</td>\n",
        "      <td> 0.855973</td>\n",
        "    </tr>\n",
        "    <tr>\n",
        "      <th>56 </th>\n",
        "      <td> 0.878364</td>\n",
        "      <td> 0.907480</td>\n",
        "      <td> 0.802029</td>\n",
        "      <td> 0.838721</td>\n",
        "    </tr>\n",
        "    <tr>\n",
        "      <th>58 </th>\n",
        "      <td> 0.877925</td>\n",
        "      <td> 0.908046</td>\n",
        "      <td> 0.799582</td>\n",
        "      <td> 0.844350</td>\n",
        "    </tr>\n",
        "    <tr>\n",
        "      <th>60 </th>\n",
        "      <td> 0.878101</td>\n",
        "      <td> 0.902595</td>\n",
        "      <td> 0.803230</td>\n",
        "      <td> 0.848995</td>\n",
        "    </tr>\n",
        "    <tr>\n",
        "      <th>62 </th>\n",
        "      <td> 0.877224</td>\n",
        "      <td> 0.906596</td>\n",
        "      <td> 0.800294</td>\n",
        "      <td> 0.836883</td>\n",
        "    </tr>\n",
        "    <tr>\n",
        "      <th>64 </th>\n",
        "      <td> 0.874529</td>\n",
        "      <td> 0.912056</td>\n",
        "      <td> 0.804520</td>\n",
        "      <td> 0.846745</td>\n",
        "    </tr>\n",
        "    <tr>\n",
        "      <th>66 </th>\n",
        "      <td> 0.874858</td>\n",
        "      <td> 0.913157</td>\n",
        "      <td> 0.807367</td>\n",
        "      <td> 0.853453</td>\n",
        "    </tr>\n",
        "    <tr>\n",
        "      <th>68 </th>\n",
        "      <td> 0.872316</td>\n",
        "      <td> 0.905430</td>\n",
        "      <td> 0.805232</td>\n",
        "      <td> 0.848690</td>\n",
        "    </tr>\n",
        "    <tr>\n",
        "      <th>70 </th>\n",
        "      <td> 0.871373</td>\n",
        "      <td> 0.902198</td>\n",
        "      <td> 0.808168</td>\n",
        "      <td> 0.850933</td>\n",
        "    </tr>\n",
        "    <tr>\n",
        "      <th>72 </th>\n",
        "      <td> 0.870891</td>\n",
        "      <td> 0.906890</td>\n",
        "      <td> 0.809013</td>\n",
        "      <td> 0.849645</td>\n",
        "    </tr>\n",
        "    <tr>\n",
        "      <th>74 </th>\n",
        "      <td> 0.869423</td>\n",
        "      <td> 0.900847</td>\n",
        "      <td> 0.806611</td>\n",
        "      <td> 0.835663</td>\n",
        "    </tr>\n",
        "    <tr>\n",
        "      <th>76 </th>\n",
        "      <td> 0.869642</td>\n",
        "      <td> 0.904970</td>\n",
        "      <td> 0.808346</td>\n",
        "      <td> 0.861270</td>\n",
        "    </tr>\n",
        "    <tr>\n",
        "      <th>78 </th>\n",
        "      <td> 0.866377</td>\n",
        "      <td> 0.900640</td>\n",
        "      <td> 0.809903</td>\n",
        "      <td> 0.856805</td>\n",
        "    </tr>\n",
        "    <tr>\n",
        "      <th>80 </th>\n",
        "      <td> 0.866114</td>\n",
        "      <td> 0.900676</td>\n",
        "      <td> 0.810615</td>\n",
        "      <td> 0.854981</td>\n",
        "    </tr>\n",
        "    <tr>\n",
        "      <th>82 </th>\n",
        "      <td> 0.868371</td>\n",
        "      <td> 0.906611</td>\n",
        "      <td> 0.811282</td>\n",
        "      <td> 0.853066</td>\n",
        "    </tr>\n",
        "    <tr>\n",
        "      <th>84 </th>\n",
        "      <td> 0.867210</td>\n",
        "      <td> 0.902795</td>\n",
        "      <td> 0.808301</td>\n",
        "      <td> 0.845618</td>\n",
        "    </tr>\n",
        "    <tr>\n",
        "      <th>86 </th>\n",
        "      <td> 0.865435</td>\n",
        "      <td> 0.908938</td>\n",
        "      <td> 0.810926</td>\n",
        "      <td> 0.862834</td>\n",
        "    </tr>\n",
        "    <tr>\n",
        "      <th>88 </th>\n",
        "      <td> 0.864405</td>\n",
        "      <td> 0.910754</td>\n",
        "      <td> 0.811816</td>\n",
        "      <td> 0.859748</td>\n",
        "    </tr>\n",
        "    <tr>\n",
        "      <th>90 </th>\n",
        "      <td> 0.864887</td>\n",
        "      <td> 0.903032</td>\n",
        "      <td> 0.809903</td>\n",
        "      <td> 0.851269</td>\n",
        "    </tr>\n",
        "    <tr>\n",
        "      <th>92 </th>\n",
        "      <td> 0.863178</td>\n",
        "      <td> 0.897389</td>\n",
        "      <td> 0.811949</td>\n",
        "      <td> 0.857248</td>\n",
        "    </tr>\n",
        "    <tr>\n",
        "      <th>94 </th>\n",
        "      <td> 0.864252</td>\n",
        "      <td> 0.894722</td>\n",
        "      <td> 0.809414</td>\n",
        "      <td> 0.839755</td>\n",
        "    </tr>\n",
        "    <tr>\n",
        "      <th>96 </th>\n",
        "      <td> 0.862302</td>\n",
        "      <td> 0.906853</td>\n",
        "      <td> 0.808390</td>\n",
        "      <td> 0.851509</td>\n",
        "    </tr>\n",
        "    <tr>\n",
        "      <th>98 </th>\n",
        "      <td> 0.862959</td>\n",
        "      <td> 0.901241</td>\n",
        "      <td> 0.809414</td>\n",
        "      <td> 0.851166</td>\n",
        "    </tr>\n",
        "    <tr>\n",
        "      <th>100</th>\n",
        "      <td> 0.862521</td>\n",
        "      <td> 0.898746</td>\n",
        "      <td> 0.809681</td>\n",
        "      <td> 0.850352</td>\n",
        "    </tr>\n",
        "    <tr>\n",
        "      <th>102</th>\n",
        "      <td> 0.859497</td>\n",
        "      <td> 0.892181</td>\n",
        "      <td> 0.812216</td>\n",
        "      <td> 0.853486</td>\n",
        "    </tr>\n",
        "    <tr>\n",
        "      <th>104</th>\n",
        "      <td> 0.860680</td>\n",
        "      <td> 0.894061</td>\n",
        "      <td> 0.810882</td>\n",
        "      <td> 0.852269</td>\n",
        "    </tr>\n",
        "    <tr>\n",
        "      <th>106</th>\n",
        "      <td> 0.861184</td>\n",
        "      <td> 0.894285</td>\n",
        "      <td> 0.813996</td>\n",
        "      <td> 0.860452</td>\n",
        "    </tr>\n",
        "    <tr>\n",
        "      <th>108</th>\n",
        "      <td> 0.860614</td>\n",
        "      <td> 0.899149</td>\n",
        "      <td> 0.813640</td>\n",
        "      <td> 0.863917</td>\n",
        "    </tr>\n",
        "    <tr>\n",
        "      <th>110</th>\n",
        "      <td> 0.857393</td>\n",
        "      <td> 0.893105</td>\n",
        "      <td> 0.810793</td>\n",
        "      <td> 0.855305</td>\n",
        "    </tr>\n",
        "    <tr>\n",
        "      <th>112</th>\n",
        "      <td> 0.856320</td>\n",
        "      <td> 0.887218</td>\n",
        "      <td> 0.813329</td>\n",
        "      <td> 0.845730</td>\n",
        "    </tr>\n",
        "    <tr>\n",
        "      <th>114</th>\n",
        "      <td> 0.856780</td>\n",
        "      <td> 0.903986</td>\n",
        "      <td> 0.811505</td>\n",
        "      <td> 0.868546</td>\n",
        "    </tr>\n",
        "    <tr>\n",
        "      <th>116</th>\n",
        "      <td> 0.856955</td>\n",
        "      <td> 0.902550</td>\n",
        "      <td> 0.806299</td>\n",
        "      <td> 0.850531</td>\n",
        "    </tr>\n",
        "    <tr>\n",
        "      <th>118</th>\n",
        "      <td> 0.857678</td>\n",
        "      <td> 0.899184</td>\n",
        "      <td> 0.811416</td>\n",
        "      <td> 0.851742</td>\n",
        "    </tr>\n",
        "  </tbody>\n",
        "</table>\n",
        "</div>"
       ],
       "metadata": {},
       "output_type": "pyout",
       "prompt_number": 24,
       "text": [
        "                  training_score  training_weighted_score  test_score  test_weighted_score\n",
        "min_sample_split                                                                          \n",
        "2                       1.000000                 1.000000    0.769019             0.790379\n",
        "4                       0.987422                 0.992243    0.768841             0.814119\n",
        "6                       0.977167                 0.983967    0.773334             0.806169\n",
        "8                       0.965773                 0.980278    0.774580             0.814393\n",
        "10                      0.955014                 0.970777    0.772756             0.816024\n",
        "12                      0.946709                 0.964365    0.784322             0.829863\n",
        "14                      0.937177                 0.956816    0.775380             0.823245\n",
        "16                      0.933627                 0.953233    0.783477             0.831011\n",
        "18                      0.927798                 0.948237    0.780007             0.816761\n",
        "20                      0.922320                 0.946188    0.787748             0.832932\n",
        "22                      0.918551                 0.942477    0.788193             0.831578\n",
        "24                      0.912832                 0.937782    0.790061             0.817890\n",
        "26                      0.911123                 0.934318    0.787437             0.833752\n",
        "28                      0.906784                 0.934715    0.791485             0.833815\n",
        "30                      0.902840                 0.931283    0.792019             0.844516\n",
        "32                      0.900517                 0.930369    0.786458             0.830891\n",
        "34                      0.899882                 0.932589    0.793354             0.841412\n",
        "36                      0.895674                 0.928806    0.796379             0.837684\n",
        "38                      0.891884                 0.923356    0.796067             0.833327\n",
        "40                      0.892913                 0.923244    0.796334             0.842314\n",
        "42                      0.890656                 0.927540    0.798514             0.851322\n",
        "44                      0.889364                 0.913338    0.800294             0.827216\n",
        "46                      0.886844                 0.913254    0.801895             0.831388\n",
        "48                      0.883886                 0.911951    0.801628             0.842553\n",
        "50                      0.882878                 0.918687    0.803808             0.859143\n",
        "52                      0.883119                 0.910506    0.797891             0.834510\n",
        "54                      0.880905                 0.913346    0.802918             0.855973\n",
        "56                      0.878364                 0.907480    0.802029             0.838721\n",
        "58                      0.877925                 0.908046    0.799582             0.844350\n",
        "60                      0.878101                 0.902595    0.803230             0.848995\n",
        "62                      0.877224                 0.906596    0.800294             0.836883\n",
        "64                      0.874529                 0.912056    0.804520             0.846745\n",
        "66                      0.874858                 0.913157    0.807367             0.853453\n",
        "68                      0.872316                 0.905430    0.805232             0.848690\n",
        "70                      0.871373                 0.902198    0.808168             0.850933\n",
        "72                      0.870891                 0.906890    0.809013             0.849645\n",
        "74                      0.869423                 0.900847    0.806611             0.835663\n",
        "76                      0.869642                 0.904970    0.808346             0.861270\n",
        "78                      0.866377                 0.900640    0.809903             0.856805\n",
        "80                      0.866114                 0.900676    0.810615             0.854981\n",
        "82                      0.868371                 0.906611    0.811282             0.853066\n",
        "84                      0.867210                 0.902795    0.808301             0.845618\n",
        "86                      0.865435                 0.908938    0.810926             0.862834\n",
        "88                      0.864405                 0.910754    0.811816             0.859748\n",
        "90                      0.864887                 0.903032    0.809903             0.851269\n",
        "92                      0.863178                 0.897389    0.811949             0.857248\n",
        "94                      0.864252                 0.894722    0.809414             0.839755\n",
        "96                      0.862302                 0.906853    0.808390             0.851509\n",
        "98                      0.862959                 0.901241    0.809414             0.851166\n",
        "100                     0.862521                 0.898746    0.809681             0.850352\n",
        "102                     0.859497                 0.892181    0.812216             0.853486\n",
        "104                     0.860680                 0.894061    0.810882             0.852269\n",
        "106                     0.861184                 0.894285    0.813996             0.860452\n",
        "108                     0.860614                 0.899149    0.813640             0.863917\n",
        "110                     0.857393                 0.893105    0.810793             0.855305\n",
        "112                     0.856320                 0.887218    0.813329             0.845730\n",
        "114                     0.856780                 0.903986    0.811505             0.868546\n",
        "116                     0.856955                 0.902550    0.806299             0.850531\n",
        "118                     0.857678                 0.899184    0.811416             0.851742"
       ]
      }
     ],
     "prompt_number": 24
    },
    {
     "cell_type": "code",
     "collapsed": false,
     "input": [],
     "language": "python",
     "metadata": {},
     "outputs": []
    }
   ],
   "metadata": {}
  }
 ]
}