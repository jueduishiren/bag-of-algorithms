{
 "metadata": {
  "name": "",
  "signature": "sha256:6aa71e4e9923bbd0b7361fc0aaebe173637dfbd9439c9d7c817ab75dd1731649"
 },
 "nbformat": 3,
 "nbformat_minor": 0,
 "worksheets": [
  {
   "cells": [
    {
     "cell_type": "code",
     "collapsed": false,
     "input": [
      "from algorithms.datasets import load_higgs_train\n",
      "from sklearn.cross_validation import train_test_split\n",
      "from sklearn.metrics import accuracy_score"
     ],
     "language": "python",
     "metadata": {},
     "outputs": [],
     "prompt_number": 20
    },
    {
     "cell_type": "code",
     "collapsed": false,
     "input": [
      "features, weights, labels = load_higgs_train()"
     ],
     "language": "python",
     "metadata": {},
     "outputs": [
      {
       "output_type": "stream",
       "stream": "stderr",
       "text": [
        "INFO:algorithms:Loaded higgs training dataset of size 250000\n"
       ]
      }
     ],
     "prompt_number": 2
    },
    {
     "cell_type": "code",
     "collapsed": false,
     "input": [
      "features.head()"
     ],
     "language": "python",
     "metadata": {},
     "outputs": [
      {
       "html": [
        "<div style=\"max-height:1000px;max-width:1500px;overflow:auto;\">\n",
        "<table border=\"1\" class=\"dataframe\">\n",
        "  <thead>\n",
        "    <tr style=\"text-align: right;\">\n",
        "      <th></th>\n",
        "      <th>EventId</th>\n",
        "      <th>DER_mass_MMC</th>\n",
        "      <th>DER_mass_transverse_met_lep</th>\n",
        "      <th>DER_mass_vis</th>\n",
        "      <th>DER_pt_h</th>\n",
        "      <th>DER_deltaeta_jet_jet</th>\n",
        "      <th>DER_mass_jet_jet</th>\n",
        "      <th>DER_prodeta_jet_jet</th>\n",
        "      <th>DER_deltar_tau_lep</th>\n",
        "      <th>DER_pt_tot</th>\n",
        "      <th>...</th>\n",
        "      <th>PRI_met_phi</th>\n",
        "      <th>PRI_met_sumet</th>\n",
        "      <th>PRI_jet_num</th>\n",
        "      <th>PRI_jet_leading_pt</th>\n",
        "      <th>PRI_jet_leading_eta</th>\n",
        "      <th>PRI_jet_leading_phi</th>\n",
        "      <th>PRI_jet_subleading_pt</th>\n",
        "      <th>PRI_jet_subleading_eta</th>\n",
        "      <th>PRI_jet_subleading_phi</th>\n",
        "      <th>PRI_jet_all_pt</th>\n",
        "    </tr>\n",
        "  </thead>\n",
        "  <tbody>\n",
        "    <tr>\n",
        "      <th>0</th>\n",
        "      <td> 100000</td>\n",
        "      <td> 138.470</td>\n",
        "      <td>  51.655</td>\n",
        "      <td>  97.827</td>\n",
        "      <td> 27.980</td>\n",
        "      <td>   0.91</td>\n",
        "      <td> 124.711</td>\n",
        "      <td>   2.666</td>\n",
        "      <td> 3.064</td>\n",
        "      <td> 41.928</td>\n",
        "      <td>...</td>\n",
        "      <td>-0.277</td>\n",
        "      <td> 258.733</td>\n",
        "      <td> 2</td>\n",
        "      <td>  67.435</td>\n",
        "      <td>   2.150</td>\n",
        "      <td>   0.444</td>\n",
        "      <td>  46.062</td>\n",
        "      <td>   1.24</td>\n",
        "      <td>  -2.475</td>\n",
        "      <td> 113.497</td>\n",
        "    </tr>\n",
        "    <tr>\n",
        "      <th>1</th>\n",
        "      <td> 100001</td>\n",
        "      <td> 160.937</td>\n",
        "      <td>  68.768</td>\n",
        "      <td> 103.235</td>\n",
        "      <td> 48.146</td>\n",
        "      <td>-999.00</td>\n",
        "      <td>-999.000</td>\n",
        "      <td>-999.000</td>\n",
        "      <td> 3.473</td>\n",
        "      <td>  2.078</td>\n",
        "      <td>...</td>\n",
        "      <td>-1.916</td>\n",
        "      <td> 164.546</td>\n",
        "      <td> 1</td>\n",
        "      <td>  46.226</td>\n",
        "      <td>   0.725</td>\n",
        "      <td>   1.158</td>\n",
        "      <td>-999.000</td>\n",
        "      <td>-999.00</td>\n",
        "      <td>-999.000</td>\n",
        "      <td>  46.226</td>\n",
        "    </tr>\n",
        "    <tr>\n",
        "      <th>2</th>\n",
        "      <td> 100002</td>\n",
        "      <td>-999.000</td>\n",
        "      <td> 162.172</td>\n",
        "      <td> 125.953</td>\n",
        "      <td> 35.635</td>\n",
        "      <td>-999.00</td>\n",
        "      <td>-999.000</td>\n",
        "      <td>-999.000</td>\n",
        "      <td> 3.148</td>\n",
        "      <td>  9.336</td>\n",
        "      <td>...</td>\n",
        "      <td>-2.186</td>\n",
        "      <td> 260.414</td>\n",
        "      <td> 1</td>\n",
        "      <td>  44.251</td>\n",
        "      <td>   2.053</td>\n",
        "      <td>  -2.028</td>\n",
        "      <td>-999.000</td>\n",
        "      <td>-999.00</td>\n",
        "      <td>-999.000</td>\n",
        "      <td>  44.251</td>\n",
        "    </tr>\n",
        "    <tr>\n",
        "      <th>3</th>\n",
        "      <td> 100003</td>\n",
        "      <td> 143.905</td>\n",
        "      <td>  81.417</td>\n",
        "      <td>  80.943</td>\n",
        "      <td>  0.414</td>\n",
        "      <td>-999.00</td>\n",
        "      <td>-999.000</td>\n",
        "      <td>-999.000</td>\n",
        "      <td> 3.310</td>\n",
        "      <td>  0.414</td>\n",
        "      <td>...</td>\n",
        "      <td> 0.060</td>\n",
        "      <td>  86.062</td>\n",
        "      <td> 0</td>\n",
        "      <td>-999.000</td>\n",
        "      <td>-999.000</td>\n",
        "      <td>-999.000</td>\n",
        "      <td>-999.000</td>\n",
        "      <td>-999.00</td>\n",
        "      <td>-999.000</td>\n",
        "      <td>  -0.000</td>\n",
        "    </tr>\n",
        "    <tr>\n",
        "      <th>4</th>\n",
        "      <td> 100004</td>\n",
        "      <td> 175.864</td>\n",
        "      <td>  16.915</td>\n",
        "      <td> 134.805</td>\n",
        "      <td> 16.405</td>\n",
        "      <td>-999.00</td>\n",
        "      <td>-999.000</td>\n",
        "      <td>-999.000</td>\n",
        "      <td> 3.891</td>\n",
        "      <td> 16.405</td>\n",
        "      <td>...</td>\n",
        "      <td>-0.871</td>\n",
        "      <td>  53.131</td>\n",
        "      <td> 0</td>\n",
        "      <td>-999.000</td>\n",
        "      <td>-999.000</td>\n",
        "      <td>-999.000</td>\n",
        "      <td>-999.000</td>\n",
        "      <td>-999.00</td>\n",
        "      <td>-999.000</td>\n",
        "      <td>   0.000</td>\n",
        "    </tr>\n",
        "  </tbody>\n",
        "</table>\n",
        "<p>5 rows \u00d7 31 columns</p>\n",
        "</div>"
       ],
       "metadata": {},
       "output_type": "pyout",
       "prompt_number": 3,
       "text": [
        "   EventId  DER_mass_MMC  DER_mass_transverse_met_lep  DER_mass_vis  DER_pt_h  \\\n",
        "0   100000       138.470                       51.655        97.827    27.980   \n",
        "1   100001       160.937                       68.768       103.235    48.146   \n",
        "2   100002      -999.000                      162.172       125.953    35.635   \n",
        "3   100003       143.905                       81.417        80.943     0.414   \n",
        "4   100004       175.864                       16.915       134.805    16.405   \n",
        "\n",
        "   DER_deltaeta_jet_jet  DER_mass_jet_jet  DER_prodeta_jet_jet  \\\n",
        "0                  0.91           124.711                2.666   \n",
        "1               -999.00          -999.000             -999.000   \n",
        "2               -999.00          -999.000             -999.000   \n",
        "3               -999.00          -999.000             -999.000   \n",
        "4               -999.00          -999.000             -999.000   \n",
        "\n",
        "   DER_deltar_tau_lep  DER_pt_tot     ...      PRI_met_phi  PRI_met_sumet  \\\n",
        "0               3.064      41.928     ...           -0.277        258.733   \n",
        "1               3.473       2.078     ...           -1.916        164.546   \n",
        "2               3.148       9.336     ...           -2.186        260.414   \n",
        "3               3.310       0.414     ...            0.060         86.062   \n",
        "4               3.891      16.405     ...           -0.871         53.131   \n",
        "\n",
        "   PRI_jet_num  PRI_jet_leading_pt  PRI_jet_leading_eta  PRI_jet_leading_phi  \\\n",
        "0            2              67.435                2.150                0.444   \n",
        "1            1              46.226                0.725                1.158   \n",
        "2            1              44.251                2.053               -2.028   \n",
        "3            0            -999.000             -999.000             -999.000   \n",
        "4            0            -999.000             -999.000             -999.000   \n",
        "\n",
        "   PRI_jet_subleading_pt  PRI_jet_subleading_eta  PRI_jet_subleading_phi  \\\n",
        "0                 46.062                    1.24                  -2.475   \n",
        "1               -999.000                 -999.00                -999.000   \n",
        "2               -999.000                 -999.00                -999.000   \n",
        "3               -999.000                 -999.00                -999.000   \n",
        "4               -999.000                 -999.00                -999.000   \n",
        "\n",
        "   PRI_jet_all_pt  \n",
        "0         113.497  \n",
        "1          46.226  \n",
        "2          44.251  \n",
        "3          -0.000  \n",
        "4           0.000  \n",
        "\n",
        "[5 rows x 31 columns]"
       ]
      }
     ],
     "prompt_number": 3
    },
    {
     "cell_type": "code",
     "collapsed": false,
     "input": [
      "features_train, features_test, labels_train, labels_test = train_test_split(features, labels, test_size=0.33)"
     ],
     "language": "python",
     "metadata": {},
     "outputs": [],
     "prompt_number": 18
    },
    {
     "cell_type": "code",
     "collapsed": false,
     "input": [
      "from sklearn import tree"
     ],
     "language": "python",
     "metadata": {},
     "outputs": [],
     "prompt_number": 6
    },
    {
     "cell_type": "code",
     "collapsed": false,
     "input": [
      "clf = tree.DecisionTreeClassifier()"
     ],
     "language": "python",
     "metadata": {},
     "outputs": [],
     "prompt_number": 7
    },
    {
     "cell_type": "code",
     "collapsed": false,
     "input": [
      "clf = clf.fit(features_train, labels_train)"
     ],
     "language": "python",
     "metadata": {},
     "outputs": [],
     "prompt_number": 19
    },
    {
     "cell_type": "code",
     "collapsed": false,
     "input": [
      "predictions = clf.predict(features_test)"
     ],
     "language": "python",
     "metadata": {},
     "outputs": [],
     "prompt_number": 22
    },
    {
     "cell_type": "code",
     "collapsed": false,
     "input": [
      "predictions"
     ],
     "language": "python",
     "metadata": {},
     "outputs": [
      {
       "metadata": {},
       "output_type": "pyout",
       "prompt_number": 23,
       "text": [
        "array(['b', 's', 's', ..., 'b', 'b', 'b'], dtype=object)"
       ]
      }
     ],
     "prompt_number": 23
    },
    {
     "cell_type": "code",
     "collapsed": false,
     "input": [
      "accuracy_score(labels_test, predictions)"
     ],
     "language": "python",
     "metadata": {},
     "outputs": [
      {
       "metadata": {},
       "output_type": "pyout",
       "prompt_number": 24,
       "text": [
        "0.76219393939393942"
       ]
      }
     ],
     "prompt_number": 24
    },
    {
     "cell_type": "code",
     "collapsed": false,
     "input": [],
     "language": "python",
     "metadata": {},
     "outputs": []
    }
   ],
   "metadata": {}
  }
 ]
}