{
 "cells": [
  {
   "cell_type": "markdown",
   "metadata": {},
   "source": [
    "# Unsupervised Learning and Dimensionality Reduction"
   ]
  },
  {
   "cell_type": "code",
   "execution_count": 1,
   "metadata": {
    "collapsed": true
   },
   "outputs": [],
   "source": [
    "%matplotlib inline"
   ]
  },
  {
   "cell_type": "markdown",
   "metadata": {},
   "source": [
    "The goal is for you to think about how these algorithms are  the same as, different from, and interact with your earlier work."
   ]
  },
  {
   "cell_type": "markdown",
   "metadata": {},
   "source": [
    "### Classification Data Review"
   ]
  },
  {
   "cell_type": "code",
   "execution_count": 2,
   "metadata": {
    "collapsed": true
   },
   "outputs": [],
   "source": [
    "from algo_evaluation.datasets import *"
   ]
  },
  {
   "cell_type": "markdown",
   "metadata": {},
   "source": [
    "__Higgs Data Quick review__:\n",
    "\n",
    "   - given outcomes of particle decays, detect Higgs boson; \n",
    "   \n",
    "   - most of the supervised algorithms gave acceptable accuracy ranging from 0.8 - 0.9 far outperforming the backpropagation algorithm for neural networks (0.5)\n",
    "   \n",
    "   - learning weights with Randomized Optimization algorithms improved accuracy of the neural network to 0.7 and higher"
   ]
  },
  {
   "cell_type": "code",
   "execution_count": 3,
   "metadata": {
    "collapsed": false
   },
   "outputs": [
    {
     "name": "stdout",
     "output_type": "stream",
     "text": [
      "Size of the dataset: 68114\n",
      "Number of features: 13\n",
      "Number of positives (signal): 31894\n",
      "Number of negatives (background): 36220\n"
     ]
    }
   ],
   "source": [
    "higgs_data = load_higgs_train(sample_size=None, verbose=True, scale=True)"
   ]
  },
  {
   "cell_type": "markdown",
   "metadata": {},
   "source": [
    "__Converters Data Quick review__:\n",
    "\n",
    "   - given online user behavior and preferences predict whether or not ad display will result in convertion; \n",
    "   \n",
    "   - in contrast to Higgs dataset, supervized algorithm all provided high accuracy >94%"
   ]
  },
  {
   "cell_type": "code",
   "execution_count": 4,
   "metadata": {
    "collapsed": false
   },
   "outputs": [
    {
     "name": "stdout",
     "output_type": "stream",
     "text": [
      "Size of the dataset: 57970\n",
      "Number of features: 15\n",
      "Number of converters: 399\n",
      "Number of non-converters: 54615\n",
      "Number of leads: 2956\n"
     ]
    }
   ],
   "source": [
    "bid_data = load_bidding_train(verbose=True)"
   ]
  },
  {
   "cell_type": "markdown",
   "metadata": {},
   "source": [
    "### K-means Clustering"
   ]
  },
  {
   "cell_type": "code",
   "execution_count": 27,
   "metadata": {
    "collapsed": false
   },
   "outputs": [
    {
     "data": {
      "text/plain": [
       "<module 'algo_evaluation.clustering.kmeans' from '/Users/maestro/schoolspace/bag-of-algorithms/algo_evaluation/clustering/kmeans.py'>"
      ]
     },
     "execution_count": 27,
     "metadata": {},
     "output_type": "execute_result"
    }
   ],
   "source": [
    "from algo_evaluation.clustering import kmeans\n",
    "reload(kmeans)"
   ]
  },
  {
   "cell_type": "markdown",
   "metadata": {},
   "source": [
    "class sklearn.cluster.KMeans(n_clusters=8, init='k-means++', n_init=10, max_iter=300, tol=0.0001, precompute_distances=True, verbose=0, random_state=None, copy_x=True, n_jobs=1)"
   ]
  },
  {
   "cell_type": "code",
   "execution_count": 39,
   "metadata": {
    "collapsed": false
   },
   "outputs": [],
   "source": [
    "df = kmeans.estimate_n_clusters(higgs_data, maximum_clusters=20)"
   ]
  },
  {
   "cell_type": "code",
   "execution_count": 35,
   "metadata": {
    "collapsed": false
   },
   "outputs": [
    {
     "data": {
      "text/html": [
       "<div style=\"max-height:1000px;max-width:1500px;overflow:auto;\">\n",
       "<table border=\"1\" class=\"dataframe\">\n",
       "  <thead>\n",
       "    <tr style=\"text-align: right;\">\n",
       "      <th></th>\n",
       "      <th></th>\n",
       "      <th>kmeans++</th>\n",
       "    </tr>\n",
       "    <tr>\n",
       "      <th>metric</th>\n",
       "      <th>clusters</th>\n",
       "      <th></th>\n",
       "    </tr>\n",
       "  </thead>\n",
       "  <tbody>\n",
       "    <tr>\n",
       "      <th>homogeneity</th>\n",
       "      <th>2</th>\n",
       "      <td> 0.096981</td>\n",
       "    </tr>\n",
       "    <tr>\n",
       "      <th>completeness</th>\n",
       "      <th>2</th>\n",
       "      <td> 0.102057</td>\n",
       "    </tr>\n",
       "    <tr>\n",
       "      <th>v_measure</th>\n",
       "      <th>2</th>\n",
       "      <td> 0.099454</td>\n",
       "    </tr>\n",
       "    <tr>\n",
       "      <th>ARI</th>\n",
       "      <th>2</th>\n",
       "      <td> 0.133202</td>\n",
       "    </tr>\n",
       "    <tr>\n",
       "      <th>AMI</th>\n",
       "      <th>2</th>\n",
       "      <td> 0.096972</td>\n",
       "    </tr>\n",
       "    <tr>\n",
       "      <th>silhouette</th>\n",
       "      <th>2</th>\n",
       "      <td> 0.172036</td>\n",
       "    </tr>\n",
       "    <tr>\n",
       "      <th>homogeneity</th>\n",
       "      <th>3</th>\n",
       "      <td> 0.123796</td>\n",
       "    </tr>\n",
       "    <tr>\n",
       "      <th>completeness</th>\n",
       "      <th>3</th>\n",
       "      <td> 0.080822</td>\n",
       "    </tr>\n",
       "    <tr>\n",
       "      <th>v_measure</th>\n",
       "      <th>3</th>\n",
       "      <td> 0.097796</td>\n",
       "    </tr>\n",
       "    <tr>\n",
       "      <th>ARI</th>\n",
       "      <th>3</th>\n",
       "      <td> 0.096586</td>\n",
       "    </tr>\n",
       "    <tr>\n",
       "      <th>AMI</th>\n",
       "      <th>3</th>\n",
       "      <td> 0.080810</td>\n",
       "    </tr>\n",
       "    <tr>\n",
       "      <th>silhouette</th>\n",
       "      <th>3</th>\n",
       "      <td> 0.183472</td>\n",
       "    </tr>\n",
       "    <tr>\n",
       "      <th>homogeneity</th>\n",
       "      <th>4</th>\n",
       "      <td> 0.132004</td>\n",
       "    </tr>\n",
       "    <tr>\n",
       "      <th>completeness</th>\n",
       "      <th>4</th>\n",
       "      <td> 0.075682</td>\n",
       "    </tr>\n",
       "    <tr>\n",
       "      <th>v_measure</th>\n",
       "      <th>4</th>\n",
       "      <td> 0.096206</td>\n",
       "    </tr>\n",
       "    <tr>\n",
       "      <th>ARI</th>\n",
       "      <th>4</th>\n",
       "      <td> 0.083221</td>\n",
       "    </tr>\n",
       "    <tr>\n",
       "      <th>AMI</th>\n",
       "      <th>4</th>\n",
       "      <td> 0.075665</td>\n",
       "    </tr>\n",
       "    <tr>\n",
       "      <th>silhouette</th>\n",
       "      <th>4</th>\n",
       "      <td> 0.190424</td>\n",
       "    </tr>\n",
       "  </tbody>\n",
       "</table>\n",
       "</div>"
      ],
      "text/plain": [
       "                       kmeans++\n",
       "metric       clusters          \n",
       "homogeneity  2         0.096981\n",
       "completeness 2         0.102057\n",
       "v_measure    2         0.099454\n",
       "ARI          2         0.133202\n",
       "AMI          2         0.096972\n",
       "silhouette   2         0.172036\n",
       "homogeneity  3         0.123796\n",
       "completeness 3         0.080822\n",
       "v_measure    3         0.097796\n",
       "ARI          3         0.096586\n",
       "AMI          3         0.080810\n",
       "silhouette   3         0.183472\n",
       "homogeneity  4         0.132004\n",
       "completeness 4         0.075682\n",
       "v_measure    4         0.096206\n",
       "ARI          4         0.083221\n",
       "AMI          4         0.075665\n",
       "silhouette   4         0.190424"
      ]
     },
     "execution_count": 35,
     "metadata": {},
     "output_type": "execute_result"
    }
   ],
   "source": [
    "df"
   ]
  },
  {
   "cell_type": "code",
   "execution_count": 40,
   "metadata": {
    "collapsed": false
   },
   "outputs": [
    {
     "data": {
      "text/plain": [
       "<matplotlib.axes._subplots.AxesSubplot at 0x10e41cf10>"
      ]
     },
     "execution_count": 40,
     "metadata": {},
     "output_type": "execute_result"
    },
    {
     "data": {
      "image/png": "[encoded data removed]",
      "text/plain": [
       "<matplotlib.figure.Figure at 0x113473c10>"
      ]
     },
     "metadata": {},
     "output_type": "display_data"
    }
   ],
   "source": [
    "df.reset_index(level=1).plot(x='clusters', y ='kmeans++', kind='bar')"
   ]
  },
  {
   "cell_type": "code",
   "execution_count": 5,
   "metadata": {
    "collapsed": false
   },
   "outputs": [],
   "source": [
    "df = kmeans.bench_k_means(KMeans(init='k-means++', n_clusters=2, n_init=10), \n",
    "                     name=\"k-means++\", data=higgs_data, sample_size=2000)"
   ]
  },
  {
   "cell_type": "markdown",
   "metadata": {},
   "source": [
    "http://scikit-learn.org/stable/modules/clustering.html#clustering-evaluation"
   ]
  },
  {
   "cell_type": "raw",
   "metadata": {},
   "source": [
    "n_digits: 10,          n_samples 1797,         n_features 64\n",
    "_______________________________________________________________________________\n",
    "init    time  inertia    homo   compl  v-meas     ARI AMI  silhouette\n",
    "k-means++   0.89s    69432   0.602   0.650   0.625   0.465   0.598    0.146\n",
    "   random   0.77s    69694   0.669   0.710   0.689   0.553   0.666    0.147\n",
    "PCA-based   0.06s    71820   0.673   0.715   0.693   0.567   0.670    0.150"
   ]
  },
  {
   "cell_type": "markdown",
   "metadata": {},
   "source": [
    "You can choose your own measures of distance/similarity. Naturally, you'll have to justify your choices"
   ]
  },
  {
   "cell_type": "markdown",
   "metadata": {},
   "source": [
    "### Expectation Maximization"
   ]
  },
  {
   "cell_type": "markdown",
   "metadata": {},
   "source": [
    "### PCA"
   ]
  },
  {
   "cell_type": "markdown",
   "metadata": {},
   "source": [
    "### ICA"
   ]
  },
  {
   "cell_type": "markdown",
   "metadata": {},
   "source": [
    "### Randomized Projections"
   ]
  },
  {
   "cell_type": "markdown",
   "metadata": {},
   "source": [
    "### Any other feature selection algorithm you desire"
   ]
  },
  {
   "cell_type": "markdown",
   "metadata": {},
   "source": [
    "You are to run a number of experiments. Come up with at least two datasets"
   ]
  },
  {
   "cell_type": "markdown",
   "metadata": {},
   "source": [
    "Run the clustering algorithms on the data sets and describe what you see"
   ]
  },
  {
   "cell_type": "markdown",
   "metadata": {},
   "source": [
    "Apply the dimensionality reduction algorithms to the two datasets and describe what you see."
   ]
  },
  {
   "cell_type": "markdown",
   "metadata": {},
   "source": [
    "Reproduce your clustering experiments, but on the data after you've run dimensionality reduction on it."
   ]
  },
  {
   "cell_type": "markdown",
   "metadata": {},
   "source": [
    "Apply the dimensionality reduction algorithms to one of your datasets from assignment #1"
   ]
  },
  {
   "cell_type": "markdown",
   "metadata": {},
   "source": [
    "and rerun your neural network learner on the newly projected data"
   ]
  },
  {
   "cell_type": "markdown",
   "metadata": {},
   "source": [
    "Apply the clustering algorithms to the same dataset to which you just applied the dimensionality reduction algorithms (you've probably already done this), treating the clusters as if they were new features. In other words, treat the clustering algorithms as if they were dimensionality reduction algorithms. Again, rerun your neural network learner on the newly projected data.\n"
   ]
  },
  {
   "cell_type": "markdown",
   "metadata": {},
   "source": [
    "A discussion of your datasets, and why they're interesting: If you're using the same datasets as before at least briefly remind us of what they are so we don't have to revisit your old assignment write-up.\n",
    "explanations of your methods: How did you choose k?\n",
    "a description of the kind of clusters that you got.\n",
    "analyses of your results. Why did you get the clusters you did? Do they make \"sense\"? If you used data that already had labels (for example data from a classification problem from assignment #1) did the clusters line up with the labels? Do they otherwise line up naturally? Why or why not? Compare and contrast the different algorithms. What sort of changes might you make to each of those algorithms to improve performance? How much performance was due to the problems you chose? Be creative and think of as many questions you can, and as many answers as you can. Take care to justify your analysis with data explictly.\n",
    "Can you describe how the data look in the new spaces you created with the various aglorithms? For PCA, what is the distribution of eigenvalues? For ICA, how kurtotic are the distributions? Do the projection axes for ICA seem to capture anything \"meaningful\"? Assuming you only generate k projections (i.e., you do dimensionality reduction), how well is the data reconstructed by the randomized projections? PCA? How much variation did you get when you re-ran your RP several times (I know I don't have to mention that you might want to run RP many times to see what happens, but I hope you forgive me)?\n",
    "When you reproduced your clustering experiments on the datasets projected onto the new spaces created by ICA, PCA and RP, did you get the same clusters as before? Different clusters? Why? Why not?\n",
    "When you re-ran your neural network algorithms were there any differences in performance? Speed? Anything at all?\n",
    "It might be difficult to generate the same kinds of graphs for this part of the assignment as you did before; however, you should come up with some way to describe the kinds of clusters you get. If you can do that visually all the better.\n"
   ]
  },
  {
   "cell_type": "code",
   "execution_count": null,
   "metadata": {
    "collapsed": true
   },
   "outputs": [],
   "source": []
  }
 ],
 "metadata": {
  "kernelspec": {
   "display_name": "Python 2",
   "language": "python",
   "name": "python2"
  },
  "language_info": {
   "codemirror_mode": {
    "name": "ipython",
    "version": 2
   },
   "file_extension": ".py",
   "mimetype": "text/x-python",
   "name": "python",
   "nbconvert_exporter": "python",
   "pygments_lexer": "ipython2",
   "version": "2.7.9"
  }
 },
 "nbformat": 4,
 "nbformat_minor": 0
}
