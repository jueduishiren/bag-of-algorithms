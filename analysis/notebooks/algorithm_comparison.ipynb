{
 "metadata": {
  "name": "",
  "signature": "sha256:db5a5c486b1dd9b9e6907919800ff2126b3bdaa8251923cc9dc5694b1e988614"
 },
 "nbformat": 3,
 "nbformat_minor": 0,
 "worksheets": [
  {
   "cells": [
    {
     "cell_type": "code",
     "collapsed": false,
     "input": [
      "# do the matrix between all five algos of how much they agree with each other\n",
      "# plot accuracy histograms\n",
      "# compare timing"
     ],
     "language": "python",
     "metadata": {},
     "outputs": []
    }
   ],
   "metadata": {}
  }
 ]
}