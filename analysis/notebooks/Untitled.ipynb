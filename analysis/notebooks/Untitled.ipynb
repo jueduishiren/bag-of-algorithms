{
 "cells": [
  {
   "cell_type": "code",
   "execution_count": 1,
   "metadata": {
    "collapsed": false
   },
   "outputs": [
    {
     "name": "stdout",
     "output_type": "stream",
     "text": [
      "downloading https://bitbucket.org/ipre/calico/downloads/calico-spell-check-1.0.zip to /var/folders/z9/r9f6fqx111v77hrzftrq0v4w0000gn/T/tmpXK9fIl/calico-spell-check-1.0.zip\n",
      "extracting /var/folders/z9/r9f6fqx111v77hrzftrq0v4w0000gn/T/tmpXK9fIl/calico-spell-check-1.0.zip to /usr/local/share/jupyter/nbextensions\n"
     ]
    }
   ],
   "source": [
    "!ipython install-nbextension https://bitbucket.org/ipre/calico/downloads/calico-spell-check-1.0.zip"
   ]
  },
  {
   "cell_type": "code",
   "execution_count": 4,
   "metadata": {
    "collapsed": false
   },
   "outputs": [
    {
     "data": {
      "application/javascript": [
       "IPython.load_extensions('calico-spell-check')"
      ],
      "text/plain": [
       "<IPython.core.display.Javascript object>"
      ]
     },
     "metadata": {},
     "output_type": "display_data"
    }
   ],
   "source": [
    "%%javascript\n",
    "IPython.load_extensions('calico-spell-check')"
   ]
  },
  {
   "cell_type": "code",
   "execution_count": 1,
   "metadata": {
    "collapsed": true
   },
   "outputs": [],
   "source": [
    "from algo_evaluation.datasets import *"
   ]
  },
  {
   "cell_type": "code",
   "execution_count": 2,
   "metadata": {
    "collapsed": false
   },
   "outputs": [
    {
     "name": "stdout",
     "output_type": "stream",
     "text": [
      "Size of the dataset: 57970\n",
      "Number of features: 20\n",
      "Number of converters: 399\n",
      "Number of non-converters: 54615\n",
      "Number of leads: 2956\n"
     ]
    }
   ],
   "source": [
    "bid_data = load_bidding_train(verbose=True, scale=False)"
   ]
  },
  {
   "cell_type": "code",
   "execution_count": 3,
   "metadata": {
    "collapsed": false
   },
   "outputs": [
    {
     "data": {
      "text/plain": [
       "Index([u'index', u'source_timestamp', u'user_local_hour', u'user_id', u'ipaddress', u'country', u'region', u'metrocode', u'postal_code', u'week_day', u'creative_uid', u'sitename', u'exchange', u'top_category', u'browser', u'os=Android', u'os=Apple's mobile/tablet', u'os=Linux', u'os=Mac OS X(Apple)', u'os=Windows'], dtype='object')"
      ]
     },
     "execution_count": 3,
     "metadata": {},
     "output_type": "execute_result"
    }
   ],
   "source": [
    "bid_data[0].columns"
   ]
  },
  {
   "cell_type": "code",
   "execution_count": 4,
   "metadata": {
    "collapsed": false
   },
   "outputs": [
    {
     "data": {
      "text/plain": [
       "6     Windows\n",
       "7     Windows\n",
       "8     Windows\n",
       "9     Windows\n",
       "10    Windows\n",
       "11    Windows\n",
       "12    Windows\n",
       "13    Windows\n",
       "14    Windows\n",
       "15    Windows\n",
       "16    Windows\n",
       "17    Windows\n",
       "46    Windows\n",
       "54    Windows\n",
       "55    Windows\n",
       "...\n",
       "231284    Windows\n",
       "231286    Windows\n",
       "231287    Windows\n",
       "231288    Windows\n",
       "231295    Windows\n",
       "231299    Windows\n",
       "231300    Windows\n",
       "231303    Windows\n",
       "231310    Windows\n",
       "231336    Windows\n",
       "231350    Windows\n",
       "231371    Windows\n",
       "231388    Windows\n",
       "231389      Linux\n",
       "231390      Linux\n",
       "Name: os, Length: 57970, dtype: object"
      ]
     },
     "execution_count": 4,
     "metadata": {},
     "output_type": "execute_result"
    }
   ],
   "source": [
    "bid_data[0]['os']"
   ]
  },
  {
   "cell_type": "code",
   "execution_count": null,
   "metadata": {
    "collapsed": true
   },
   "outputs": [],
   "source": []
  }
 ],
 "metadata": {
  "kernelspec": {
   "display_name": "Python 2",
   "language": "python",
   "name": "python2"
  },
  "language_info": {
   "codemirror_mode": {
    "name": "ipython",
    "version": 2
   },
   "file_extension": ".py",
   "mimetype": "text/x-python",
   "name": "python",
   "nbconvert_exporter": "python",
   "pygments_lexer": "ipython2",
   "version": "2.7.9"
  }
 },
 "nbformat": 4,
 "nbformat_minor": 0
}
