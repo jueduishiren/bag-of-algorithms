{
 "cells": [
  {
   "cell_type": "code",
   "execution_count": 45,
   "metadata": {
    "collapsed": true
   },
   "outputs": [],
   "source": [
    "%matplotlib inline"
   ]
  },
  {
   "cell_type": "code",
   "execution_count": 3,
   "metadata": {
    "collapsed": true
   },
   "outputs": [],
   "source": [
    "from crontab import CronTab"
   ]
  },
  {
   "cell_type": "code",
   "execution_count": 4,
   "metadata": {
    "collapsed": false
   },
   "outputs": [],
   "source": [
    "cron = CronTab(tabfile = '/Users/sshegheva/workspace/bag-of-algorithms/data/crontab_text.txt')"
   ]
  },
  {
   "cell_type": "code",
   "execution_count": 5,
   "metadata": {
    "collapsed": false
   },
   "outputs": [
    {
     "name": "stdout",
     "output_type": "stream",
     "text": [
      "44 11 * * * date >> /opt/dataxu/dxuser/mycrondate\n",
      "# 54 15 * * * date > /tmp/date.log\n",
      "# 23 15 * * * date > /tmp/date2.log\n",
      "# 23 19 * * * date > /tmp/date3.log\n",
      "* * * * * /sbin/utc_sync_script.sh\n",
      "2 16 * * * /opt/dataxu/dxuser/echodb.sh >& /tmp/echodb\n",
      "5 0,6,10,14,18,22 * * * /var/www/analyticsDashboard/scripts/matchRate/makeSite.sh >& /var/www/analyticsDashboard/tmp/matchRate.log\n",
      "25 23 * * * /var/www/analyticsDashboard/scripts/clusterUse/makeSite.sh >& /tmp/clusterUse.log\n",
      "5 5 * * * /var/www/analyticsDashboard/scripts/spendReport/paceSpend.sh >& /tmp/pace_spend.log\n",
      "10 * * * * /var/www/analyticsDashboard/scripts/spendReport/spend.sh >& /tmp/spend_report.log\n",
      "1 1 * * * /var/www/analyticsDashboard/scripts/rocPlot/roc.sh >& /tmp/roc.log\n",
      "12 20 * * * /var/www/analyticsDashboard/scripts/rateCurve3Dv3/ratecurve.sh >& /tmp/ratecurve.log\n",
      "35 13 * * * /var/www/analyticsDashboard/scripts/cpa/cpav2.sh\n",
      "# 10 8 * * * /var/www/analyticsDashboard/scripts/tuningExperiments/getPlots.sh\n",
      "2 8 * * * /var/www/analyticsDashboard/siteStatistics/copySiteAnalytics.sh\n",
      "1 6 * * * /var/www/analyticsDashboard/scripts/abReport/makeSite.sh >& /tmp/abReport.log\n",
      "0 */6 * * * /var/www/analyticsDashboard/scripts/rateControl/run_rate_control.sh >& /tmp/ratecontrolReport.log\n",
      "5 7,17,23 * * * /var/www/analyticsDashboard/scripts/campaignBlackList-2.0/runBlackListQuery.sh >& /tmp/campaignBlackList.log\n",
      "50 23 * * * /var/www/analyticsDashboard/scripts/campaignBlackList-2.0/check_blacklists.sh\n",
      "50 23 * * * cd /opt/dxlearn/learn-tests/src/test; ./bin/run_metrics.sh &> /opt/dxlearn/learn-tests/src/test/metric.log\n",
      "10 6 * * * /var/www/analyticsDashboard/scripts/all-auto-lists/make_monitoring_page.sh\n",
      "# 1 9 * * * /var/www/analyticsDashboard/scripts/cpa-spend/get_cpa_vs_spend.sh\n",
      "0 15 * * * /var/www/analyticsDashboard/scripts/bidModeAnalysis/generateBidModeAnalysis.sh\n",
      "0 12 * * * /var/www/analyticsDashboard/scripts/winningPriceChart/bidPrice.sh >& /tmp/bid_price.log\n",
      "0 11 * * * /var/www/analyticsDashboard/scripts/winningPriceChart/cpmAnalysis.sh >& /tmp/cpm_analysis.log\n",
      "# 31 9 * * * /var/www/analyticsDashboard/DXchange/connect_all.sh\n",
      "# 0 9 * * * /var/www/analyticsDashboard/DXchangeClicks/connect_all.sh\n",
      "0 10 * * * /var/www/analyticsDashboard/scripts/global-blacklist/globalBlacklistGenerator/generate.sh\n",
      "# 0 9 * * * /var/www/analyticsDashboard/viewabilityBlacklist/run_all_scripts.sh >& /tmp/viewability_run_all_scripts.out\n",
      "0 9 * * * /var/www/analyticsDashboard/summary/data/campaign_names_command.sh >& /var/www/analyticsDashboard/summary/data/campaign_names_command.log\n",
      "0 10 * * * /var/www/analyticsDashboard/scripts/spendRate/process_spend.sh >& /var/www/analyticsDashboard/scripts/spendRate/process_spend.log\n",
      "31 9 * * * /var/www/analyticsDashboard/scripts/portfolioManagement/generateTrails.sh >& /tmp/portfolio.log\n",
      "30 11 * * * /var/www/analyticsDashboard/scripts/lift-d3/lift_d3_update.sh >& /var/www/analyticsDashboard/scripts/lift-d3/last_cron_run.out\n",
      "5 3 * * * /var/www/analyticsDashboard/scripts/lift-2.2/get_current_cpm.sh >& /tmp/get_current_cpm.out\n",
      "10 3 * * * /var/www/analyticsDashboard/scripts/lift-3.0/get_current_cpm.sh >& /tmp/get_current_cpm_3.0.out\n",
      "5 13 * * * /var/www/analyticsDashboard/scripts/lift-2.2/get_one_day_ago_lift.sh >& /tmp/get_one_day_ago_lift_2.2.out\n",
      "18 14 * * * /var/www/analyticsDashboard/scripts/lift-3.0/get_one_day_ago_lift.sh >& /tmp/get_one_day_ago_lift_3.0.out\n",
      "23 20 * * Tue /var/www/analyticsDashboard/scripts/lift-2.2/cleanup_lifts.sh >& /tmp/cleanup_lifts.out\n",
      "40 20 * * Tue /var/www/analyticsDashboard/scripts/lift-3.0/cleanup_lifts.sh >& /tmp/cleanup_lifts.3.0.out\n",
      "# 23 13 * * 4 /var/www/analyticsDashboard/scripts/lift-2.2/send_lift_report.sh >& /tmp/send_lift_report.out\n",
      "23 13 * * 4 /var/www/analyticsDashboard/scripts/lift-3.0/send_lift_report.sh >& /tmp/send_lift_report.3.0.out\n",
      "# 35 10 * * * /var/www/analyticsDashboard/scripts/algorithm_info/get_algorithm_changes.sh >& /tmp/get_algorithm_changes.out\n",
      "# 0 7 * * * /var/www/analyticsDashboard/cruiseControl/realtime/script/update.sh\n",
      "# 0 12 * * * /var/www/analyticsDashboard/cruiseControl/realtime/script/update.sh\n",
      "# 0 16 * * * /var/www/analyticsDashboard/cruiseControl/realtime/script/update.sh\n",
      "5 17 * * * /var/www/analyticsDashboard/scripts/cc-coverage-usage/get_cc_stats_v2.sh >& /tmp/get_cc_stats.out\n",
      "5 18 * * 1 /var/www/analyticsDashboard/scripts/cc-coverage-usage/send_cc_report.sh >& /tmp/send_cc_report.out\n",
      "0 6 * * * /var/www/analyticsDashboard/scripts/budget-allocation/prepare_and_run_daily_campaign_data.sh >& /var/www/analyticsDashboard/scripts/budget-allocation/logs/run.log\n",
      "# 10 6 * * * /var/www/analyticsDashboard/scripts/budget-allocation-v2/prepare_and_run_daily_campaign_data.sh >& /var/www/analyticsDashboard/scripts/budget-allocation-v2/logs/run.log\n",
      "# 0 23 * * * ~dataxu/scripts/pixel-drop/pixel_firing_runner.sh > ~dataxu/scripts/pixel-drop/last_cron_run.out 2>&1\n",
      "# 0 11 * * 5 ~dataxu/scripts/sentinel-rules/cron_wrapper.sh > ~dataxu/scripts/sentinel-rules/last_cron_run.out 2>&1\n",
      "0 10 * * * ~dataxu/scripts/budget-aware-blacklist/bab_runner.sh > ~dataxu/scripts/budget-aware-blacklist/last_cron_run.out 2>&1\n",
      "0 1 * * 1,4 ~dataxu/scripts/budget-aware-blacklist/site_update_runner.sh > ~dataxu/scripts/budget-aware-blacklist/last_site_cron_run.out 2>&1\n",
      "10 * * * * rsync openrtb-app01.sldc.dataxu.net:/opt/emissary/logs/openrtb/openrtb.log /var/www/analyticsDashboard/dataFiles/openrtb-logs/\n",
      "10 6 * * * rsync openrtb-app01.sldc.dataxu.net:/opt/emissary/logs/openrtb/openrtb.log.`date +\\%Y-\\%m-\\%d -d 'yesterday'` /var/www/analyticsDashboard/dataFiles/openrtb-logs/openrtb.yesterday.log\n",
      "40 20 * * * /var/www/analyticsDashboard/scripts/flight-health/data/campaign_names_command.sh &> /var/www/analyticsDashboard/scripts/flight-health/data/campaign_names_command.log\n",
      "0 5 * * * /var/www/analyticsDashboard/scripts/campaignImpressionFrequency/code/script.sh >& /tmp/campaignfrequency.log\n",
      "10 0 * * * /var/www/analyticsDashboard/phpFiles/campaign-changelog/daily_maintenance.sh  >& /tmp/campaign_changelog.out\n",
      "6 17 * * * /var/www/analyticsDashboard/scripts/featureSelectionPrettyPrint/script.sh >* /var/www/analyticsDashboard/scripts/featureSelectionPrettyPrint/log.out\n",
      "2 17 * * * /opt/dataxu/dxuser/click-forensics/script.sh >& /tmp/clicks_feeder.out\n",
      "0 19 * * * /opt/dataxu/dxuser/click-forensics/check_script.sh >& /tmp/clicks_feeder_checker.out\n",
      "# * * * * * $CRON_WRAPPER \"env\" env\n",
      "# * * * * * $CRON_WRAPPER \"python\" python -c \"print(2+5)\"\n",
      "# * * * * * $CRON_WRAPPER \"my_date\" date '+\\%Y'\n",
      "10 20 * * * $CRON_WRAPPER \"video_rep\" $PSBOX/utils/video_reporting/video_rep_cron.sh\n",
      "40 16 * * * $CRON_WRAPPER \"rate_control_rates\" $PSBOX/utils/rate_control/dump_rates_cron.sh 'today'\n",
      "10 16 * * * $CRON_WRAPPER \"segment_dump\" $PSBOX/utils/segment_dumper/run_me.sh\n",
      "30 16 * * * $CRON_WRAPPER \"conversion_rates\" /var/www/analyticsDashboard/scripts/portfolioManagement/amelioGenerateTrails.sh\n",
      "0 19 * * * $CRON_WRAPPER \"flight_deal\" python $PSBOX/utils/daily_rollups/get_flight_deal.py\n",
      "0 18 * * * $CRON_WRAPPER \"flight_spend_and_attributions\" python $PSBOX/utils/daily_rollups/run_daily_query.py --query=flight_spend_and_attributions.sql\n",
      "10 18 * * * $CRON_WRAPPER \"flight_spend_to_date\" python $PSBOX/utils/daily_rollups/run_daily_query.py --query=flight_spend_to_date.sql\n",
      "# 30 19 * * * $CRON_WRAPPER \"flight_exchange\" python $PSBOX/utils/daily_rollups/get_flight_exchange.py\n",
      "33 16 * * * /opt/dataxu/dxuser/scripts/always-on-good-data/good_data_loader_cron.sh &> /tmp/always_on_good_data.out\n",
      "45 8 * * * /opt/dataxu/dxuser/scripts/exchange-spend/exchange_spend_cron.sh &> /tmp/exchange_spend_gooddata.out\n",
      "30 8 * * 2 /var/www/analyticsDashboard/scripts/net-revenue/send_net_revenue.sh  >& /tmp/send_net_revenue.out\n",
      "30 19 * * * /opt/dataxu/dxuser/scripts/spend-max/cron_runner.sh &> /tmp/max-spend-run\n",
      "0 5 * * * rsync -avz --delete ls-brain02.sldc.dataxu.net:/opt/dxlearn/learn-tests/src/test/target/regression-results  /var/www/analyticsDashboard/dataFiles/ml-regression-test\n",
      "7 19 * * 4 /opt/dataxu/dxuser/scripts/six-sigma/cron-scripts/cron_wrapper.sh account_managers.sh\n",
      "# 10 19 * * * /opt/dataxu/dxuser/scripts/six-sigma/cron-scripts/cron_wrapper.sh bootstrap_cruise_control_logs.sh\n",
      "7 19 * * * /opt/dataxu/dxuser/scripts/six-sigma/cron-scripts/cron_wrapper.sh cruise_control_elapsed_time.sh\n",
      "20 19 * * * /opt/dataxu/dxuser/scripts/six-sigma/cron-scripts/cron_wrapper.sh cruise_control_error_codes.sh\n",
      "# 30 19 * * * /opt/dataxu/dxuser/scripts/six-sigma/cron-scripts/cron_wrapper.sh cruise_control_no_suggestions.sh\n",
      "5 11 * * * /opt/dataxu/dxuser/scripts/six-sigma/cron-scripts/google_disapproved_creatives.sh\n",
      "0 21 * * * /opt/dataxu/dxuser/scripts/six-sigma/cron-scripts/pixel_drop.sh\n",
      "# 0 17 * * * /opt/dataxu/dxuser/scripts/six-sigma/cron-scripts/spend_forecasting.sh\n",
      "0 11 * * 5 /opt/dataxu/dxuser/scripts/six-sigma/cron-scripts/sentinel_flight.sh\n",
      "23 13 * * 2,5 /opt/dataxu/dxuser/scripts/six-sigma/cron-scripts/algorithm_alerts.sh >& /tmp/algoalert.log\n",
      "25 13 * * 1,4 /opt/dataxu/dxuser/scripts/six-sigma/cron-scripts/empty_segment.sh\n",
      "0 19 * * * /opt/dataxu/dxuser/scripts/six-sigma/cron-scripts/cron_wrapper.sh roc_alerts.sh\n",
      "30 */6 * * * /opt/dataxu/dxuser/scripts/six-sigma/cron-scripts/reckitt_inventory_drop.sh >& /tmp/reckitt-alert.log\n",
      "41 19 * * 4 /opt/dataxu/dxuser/scripts/six-sigma/cron-scripts/pixel_alerts_config_updater.sh >& /tmp/pixel_alert_config_update.log\n",
      "0 20 * * * /opt/dataxu/dxuser/auto-cruise-control/bin/cron_wrapper.sh run_coverage_report.sh\n",
      "30 17 * * * /opt/dataxu/dxuser/spend-predictor/spend-forecasting-evaluator/bin/cron_wrapper.sh run_evaluation_metric.sh\n",
      "10 0 * * * /opt/dataxu/dxuser/spend-predictor/spend-forecasting-evaluator/bin/cron_wrapper.sh run_audience_evaluation.sh\n",
      "0 12 * * * /var/www/analyticsDashboard/scripts/campaignImpressionFrequency/code/script.sh\n",
      "0 11 * * * /var/www/analyticsDashboard/scripts/ctsAnalysis/script.sh\n",
      "30 11 * * * /var/www/analyticsDashboard/scripts/iasAnalysis/generateIASData.sh\n",
      "2 16 * * * /opt/dataxu/dxuser/scripts/budget-aware-whitelist/cron-scripts/whitelist_runner.sh &> /tmp/whitelist.out\n",
      "20 22 * * 5 /opt/dataxu/dxuser/scripts/budget-aware-whitelist/cron-scripts/rwh_country_site_data_runner.sh &> /tmp/whitelist_sites_country.sh\n",
      "30 9 * * * /opt/dataxu/dxuser/scripts/reckitt-inventory-alerts/plotter.sh >& /tmp/reckitt-plots.log\n",
      "37 18 * * * /opt/dataxu/dxuser/scripts/viewability-classifier/summary-dashboard/cron-scripts/dashboard_update.sh &> /tmp/viewability_dashboard.log\n",
      "49 20 * * 2,5 /opt/dataxu/dxuser/scripts/viewability-classifier/summary-dashboard/cron-scripts/viewability_domain_list_update.sh &> /tmp/viewability_domain_list.log\n",
      "42 16 * * 0 /opt/dataxu/dxuser/scripts/viewability-classifier/peekaboo_rules/peekaboo_cron_updater.sh &> /tmp/peekaboo_updater.log\n",
      "10 13 * * * /var/www/analyticsDashboard/scripts/bid-win-plots/update_bid_win_plots.sh >& /tmp/update_bid_win_plots.log\n",
      "0 22 * * 0 /opt/dataxu/dxuser/scripts/hierarchical-attribution/hierarchical_attributions_cron.sh &> /tmp/hierarchical_attributions.out\n"
     ]
    }
   ],
   "source": [
    "for job in cron:\n",
    "    print job"
   ]
  },
  {
   "cell_type": "code",
   "execution_count": 6,
   "metadata": {
    "collapsed": false
   },
   "outputs": [],
   "source": [
    "first_cron = cron[0]"
   ]
  },
  {
   "cell_type": "code",
   "execution_count": 7,
   "metadata": {
    "collapsed": false
   },
   "outputs": [
    {
     "data": {
      "text/plain": [
       "u'date >> /opt/dataxu/dxuser/mycrondate'"
      ]
     },
     "execution_count": 7,
     "metadata": {},
     "output_type": "execute_result"
    }
   ],
   "source": [
    "first_cron.command"
   ]
  },
  {
   "cell_type": "code",
   "execution_count": 28,
   "metadata": {
    "collapsed": false
   },
   "outputs": [
    {
     "data": {
      "text/plain": [
       "<CronJob '44 11 * * * date >> /opt/dataxu/dxuser/mycrondate'>"
      ]
     },
     "execution_count": 28,
     "metadata": {},
     "output_type": "execute_result"
    }
   ],
   "source": [
    "first_cron"
   ]
  },
  {
   "cell_type": "code",
   "execution_count": 11,
   "metadata": {
    "collapsed": true
   },
   "outputs": [],
   "source": [
    "from datetime import datetime"
   ]
  },
  {
   "cell_type": "code",
   "execution_count": 32,
   "metadata": {
    "collapsed": false
   },
   "outputs": [],
   "source": [
    "sc = first_cron.schedule(date_from=datetime.now())"
   ]
  },
  {
   "cell_type": "code",
   "execution_count": 13,
   "metadata": {
    "collapsed": false
   },
   "outputs": [
    {
     "data": {
      "text/plain": [
       "1425660240.0"
      ]
     },
     "execution_count": 13,
     "metadata": {},
     "output_type": "execute_result"
    }
   ],
   "source": [
    "sc.next()"
   ]
  },
  {
   "cell_type": "code",
   "execution_count": 34,
   "metadata": {
    "collapsed": false
   },
   "outputs": [
    {
     "data": {
      "text/plain": [
       "datetime.datetime(2015, 3, 6, 11, 44)"
      ]
     },
     "execution_count": 34,
     "metadata": {},
     "output_type": "execute_result"
    }
   ],
   "source": [
    "sc.get_next()"
   ]
  },
  {
   "cell_type": "code",
   "execution_count": 35,
   "metadata": {
    "collapsed": true
   },
   "outputs": [],
   "source": [
    "data = []\n",
    "def create_cron_df():\n",
    "    for job in cron:\n",
    "        sc = job.schedule(date_from=datetime.now())\n",
    "        command = job.command\n",
    "        print command\n",
    "        time = sc.get_next()\n",
    "        print time\n",
    "        data.append([command, sc.get_current()])\n",
    "        "
   ]
  },
  {
   "cell_type": "code",
   "execution_count": 36,
   "metadata": {
    "collapsed": false
   },
   "outputs": [
    {
     "name": "stdout",
     "output_type": "stream",
     "text": [
      "date >> /opt/dataxu/dxuser/mycrondate\n",
      "2015-03-06 11:44:00\n",
      "date > /tmp/date.log\n",
      "2015-03-06 15:54:00\n",
      "date > /tmp/date2.log\n",
      "2015-03-06 15:23:00\n",
      "date > /tmp/date3.log\n",
      "2015-03-05 19:23:00\n",
      "/sbin/utc_sync_script.sh\n",
      "2015-03-05 17:58:00\n",
      "/opt/dataxu/dxuser/echodb.sh >& /tmp/echodb\n",
      "2015-03-06 16:02:00\n",
      "/var/www/analyticsDashboard/scripts/matchRate/makeSite.sh >& /var/www/analyticsDashboard/tmp/matchRate.log\n",
      "2015-03-05 18:05:00\n",
      "/var/www/analyticsDashboard/scripts/clusterUse/makeSite.sh >& /tmp/clusterUse.log\n",
      "2015-03-05 23:25:00\n",
      "/var/www/analyticsDashboard/scripts/spendReport/paceSpend.sh >& /tmp/pace_spend.log\n",
      "2015-03-06 05:05:00\n",
      "/var/www/analyticsDashboard/scripts/spendReport/spend.sh >& /tmp/spend_report.log\n",
      "2015-03-05 18:10:00\n",
      "/var/www/analyticsDashboard/scripts/rocPlot/roc.sh >& /tmp/roc.log\n",
      "2015-03-06 01:01:00\n",
      "/var/www/analyticsDashboard/scripts/rateCurve3Dv3/ratecurve.sh >& /tmp/ratecurve.log\n",
      "2015-03-05 20:12:00\n",
      "/var/www/analyticsDashboard/scripts/cpa/cpav2.sh\n",
      "2015-03-06 13:35:00\n",
      "/var/www/analyticsDashboard/scripts/tuningExperiments/getPlots.sh\n",
      "2015-03-06 08:10:00\n",
      "/var/www/analyticsDashboard/siteStatistics/copySiteAnalytics.sh\n",
      "2015-03-06 08:02:00\n",
      "/var/www/analyticsDashboard/scripts/abReport/makeSite.sh >& /tmp/abReport.log\n",
      "2015-03-06 06:01:00\n",
      "/var/www/analyticsDashboard/scripts/rateControl/run_rate_control.sh >& /tmp/ratecontrolReport.log\n",
      "2015-03-05 18:00:00\n",
      "/var/www/analyticsDashboard/scripts/campaignBlackList-2.0/runBlackListQuery.sh >& /tmp/campaignBlackList.log\n",
      "2015-03-05 23:05:00\n",
      "/var/www/analyticsDashboard/scripts/campaignBlackList-2.0/check_blacklists.sh\n",
      "2015-03-05 23:50:00\n",
      "cd /opt/dxlearn/learn-tests/src/test; ./bin/run_metrics.sh &> /opt/dxlearn/learn-tests/src/test/metric.log\n",
      "2015-03-05 23:50:00\n",
      "/var/www/analyticsDashboard/scripts/all-auto-lists/make_monitoring_page.sh\n",
      "2015-03-06 06:10:00\n",
      "/var/www/analyticsDashboard/scripts/cpa-spend/get_cpa_vs_spend.sh\n",
      "2015-03-06 09:01:00\n",
      "/var/www/analyticsDashboard/scripts/bidModeAnalysis/generateBidModeAnalysis.sh\n",
      "2015-03-06 15:00:00\n",
      "/var/www/analyticsDashboard/scripts/winningPriceChart/bidPrice.sh >& /tmp/bid_price.log\n",
      "2015-03-06 12:00:00\n",
      "/var/www/analyticsDashboard/scripts/winningPriceChart/cpmAnalysis.sh >& /tmp/cpm_analysis.log\n",
      "2015-03-06 11:00:00\n",
      "/var/www/analyticsDashboard/DXchange/connect_all.sh\n",
      "2015-03-06 09:31:00\n",
      "/var/www/analyticsDashboard/DXchangeClicks/connect_all.sh\n",
      "2015-03-06 09:00:00\n",
      "/var/www/analyticsDashboard/scripts/global-blacklist/globalBlacklistGenerator/generate.sh\n",
      "2015-03-06 10:00:00\n",
      "/var/www/analyticsDashboard/viewabilityBlacklist/run_all_scripts.sh >& /tmp/viewability_run_all_scripts.out\n",
      "2015-03-06 09:00:00\n",
      "/var/www/analyticsDashboard/summary/data/campaign_names_command.sh >& /var/www/analyticsDashboard/summary/data/campaign_names_command.log\n",
      "2015-03-06 09:00:00\n",
      "/var/www/analyticsDashboard/scripts/spendRate/process_spend.sh >& /var/www/analyticsDashboard/scripts/spendRate/process_spend.log\n",
      "2015-03-06 10:00:00\n",
      "/var/www/analyticsDashboard/scripts/portfolioManagement/generateTrails.sh >& /tmp/portfolio.log\n",
      "2015-03-06 09:31:00\n",
      "/var/www/analyticsDashboard/scripts/lift-d3/lift_d3_update.sh >& /var/www/analyticsDashboard/scripts/lift-d3/last_cron_run.out\n",
      "2015-03-06 11:30:00\n",
      "/var/www/analyticsDashboard/scripts/lift-2.2/get_current_cpm.sh >& /tmp/get_current_cpm.out\n",
      "2015-03-06 03:05:00\n",
      "/var/www/analyticsDashboard/scripts/lift-3.0/get_current_cpm.sh >& /tmp/get_current_cpm_3.0.out\n",
      "2015-03-06 03:10:00\n",
      "/var/www/analyticsDashboard/scripts/lift-2.2/get_one_day_ago_lift.sh >& /tmp/get_one_day_ago_lift_2.2.out\n",
      "2015-03-06 13:05:00\n",
      "/var/www/analyticsDashboard/scripts/lift-3.0/get_one_day_ago_lift.sh >& /tmp/get_one_day_ago_lift_3.0.out\n",
      "2015-03-06 14:18:00\n",
      "/var/www/analyticsDashboard/scripts/lift-2.2/cleanup_lifts.sh >& /tmp/cleanup_lifts.out\n",
      "2015-03-10 20:23:00\n",
      "/var/www/analyticsDashboard/scripts/lift-3.0/cleanup_lifts.sh >& /tmp/cleanup_lifts.3.0.out\n",
      "2015-03-10 20:40:00\n",
      "/var/www/analyticsDashboard/scripts/lift-2.2/send_lift_report.sh >& /tmp/send_lift_report.out\n",
      "2015-03-12 13:23:00\n",
      "/var/www/analyticsDashboard/scripts/lift-3.0/send_lift_report.sh >& /tmp/send_lift_report.3.0.out\n",
      "2015-03-12 13:23:00\n",
      "/var/www/analyticsDashboard/scripts/algorithm_info/get_algorithm_changes.sh >& /tmp/get_algorithm_changes.out\n",
      "2015-03-06 10:35:00\n",
      "/var/www/analyticsDashboard/cruiseControl/realtime/script/update.sh\n",
      "2015-03-06 07:00:00\n",
      "/var/www/analyticsDashboard/cruiseControl/realtime/script/update.sh\n",
      "2015-03-06 12:00:00\n",
      "/var/www/analyticsDashboard/cruiseControl/realtime/script/update.sh\n",
      "2015-03-06 16:00:00\n",
      "/var/www/analyticsDashboard/scripts/cc-coverage-usage/get_cc_stats_v2.sh >& /tmp/get_cc_stats.out\n",
      "2015-03-06 17:05:00\n",
      "/var/www/analyticsDashboard/scripts/cc-coverage-usage/send_cc_report.sh >& /tmp/send_cc_report.out\n",
      "2015-03-09 18:05:00\n",
      "/var/www/analyticsDashboard/scripts/budget-allocation/prepare_and_run_daily_campaign_data.sh >& /var/www/analyticsDashboard/scripts/budget-allocation/logs/run.log\n",
      "2015-03-06 06:00:00\n",
      "/var/www/analyticsDashboard/scripts/budget-allocation-v2/prepare_and_run_daily_campaign_data.sh >& /var/www/analyticsDashboard/scripts/budget-allocation-v2/logs/run.log\n",
      "2015-03-06 06:10:00\n",
      "~dataxu/scripts/pixel-drop/pixel_firing_runner.sh > ~dataxu/scripts/pixel-drop/last_cron_run.out 2>&1\n",
      "2015-03-05 23:00:00\n",
      "~dataxu/scripts/sentinel-rules/cron_wrapper.sh > ~dataxu/scripts/sentinel-rules/last_cron_run.out 2>&1\n",
      "2015-03-06 11:00:00\n",
      "~dataxu/scripts/budget-aware-blacklist/bab_runner.sh > ~dataxu/scripts/budget-aware-blacklist/last_cron_run.out 2>&1\n",
      "2015-03-06 10:00:00\n",
      "~dataxu/scripts/budget-aware-blacklist/site_update_runner.sh > ~dataxu/scripts/budget-aware-blacklist/last_site_cron_run.out 2>&1\n",
      "2015-03-09 01:00:00\n",
      "rsync openrtb-app01.sldc.dataxu.net:/opt/emissary/logs/openrtb/openrtb.log /var/www/analyticsDashboard/dataFiles/openrtb-logs/\n",
      "2015-03-05 18:10:00\n",
      "rsync openrtb-app01.sldc.dataxu.net:/opt/emissary/logs/openrtb/openrtb.log.`date +\\%Y-\\%m-\\%d -d 'yesterday'` /var/www/analyticsDashboard/dataFiles/openrtb-logs/openrtb.yesterday.log\n",
      "2015-03-06 06:10:00\n",
      "/var/www/analyticsDashboard/scripts/flight-health/data/campaign_names_command.sh &> /var/www/analyticsDashboard/scripts/flight-health/data/campaign_names_command.log\n",
      "2015-03-05 20:40:00\n",
      "/var/www/analyticsDashboard/scripts/campaignImpressionFrequency/code/script.sh >& /tmp/campaignfrequency.log\n",
      "2015-03-06 05:00:00\n",
      "/var/www/analyticsDashboard/phpFiles/campaign-changelog/daily_maintenance.sh  >& /tmp/campaign_changelog.out\n",
      "2015-03-06 00:10:00\n",
      "/var/www/analyticsDashboard/scripts/featureSelectionPrettyPrint/script.sh >* /var/www/analyticsDashboard/scripts/featureSelectionPrettyPrint/log.out\n",
      "2015-03-06 17:06:00\n",
      "/opt/dataxu/dxuser/click-forensics/script.sh >& /tmp/clicks_feeder.out\n",
      "2015-03-06 17:02:00\n",
      "/opt/dataxu/dxuser/click-forensics/check_script.sh >& /tmp/clicks_feeder_checker.out\n",
      "2015-03-05 19:00:00\n",
      "$CRON_WRAPPER \"env\" env\n",
      "2015-03-05 17:58:00\n",
      "$CRON_WRAPPER \"python\" python -c \"print(2+5)\"\n",
      "2015-03-05 17:58:00\n",
      "$CRON_WRAPPER \"my_date\" date '+\\%Y'\n",
      "2015-03-05 17:58:00\n",
      "$CRON_WRAPPER \"video_rep\" $PSBOX/utils/video_reporting/video_rep_cron.sh\n",
      "2015-03-05 20:10:00\n",
      "$CRON_WRAPPER \"rate_control_rates\" $PSBOX/utils/rate_control/dump_rates_cron.sh 'today'\n",
      "2015-03-06 16:40:00\n",
      "$CRON_WRAPPER \"segment_dump\" $PSBOX/utils/segment_dumper/run_me.sh\n",
      "2015-03-06 16:10:00\n",
      "$CRON_WRAPPER \"conversion_rates\" /var/www/analyticsDashboard/scripts/portfolioManagement/amelioGenerateTrails.sh\n",
      "2015-03-06 16:30:00\n",
      "$CRON_WRAPPER \"flight_deal\" python $PSBOX/utils/daily_rollups/get_flight_deal.py\n",
      "2015-03-05 19:00:00\n",
      "$CRON_WRAPPER \"flight_spend_and_attributions\" python $PSBOX/utils/daily_rollups/run_daily_query.py --query=flight_spend_and_attributions.sql\n",
      "2015-03-05 18:00:00\n",
      "$CRON_WRAPPER \"flight_spend_to_date\" python $PSBOX/utils/daily_rollups/run_daily_query.py --query=flight_spend_to_date.sql\n",
      "2015-03-05 18:10:00\n",
      "$CRON_WRAPPER \"flight_exchange\" python $PSBOX/utils/daily_rollups/get_flight_exchange.py\n",
      "2015-03-05 19:30:00\n",
      "/opt/dataxu/dxuser/scripts/always-on-good-data/good_data_loader_cron.sh &> /tmp/always_on_good_data.out\n",
      "2015-03-06 16:33:00\n",
      "/opt/dataxu/dxuser/scripts/exchange-spend/exchange_spend_cron.sh &> /tmp/exchange_spend_gooddata.out\n",
      "2015-03-06 08:45:00\n",
      "/var/www/analyticsDashboard/scripts/net-revenue/send_net_revenue.sh  >& /tmp/send_net_revenue.out\n",
      "2015-03-10 08:30:00\n",
      "/opt/dataxu/dxuser/scripts/spend-max/cron_runner.sh &> /tmp/max-spend-run\n",
      "2015-03-05 19:30:00\n",
      "rsync -avz --delete ls-brain02.sldc.dataxu.net:/opt/dxlearn/learn-tests/src/test/target/regression-results  /var/www/analyticsDashboard/dataFiles/ml-regression-test\n",
      "2015-03-06 05:00:00\n",
      "/opt/dataxu/dxuser/scripts/six-sigma/cron-scripts/cron_wrapper.sh account_managers.sh\n",
      "2015-03-05 19:07:00\n",
      "/opt/dataxu/dxuser/scripts/six-sigma/cron-scripts/cron_wrapper.sh bootstrap_cruise_control_logs.sh\n",
      "2015-03-05 19:10:00\n",
      "/opt/dataxu/dxuser/scripts/six-sigma/cron-scripts/cron_wrapper.sh cruise_control_elapsed_time.sh\n",
      "2015-03-05 19:07:00\n",
      "/opt/dataxu/dxuser/scripts/six-sigma/cron-scripts/cron_wrapper.sh cruise_control_error_codes.sh\n",
      "2015-03-05 19:20:00\n",
      "/opt/dataxu/dxuser/scripts/six-sigma/cron-scripts/cron_wrapper.sh cruise_control_no_suggestions.sh\n",
      "2015-03-05 19:30:00\n",
      "/opt/dataxu/dxuser/scripts/six-sigma/cron-scripts/google_disapproved_creatives.sh\n",
      "2015-03-06 11:05:00\n",
      "/opt/dataxu/dxuser/scripts/six-sigma/cron-scripts/pixel_drop.sh\n",
      "2015-03-05 21:00:00\n",
      "/opt/dataxu/dxuser/scripts/six-sigma/cron-scripts/spend_forecasting.sh\n",
      "2015-03-06 17:00:00\n",
      "/opt/dataxu/dxuser/scripts/six-sigma/cron-scripts/sentinel_flight.sh\n",
      "2015-03-06 11:00:00\n",
      "/opt/dataxu/dxuser/scripts/six-sigma/cron-scripts/algorithm_alerts.sh >& /tmp/algoalert.log\n",
      "2015-03-06 13:23:00\n",
      "/opt/dataxu/dxuser/scripts/six-sigma/cron-scripts/empty_segment.sh\n",
      "2015-03-09 13:25:00\n",
      "/opt/dataxu/dxuser/scripts/six-sigma/cron-scripts/cron_wrapper.sh roc_alerts.sh\n",
      "2015-03-05 19:00:00\n",
      "/opt/dataxu/dxuser/scripts/six-sigma/cron-scripts/reckitt_inventory_drop.sh >& /tmp/reckitt-alert.log\n",
      "2015-03-05 18:30:00\n",
      "/opt/dataxu/dxuser/scripts/six-sigma/cron-scripts/pixel_alerts_config_updater.sh >& /tmp/pixel_alert_config_update.log\n",
      "2015-03-05 19:41:00\n",
      "/opt/dataxu/dxuser/auto-cruise-control/bin/cron_wrapper.sh run_coverage_report.sh\n",
      "2015-03-05 20:00:00\n",
      "/opt/dataxu/dxuser/spend-predictor/spend-forecasting-evaluator/bin/cron_wrapper.sh run_evaluation_metric.sh\n",
      "2015-03-06 17:30:00\n",
      "/opt/dataxu/dxuser/spend-predictor/spend-forecasting-evaluator/bin/cron_wrapper.sh run_audience_evaluation.sh\n",
      "2015-03-06 00:10:00\n",
      "/var/www/analyticsDashboard/scripts/campaignImpressionFrequency/code/script.sh\n",
      "2015-03-06 12:00:00\n",
      "/var/www/analyticsDashboard/scripts/ctsAnalysis/script.sh\n",
      "2015-03-06 11:00:00\n",
      "/var/www/analyticsDashboard/scripts/iasAnalysis/generateIASData.sh\n",
      "2015-03-06 11:30:00\n",
      "/opt/dataxu/dxuser/scripts/budget-aware-whitelist/cron-scripts/whitelist_runner.sh &> /tmp/whitelist.out\n",
      "2015-03-06 16:02:00\n",
      "/opt/dataxu/dxuser/scripts/budget-aware-whitelist/cron-scripts/rwh_country_site_data_runner.sh &> /tmp/whitelist_sites_country.sh\n",
      "2015-03-06 22:20:00\n",
      "/opt/dataxu/dxuser/scripts/reckitt-inventory-alerts/plotter.sh >& /tmp/reckitt-plots.log\n",
      "2015-03-06 09:30:00\n",
      "/opt/dataxu/dxuser/scripts/viewability-classifier/summary-dashboard/cron-scripts/dashboard_update.sh &> /tmp/viewability_dashboard.log\n",
      "2015-03-05 18:37:00\n",
      "/opt/dataxu/dxuser/scripts/viewability-classifier/summary-dashboard/cron-scripts/viewability_domain_list_update.sh &> /tmp/viewability_domain_list.log\n",
      "2015-03-06 20:49:00\n",
      "/opt/dataxu/dxuser/scripts/viewability-classifier/peekaboo_rules/peekaboo_cron_updater.sh &> /tmp/peekaboo_updater.log\n",
      "2015-03-08 16:42:00\n",
      "/var/www/analyticsDashboard/scripts/bid-win-plots/update_bid_win_plots.sh >& /tmp/update_bid_win_plots.log\n",
      "2015-03-06 13:10:00\n",
      "/opt/dataxu/dxuser/scripts/hierarchical-attribution/hierarchical_attributions_cron.sh &> /tmp/hierarchical_attributions.out\n",
      "2015-03-08 22:00:00\n"
     ]
    }
   ],
   "source": [
    "create_cron_df()"
   ]
  },
  {
   "cell_type": "code",
   "execution_count": 42,
   "metadata": {
    "collapsed": false
   },
   "outputs": [],
   "source": [
    "import pandas as pd\n",
    "from matplotlib.dates import date2num"
   ]
  },
  {
   "cell_type": "code",
   "execution_count": 38,
   "metadata": {
    "collapsed": true
   },
   "outputs": [],
   "source": [
    "df = pd.DataFrame.from_records(data)"
   ]
  },
  {
   "cell_type": "code",
   "execution_count": 46,
   "metadata": {
    "collapsed": false
   },
   "outputs": [
    {
     "data": {
      "text/plain": [
       "<matplotlib.axes._subplots.AxesSubplot at 0x10d7c66d0>"
      ]
     },
     "execution_count": 46,
     "metadata": {},
     "output_type": "execute_result"
    },
    {
     "data": {
      "image/png": "[encoded data removed]",
      "text/plain": [
       "<matplotlib.figure.Figure at 0x10d02bfd0>"
      ]
     },
     "metadata": {},
     "output_type": "display_data"
    }
   ],
   "source": [
    "df[1].apply(date2num).hist()"
   ]
  },
  {
   "cell_type": "code",
   "execution_count": null,
   "metadata": {
    "collapsed": true
   },
   "outputs": [],
   "source": []
  }
 ],
 "metadata": {
  "kernelspec": {
   "display_name": "Python 2",
   "language": "python",
   "name": "python2"
  },
  "language_info": {
   "codemirror_mode": {
    "name": "ipython",
    "version": 2
   },
   "file_extension": ".py",
   "mimetype": "text/x-python",
   "name": "python",
   "nbconvert_exporter": "python",
   "pygments_lexer": "ipython2",
   "version": "2.7.9"
  }
 },
 "nbformat": 4,
 "nbformat_minor": 0
}
