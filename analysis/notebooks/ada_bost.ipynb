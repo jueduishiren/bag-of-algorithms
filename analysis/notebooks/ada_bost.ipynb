{
 "metadata": {
  "name": "",
  "signature": "sha256:cad0eafcbe441babc63bda656316027303c053b9691d2e86f8a6e40e0143eff5"
 },
 "nbformat": 3,
 "nbformat_minor": 0,
 "worksheets": [
  {
   "cells": [
    {
     "cell_type": "code",
     "collapsed": false,
     "input": [
      "%matplotlib inline\n",
      "import pandas as pd"
     ],
     "language": "python",
     "metadata": {},
     "outputs": []
    },
    {
     "cell_type": "code",
     "collapsed": false,
     "input": [
      "from algo_evaluation.algos.adaboost import estimate_best_n_estimators, estimate_best_learning_rate"
     ],
     "language": "python",
     "metadata": {},
     "outputs": [
      {
       "output_type": "stream",
       "stream": "stdout",
       "text": [
        "line_width has been deprecated, use display.width instead (currently both are\n",
        "identical)\n",
        "\n"
       ]
      }
     ],
     "prompt_number": 2
    },
    {
     "cell_type": "code",
     "collapsed": false,
     "input": [
      "estimators_df = estimate_best_n_estimators()"
     ],
     "language": "python",
     "metadata": {},
     "outputs": [
      {
       "output_type": "stream",
       "stream": "stderr",
       "text": [
        "INFO:algo_evaluation:Loaded higgs training dataset of size 68114\n"
       ]
      },
      {
       "output_type": "stream",
       "stream": "stderr",
       "text": [
        "INFO:algo_evaluation:Created Ada Boost classifier with params {'n_estimators': 30, 'learning_rate': 1.0}\n"
       ]
      },
      {
       "output_type": "stream",
       "stream": "stderr",
       "text": [
        "INFO:algo_evaluation:Trained Ada Boost classifier\n"
       ]
      },
      {
       "output_type": "stream",
       "stream": "stderr",
       "text": [
        "INFO:algo_evaluation:Generated predictions\n"
       ]
      },
      {
       "output_type": "stream",
       "stream": "stderr",
       "text": [
        "INFO:algo_evaluation:Training Weighted Accuracy score = 0.837873554026\n"
       ]
      },
      {
       "output_type": "stream",
       "stream": "stderr",
       "text": [
        "INFO:algo_evaluation:Test Weighted Accuracy score = 0.832846233408\n"
       ]
      },
      {
       "output_type": "stream",
       "stream": "stderr",
       "text": [
        "INFO:algo_evaluation:Created Ada Boost classifier with params {'n_estimators': 35, 'learning_rate': 1.0}\n"
       ]
      },
      {
       "output_type": "stream",
       "stream": "stderr",
       "text": [
        "INFO:algo_evaluation:Trained Ada Boost classifier\n"
       ]
      },
      {
       "output_type": "stream",
       "stream": "stderr",
       "text": [
        "INFO:algo_evaluation:Generated predictions\n"
       ]
      },
      {
       "output_type": "stream",
       "stream": "stderr",
       "text": [
        "INFO:algo_evaluation:Training Weighted Accuracy score = 0.837274691551\n"
       ]
      },
      {
       "output_type": "stream",
       "stream": "stderr",
       "text": [
        "INFO:algo_evaluation:Test Weighted Accuracy score = 0.834168741068\n"
       ]
      },
      {
       "output_type": "stream",
       "stream": "stderr",
       "text": [
        "INFO:algo_evaluation:Created Ada Boost classifier with params {'n_estimators': 40, 'learning_rate': 1.0}\n"
       ]
      },
      {
       "output_type": "stream",
       "stream": "stderr",
       "text": [
        "INFO:algo_evaluation:Trained Ada Boost classifier\n"
       ]
      },
      {
       "output_type": "stream",
       "stream": "stderr",
       "text": [
        "INFO:algo_evaluation:Generated predictions\n"
       ]
      },
      {
       "output_type": "stream",
       "stream": "stderr",
       "text": [
        "INFO:algo_evaluation:Training Weighted Accuracy score = 0.841482130614\n"
       ]
      },
      {
       "output_type": "stream",
       "stream": "stderr",
       "text": [
        "INFO:algo_evaluation:Test Weighted Accuracy score = 0.831197911014\n"
       ]
      },
      {
       "output_type": "stream",
       "stream": "stderr",
       "text": [
        "INFO:algo_evaluation:Created Ada Boost classifier with params {'n_estimators': 45, 'learning_rate': 1.0}\n"
       ]
      },
      {
       "output_type": "stream",
       "stream": "stderr",
       "text": [
        "INFO:algo_evaluation:Trained Ada Boost classifier\n"
       ]
      },
      {
       "output_type": "stream",
       "stream": "stderr",
       "text": [
        "INFO:algo_evaluation:Generated predictions\n"
       ]
      },
      {
       "output_type": "stream",
       "stream": "stderr",
       "text": [
        "INFO:algo_evaluation:Training Weighted Accuracy score = 0.834467683243\n"
       ]
      },
      {
       "output_type": "stream",
       "stream": "stderr",
       "text": [
        "INFO:algo_evaluation:Test Weighted Accuracy score = 0.833806437925\n"
       ]
      },
      {
       "output_type": "stream",
       "stream": "stderr",
       "text": [
        "INFO:algo_evaluation:Created Ada Boost classifier with params {'n_estimators': 50, 'learning_rate': 1.0}\n"
       ]
      },
      {
       "output_type": "stream",
       "stream": "stderr",
       "text": [
        "INFO:algo_evaluation:Trained Ada Boost classifier\n"
       ]
      },
      {
       "output_type": "stream",
       "stream": "stderr",
       "text": [
        "INFO:algo_evaluation:Generated predictions\n"
       ]
      },
      {
       "output_type": "stream",
       "stream": "stderr",
       "text": [
        "INFO:algo_evaluation:Training Weighted Accuracy score = 0.82947133936\n"
       ]
      },
      {
       "output_type": "stream",
       "stream": "stderr",
       "text": [
        "INFO:algo_evaluation:Test Weighted Accuracy score = 0.83643258894\n"
       ]
      },
      {
       "output_type": "stream",
       "stream": "stderr",
       "text": [
        "INFO:algo_evaluation:Created Ada Boost classifier with params {'n_estimators': 55, 'learning_rate': 1.0}\n"
       ]
      },
      {
       "output_type": "stream",
       "stream": "stderr",
       "text": [
        "INFO:algo_evaluation:Trained Ada Boost classifier\n"
       ]
      },
      {
       "output_type": "stream",
       "stream": "stderr",
       "text": [
        "INFO:algo_evaluation:Generated predictions\n"
       ]
      },
      {
       "output_type": "stream",
       "stream": "stderr",
       "text": [
        "INFO:algo_evaluation:Training Weighted Accuracy score = 0.835129897484\n"
       ]
      },
      {
       "output_type": "stream",
       "stream": "stderr",
       "text": [
        "INFO:algo_evaluation:Test Weighted Accuracy score = 0.838993706058\n"
       ]
      },
      {
       "output_type": "stream",
       "stream": "stderr",
       "text": [
        "INFO:algo_evaluation:Created Ada Boost classifier with params {'n_estimators': 60, 'learning_rate': 1.0}\n"
       ]
      },
      {
       "output_type": "stream",
       "stream": "stderr",
       "text": [
        "INFO:algo_evaluation:Trained Ada Boost classifier\n"
       ]
      },
      {
       "output_type": "stream",
       "stream": "stderr",
       "text": [
        "INFO:algo_evaluation:Generated predictions\n"
       ]
      },
      {
       "output_type": "stream",
       "stream": "stderr",
       "text": [
        "INFO:algo_evaluation:Training Weighted Accuracy score = 0.839016559942\n"
       ]
      },
      {
       "output_type": "stream",
       "stream": "stderr",
       "text": [
        "INFO:algo_evaluation:Test Weighted Accuracy score = 0.837533329356\n"
       ]
      },
      {
       "output_type": "stream",
       "stream": "stderr",
       "text": [
        "INFO:algo_evaluation:Created Ada Boost classifier with params {'n_estimators': 65, 'learning_rate': 1.0}\n"
       ]
      },
      {
       "output_type": "stream",
       "stream": "stderr",
       "text": [
        "INFO:algo_evaluation:Trained Ada Boost classifier\n"
       ]
      },
      {
       "output_type": "stream",
       "stream": "stderr",
       "text": [
        "INFO:algo_evaluation:Generated predictions\n"
       ]
      },
      {
       "output_type": "stream",
       "stream": "stderr",
       "text": [
        "INFO:algo_evaluation:Training Weighted Accuracy score = 0.837892185598\n"
       ]
      },
      {
       "output_type": "stream",
       "stream": "stderr",
       "text": [
        "INFO:algo_evaluation:Test Weighted Accuracy score = 0.836607354507\n"
       ]
      },
      {
       "output_type": "stream",
       "stream": "stderr",
       "text": [
        "INFO:algo_evaluation:Created Ada Boost classifier with params {'n_estimators': 70, 'learning_rate': 1.0}\n"
       ]
      },
      {
       "output_type": "stream",
       "stream": "stderr",
       "text": [
        "INFO:algo_evaluation:Trained Ada Boost classifier\n"
       ]
      },
      {
       "output_type": "stream",
       "stream": "stderr",
       "text": [
        "INFO:algo_evaluation:Generated predictions\n"
       ]
      },
      {
       "output_type": "stream",
       "stream": "stderr",
       "text": [
        "INFO:algo_evaluation:Training Weighted Accuracy score = 0.837992489051\n"
       ]
      },
      {
       "output_type": "stream",
       "stream": "stderr",
       "text": [
        "INFO:algo_evaluation:Test Weighted Accuracy score = 0.834514714355\n"
       ]
      },
      {
       "output_type": "stream",
       "stream": "stderr",
       "text": [
        "INFO:algo_evaluation:Created Ada Boost classifier with params {'n_estimators': 75, 'learning_rate': 1.0}\n"
       ]
      },
      {
       "output_type": "stream",
       "stream": "stderr",
       "text": [
        "INFO:algo_evaluation:Trained Ada Boost classifier\n"
       ]
      },
      {
       "output_type": "stream",
       "stream": "stderr",
       "text": [
        "INFO:algo_evaluation:Generated predictions\n"
       ]
      },
      {
       "output_type": "stream",
       "stream": "stderr",
       "text": [
        "INFO:algo_evaluation:Training Weighted Accuracy score = 0.841896513037\n"
       ]
      },
      {
       "output_type": "stream",
       "stream": "stderr",
       "text": [
        "INFO:algo_evaluation:Test Weighted Accuracy score = 0.838575055904\n"
       ]
      },
      {
       "output_type": "stream",
       "stream": "stderr",
       "text": [
        "INFO:algo_evaluation:Performed evaluation of the n_estimators setting choice\n"
       ]
      },
      {
       "output_type": "stream",
       "stream": "stderr",
       "text": [
        "INFO:algo_evaluation:              training_score  test_score\n",
        "n_estimators                            \n",
        "30                  0.837874    0.832846\n",
        "35                  0.837275    0.834169\n",
        "40                  0.841482    0.831198\n",
        "45                  0.834468    0.833806\n",
        "50                  0.829471    0.836433\n",
        "55                  0.835130    0.838994\n",
        "60                  0.839017    0.837533\n",
        "65                  0.837892    0.836607\n",
        "70                  0.837992    0.834515\n",
        "75                  0.841897    0.838575\n"
       ]
      }
     ],
     "prompt_number": 3
    },
    {
     "cell_type": "code",
     "collapsed": false,
     "input": [
      "pd.rollestimators_df.plot()"
     ],
     "language": "python",
     "metadata": {},
     "outputs": [
      {
       "metadata": {},
       "output_type": "pyout",
       "prompt_number": 4,
       "text": [
        "<matplotlib.axes._subplots.AxesSubplot at 0x102bcfc50>"
       ]
      },
      {
       "metadata": {},
       "output_type": "display_data",
       "png": "[encoded data removed]",
       "text": [
        "<matplotlib.figure.Figure at 0x10b49e6d0>"
       ]
      }
     ]
    },
    {
     "cell_type": "code",
     "collapsed": false,
     "input": [
      "learning_rate_df = estimate_best_learning_rate()"
     ],
     "language": "python",
     "metadata": {},
     "outputs": [
      {
       "output_type": "stream",
       "stream": "stderr",
       "text": [
        "INFO:algo_evaluation:Loaded higgs training dataset of size 68114\n"
       ]
      },
      {
       "output_type": "stream",
       "stream": "stderr",
       "text": [
        "INFO:algo_evaluation:Created Ada Boost classifier with params {'n_estimators': 50, 'learning_rate': 0.10000000000000001}\n"
       ]
      },
      {
       "output_type": "stream",
       "stream": "stderr",
       "text": [
        "INFO:algo_evaluation:Trained Ada Boost classifier\n"
       ]
      },
      {
       "output_type": "stream",
       "stream": "stderr",
       "text": [
        "INFO:algo_evaluation:Generated predictions\n"
       ]
      },
      {
       "output_type": "stream",
       "stream": "stderr",
       "text": [
        "INFO:algo_evaluation:Training Weighted Accuracy score = 0.791224277324\n"
       ]
      },
      {
       "output_type": "stream",
       "stream": "stderr",
       "text": [
        "INFO:algo_evaluation:Test Weighted Accuracy score = 0.790474122285\n"
       ]
      },
      {
       "output_type": "stream",
       "stream": "stderr",
       "text": [
        "INFO:algo_evaluation:Created Ada Boost classifier with params {'n_estimators': 50, 'learning_rate': 0.12000000000000001}\n"
       ]
      },
      {
       "output_type": "stream",
       "stream": "stderr",
       "text": [
        "INFO:algo_evaluation:Trained Ada Boost classifier\n"
       ]
      },
      {
       "output_type": "stream",
       "stream": "stderr",
       "text": [
        "INFO:algo_evaluation:Generated predictions\n"
       ]
      },
      {
       "output_type": "stream",
       "stream": "stderr",
       "text": [
        "INFO:algo_evaluation:Training Weighted Accuracy score = 0.805596395892\n"
       ]
      },
      {
       "output_type": "stream",
       "stream": "stderr",
       "text": [
        "INFO:algo_evaluation:Test Weighted Accuracy score = 0.807462318516\n"
       ]
      },
      {
       "output_type": "stream",
       "stream": "stderr",
       "text": [
        "INFO:algo_evaluation:Created Ada Boost classifier with params {'n_estimators': 50, 'learning_rate': 0.14000000000000001}\n"
       ]
      },
      {
       "output_type": "stream",
       "stream": "stderr",
       "text": [
        "INFO:algo_evaluation:Trained Ada Boost classifier\n"
       ]
      },
      {
       "output_type": "stream",
       "stream": "stderr",
       "text": [
        "INFO:algo_evaluation:Generated predictions\n"
       ]
      },
      {
       "output_type": "stream",
       "stream": "stderr",
       "text": [
        "INFO:algo_evaluation:Training Weighted Accuracy score = 0.799035916219\n"
       ]
      },
      {
       "output_type": "stream",
       "stream": "stderr",
       "text": [
        "INFO:algo_evaluation:Test Weighted Accuracy score = 0.796669087238\n"
       ]
      },
      {
       "output_type": "stream",
       "stream": "stderr",
       "text": [
        "INFO:algo_evaluation:Created Ada Boost classifier with params {'n_estimators': 50, 'learning_rate': 0.16000000000000003}\n"
       ]
      },
      {
       "output_type": "stream",
       "stream": "stderr",
       "text": [
        "INFO:algo_evaluation:Trained Ada Boost classifier\n"
       ]
      },
      {
       "output_type": "stream",
       "stream": "stderr",
       "text": [
        "INFO:algo_evaluation:Generated predictions\n"
       ]
      },
      {
       "output_type": "stream",
       "stream": "stderr",
       "text": [
        "INFO:algo_evaluation:Training Weighted Accuracy score = 0.801107308678\n"
       ]
      },
      {
       "output_type": "stream",
       "stream": "stderr",
       "text": [
        "INFO:algo_evaluation:Test Weighted Accuracy score = 0.799939020103\n"
       ]
      },
      {
       "output_type": "stream",
       "stream": "stderr",
       "text": [
        "INFO:algo_evaluation:Created Ada Boost classifier with params {'n_estimators': 50, 'learning_rate': 0.18000000000000002}\n"
       ]
      },
      {
       "output_type": "stream",
       "stream": "stderr",
       "text": [
        "INFO:algo_evaluation:Trained Ada Boost classifier\n"
       ]
      },
      {
       "output_type": "stream",
       "stream": "stderr",
       "text": [
        "INFO:algo_evaluation:Generated predictions\n"
       ]
      },
      {
       "output_type": "stream",
       "stream": "stderr",
       "text": [
        "INFO:algo_evaluation:Training Weighted Accuracy score = 0.814798080449\n"
       ]
      },
      {
       "output_type": "stream",
       "stream": "stderr",
       "text": [
        "INFO:algo_evaluation:Test Weighted Accuracy score = 0.811554081536\n"
       ]
      },
      {
       "output_type": "stream",
       "stream": "stderr",
       "text": [
        "INFO:algo_evaluation:Created Ada Boost classifier with params {'n_estimators': 50, 'learning_rate': 0.20000000000000001}\n"
       ]
      },
      {
       "output_type": "stream",
       "stream": "stderr",
       "text": [
        "INFO:algo_evaluation:Trained Ada Boost classifier\n"
       ]
      },
      {
       "output_type": "stream",
       "stream": "stderr",
       "text": [
        "INFO:algo_evaluation:Generated predictions\n"
       ]
      },
      {
       "output_type": "stream",
       "stream": "stderr",
       "text": [
        "INFO:algo_evaluation:Training Weighted Accuracy score = 0.824452373219\n"
       ]
      },
      {
       "output_type": "stream",
       "stream": "stderr",
       "text": [
        "INFO:algo_evaluation:Test Weighted Accuracy score = 0.823102367263\n"
       ]
      },
      {
       "output_type": "stream",
       "stream": "stderr",
       "text": [
        "INFO:algo_evaluation:Created Ada Boost classifier with params {'n_estimators': 50, 'learning_rate': 0.22000000000000003}\n"
       ]
      },
      {
       "output_type": "stream",
       "stream": "stderr",
       "text": [
        "INFO:algo_evaluation:Trained Ada Boost classifier\n"
       ]
      },
      {
       "output_type": "stream",
       "stream": "stderr",
       "text": [
        "INFO:algo_evaluation:Generated predictions\n"
       ]
      },
      {
       "output_type": "stream",
       "stream": "stderr",
       "text": [
        "INFO:algo_evaluation:Training Weighted Accuracy score = 0.820292175805\n"
       ]
      },
      {
       "output_type": "stream",
       "stream": "stderr",
       "text": [
        "INFO:algo_evaluation:Test Weighted Accuracy score = 0.816094549076\n"
       ]
      },
      {
       "output_type": "stream",
       "stream": "stderr",
       "text": [
        "INFO:algo_evaluation:Created Ada Boost classifier with params {'n_estimators': 50, 'learning_rate': 0.24000000000000002}\n"
       ]
      },
      {
       "output_type": "stream",
       "stream": "stderr",
       "text": [
        "INFO:algo_evaluation:Trained Ada Boost classifier\n"
       ]
      },
      {
       "output_type": "stream",
       "stream": "stderr",
       "text": [
        "INFO:algo_evaluation:Generated predictions\n"
       ]
      },
      {
       "output_type": "stream",
       "stream": "stderr",
       "text": [
        "INFO:algo_evaluation:Training Weighted Accuracy score = 0.824285318786\n"
       ]
      },
      {
       "output_type": "stream",
       "stream": "stderr",
       "text": [
        "INFO:algo_evaluation:Test Weighted Accuracy score = 0.816337550799\n"
       ]
      },
      {
       "output_type": "stream",
       "stream": "stderr",
       "text": [
        "INFO:algo_evaluation:Created Ada Boost classifier with params {'n_estimators': 50, 'learning_rate': 0.26000000000000001}\n"
       ]
      },
      {
       "output_type": "stream",
       "stream": "stderr",
       "text": [
        "INFO:algo_evaluation:Trained Ada Boost classifier\n"
       ]
      },
      {
       "output_type": "stream",
       "stream": "stderr",
       "text": [
        "INFO:algo_evaluation:Generated predictions\n"
       ]
      },
      {
       "output_type": "stream",
       "stream": "stderr",
       "text": [
        "INFO:algo_evaluation:Training Weighted Accuracy score = 0.82856245212\n"
       ]
      },
      {
       "output_type": "stream",
       "stream": "stderr",
       "text": [
        "INFO:algo_evaluation:Test Weighted Accuracy score = 0.824217113268\n"
       ]
      },
      {
       "output_type": "stream",
       "stream": "stderr",
       "text": [
        "INFO:algo_evaluation:Created Ada Boost classifier with params {'n_estimators': 50, 'learning_rate': 0.28000000000000003}\n"
       ]
      },
      {
       "output_type": "stream",
       "stream": "stderr",
       "text": [
        "INFO:algo_evaluation:Trained Ada Boost classifier\n"
       ]
      },
      {
       "output_type": "stream",
       "stream": "stderr",
       "text": [
        "INFO:algo_evaluation:Generated predictions\n"
       ]
      },
      {
       "output_type": "stream",
       "stream": "stderr",
       "text": [
        "INFO:algo_evaluation:Training Weighted Accuracy score = 0.827336786656\n"
       ]
      },
      {
       "output_type": "stream",
       "stream": "stderr",
       "text": [
        "INFO:algo_evaluation:Test Weighted Accuracy score = 0.823908440228\n"
       ]
      },
      {
       "output_type": "stream",
       "stream": "stderr",
       "text": [
        "INFO:algo_evaluation:Created Ada Boost classifier with params {'n_estimators': 50, 'learning_rate': 0.30000000000000004}\n"
       ]
      },
      {
       "output_type": "stream",
       "stream": "stderr",
       "text": [
        "INFO:algo_evaluation:Trained Ada Boost classifier\n"
       ]
      },
      {
       "output_type": "stream",
       "stream": "stderr",
       "text": [
        "INFO:algo_evaluation:Generated predictions\n"
       ]
      },
      {
       "output_type": "stream",
       "stream": "stderr",
       "text": [
        "INFO:algo_evaluation:Training Weighted Accuracy score = 0.828053301739\n"
       ]
      },
      {
       "output_type": "stream",
       "stream": "stderr",
       "text": [
        "INFO:algo_evaluation:Test Weighted Accuracy score = 0.823906389667\n"
       ]
      },
      {
       "output_type": "stream",
       "stream": "stderr",
       "text": [
        "INFO:algo_evaluation:Created Ada Boost classifier with params {'n_estimators': 50, 'learning_rate': 0.32000000000000006}\n"
       ]
      },
      {
       "output_type": "stream",
       "stream": "stderr",
       "text": [
        "INFO:algo_evaluation:Trained Ada Boost classifier\n"
       ]
      },
      {
       "output_type": "stream",
       "stream": "stderr",
       "text": [
        "INFO:algo_evaluation:Generated predictions\n"
       ]
      },
      {
       "output_type": "stream",
       "stream": "stderr",
       "text": [
        "INFO:algo_evaluation:Training Weighted Accuracy score = 0.827081873288\n"
       ]
      },
      {
       "output_type": "stream",
       "stream": "stderr",
       "text": [
        "INFO:algo_evaluation:Test Weighted Accuracy score = 0.827865355324\n"
       ]
      },
      {
       "output_type": "stream",
       "stream": "stderr",
       "text": [
        "INFO:algo_evaluation:Created Ada Boost classifier with params {'n_estimators': 50, 'learning_rate': 0.34000000000000008}\n"
       ]
      },
      {
       "output_type": "stream",
       "stream": "stderr",
       "text": [
        "INFO:algo_evaluation:Trained Ada Boost classifier\n"
       ]
      },
      {
       "output_type": "stream",
       "stream": "stderr",
       "text": [
        "INFO:algo_evaluation:Generated predictions\n"
       ]
      },
      {
       "output_type": "stream",
       "stream": "stderr",
       "text": [
        "INFO:algo_evaluation:Training Weighted Accuracy score = 0.829321135474\n"
       ]
      },
      {
       "output_type": "stream",
       "stream": "stderr",
       "text": [
        "INFO:algo_evaluation:Test Weighted Accuracy score = 0.828167805523\n"
       ]
      },
      {
       "output_type": "stream",
       "stream": "stderr",
       "text": [
        "INFO:algo_evaluation:Created Ada Boost classifier with params {'n_estimators': 50, 'learning_rate': 0.3600000000000001}\n"
       ]
      },
      {
       "output_type": "stream",
       "stream": "stderr",
       "text": [
        "INFO:algo_evaluation:Trained Ada Boost classifier\n"
       ]
      },
      {
       "output_type": "stream",
       "stream": "stderr",
       "text": [
        "INFO:algo_evaluation:Generated predictions\n"
       ]
      },
      {
       "output_type": "stream",
       "stream": "stderr",
       "text": [
        "INFO:algo_evaluation:Training Weighted Accuracy score = 0.83026436678\n"
       ]
      },
      {
       "output_type": "stream",
       "stream": "stderr",
       "text": [
        "INFO:algo_evaluation:Test Weighted Accuracy score = 0.832124269374\n"
       ]
      },
      {
       "output_type": "stream",
       "stream": "stderr",
       "text": [
        "INFO:algo_evaluation:Created Ada Boost classifier with params {'n_estimators': 50, 'learning_rate': 0.38}\n"
       ]
      },
      {
       "output_type": "stream",
       "stream": "stderr",
       "text": [
        "INFO:algo_evaluation:Trained Ada Boost classifier\n"
       ]
      },
      {
       "output_type": "stream",
       "stream": "stderr",
       "text": [
        "INFO:algo_evaluation:Generated predictions\n"
       ]
      },
      {
       "output_type": "stream",
       "stream": "stderr",
       "text": [
        "INFO:algo_evaluation:Training Weighted Accuracy score = 0.822008438317\n"
       ]
      },
      {
       "output_type": "stream",
       "stream": "stderr",
       "text": [
        "INFO:algo_evaluation:Test Weighted Accuracy score = 0.83263405999\n"
       ]
      },
      {
       "output_type": "stream",
       "stream": "stderr",
       "text": [
        "INFO:algo_evaluation:Created Ada Boost classifier with params {'n_estimators': 50, 'learning_rate': 0.40000000000000002}\n"
       ]
      },
      {
       "output_type": "stream",
       "stream": "stderr",
       "text": [
        "INFO:algo_evaluation:Trained Ada Boost classifier\n"
       ]
      },
      {
       "output_type": "stream",
       "stream": "stderr",
       "text": [
        "INFO:algo_evaluation:Generated predictions\n"
       ]
      },
      {
       "output_type": "stream",
       "stream": "stderr",
       "text": [
        "INFO:algo_evaluation:Training Weighted Accuracy score = 0.828261868191\n"
       ]
      },
      {
       "output_type": "stream",
       "stream": "stderr",
       "text": [
        "INFO:algo_evaluation:Test Weighted Accuracy score = 0.828382735619\n"
       ]
      },
      {
       "output_type": "stream",
       "stream": "stderr",
       "text": [
        "INFO:algo_evaluation:Created Ada Boost classifier with params {'n_estimators': 50, 'learning_rate': 0.42000000000000004}\n"
       ]
      },
      {
       "output_type": "stream",
       "stream": "stderr",
       "text": [
        "INFO:algo_evaluation:Trained Ada Boost classifier\n"
       ]
      },
      {
       "output_type": "stream",
       "stream": "stderr",
       "text": [
        "INFO:algo_evaluation:Generated predictions\n"
       ]
      },
      {
       "output_type": "stream",
       "stream": "stderr",
       "text": [
        "INFO:algo_evaluation:Training Weighted Accuracy score = 0.827557873525\n"
       ]
      },
      {
       "output_type": "stream",
       "stream": "stderr",
       "text": [
        "INFO:algo_evaluation:Test Weighted Accuracy score = 0.824672212934\n"
       ]
      },
      {
       "output_type": "stream",
       "stream": "stderr",
       "text": [
        "INFO:algo_evaluation:Created Ada Boost classifier with params {'n_estimators': 50, 'learning_rate': 0.44000000000000006}\n"
       ]
      },
      {
       "output_type": "stream",
       "stream": "stderr",
       "text": [
        "INFO:algo_evaluation:Trained Ada Boost classifier\n"
       ]
      },
      {
       "output_type": "stream",
       "stream": "stderr",
       "text": [
        "INFO:algo_evaluation:Generated predictions\n"
       ]
      },
      {
       "output_type": "stream",
       "stream": "stderr",
       "text": [
        "INFO:algo_evaluation:Training Weighted Accuracy score = 0.82910759405\n"
       ]
      },
      {
       "output_type": "stream",
       "stream": "stderr",
       "text": [
        "INFO:algo_evaluation:Test Weighted Accuracy score = 0.819288856295\n"
       ]
      },
      {
       "output_type": "stream",
       "stream": "stderr",
       "text": [
        "INFO:algo_evaluation:Created Ada Boost classifier with params {'n_estimators': 50, 'learning_rate': 0.46000000000000008}\n"
       ]
      },
      {
       "output_type": "stream",
       "stream": "stderr",
       "text": [
        "INFO:algo_evaluation:Trained Ada Boost classifier\n"
       ]
      },
      {
       "output_type": "stream",
       "stream": "stderr",
       "text": [
        "INFO:algo_evaluation:Generated predictions\n"
       ]
      },
      {
       "output_type": "stream",
       "stream": "stderr",
       "text": [
        "INFO:algo_evaluation:Training Weighted Accuracy score = 0.834200239032\n"
       ]
      },
      {
       "output_type": "stream",
       "stream": "stderr",
       "text": [
        "INFO:algo_evaluation:Test Weighted Accuracy score = 0.820278495916\n"
       ]
      },
      {
       "output_type": "stream",
       "stream": "stderr",
       "text": [
        "INFO:algo_evaluation:Created Ada Boost classifier with params {'n_estimators': 50, 'learning_rate': 0.48000000000000009}\n"
       ]
      },
      {
       "output_type": "stream",
       "stream": "stderr",
       "text": [
        "INFO:algo_evaluation:Trained Ada Boost classifier\n"
       ]
      },
      {
       "output_type": "stream",
       "stream": "stderr",
       "text": [
        "INFO:algo_evaluation:Generated predictions\n"
       ]
      },
      {
       "output_type": "stream",
       "stream": "stderr",
       "text": [
        "INFO:algo_evaluation:Training Weighted Accuracy score = 0.830563037165\n"
       ]
      },
      {
       "output_type": "stream",
       "stream": "stderr",
       "text": [
        "INFO:algo_evaluation:Test Weighted Accuracy score = 0.832460955123\n"
       ]
      },
      {
       "output_type": "stream",
       "stream": "stderr",
       "text": [
        "INFO:algo_evaluation:Created Ada Boost classifier with params {'n_estimators': 50, 'learning_rate': 0.50000000000000011}\n"
       ]
      },
      {
       "output_type": "stream",
       "stream": "stderr",
       "text": [
        "INFO:algo_evaluation:Trained Ada Boost classifier\n"
       ]
      },
      {
       "output_type": "stream",
       "stream": "stderr",
       "text": [
        "INFO:algo_evaluation:Generated predictions\n"
       ]
      },
      {
       "output_type": "stream",
       "stream": "stderr",
       "text": [
        "INFO:algo_evaluation:Training Weighted Accuracy score = 0.823777984682\n"
       ]
      },
      {
       "output_type": "stream",
       "stream": "stderr",
       "text": [
        "INFO:algo_evaluation:Test Weighted Accuracy score = 0.837296468657\n"
       ]
      },
      {
       "output_type": "stream",
       "stream": "stderr",
       "text": [
        "INFO:algo_evaluation:Created Ada Boost classifier with params {'n_estimators': 50, 'learning_rate': 0.52000000000000013}\n"
       ]
      },
      {
       "output_type": "stream",
       "stream": "stderr",
       "text": [
        "INFO:algo_evaluation:Trained Ada Boost classifier\n"
       ]
      },
      {
       "output_type": "stream",
       "stream": "stderr",
       "text": [
        "INFO:algo_evaluation:Generated predictions\n"
       ]
      },
      {
       "output_type": "stream",
       "stream": "stderr",
       "text": [
        "INFO:algo_evaluation:Training Weighted Accuracy score = 0.831315507802\n"
       ]
      },
      {
       "output_type": "stream",
       "stream": "stderr",
       "text": [
        "INFO:algo_evaluation:Test Weighted Accuracy score = 0.825525227896\n"
       ]
      },
      {
       "output_type": "stream",
       "stream": "stderr",
       "text": [
        "INFO:algo_evaluation:Created Ada Boost classifier with params {'n_estimators': 50, 'learning_rate': 0.54000000000000004}\n"
       ]
      },
      {
       "output_type": "stream",
       "stream": "stderr",
       "text": [
        "INFO:algo_evaluation:Trained Ada Boost classifier\n"
       ]
      },
      {
       "output_type": "stream",
       "stream": "stderr",
       "text": [
        "INFO:algo_evaluation:Generated predictions\n"
       ]
      },
      {
       "output_type": "stream",
       "stream": "stderr",
       "text": [
        "INFO:algo_evaluation:Training Weighted Accuracy score = 0.833693806041\n"
       ]
      },
      {
       "output_type": "stream",
       "stream": "stderr",
       "text": [
        "INFO:algo_evaluation:Test Weighted Accuracy score = 0.829242023522\n"
       ]
      },
      {
       "output_type": "stream",
       "stream": "stderr",
       "text": [
        "INFO:algo_evaluation:Created Ada Boost classifier with params {'n_estimators': 50, 'learning_rate': 0.56000000000000005}\n"
       ]
      },
      {
       "output_type": "stream",
       "stream": "stderr",
       "text": [
        "INFO:algo_evaluation:Trained Ada Boost classifier\n"
       ]
      },
      {
       "output_type": "stream",
       "stream": "stderr",
       "text": [
        "INFO:algo_evaluation:Generated predictions\n"
       ]
      },
      {
       "output_type": "stream",
       "stream": "stderr",
       "text": [
        "INFO:algo_evaluation:Training Weighted Accuracy score = 0.826311871979\n"
       ]
      },
      {
       "output_type": "stream",
       "stream": "stderr",
       "text": [
        "INFO:algo_evaluation:Test Weighted Accuracy score = 0.830520584052\n"
       ]
      },
      {
       "output_type": "stream",
       "stream": "stderr",
       "text": [
        "INFO:algo_evaluation:Created Ada Boost classifier with params {'n_estimators': 50, 'learning_rate': 0.58000000000000007}\n"
       ]
      },
      {
       "output_type": "stream",
       "stream": "stderr",
       "text": [
        "INFO:algo_evaluation:Trained Ada Boost classifier\n"
       ]
      },
      {
       "output_type": "stream",
       "stream": "stderr",
       "text": [
        "INFO:algo_evaluation:Generated predictions\n"
       ]
      },
      {
       "output_type": "stream",
       "stream": "stderr",
       "text": [
        "INFO:algo_evaluation:Training Weighted Accuracy score = 0.827430424642\n"
       ]
      },
      {
       "output_type": "stream",
       "stream": "stderr",
       "text": [
        "INFO:algo_evaluation:Test Weighted Accuracy score = 0.83286100333\n"
       ]
      },
      {
       "output_type": "stream",
       "stream": "stderr",
       "text": [
        "INFO:algo_evaluation:Created Ada Boost classifier with params {'n_estimators': 50, 'learning_rate': 0.60000000000000009}\n"
       ]
      },
      {
       "output_type": "stream",
       "stream": "stderr",
       "text": [
        "INFO:algo_evaluation:Trained Ada Boost classifier\n"
       ]
      },
      {
       "output_type": "stream",
       "stream": "stderr",
       "text": [
        "INFO:algo_evaluation:Generated predictions\n"
       ]
      },
      {
       "output_type": "stream",
       "stream": "stderr",
       "text": [
        "INFO:algo_evaluation:Training Weighted Accuracy score = 0.829946344007\n"
       ]
      },
      {
       "output_type": "stream",
       "stream": "stderr",
       "text": [
        "INFO:algo_evaluation:Test Weighted Accuracy score = 0.826894161927\n"
       ]
      },
      {
       "output_type": "stream",
       "stream": "stderr",
       "text": [
        "INFO:algo_evaluation:Created Ada Boost classifier with params {'n_estimators': 50, 'learning_rate': 0.62000000000000011}\n"
       ]
      },
      {
       "output_type": "stream",
       "stream": "stderr",
       "text": [
        "INFO:algo_evaluation:Trained Ada Boost classifier\n"
       ]
      },
      {
       "output_type": "stream",
       "stream": "stderr",
       "text": [
        "INFO:algo_evaluation:Generated predictions\n"
       ]
      },
      {
       "output_type": "stream",
       "stream": "stderr",
       "text": [
        "INFO:algo_evaluation:Training Weighted Accuracy score = 0.833016839919\n"
       ]
      },
      {
       "output_type": "stream",
       "stream": "stderr",
       "text": [
        "INFO:algo_evaluation:Test Weighted Accuracy score = 0.833217404348\n"
       ]
      },
      {
       "output_type": "stream",
       "stream": "stderr",
       "text": [
        "INFO:algo_evaluation:Created Ada Boost classifier with params {'n_estimators': 50, 'learning_rate': 0.64000000000000012}\n"
       ]
      },
      {
       "output_type": "stream",
       "stream": "stderr",
       "text": [
        "INFO:algo_evaluation:Trained Ada Boost classifier\n"
       ]
      },
      {
       "output_type": "stream",
       "stream": "stderr",
       "text": [
        "INFO:algo_evaluation:Generated predictions\n"
       ]
      },
      {
       "output_type": "stream",
       "stream": "stderr",
       "text": [
        "INFO:algo_evaluation:Training Weighted Accuracy score = 0.828319682363\n"
       ]
      },
      {
       "output_type": "stream",
       "stream": "stderr",
       "text": [
        "INFO:algo_evaluation:Test Weighted Accuracy score = 0.83436131059\n"
       ]
      },
      {
       "output_type": "stream",
       "stream": "stderr",
       "text": [
        "INFO:algo_evaluation:Created Ada Boost classifier with params {'n_estimators': 50, 'learning_rate': 0.66000000000000003}\n"
       ]
      },
      {
       "output_type": "stream",
       "stream": "stderr",
       "text": [
        "INFO:algo_evaluation:Trained Ada Boost classifier\n"
       ]
      },
      {
       "output_type": "stream",
       "stream": "stderr",
       "text": [
        "INFO:algo_evaluation:Generated predictions\n"
       ]
      },
      {
       "output_type": "stream",
       "stream": "stderr",
       "text": [
        "INFO:algo_evaluation:Training Weighted Accuracy score = 0.831382661701\n"
       ]
      },
      {
       "output_type": "stream",
       "stream": "stderr",
       "text": [
        "INFO:algo_evaluation:Test Weighted Accuracy score = 0.82457317727\n"
       ]
      },
      {
       "output_type": "stream",
       "stream": "stderr",
       "text": [
        "INFO:algo_evaluation:Created Ada Boost classifier with params {'n_estimators': 50, 'learning_rate': 0.68000000000000005}\n"
       ]
      },
      {
       "output_type": "stream",
       "stream": "stderr",
       "text": [
        "INFO:algo_evaluation:Trained Ada Boost classifier\n"
       ]
      },
      {
       "output_type": "stream",
       "stream": "stderr",
       "text": [
        "INFO:algo_evaluation:Generated predictions\n"
       ]
      },
      {
       "output_type": "stream",
       "stream": "stderr",
       "text": [
        "INFO:algo_evaluation:Training Weighted Accuracy score = 0.830233707702\n"
       ]
      },
      {
       "output_type": "stream",
       "stream": "stderr",
       "text": [
        "INFO:algo_evaluation:Test Weighted Accuracy score = 0.826096389299\n"
       ]
      },
      {
       "output_type": "stream",
       "stream": "stderr",
       "text": [
        "INFO:algo_evaluation:Created Ada Boost classifier with params {'n_estimators': 50, 'learning_rate': 0.70000000000000007}\n"
       ]
      },
      {
       "output_type": "stream",
       "stream": "stderr",
       "text": [
        "INFO:algo_evaluation:Trained Ada Boost classifier\n"
       ]
      },
      {
       "output_type": "stream",
       "stream": "stderr",
       "text": [
        "INFO:algo_evaluation:Generated predictions\n"
       ]
      },
      {
       "output_type": "stream",
       "stream": "stderr",
       "text": [
        "INFO:algo_evaluation:Training Weighted Accuracy score = 0.824708998757\n"
       ]
      },
      {
       "output_type": "stream",
       "stream": "stderr",
       "text": [
        "INFO:algo_evaluation:Test Weighted Accuracy score = 0.81682175218\n"
       ]
      },
      {
       "output_type": "stream",
       "stream": "stderr",
       "text": [
        "INFO:algo_evaluation:Created Ada Boost classifier with params {'n_estimators': 50, 'learning_rate': 0.72000000000000008}\n"
       ]
      },
      {
       "output_type": "stream",
       "stream": "stderr",
       "text": [
        "INFO:algo_evaluation:Trained Ada Boost classifier\n"
       ]
      },
      {
       "output_type": "stream",
       "stream": "stderr",
       "text": [
        "INFO:algo_evaluation:Generated predictions\n"
       ]
      },
      {
       "output_type": "stream",
       "stream": "stderr",
       "text": [
        "INFO:algo_evaluation:Training Weighted Accuracy score = 0.831804438935\n"
       ]
      },
      {
       "output_type": "stream",
       "stream": "stderr",
       "text": [
        "INFO:algo_evaluation:Test Weighted Accuracy score = 0.824537249756\n"
       ]
      },
      {
       "output_type": "stream",
       "stream": "stderr",
       "text": [
        "INFO:algo_evaluation:Created Ada Boost classifier with params {'n_estimators': 50, 'learning_rate': 0.7400000000000001}\n"
       ]
      },
      {
       "output_type": "stream",
       "stream": "stderr",
       "text": [
        "INFO:algo_evaluation:Trained Ada Boost classifier\n"
       ]
      },
      {
       "output_type": "stream",
       "stream": "stderr",
       "text": [
        "INFO:algo_evaluation:Generated predictions\n"
       ]
      },
      {
       "output_type": "stream",
       "stream": "stderr",
       "text": [
        "INFO:algo_evaluation:Training Weighted Accuracy score = 0.833953249844\n"
       ]
      },
      {
       "output_type": "stream",
       "stream": "stderr",
       "text": [
        "INFO:algo_evaluation:Test Weighted Accuracy score = 0.828858186958\n"
       ]
      },
      {
       "output_type": "stream",
       "stream": "stderr",
       "text": [
        "INFO:algo_evaluation:Created Ada Boost classifier with params {'n_estimators': 50, 'learning_rate': 0.76000000000000012}\n"
       ]
      },
      {
       "output_type": "stream",
       "stream": "stderr",
       "text": [
        "INFO:algo_evaluation:Trained Ada Boost classifier\n"
       ]
      },
      {
       "output_type": "stream",
       "stream": "stderr",
       "text": [
        "INFO:algo_evaluation:Generated predictions\n"
       ]
      },
      {
       "output_type": "stream",
       "stream": "stderr",
       "text": [
        "INFO:algo_evaluation:Training Weighted Accuracy score = 0.834991189902\n"
       ]
      },
      {
       "output_type": "stream",
       "stream": "stderr",
       "text": [
        "INFO:algo_evaluation:Test Weighted Accuracy score = 0.825649769897\n"
       ]
      },
      {
       "output_type": "stream",
       "stream": "stderr",
       "text": [
        "INFO:algo_evaluation:Created Ada Boost classifier with params {'n_estimators': 50, 'learning_rate': 0.78000000000000014}\n"
       ]
      },
      {
       "output_type": "stream",
       "stream": "stderr",
       "text": [
        "INFO:algo_evaluation:Trained Ada Boost classifier\n"
       ]
      },
      {
       "output_type": "stream",
       "stream": "stderr",
       "text": [
        "INFO:algo_evaluation:Generated predictions\n"
       ]
      },
      {
       "output_type": "stream",
       "stream": "stderr",
       "text": [
        "INFO:algo_evaluation:Training Weighted Accuracy score = 0.826593897465\n"
       ]
      },
      {
       "output_type": "stream",
       "stream": "stderr",
       "text": [
        "INFO:algo_evaluation:Test Weighted Accuracy score = 0.836514080193\n"
       ]
      },
      {
       "output_type": "stream",
       "stream": "stderr",
       "text": [
        "INFO:algo_evaluation:Created Ada Boost classifier with params {'n_estimators': 50, 'learning_rate': 0.80000000000000016}\n"
       ]
      },
      {
       "output_type": "stream",
       "stream": "stderr",
       "text": [
        "INFO:algo_evaluation:Trained Ada Boost classifier\n"
       ]
      },
      {
       "output_type": "stream",
       "stream": "stderr",
       "text": [
        "INFO:algo_evaluation:Generated predictions\n"
       ]
      },
      {
       "output_type": "stream",
       "stream": "stderr",
       "text": [
        "INFO:algo_evaluation:Training Weighted Accuracy score = 0.83586890231\n"
       ]
      },
      {
       "output_type": "stream",
       "stream": "stderr",
       "text": [
        "INFO:algo_evaluation:Test Weighted Accuracy score = 0.831908075953\n"
       ]
      },
      {
       "output_type": "stream",
       "stream": "stderr",
       "text": [
        "INFO:algo_evaluation:Created Ada Boost classifier with params {'n_estimators': 50, 'learning_rate': 0.82000000000000017}\n"
       ]
      },
      {
       "output_type": "stream",
       "stream": "stderr",
       "text": [
        "INFO:algo_evaluation:Trained Ada Boost classifier\n"
       ]
      },
      {
       "output_type": "stream",
       "stream": "stderr",
       "text": [
        "INFO:algo_evaluation:Generated predictions\n"
       ]
      },
      {
       "output_type": "stream",
       "stream": "stderr",
       "text": [
        "INFO:algo_evaluation:Training Weighted Accuracy score = 0.836105115552\n"
       ]
      },
      {
       "output_type": "stream",
       "stream": "stderr",
       "text": [
        "INFO:algo_evaluation:Test Weighted Accuracy score = 0.838827533913\n"
       ]
      },
      {
       "output_type": "stream",
       "stream": "stderr",
       "text": [
        "INFO:algo_evaluation:Created Ada Boost classifier with params {'n_estimators': 50, 'learning_rate': 0.84000000000000008}\n"
       ]
      },
      {
       "output_type": "stream",
       "stream": "stderr",
       "text": [
        "INFO:algo_evaluation:Trained Ada Boost classifier\n"
       ]
      },
      {
       "output_type": "stream",
       "stream": "stderr",
       "text": [
        "INFO:algo_evaluation:Generated predictions\n"
       ]
      },
      {
       "output_type": "stream",
       "stream": "stderr",
       "text": [
        "INFO:algo_evaluation:Training Weighted Accuracy score = 0.832935849953\n"
       ]
      },
      {
       "output_type": "stream",
       "stream": "stderr",
       "text": [
        "INFO:algo_evaluation:Test Weighted Accuracy score = 0.824820718709\n"
       ]
      },
      {
       "output_type": "stream",
       "stream": "stderr",
       "text": [
        "INFO:algo_evaluation:Created Ada Boost classifier with params {'n_estimators': 50, 'learning_rate': 0.8600000000000001}\n"
       ]
      },
      {
       "output_type": "stream",
       "stream": "stderr",
       "text": [
        "INFO:algo_evaluation:Trained Ada Boost classifier\n"
       ]
      },
      {
       "output_type": "stream",
       "stream": "stderr",
       "text": [
        "INFO:algo_evaluation:Generated predictions\n"
       ]
      },
      {
       "output_type": "stream",
       "stream": "stderr",
       "text": [
        "INFO:algo_evaluation:Training Weighted Accuracy score = 0.83737945029\n"
       ]
      },
      {
       "output_type": "stream",
       "stream": "stderr",
       "text": [
        "INFO:algo_evaluation:Test Weighted Accuracy score = 0.843402174976\n"
       ]
      },
      {
       "output_type": "stream",
       "stream": "stderr",
       "text": [
        "INFO:algo_evaluation:Created Ada Boost classifier with params {'n_estimators': 50, 'learning_rate': 0.88000000000000012}\n"
       ]
      },
      {
       "output_type": "stream",
       "stream": "stderr",
       "text": [
        "INFO:algo_evaluation:Trained Ada Boost classifier\n"
       ]
      },
      {
       "output_type": "stream",
       "stream": "stderr",
       "text": [
        "INFO:algo_evaluation:Generated predictions\n"
       ]
      },
      {
       "output_type": "stream",
       "stream": "stderr",
       "text": [
        "INFO:algo_evaluation:Training Weighted Accuracy score = 0.83065816266\n"
       ]
      },
      {
       "output_type": "stream",
       "stream": "stderr",
       "text": [
        "INFO:algo_evaluation:Test Weighted Accuracy score = 0.827728831282\n"
       ]
      },
      {
       "output_type": "stream",
       "stream": "stderr",
       "text": [
        "INFO:algo_evaluation:Created Ada Boost classifier with params {'n_estimators': 50, 'learning_rate': 0.90000000000000013}\n"
       ]
      },
      {
       "output_type": "stream",
       "stream": "stderr",
       "text": [
        "INFO:algo_evaluation:Trained Ada Boost classifier\n"
       ]
      },
      {
       "output_type": "stream",
       "stream": "stderr",
       "text": [
        "INFO:algo_evaluation:Generated predictions\n"
       ]
      },
      {
       "output_type": "stream",
       "stream": "stderr",
       "text": [
        "INFO:algo_evaluation:Training Weighted Accuracy score = 0.835943503077\n"
       ]
      },
      {
       "output_type": "stream",
       "stream": "stderr",
       "text": [
        "INFO:algo_evaluation:Test Weighted Accuracy score = 0.838051725315\n"
       ]
      },
      {
       "output_type": "stream",
       "stream": "stderr",
       "text": [
        "INFO:algo_evaluation:Created Ada Boost classifier with params {'n_estimators': 50, 'learning_rate': 0.92000000000000015}\n"
       ]
      },
      {
       "output_type": "stream",
       "stream": "stderr",
       "text": [
        "INFO:algo_evaluation:Trained Ada Boost classifier\n"
       ]
      },
      {
       "output_type": "stream",
       "stream": "stderr",
       "text": [
        "INFO:algo_evaluation:Generated predictions\n"
       ]
      },
      {
       "output_type": "stream",
       "stream": "stderr",
       "text": [
        "INFO:algo_evaluation:Training Weighted Accuracy score = 0.833193680249\n"
       ]
      },
      {
       "output_type": "stream",
       "stream": "stderr",
       "text": [
        "INFO:algo_evaluation:Test Weighted Accuracy score = 0.831617701334\n"
       ]
      },
      {
       "output_type": "stream",
       "stream": "stderr",
       "text": [
        "INFO:algo_evaluation:Created Ada Boost classifier with params {'n_estimators': 50, 'learning_rate': 0.94000000000000017}\n"
       ]
      },
      {
       "output_type": "stream",
       "stream": "stderr",
       "text": [
        "INFO:algo_evaluation:Trained Ada Boost classifier\n"
       ]
      },
      {
       "output_type": "stream",
       "stream": "stderr",
       "text": [
        "INFO:algo_evaluation:Generated predictions\n"
       ]
      },
      {
       "output_type": "stream",
       "stream": "stderr",
       "text": [
        "INFO:algo_evaluation:Training Weighted Accuracy score = 0.841413138593\n"
       ]
      },
      {
       "output_type": "stream",
       "stream": "stderr",
       "text": [
        "INFO:algo_evaluation:Test Weighted Accuracy score = 0.828791814358\n"
       ]
      },
      {
       "output_type": "stream",
       "stream": "stderr",
       "text": [
        "INFO:algo_evaluation:Created Ada Boost classifier with params {'n_estimators': 50, 'learning_rate': 0.96000000000000019}\n"
       ]
      },
      {
       "output_type": "stream",
       "stream": "stderr",
       "text": [
        "INFO:algo_evaluation:Trained Ada Boost classifier\n"
       ]
      },
      {
       "output_type": "stream",
       "stream": "stderr",
       "text": [
        "INFO:algo_evaluation:Generated predictions\n"
       ]
      },
      {
       "output_type": "stream",
       "stream": "stderr",
       "text": [
        "INFO:algo_evaluation:Training Weighted Accuracy score = 0.834582936621\n"
       ]
      },
      {
       "output_type": "stream",
       "stream": "stderr",
       "text": [
        "INFO:algo_evaluation:Test Weighted Accuracy score = 0.829527598302\n"
       ]
      },
      {
       "output_type": "stream",
       "stream": "stderr",
       "text": [
        "INFO:algo_evaluation:Created Ada Boost classifier with params {'n_estimators': 50, 'learning_rate': 0.98000000000000009}\n"
       ]
      },
      {
       "output_type": "stream",
       "stream": "stderr",
       "text": [
        "INFO:algo_evaluation:Trained Ada Boost classifier\n"
       ]
      },
      {
       "output_type": "stream",
       "stream": "stderr",
       "text": [
        "INFO:algo_evaluation:Generated predictions\n"
       ]
      },
      {
       "output_type": "stream",
       "stream": "stderr",
       "text": [
        "INFO:algo_evaluation:Training Weighted Accuracy score = 0.83114920269\n"
       ]
      },
      {
       "output_type": "stream",
       "stream": "stderr",
       "text": [
        "INFO:algo_evaluation:Test Weighted Accuracy score = 0.841276778114\n"
       ]
      },
      {
       "output_type": "stream",
       "stream": "stderr",
       "text": [
        "INFO:algo_evaluation:Created Ada Boost classifier with params {'n_estimators': 50, 'learning_rate': 1.0000000000000002}\n"
       ]
      },
      {
       "output_type": "stream",
       "stream": "stderr",
       "text": [
        "INFO:algo_evaluation:Trained Ada Boost classifier\n"
       ]
      },
      {
       "output_type": "stream",
       "stream": "stderr",
       "text": [
        "INFO:algo_evaluation:Generated predictions\n"
       ]
      },
      {
       "output_type": "stream",
       "stream": "stderr",
       "text": [
        "INFO:algo_evaluation:Training Weighted Accuracy score = 0.838721689574\n"
       ]
      },
      {
       "output_type": "stream",
       "stream": "stderr",
       "text": [
        "INFO:algo_evaluation:Test Weighted Accuracy score = 0.83566713118\n"
       ]
      },
      {
       "output_type": "stream",
       "stream": "stderr",
       "text": [
        "INFO:algo_evaluation:Created Ada Boost classifier with params {'n_estimators': 50, 'learning_rate': 1.0200000000000002}\n"
       ]
      },
      {
       "output_type": "stream",
       "stream": "stderr",
       "text": [
        "INFO:algo_evaluation:Trained Ada Boost classifier\n"
       ]
      },
      {
       "output_type": "stream",
       "stream": "stderr",
       "text": [
        "INFO:algo_evaluation:Generated predictions\n"
       ]
      },
      {
       "output_type": "stream",
       "stream": "stderr",
       "text": [
        "INFO:algo_evaluation:Training Weighted Accuracy score = 0.834730574308\n"
       ]
      },
      {
       "output_type": "stream",
       "stream": "stderr",
       "text": [
        "INFO:algo_evaluation:Test Weighted Accuracy score = 0.839095061222\n"
       ]
      },
      {
       "output_type": "stream",
       "stream": "stderr",
       "text": [
        "INFO:algo_evaluation:Created Ada Boost classifier with params {'n_estimators': 50, 'learning_rate': 1.0400000000000003}\n"
       ]
      },
      {
       "output_type": "stream",
       "stream": "stderr",
       "text": [
        "INFO:algo_evaluation:Trained Ada Boost classifier\n"
       ]
      },
      {
       "output_type": "stream",
       "stream": "stderr",
       "text": [
        "INFO:algo_evaluation:Generated predictions\n"
       ]
      },
      {
       "output_type": "stream",
       "stream": "stderr",
       "text": [
        "INFO:algo_evaluation:Training Weighted Accuracy score = 0.843071975535\n"
       ]
      },
      {
       "output_type": "stream",
       "stream": "stderr",
       "text": [
        "INFO:algo_evaluation:Test Weighted Accuracy score = 0.826467548444\n"
       ]
      },
      {
       "output_type": "stream",
       "stream": "stderr",
       "text": [
        "INFO:algo_evaluation:Created Ada Boost classifier with params {'n_estimators': 50, 'learning_rate': 1.0600000000000003}\n"
       ]
      },
      {
       "output_type": "stream",
       "stream": "stderr",
       "text": [
        "INFO:algo_evaluation:Trained Ada Boost classifier\n"
       ]
      },
      {
       "output_type": "stream",
       "stream": "stderr",
       "text": [
        "INFO:algo_evaluation:Generated predictions\n"
       ]
      },
      {
       "output_type": "stream",
       "stream": "stderr",
       "text": [
        "INFO:algo_evaluation:Training Weighted Accuracy score = 0.840829586798\n"
       ]
      },
      {
       "output_type": "stream",
       "stream": "stderr",
       "text": [
        "INFO:algo_evaluation:Test Weighted Accuracy score = 0.831763042873\n"
       ]
      },
      {
       "output_type": "stream",
       "stream": "stderr",
       "text": [
        "INFO:algo_evaluation:Created Ada Boost classifier with params {'n_estimators': 50, 'learning_rate': 1.0800000000000003}\n"
       ]
      },
      {
       "output_type": "stream",
       "stream": "stderr",
       "text": [
        "INFO:algo_evaluation:Trained Ada Boost classifier\n"
       ]
      },
      {
       "output_type": "stream",
       "stream": "stderr",
       "text": [
        "INFO:algo_evaluation:Generated predictions\n"
       ]
      }
     ]
    },
    {
     "cell_type": "code",
     "collapsed": false,
     "input": [
      "learning_rate_df.plot()"
     ],
     "language": "python",
     "metadata": {},
     "outputs": []
    },
    {
     "cell_type": "code",
     "collapsed": false,
     "input": [
      "from algo_evaluation.parameter_search import grid_search_best_parameter"
     ],
     "language": "python",
     "metadata": {},
     "outputs": []
    },
    {
     "cell_type": "code",
     "collapsed": false,
     "input": [
      "raw_data = load_higgs_train()\n",
      "features, weights, labels = raw_data\n",
      "print features.shape, weights.shape, labels.shape"
     ],
     "language": "python",
     "metadata": {},
     "outputs": []
    },
    {
     "cell_type": "code",
     "collapsed": false,
     "input": [
      "dataset = split_dataset(features, weights, labels)"
     ],
     "language": "python",
     "metadata": {},
     "outputs": []
    },
    {
     "cell_type": "code",
     "collapsed": false,
     "input": [
      "from sklearn.ensemble import AdaBoostClassifier\n",
      "import numpy as np\n",
      "tunning_parameters = {'n_estimators': np.arange(30, 80, 5), \n",
      "                      'learning_rate': np.arange(0.1, 5.2, .02)}\n",
      "#dataset['training']['labels'] = [1 if l == 's' else 0 for l in dataset['training']['labels']]\n",
      "#dataset['test']['labels'] = [1 if l == 's' else 0 for l in dataset['test']['labels']]\n",
      "scores = ['precision']"
     ],
     "language": "python",
     "metadata": {},
     "outputs": []
    },
    {
     "cell_type": "code",
     "collapsed": false,
     "input": [
      "grid_search_best_parameter(dataset, KNeighborsClassifier, tunning_parameters, scores=scores)"
     ],
     "language": "python",
     "metadata": {},
     "outputs": []
    }
   ],
   "metadata": {}
  }
 ]
}