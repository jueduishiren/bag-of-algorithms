{
 "metadata": {
  "name": "",
  "signature": "sha256:75a10993454bef016a99fc63effb984c9c9ca93dc9eee1ac4afd60d8d601d367"
 },
 "nbformat": 3,
 "nbformat_minor": 0,
 "worksheets": [
  {
   "cells": [
    {
     "cell_type": "code",
     "collapsed": false,
     "input": [
      "%matplotlib inline\n",
      "import pandas as pd"
     ],
     "language": "python",
     "metadata": {},
     "outputs": [],
     "prompt_number": 1
    },
    {
     "cell_type": "code",
     "collapsed": false,
     "input": [
      "from algo_evaluation.algos.adaboost import estimate_best_n_estimators, estimate_best_learning_rate"
     ],
     "language": "python",
     "metadata": {},
     "outputs": [
      {
       "output_type": "stream",
       "stream": "stdout",
       "text": [
        "line_width has been deprecated, use display.width instead (currently both are\n",
        "identical)\n",
        "\n"
       ]
      }
     ],
     "prompt_number": 2
    },
    {
     "cell_type": "code",
     "collapsed": false,
     "input": [
      "estimators_df = estimate_best_n_estimators()"
     ],
     "language": "python",
     "metadata": {},
     "outputs": [
      {
       "output_type": "stream",
       "stream": "stderr",
       "text": [
        "INFO:algo_evaluation:Loaded higgs training dataset of size 68114\n"
       ]
      },
      {
       "output_type": "stream",
       "stream": "stderr",
       "text": [
        "INFO:algo_evaluation:Created Ada Boost classifier with params {'n_estimators': 30, 'learning_rate': 1.0}\n"
       ]
      },
      {
       "output_type": "stream",
       "stream": "stderr",
       "text": [
        "INFO:algo_evaluation:Trained Ada Boost classifier\n"
       ]
      },
      {
       "output_type": "stream",
       "stream": "stderr",
       "text": [
        "INFO:algo_evaluation:Generated predictions\n"
       ]
      },
      {
       "output_type": "stream",
       "stream": "stderr",
       "text": [
        "INFO:algo_evaluation:Training Weighted Accuracy score = 0.832905674864\n"
       ]
      },
      {
       "output_type": "stream",
       "stream": "stderr",
       "text": [
        "INFO:algo_evaluation:Test Weighted Accuracy score = 0.826721235583\n"
       ]
      },
      {
       "output_type": "stream",
       "stream": "stderr",
       "text": [
        "INFO:algo_evaluation:Created Ada Boost classifier with params {'n_estimators': 35, 'learning_rate': 1.0}\n"
       ]
      },
      {
       "output_type": "stream",
       "stream": "stderr",
       "text": [
        "INFO:algo_evaluation:Trained Ada Boost classifier\n"
       ]
      },
      {
       "output_type": "stream",
       "stream": "stderr",
       "text": [
        "INFO:algo_evaluation:Generated predictions\n"
       ]
      },
      {
       "output_type": "stream",
       "stream": "stderr",
       "text": [
        "INFO:algo_evaluation:Training Weighted Accuracy score = 0.837882654853\n"
       ]
      },
      {
       "output_type": "stream",
       "stream": "stderr",
       "text": [
        "INFO:algo_evaluation:Test Weighted Accuracy score = 0.836112202445\n"
       ]
      },
      {
       "output_type": "stream",
       "stream": "stderr",
       "text": [
        "INFO:algo_evaluation:Created Ada Boost classifier with params {'n_estimators': 40, 'learning_rate': 1.0}\n"
       ]
      },
      {
       "output_type": "stream",
       "stream": "stderr",
       "text": [
        "INFO:algo_evaluation:Trained Ada Boost classifier\n"
       ]
      },
      {
       "output_type": "stream",
       "stream": "stderr",
       "text": [
        "INFO:algo_evaluation:Generated predictions\n"
       ]
      },
      {
       "output_type": "stream",
       "stream": "stderr",
       "text": [
        "INFO:algo_evaluation:Training Weighted Accuracy score = 0.841302681784\n"
       ]
      },
      {
       "output_type": "stream",
       "stream": "stderr",
       "text": [
        "INFO:algo_evaluation:Test Weighted Accuracy score = 0.841291796868\n"
       ]
      },
      {
       "output_type": "stream",
       "stream": "stderr",
       "text": [
        "INFO:algo_evaluation:Created Ada Boost classifier with params {'n_estimators': 45, 'learning_rate': 1.0}\n"
       ]
      },
      {
       "output_type": "stream",
       "stream": "stderr",
       "text": [
        "INFO:algo_evaluation:Trained Ada Boost classifier\n"
       ]
      },
      {
       "output_type": "stream",
       "stream": "stderr",
       "text": [
        "INFO:algo_evaluation:Generated predictions\n"
       ]
      },
      {
       "output_type": "stream",
       "stream": "stderr",
       "text": [
        "INFO:algo_evaluation:Training Weighted Accuracy score = 0.836709206492\n"
       ]
      },
      {
       "output_type": "stream",
       "stream": "stderr",
       "text": [
        "INFO:algo_evaluation:Test Weighted Accuracy score = 0.83757062378\n"
       ]
      },
      {
       "output_type": "stream",
       "stream": "stderr",
       "text": [
        "INFO:algo_evaluation:Created Ada Boost classifier with params {'n_estimators': 50, 'learning_rate': 1.0}\n"
       ]
      },
      {
       "output_type": "stream",
       "stream": "stderr",
       "text": [
        "INFO:algo_evaluation:Trained Ada Boost classifier\n"
       ]
      },
      {
       "output_type": "stream",
       "stream": "stderr",
       "text": [
        "INFO:algo_evaluation:Generated predictions\n"
       ]
      },
      {
       "output_type": "stream",
       "stream": "stderr",
       "text": [
        "INFO:algo_evaluation:Training Weighted Accuracy score = 0.839408385566\n"
       ]
      },
      {
       "output_type": "stream",
       "stream": "stderr",
       "text": [
        "INFO:algo_evaluation:Test Weighted Accuracy score = 0.838194148398\n"
       ]
      },
      {
       "output_type": "stream",
       "stream": "stderr",
       "text": [
        "INFO:algo_evaluation:Created Ada Boost classifier with params {'n_estimators': 55, 'learning_rate': 1.0}\n"
       ]
      },
      {
       "output_type": "stream",
       "stream": "stderr",
       "text": [
        "INFO:algo_evaluation:Trained Ada Boost classifier\n"
       ]
      },
      {
       "output_type": "stream",
       "stream": "stderr",
       "text": [
        "INFO:algo_evaluation:Generated predictions\n"
       ]
      },
      {
       "output_type": "stream",
       "stream": "stderr",
       "text": [
        "INFO:algo_evaluation:Training Weighted Accuracy score = 0.830438099415\n"
       ]
      },
      {
       "output_type": "stream",
       "stream": "stderr",
       "text": [
        "INFO:algo_evaluation:Test Weighted Accuracy score = 0.832212994271\n"
       ]
      },
      {
       "output_type": "stream",
       "stream": "stderr",
       "text": [
        "INFO:algo_evaluation:Created Ada Boost classifier with params {'n_estimators': 60, 'learning_rate': 1.0}\n"
       ]
      },
      {
       "output_type": "stream",
       "stream": "stderr",
       "text": [
        "INFO:algo_evaluation:Trained Ada Boost classifier\n"
       ]
      },
      {
       "output_type": "stream",
       "stream": "stderr",
       "text": [
        "INFO:algo_evaluation:Generated predictions\n"
       ]
      },
      {
       "output_type": "stream",
       "stream": "stderr",
       "text": [
        "INFO:algo_evaluation:Training Weighted Accuracy score = 0.834723329012\n"
       ]
      },
      {
       "output_type": "stream",
       "stream": "stderr",
       "text": [
        "INFO:algo_evaluation:Test Weighted Accuracy score = 0.835204191787\n"
       ]
      },
      {
       "output_type": "stream",
       "stream": "stderr",
       "text": [
        "INFO:algo_evaluation:Created Ada Boost classifier with params {'n_estimators': 65, 'learning_rate': 1.0}\n"
       ]
      },
      {
       "output_type": "stream",
       "stream": "stderr",
       "text": [
        "INFO:algo_evaluation:Trained Ada Boost classifier\n"
       ]
      },
      {
       "output_type": "stream",
       "stream": "stderr",
       "text": [
        "INFO:algo_evaluation:Generated predictions\n"
       ]
      },
      {
       "output_type": "stream",
       "stream": "stderr",
       "text": [
        "INFO:algo_evaluation:Training Weighted Accuracy score = 0.842479605743\n"
       ]
      },
      {
       "output_type": "stream",
       "stream": "stderr",
       "text": [
        "INFO:algo_evaluation:Test Weighted Accuracy score = 0.838722577466\n"
       ]
      },
      {
       "output_type": "stream",
       "stream": "stderr",
       "text": [
        "INFO:algo_evaluation:Created Ada Boost classifier with params {'n_estimators': 70, 'learning_rate': 1.0}\n"
       ]
      },
      {
       "output_type": "stream",
       "stream": "stderr",
       "text": [
        "INFO:algo_evaluation:Trained Ada Boost classifier\n"
       ]
      },
      {
       "output_type": "stream",
       "stream": "stderr",
       "text": [
        "INFO:algo_evaluation:Generated predictions\n"
       ]
      },
      {
       "output_type": "stream",
       "stream": "stderr",
       "text": [
        "INFO:algo_evaluation:Training Weighted Accuracy score = 0.842119721295\n"
       ]
      },
      {
       "output_type": "stream",
       "stream": "stderr",
       "text": [
        "INFO:algo_evaluation:Test Weighted Accuracy score = 0.838114767011\n"
       ]
      },
      {
       "output_type": "stream",
       "stream": "stderr",
       "text": [
        "INFO:algo_evaluation:Created Ada Boost classifier with params {'n_estimators': 75, 'learning_rate': 1.0}\n"
       ]
      },
      {
       "output_type": "stream",
       "stream": "stderr",
       "text": [
        "INFO:algo_evaluation:Trained Ada Boost classifier\n"
       ]
      },
      {
       "output_type": "stream",
       "stream": "stderr",
       "text": [
        "INFO:algo_evaluation:Generated predictions\n"
       ]
      },
      {
       "output_type": "stream",
       "stream": "stderr",
       "text": [
        "INFO:algo_evaluation:Training Weighted Accuracy score = 0.834077756257\n"
       ]
      },
      {
       "output_type": "stream",
       "stream": "stderr",
       "text": [
        "INFO:algo_evaluation:Test Weighted Accuracy score = 0.840270939546\n"
       ]
      },
      {
       "output_type": "stream",
       "stream": "stderr",
       "text": [
        "INFO:algo_evaluation:Created Ada Boost classifier with params {'n_estimators': 80, 'learning_rate': 1.0}\n"
       ]
      },
      {
       "output_type": "stream",
       "stream": "stderr",
       "text": [
        "INFO:algo_evaluation:Trained Ada Boost classifier\n"
       ]
      },
      {
       "output_type": "stream",
       "stream": "stderr",
       "text": [
        "INFO:algo_evaluation:Generated predictions\n"
       ]
      },
      {
       "output_type": "stream",
       "stream": "stderr",
       "text": [
        "INFO:algo_evaluation:Training Weighted Accuracy score = 0.838653789726\n"
       ]
      },
      {
       "output_type": "stream",
       "stream": "stderr",
       "text": [
        "INFO:algo_evaluation:Test Weighted Accuracy score = 0.830853694153\n"
       ]
      },
      {
       "output_type": "stream",
       "stream": "stderr",
       "text": [
        "INFO:algo_evaluation:Created Ada Boost classifier with params {'n_estimators': 85, 'learning_rate': 1.0}\n"
       ]
      },
      {
       "output_type": "stream",
       "stream": "stderr",
       "text": [
        "INFO:algo_evaluation:Trained Ada Boost classifier\n"
       ]
      },
      {
       "output_type": "stream",
       "stream": "stderr",
       "text": [
        "INFO:algo_evaluation:Generated predictions\n"
       ]
      },
      {
       "output_type": "stream",
       "stream": "stderr",
       "text": [
        "INFO:algo_evaluation:Training Weighted Accuracy score = 0.840024884396\n"
       ]
      },
      {
       "output_type": "stream",
       "stream": "stderr",
       "text": [
        "INFO:algo_evaluation:Test Weighted Accuracy score = 0.83859129738\n"
       ]
      },
      {
       "output_type": "stream",
       "stream": "stderr",
       "text": [
        "INFO:algo_evaluation:Created Ada Boost classifier with params {'n_estimators': 90, 'learning_rate': 1.0}\n"
       ]
      },
      {
       "output_type": "stream",
       "stream": "stderr",
       "text": [
        "INFO:algo_evaluation:Trained Ada Boost classifier\n"
       ]
      },
      {
       "output_type": "stream",
       "stream": "stderr",
       "text": [
        "INFO:algo_evaluation:Generated predictions\n"
       ]
      },
      {
       "output_type": "stream",
       "stream": "stderr",
       "text": [
        "INFO:algo_evaluation:Training Weighted Accuracy score = 0.841074731627\n"
       ]
      },
      {
       "output_type": "stream",
       "stream": "stderr",
       "text": [
        "INFO:algo_evaluation:Test Weighted Accuracy score = 0.831216687701\n"
       ]
      },
      {
       "output_type": "stream",
       "stream": "stderr",
       "text": [
        "INFO:algo_evaluation:Created Ada Boost classifier with params {'n_estimators': 95, 'learning_rate': 1.0}\n"
       ]
      },
      {
       "output_type": "stream",
       "stream": "stderr",
       "text": [
        "INFO:algo_evaluation:Trained Ada Boost classifier\n"
       ]
      },
      {
       "output_type": "stream",
       "stream": "stderr",
       "text": [
        "INFO:algo_evaluation:Generated predictions\n"
       ]
      },
      {
       "output_type": "stream",
       "stream": "stderr",
       "text": [
        "INFO:algo_evaluation:Training Weighted Accuracy score = 0.842062619298\n"
       ]
      },
      {
       "output_type": "stream",
       "stream": "stderr",
       "text": [
        "INFO:algo_evaluation:Test Weighted Accuracy score = 0.828088590705\n"
       ]
      },
      {
       "output_type": "stream",
       "stream": "stderr",
       "text": [
        "INFO:algo_evaluation:Performed evaluation of the n_estimators setting choice\n"
       ]
      },
      {
       "output_type": "stream",
       "stream": "stderr",
       "text": [
        "INFO:algo_evaluation:              training_score  test_score\n",
        "n_estimators                            \n",
        "30                  0.832906    0.826721\n",
        "35                  0.837883    0.836112\n",
        "40                  0.841303    0.841292\n",
        "45                  0.836709    0.837571\n",
        "50                  0.839408    0.838194\n",
        "55                  0.830438    0.832213\n",
        "60                  0.834723    0.835204\n",
        "65                  0.842480    0.838723\n",
        "70                  0.842120    0.838115\n",
        "75                  0.834078    0.840271\n",
        "80                  0.838654    0.830854\n",
        "85                  0.840025    0.838591\n",
        "90                  0.841075    0.831217\n",
        "95                  0.842063    0.828089\n"
       ]
      }
     ],
     "prompt_number": 3
    },
    {
     "cell_type": "code",
     "collapsed": false,
     "input": [
      "pd.rolling_mean(estimators_df, 5).plot()"
     ],
     "language": "python",
     "metadata": {},
     "outputs": []
    },
    {
     "cell_type": "code",
     "collapsed": false,
     "input": [
      "learning_rate_df = estimate_best_learning_rate()"
     ],
     "language": "python",
     "metadata": {},
     "outputs": [
      {
       "output_type": "stream",
       "stream": "stderr",
       "text": [
        "INFO:algo_evaluation:Loaded higgs training dataset of size 68114\n"
       ]
      },
      {
       "output_type": "stream",
       "stream": "stderr",
       "text": [
        "INFO:algo_evaluation:Created Ada Boost classifier with params {'n_estimators': 50, 'learning_rate': 0.10000000000000001}\n"
       ]
      },
      {
       "output_type": "stream",
       "stream": "stderr",
       "text": [
        "INFO:algo_evaluation:Trained Ada Boost classifier\n"
       ]
      },
      {
       "output_type": "stream",
       "stream": "stderr",
       "text": [
        "INFO:algo_evaluation:Generated predictions\n"
       ]
      },
      {
       "output_type": "stream",
       "stream": "stderr",
       "text": [
        "INFO:algo_evaluation:Training Weighted Accuracy score = 0.792128431771\n"
       ]
      },
      {
       "output_type": "stream",
       "stream": "stderr",
       "text": [
        "INFO:algo_evaluation:Test Weighted Accuracy score = 0.785358025947\n"
       ]
      },
      {
       "output_type": "stream",
       "stream": "stderr",
       "text": [
        "INFO:algo_evaluation:Created Ada Boost classifier with params {'n_estimators': 50, 'learning_rate': 0.30000000000000004}\n"
       ]
      },
      {
       "output_type": "stream",
       "stream": "stderr",
       "text": [
        "INFO:algo_evaluation:Trained Ada Boost classifier\n"
       ]
      },
      {
       "output_type": "stream",
       "stream": "stderr",
       "text": [
        "INFO:algo_evaluation:Generated predictions\n"
       ]
      },
      {
       "output_type": "stream",
       "stream": "stderr",
       "text": [
        "INFO:algo_evaluation:Training Weighted Accuracy score = 0.822673561079\n"
       ]
      },
      {
       "output_type": "stream",
       "stream": "stderr",
       "text": [
        "INFO:algo_evaluation:Test Weighted Accuracy score = 0.81959497647\n"
       ]
      },
      {
       "output_type": "stream",
       "stream": "stderr",
       "text": [
        "INFO:algo_evaluation:Created Ada Boost classifier with params {'n_estimators': 50, 'learning_rate': 0.50000000000000011}\n"
       ]
      },
      {
       "output_type": "stream",
       "stream": "stderr",
       "text": [
        "INFO:algo_evaluation:Trained Ada Boost classifier\n"
       ]
      },
      {
       "output_type": "stream",
       "stream": "stderr",
       "text": [
        "INFO:algo_evaluation:Generated predictions\n"
       ]
      },
      {
       "output_type": "stream",
       "stream": "stderr",
       "text": [
        "INFO:algo_evaluation:Training Weighted Accuracy score = 0.829487424415\n"
       ]
      },
      {
       "output_type": "stream",
       "stream": "stderr",
       "text": [
        "INFO:algo_evaluation:Test Weighted Accuracy score = 0.833647741713\n"
       ]
      },
      {
       "output_type": "stream",
       "stream": "stderr",
       "text": [
        "INFO:algo_evaluation:Created Ada Boost classifier with params {'n_estimators': 50, 'learning_rate': 0.70000000000000007}\n"
       ]
      },
      {
       "output_type": "stream",
       "stream": "stderr",
       "text": [
        "INFO:algo_evaluation:Trained Ada Boost classifier\n"
       ]
      },
      {
       "output_type": "stream",
       "stream": "stderr",
       "text": [
        "INFO:algo_evaluation:Generated predictions\n"
       ]
      },
      {
       "output_type": "stream",
       "stream": "stderr",
       "text": [
        "INFO:algo_evaluation:Training Weighted Accuracy score = 0.838433084586\n"
       ]
      },
      {
       "output_type": "stream",
       "stream": "stderr",
       "text": [
        "INFO:algo_evaluation:Test Weighted Accuracy score = 0.821244308535\n"
       ]
      },
      {
       "output_type": "stream",
       "stream": "stderr",
       "text": [
        "INFO:algo_evaluation:Created Ada Boost classifier with params {'n_estimators': 50, 'learning_rate': 0.90000000000000013}\n"
       ]
      },
      {
       "output_type": "stream",
       "stream": "stderr",
       "text": [
        "INFO:algo_evaluation:Trained Ada Boost classifier\n"
       ]
      },
      {
       "output_type": "stream",
       "stream": "stderr",
       "text": [
        "INFO:algo_evaluation:Generated predictions\n"
       ]
      },
      {
       "output_type": "stream",
       "stream": "stderr",
       "text": [
        "INFO:algo_evaluation:Training Weighted Accuracy score = 0.833257654905\n"
       ]
      },
      {
       "output_type": "stream",
       "stream": "stderr",
       "text": [
        "INFO:algo_evaluation:Test Weighted Accuracy score = 0.822537033695\n"
       ]
      },
      {
       "output_type": "stream",
       "stream": "stderr",
       "text": [
        "INFO:algo_evaluation:Created Ada Boost classifier with params {'n_estimators': 50, 'learning_rate': 1.1000000000000003}\n"
       ]
      },
      {
       "output_type": "stream",
       "stream": "stderr",
       "text": [
        "INFO:algo_evaluation:Trained Ada Boost classifier\n"
       ]
      },
      {
       "output_type": "stream",
       "stream": "stderr",
       "text": [
        "INFO:algo_evaluation:Generated predictions\n"
       ]
      },
      {
       "output_type": "stream",
       "stream": "stderr",
       "text": [
        "INFO:algo_evaluation:Training Weighted Accuracy score = 0.841021460848\n"
       ]
      },
      {
       "output_type": "stream",
       "stream": "stderr",
       "text": [
        "INFO:algo_evaluation:Test Weighted Accuracy score = 0.842866760094\n"
       ]
      },
      {
       "output_type": "stream",
       "stream": "stderr",
       "text": [
        "INFO:algo_evaluation:Created Ada Boost classifier with params {'n_estimators': 50, 'learning_rate': 1.3000000000000003}\n"
       ]
      },
      {
       "output_type": "stream",
       "stream": "stderr",
       "text": [
        "INFO:algo_evaluation:Trained Ada Boost classifier\n"
       ]
      },
      {
       "output_type": "stream",
       "stream": "stderr",
       "text": [
        "INFO:algo_evaluation:Generated predictions\n"
       ]
      },
      {
       "output_type": "stream",
       "stream": "stderr",
       "text": [
        "INFO:algo_evaluation:Training Weighted Accuracy score = 0.83785748827\n"
       ]
      },
      {
       "output_type": "stream",
       "stream": "stderr",
       "text": [
        "INFO:algo_evaluation:Test Weighted Accuracy score = 0.833369360279\n"
       ]
      },
      {
       "output_type": "stream",
       "stream": "stderr",
       "text": [
        "INFO:algo_evaluation:Created Ada Boost classifier with params {'n_estimators': 50, 'learning_rate': 1.5000000000000004}\n"
       ]
      },
      {
       "output_type": "stream",
       "stream": "stderr",
       "text": [
        "INFO:algo_evaluation:Trained Ada Boost classifier\n"
       ]
      },
      {
       "output_type": "stream",
       "stream": "stderr",
       "text": [
        "INFO:algo_evaluation:Generated predictions\n"
       ]
      },
      {
       "output_type": "stream",
       "stream": "stderr",
       "text": [
        "INFO:algo_evaluation:Training Weighted Accuracy score = 0.833858807045\n"
       ]
      },
      {
       "output_type": "stream",
       "stream": "stderr",
       "text": [
        "INFO:algo_evaluation:Test Weighted Accuracy score = 0.828123361297\n"
       ]
      },
      {
       "output_type": "stream",
       "stream": "stderr",
       "text": [
        "INFO:algo_evaluation:Created Ada Boost classifier with params {'n_estimators': 50, 'learning_rate': 1.7000000000000004}\n"
       ]
      },
      {
       "output_type": "stream",
       "stream": "stderr",
       "text": [
        "INFO:algo_evaluation:Trained Ada Boost classifier\n"
       ]
      },
      {
       "output_type": "stream",
       "stream": "stderr",
       "text": [
        "INFO:algo_evaluation:Generated predictions\n"
       ]
      },
      {
       "output_type": "stream",
       "stream": "stderr",
       "text": [
        "INFO:algo_evaluation:Training Weighted Accuracy score = 0.82609796407\n"
       ]
      },
      {
       "output_type": "stream",
       "stream": "stderr",
       "text": [
        "INFO:algo_evaluation:Test Weighted Accuracy score = 0.83474987547\n"
       ]
      },
      {
       "output_type": "stream",
       "stream": "stderr",
       "text": [
        "INFO:algo_evaluation:Created Ada Boost classifier with params {'n_estimators': 50, 'learning_rate': 1.9000000000000004}\n"
       ]
      },
      {
       "output_type": "stream",
       "stream": "stderr",
       "text": [
        "INFO:algo_evaluation:Trained Ada Boost classifier\n"
       ]
      },
      {
       "output_type": "stream",
       "stream": "stderr",
       "text": [
        "INFO:algo_evaluation:Generated predictions\n"
       ]
      },
      {
       "output_type": "stream",
       "stream": "stderr",
       "text": [
        "INFO:algo_evaluation:Training Weighted Accuracy score = 0.816432985472\n"
       ]
      },
      {
       "output_type": "stream",
       "stream": "stderr",
       "text": [
        "INFO:algo_evaluation:Test Weighted Accuracy score = 0.814192181717\n"
       ]
      },
      {
       "output_type": "stream",
       "stream": "stderr",
       "text": [
        "INFO:algo_evaluation:Performed evaluation of the learning_rate setting choice\n"
       ]
      },
      {
       "output_type": "stream",
       "stream": "stderr",
       "text": [
        "INFO:algo_evaluation:               training_score  test_score\n",
        "learning_rate                            \n",
        "0.1                  0.792128    0.785358\n",
        "0.3                  0.822674    0.819595\n",
        "0.5                  0.829487    0.833648\n",
        "0.7                  0.838433    0.821244\n",
        "0.9                  0.833258    0.822537\n",
        "1.1                  0.841021    0.842867\n",
        "1.3                  0.837857    0.833369\n",
        "1.5                  0.833859    0.828123\n",
        "1.7                  0.826098    0.834750\n",
        "1.9                  0.816433    0.814192\n"
       ]
      }
     ],
     "prompt_number": 5
    },
    {
     "cell_type": "code",
     "collapsed": false,
     "input": [
      "pd.rolling_mean(learning_rate_df, 5).plot()"
     ],
     "language": "python",
     "metadata": {},
     "outputs": []
    },
    {
     "cell_type": "code",
     "collapsed": false,
     "input": [
      "from algo_evaluation.parameter_search import grid_search_best_parameter\n",
      "from algo_evaluation.datasets import split_dataset, load_higgs_train"
     ],
     "language": "python",
     "metadata": {},
     "outputs": [],
     "prompt_number": 7
    },
    {
     "cell_type": "code",
     "collapsed": false,
     "input": [
      "raw_data = load_higgs_train()\n",
      "features, weights, labels = raw_data\n",
      "print features.shape, weights.shape, labels.shape"
     ],
     "language": "python",
     "metadata": {},
     "outputs": [
      {
       "output_type": "stream",
       "stream": "stderr",
       "text": [
        "INFO:algo_evaluation:Loaded higgs training dataset of size 68114\n"
       ]
      },
      {
       "output_type": "stream",
       "stream": "stdout",
       "text": [
        "(68114, 13) (68114,) (68114,)\n"
       ]
      }
     ],
     "prompt_number": 8
    },
    {
     "cell_type": "code",
     "collapsed": false,
     "input": [
      "dataset = split_dataset(features, weights, labels)\n",
      "dataset['training']['labels'] = [1 if l == 's' else 0 for l in dataset['training']['labels']]\n",
      "dataset['test']['labels'] = [1 if l == 's' else 0 for l in dataset['test']['labels']]"
     ],
     "language": "python",
     "metadata": {},
     "outputs": [],
     "prompt_number": 9
    },
    {
     "cell_type": "code",
     "collapsed": false,
     "input": [
      "from sklearn.ensemble import AdaBoostClassifier\n",
      "import numpy as np\n",
      "tunning_parameters = {'n_estimators': np.arange(80, 100, 5), \n",
      "                      'learning_rate': np.arange(0.1, 2.2, .2)}\n",
      "scores = ['precision']"
     ],
     "language": "python",
     "metadata": {},
     "outputs": []
    },
    {
     "cell_type": "code",
     "collapsed": false,
     "input": [
      "grid_search_best_parameter(dataset, AdaBoostClassifier, tunning_parameters, scores=scores)"
     ],
     "language": "python",
     "metadata": {},
     "outputs": [
      {
       "output_type": "stream",
       "stream": "stderr",
       "text": [
        "INFO:algo_evaluation:# Tuning hyper-parameters for precision\n"
       ]
      }
     ]
    },
    {
     "cell_type": "code",
     "collapsed": false,
     "input": [],
     "language": "python",
     "metadata": {},
     "outputs": []
    }
   ],
   "metadata": {}
  }
 ]
}