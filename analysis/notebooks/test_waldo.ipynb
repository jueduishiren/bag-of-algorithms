{
 "cells": [
  {
   "cell_type": "code",
   "execution_count": 67,
   "metadata": {
    "collapsed": false
   },
   "outputs": [],
   "source": [
    "%matplotlib inline"
   ]
  },
  {
   "cell_type": "code",
   "execution_count": 18,
   "metadata": {
    "collapsed": false
   },
   "outputs": [
    {
     "data": {
      "text/plain": [
       "<module 'algo_evaluation.optimization.genetic_optimize' from '/Users/sshegheva/workspace/bag-of-algorithms/algo_evaluation/optimization/genetic_optimize.py'>"
      ]
     },
     "execution_count": 18,
     "metadata": {},
     "output_type": "execute_result"
    }
   ],
   "source": [
    "from algo_evaluation.optimization import hill_climbing as hc\n",
    "from algo_evaluation.optimization import genetic_optimize as ga\n",
    "reload(ga)"
   ]
  },
  {
   "cell_type": "code",
   "execution_count": 4,
   "metadata": {
    "collapsed": false
   },
   "outputs": [],
   "source": [
    "from algo_evaluation.optimization.problems.waldo_optimization import make_waldo_optimization_problem"
   ]
  },
  {
   "cell_type": "code",
   "execution_count": 4,
   "metadata": {
    "collapsed": false
   },
   "outputs": [],
   "source": [
    "from algo_evaluation.datasets import load_waldo_dataset"
   ]
  },
  {
   "cell_type": "code",
   "execution_count": 5,
   "metadata": {
    "collapsed": false
   },
   "outputs": [],
   "source": [
    "waldo_df = load_waldo_dataset()"
   ]
  },
  {
   "cell_type": "code",
   "execution_count": 1,
   "metadata": {
    "collapsed": true
   },
   "outputs": [],
   "source": [
    "from algo_evaluation.optimization.problems import waldo_optimization as wo"
   ]
  },
  {
   "cell_type": "code",
   "execution_count": 7,
   "metadata": {
    "collapsed": false
   },
   "outputs": [],
   "source": [
    "wop = make_waldo_optimization_problem(waldo_df)"
   ]
  },
  {
   "cell_type": "code",
   "execution_count": 6,
   "metadata": {
    "collapsed": false
   },
   "outputs": [
    {
     "ename": "TypeError",
     "evalue": "'NoneType' object is not iterable",
     "output_type": "error",
     "traceback": [
      "\u001b[0;31m---------------------------------------------------------------------------\u001b[0m",
      "\u001b[0;31mTypeError\u001b[0m                                 Traceback (most recent call last)",
      "\u001b[0;32m<ipython-input-6-e6e724747c37>\u001b[0m in \u001b[0;36m<module>\u001b[0;34m()\u001b[0m\n\u001b[0;32m----> 1\u001b[0;31m \u001b[0mrhc_df\u001b[0m\u001b[0;34m,\u001b[0m \u001b[0msa_df\u001b[0m\u001b[0;34m,\u001b[0m \u001b[0mga_df\u001b[0m \u001b[0;34m=\u001b[0m \u001b[0mwo\u001b[0m\u001b[0;34m.\u001b[0m\u001b[0mcompare_all\u001b[0m\u001b[0;34m(\u001b[0m\u001b[0mwaldo_df\u001b[0m\u001b[0;34m)\u001b[0m\u001b[0;34m\u001b[0m\u001b[0m\n\u001b[0m",
      "\u001b[0;32m/Users/sshegheva/workspace/bag-of-algorithms/algo_evaluation/optimization/problems/waldo_optimization.py\u001b[0m in \u001b[0;36mcompare_all\u001b[0;34m(waldo_df, experiment_settings)\u001b[0m\n\u001b[1;32m     81\u001b[0m     ga = genetic_optimize(domain=domain,\n\u001b[1;32m     82\u001b[0m                           \u001b[0mcostf\u001b[0m\u001b[0;34m=\u001b[0m\u001b[0mopt_problem\u001b[0m\u001b[0;34m.\u001b[0m\u001b[0mcompute_fitness\u001b[0m\u001b[0;34m,\u001b[0m\u001b[0;34m\u001b[0m\u001b[0m\n\u001b[0;32m---> 83\u001b[0;31m                           maxiter=experiment_settings['ga']['max_iterations'])\n\u001b[0m\u001b[1;32m     84\u001b[0m     \u001b[0mga\u001b[0m\u001b[0;34m[\u001b[0m\u001b[0;34m'optimal_value'\u001b[0m\u001b[0;34m]\u001b[0m \u001b[0;34m=\u001b[0m \u001b[0;36m1\u001b[0m \u001b[0;34m/\u001b[0m \u001b[0mga\u001b[0m\u001b[0;34m[\u001b[0m\u001b[0;34m'cost'\u001b[0m\u001b[0;34m]\u001b[0m\u001b[0;34m\u001b[0m\u001b[0m\n\u001b[1;32m     85\u001b[0m     \u001b[0;31m#df = pd.concat([rhc, sa, ga])\u001b[0m\u001b[0;34m\u001b[0m\u001b[0;34m\u001b[0m\u001b[0m\n",
      "\u001b[0;32m/Users/sshegheva/workspace/bag-of-algorithms/algo_evaluation/optimization/genetic_optimize.py\u001b[0m in \u001b[0;36mgenetic_optimize\u001b[0;34m(domain, costf, popsize, step, mutprob, elite, maxiter)\u001b[0m\n\u001b[1;32m     30\u001b[0m   \u001b[0;31m# Main loop\u001b[0m\u001b[0;34m\u001b[0m\u001b[0;34m\u001b[0m\u001b[0m\n\u001b[1;32m     31\u001b[0m   \u001b[0;32mfor\u001b[0m \u001b[0mi\u001b[0m \u001b[0;32min\u001b[0m \u001b[0mrange\u001b[0m\u001b[0;34m(\u001b[0m\u001b[0mmaxiter\u001b[0m\u001b[0;34m)\u001b[0m\u001b[0;34m:\u001b[0m\u001b[0;34m\u001b[0m\u001b[0m\n\u001b[0;32m---> 32\u001b[0;31m     \u001b[0mscores\u001b[0m\u001b[0;34m=\u001b[0m\u001b[0;34m[\u001b[0m\u001b[0;34m(\u001b[0m\u001b[0mcostf\u001b[0m\u001b[0;34m(\u001b[0m\u001b[0mv\u001b[0m\u001b[0;34m)\u001b[0m\u001b[0;34m,\u001b[0m\u001b[0mv\u001b[0m\u001b[0;34m)\u001b[0m \u001b[0;32mfor\u001b[0m \u001b[0mv\u001b[0m \u001b[0;32min\u001b[0m \u001b[0mpop\u001b[0m\u001b[0;34m]\u001b[0m\u001b[0;34m\u001b[0m\u001b[0m\n\u001b[0m\u001b[1;32m     33\u001b[0m     \u001b[0mscores\u001b[0m\u001b[0;34m.\u001b[0m\u001b[0msort\u001b[0m\u001b[0;34m(\u001b[0m\u001b[0;34m)\u001b[0m\u001b[0;34m\u001b[0m\u001b[0m\n\u001b[1;32m     34\u001b[0m     \u001b[0mranked\u001b[0m\u001b[0;34m=\u001b[0m\u001b[0;34m[\u001b[0m\u001b[0mv\u001b[0m \u001b[0;32mfor\u001b[0m \u001b[0;34m(\u001b[0m\u001b[0ms\u001b[0m\u001b[0;34m,\u001b[0m\u001b[0mv\u001b[0m\u001b[0;34m)\u001b[0m \u001b[0;32min\u001b[0m \u001b[0mscores\u001b[0m\u001b[0;34m]\u001b[0m\u001b[0;34m\u001b[0m\u001b[0m\n",
      "\u001b[0;32m/Users/sshegheva/workspace/bag-of-algorithms/algo_evaluation/optimization/problems/waldo_optimization.py\u001b[0m in \u001b[0;36mcompute_fitness\u001b[0;34m(self, solution)\u001b[0m\n\u001b[1;32m     52\u001b[0m         \"\"\"\n\u001b[1;32m     53\u001b[0m         \u001b[0msolution_fitness\u001b[0m \u001b[0;34m=\u001b[0m \u001b[0;36m0.0\u001b[0m\u001b[0;34m\u001b[0m\u001b[0m\n\u001b[0;32m---> 54\u001b[0;31m         \u001b[0msolution_pair\u001b[0m \u001b[0;34m=\u001b[0m \u001b[0mzip\u001b[0m\u001b[0;34m(\u001b[0m\u001b[0;34m*\u001b[0m\u001b[0;34m(\u001b[0m\u001b[0miter\u001b[0m\u001b[0;34m(\u001b[0m\u001b[0msolution\u001b[0m\u001b[0;34m)\u001b[0m\u001b[0;34m,\u001b[0m\u001b[0;34m)\u001b[0m \u001b[0;34m*\u001b[0m \u001b[0;36m2\u001b[0m\u001b[0;34m)\u001b[0m\u001b[0;34m\u001b[0m\u001b[0m\n\u001b[0m\u001b[1;32m     55\u001b[0m         \u001b[0;32mfor\u001b[0m \u001b[0mindex\u001b[0m \u001b[0;32min\u001b[0m \u001b[0mrange\u001b[0m\u001b[0;34m(\u001b[0m\u001b[0;36m1\u001b[0m\u001b[0;34m,\u001b[0m \u001b[0mlen\u001b[0m\u001b[0;34m(\u001b[0m\u001b[0msolution_pair\u001b[0m\u001b[0;34m)\u001b[0m\u001b[0;34m)\u001b[0m\u001b[0;34m:\u001b[0m\u001b[0;34m\u001b[0m\u001b[0m\n\u001b[1;32m     56\u001b[0m             \u001b[0mbook1\u001b[0m\u001b[0;34m,\u001b[0m \u001b[0mpage1\u001b[0m \u001b[0;34m=\u001b[0m \u001b[0msolution_pair\u001b[0m\u001b[0;34m[\u001b[0m\u001b[0mindex\u001b[0m\u001b[0;34m]\u001b[0m\u001b[0;34m\u001b[0m\u001b[0m\n",
      "\u001b[0;31mTypeError\u001b[0m: 'NoneType' object is not iterable"
     ]
    }
   ],
   "source": [
    "rhc_df, sa_df, ga_df = wo.compare_all(waldo_df)"
   ]
  },
  {
   "cell_type": "code",
   "execution_count": 10,
   "metadata": {
    "collapsed": false
   },
   "outputs": [],
   "source": [
    "domain = []\n",
    "for i in range(len(waldo_df)):\n",
    "    domain.append((1.0, 7.0))\n",
    "    domain.append((1.0, 12.0))"
   ]
  },
  {
   "cell_type": "code",
   "execution_count": 45,
   "metadata": {
    "collapsed": false
   },
   "outputs": [],
   "source": [
    "import math\n",
    "def calculate_distance(x1, y1, x2, y2):\n",
    "    \"\"\"\n",
    "        Returns the Euclidean distance between points (x1, y1) and (x2, y2)\n",
    "    \"\"\"\n",
    "    return math.sqrt((x2 - x1)**2 + (y2 - y1)**2)\n",
    "\n",
    "def waldo_coord(book, page):\n",
    "    return waldo_df[(waldo_df['Book'] == book) & (waldo_df['Page'] == page)]\n",
    "\n",
    "def compute_fitness(solution):\n",
    "    \"\"\"\n",
    "        Computes the distance that the Waldo-seeking solution covers.\n",
    "\n",
    "        Lower distance is better, so the GA should try to minimize this function.\n",
    "    \"\"\"\n",
    "    solution_fitness = 0.0\n",
    "    solution_pair = zip(*(iter(solution),) * 2)\n",
    "    for index in range(1, len(solution_pair)):\n",
    "        book1, page1 = solution_pair[index]\n",
    "        book2, page2 = solution_pair[index-1]\n",
    "        w1 = waldo_coord(book1, page1)\n",
    "        w2 = waldo_coord(book2, page2)\n",
    "        if w1.empty:\n",
    "            continue\n",
    "        if w2.empty:\n",
    "            continue\n",
    "        solution_fitness += calculate_distance(w1.X.iloc[0], w1.Y.iloc[0], w2.X.iloc[0], w2.Y.iloc[0])\n",
    "    return solution_fitness"
   ]
  },
  {
   "cell_type": "code",
   "execution_count": 13,
   "metadata": {
    "collapsed": false
   },
   "outputs": [],
   "source": [
    "result = hc.hillclimb(domain, compute_fitness)"
   ]
  },
  {
   "cell_type": "code",
   "execution_count": 69,
   "metadata": {
    "collapsed": false
   },
   "outputs": [
    {
     "data": {
      "text/plain": [
       "<module 'algo_evaluation.optimization.genetic_optimize' from '/Users/sshegheva/workspace/bag-of-algorithms/algo_evaluation/optimization/genetic_optimize.py'>"
      ]
     },
     "execution_count": 69,
     "metadata": {},
     "output_type": "execute_result"
    }
   ],
   "source": [
    "reload(ga)\n",
    "#result = ga.genetic_optimize(domain, compute_fitness)"
   ]
  },
  {
   "cell_type": "code",
   "execution_count": 68,
   "metadata": {
    "collapsed": false
   },
   "outputs": [
    {
     "data": {
      "text/plain": [
       "<matplotlib.axes._subplots.AxesSubplot at 0x10d762a50>"
      ]
     },
     "execution_count": 68,
     "metadata": {},
     "output_type": "execute_result"
    },
    {
     "data": {
      "image/png": "[encoded data removed]",
      "text/plain": [
       "<matplotlib.figure.Figure at 0x10d762310>"
      ]
     },
     "metadata": {},
     "output_type": "display_data"
    }
   ],
   "source": [
    "result[['generation', 'cost']].set_index('generation').plot()"
   ]
  },
  {
   "cell_type": "code",
   "execution_count": 48,
   "metadata": {
    "collapsed": true
   },
   "outputs": [],
   "source": [
    "p = [[6, 10, 2, 9, 6, 4, 4, 11, 7, 10, 7, 9, 6, 4, 4, 8, 3, 4, 5, 8, 2, 2, 1, 9, 5, 9, 3, 6, 3, 8, 3, 4, 7, 4, 4, 8, 6, 2, 6, 9, 3, 5, 3, 5, 6, 7, 4, 9, 2, 7, 6, 3, 7, 8, 5, 6, 7, 12, 5, 9, 1, 1, 1, 6, 7, 4, 7, 3, 3, 4, 1, 2, 3, 3, 7, 3, 3, 10, 6, 11, 5, 8, 1, 8, 4, 8, 6, 12, 7, 9, 5, 7, 5, 6, 4, 12, 5, 4, 7, 9, 3, 7, 6, 11, 4, 4, 7, 9, 7, 12, 3, 4, 7, 1, 3, 1, 2, 10, 7, 10, 2, 12, 3, 12, 7, 8, 6, 7, 7, 12, 3, 10, 5, 9, 4, 3], [1, 8, 4, 12, 5, 12, 1, 11, 2, 12, 6, 7, 7, 4, 2, 5, 1, 9, 7, 4, 3, 11, 3, 12, 4, 12, 5, 8, 4, 4, 2, 2, 7, 7, 2, 4, 5, 10, 2, 4, 7, 9, 3, 5, 6, 7, 4, 9, 2, 7, 6, 3, 7, 8, 5, 6, 7, 12, 5, 9, 1, 1, 1, 6, 7, 4, 7, 3, 3, 4, 1, 2, 3, 3, 7, 3, 3, 10, 6, 11, 5, 8, 1, 8, 4, 8, 7, 7, 7, 12, 6, 11, 5, 10, 7, 5, 1, 2, 3, 5, 7, 9, 4, 11, 4, 4, 7, 9, 7, 12, 3, 4, 7, 1, 3, 1, 2, 10, 7, 10, 2, 12, 3, 12, 7, 8, 6, 7, 7, 12, 3, 10, 5, 9, 4, 3], [2, 8, 3, 8, 6, 10, 6, 5, 5, 12, 3, 12, 4, 5, 2, 11, 7, 11, 5, 2, 3, 5, 7, 9, 2, 3, 1, 11, 6, 4, 2, 8, 5, 10, 3, 7, 6, 3, 7, 2, 5, 2, 2, 2, 7, 5, 2, 3, 7, 5, 4, 10, 3, 9, 6, 4, 1, 7, 2, 3, 2, 1, 2, 2, 5, 12, 6, 4, 7, 6, 6, 2, 1, 6, 6, 10, 1, 5, 2, 10, 3, 5, 5, 7, 2, 8, 7, 7, 7, 12, 6, 11, 5, 10, 7, 5, 1, 2, 3, 5, 7, 9, 4, 11, 4, 4, 7, 9, 7, 12, 3, 4, 7, 1, 3, 1, 2, 10, 7, 10, 2, 12, 3, 12, 7, 8, 6, 7, 7, 12, 3, 10, 5, 9, 4, 3], [1, 8, 4, 12, 5, 12, 1, 11, 2, 12, 6, 7, 7, 4, 2, 5, 1, 9, 7, 4, 3, 11, 3, 12, 4, 12, 5, 8, 4, 4, 2, 2, 7, 7, 2, 4, 5, 10, 2, 4, 7, 9, 3, 5, 6, 7, 4, 9, 2, 7, 6, 3, 7, 8, 5, 4, 6, 10, 7, 10, 6, 7, 2, 11, 6, 2, 1, 12, 7, 7, 1, 5, 7, 8, 2, 11, 7, 2, 1, 12, 3, 9, 1, 1, 7, 4, 6, 1, 4, 1, 2, 7, 4, 1, 4, 6, 1, 2, 3, 5, 7, 9, 4, 11, 4, 4, 7, 9, 7, 12, 3, 4, 7, 1, 3, 1, 2, 10, 7, 10, 2, 12, 3, 12, 7, 8, 6, 7, 7, 12, 3, 10, 5, 9, 4, 3], [1, 8, 4, 12, 5, 12, 1, 11, 2, 12, 6, 7, 7, 4, 2, 5, 1, 9, 7, 4, 3, 11, 3, 12, 4, 12, 5, 8, 4, 8, 3, 4, 7, 4, 4, 8, 6, 2, 6, 9, 3, 5, 6, 5, 7, 4, 4, 3, 7, 1, 1, 12, 7, 8, 5, 6, 7, 12, 5, 9, 1, 1, 1, 6, 7, 4, 7, 3, 3, 4, 1, 2, 3, 3, 7, 3, 3, 10, 6, 11, 5, 8, 1, 8, 4, 8, 6, 12, 7, 9, 5, 7, 5, 6, 4, 12, 5, 4, 7, 9, 3, 7, 6, 10, 2, 7, 2, 12, 1, 11, 3, 10, 7, 3, 7, 9, 5, 5, 5, 4, 3, 11, 6, 4, 1, 3, 6, 12, 6, 9, 6, 4, 6, 6, 5, 9], [6, 10, 2, 9, 6, 4, 4, 11, 7, 10, 7, 9, 6, 4, 4, 8, 3, 4, 5, 8, 2, 2, 1, 9, 5, 9, 3, 6, 3, 8, 3, 4, 7, 4, 4, 8, 6, 2, 6, 9, 3, 5, 6, 2, 7, 5, 2, 3, 7, 5, 4, 10, 3, 9, 6, 4, 1, 7, 2, 3, 2, 1, 2, 2, 5, 12, 6, 4, 7, 6, 6, 2, 1, 6, 6, 10, 1, 5, 2, 10, 3, 5, 5, 7, 2, 8, 7, 7, 7, 12, 6, 11, 5, 10, 7, 5, 1, 2, 3, 5, 7, 9, 4, 11, 4, 4, 7, 9, 7, 12, 3, 4, 7, 1, 3, 1, 2, 10, 7, 10, 2, 12, 3, 12, 7, 8, 6, 7, 7, 12, 3, 10, 5, 9, 4, 3], [1, 8, 4, 12, 5, 12, 1, 11, 2, 12, 6, 7, 7, 4, 2, 5, 1, 9, 7, 4, 3, 11, 3, 12, 4, 12, 5, 8, 4, 8, 3, 4, 7, 4, 4, 8, 6, 2, 6, 9, 3, 5, 6, 5, 7, 4, 4, 10, 3, 6, 5, 8, 5, 6, 6, 8, 6, 10, 7, 10, 6, 7, 2, 11, 6, 2, 1, 12, 7, 7, 1, 5, 7, 8, 2, 11, 7, 2, 1, 12, 3, 8, 1, 1, 7, 4, 6, 1, 4, 1, 2, 7, 4, 1, 4, 6, 1, 2, 3, 5, 7, 9, 4, 11, 4, 4, 7, 9, 7, 12, 3, 4, 7, 1, 3, 1, 2, 10, 7, 10, 2, 12, 3, 12, 7, 8, 6, 7, 7, 12, 3, 10, 5, 9, 4, 3], [1, 8, 4, 12, 5, 12, 1, 11, 2, 12, 6, 7, 7, 4, 2, 5, 1, 9, 7, 4, 3, 11, 3, 12, 4, 12, 5, 8, 4, 8, 3, 4, 7, 4, 4, 8, 6, 2, 6, 9, 3, 5, 6, 5, 7, 4, 4, 10, 3, 6, 5, 8, 5, 6, 6, 8, 6, 10, 7, 10, 6, 7, 2, 11, 6, 2, 1, 12, 7, 7, 1, 5, 7, 8, 2, 11, 7, 2, 1, 12, 3, 8, 1, 1, 7, 4, 6, 1, 4, 1, 2, 7, 4, 1, 4, 6, 1, 2, 3, 5, 7, 9, 4, 11, 4, 4, 7, 9, 7, 12, 3, 4, 7, 1, 3, 1, 2, 10, 7, 10, 2, 12, 3, 12, 7, 8, 6, 7, 7, 12, 3, 10, 5, 9, 4, 3], [1, 8, 4, 12, 5, 12, 1, 11, 2, 12, 6, 7, 7, 4, 2, 5, 1, 9, 7, 4, 3, 11, 3, 12, 4, 12, 5, 8, 4, 8, 3, 4, 7, 4, 4, 8, 6, 2, 6, 9, 3, 5, 6, 5, 7, 4, 4, 10, 3, 6, 5, 8, 5, 6, 6, 8, 6, 10, 7, 10, 6, 7, 2, 11, 6, 2, 1, 12, 7, 7, 1, 5, 7, 8, 2, 11, 7, 2, 1, 12, 3, 8, 1, 1, 7, 4, 6, 1, 4, 1, 2, 7, 4, 1, 4, 6, 1, 2, 3, 5, 7, 9, 4, 11, 4, 4, 7, 9, 7, 12, 3, 4, 7, 1, 3, 1, 2, 10, 7, 10, 2, 12, 3, 12, 7, 8, 6, 7, 7, 12, 3, 10, 5, 9, 4, 3], [1, 8, 4, 12, 5, 12, 1, 11, 2, 12, 6, 7, 7, 4, 2, 5, 1, 9, 7, 4, 3, 11, 3, 12, 4, 12, 5, 8, 4, 8, 3, 4, 7, 4, 4, 8, 6, 2, 6, 9, 3, 5, 6, 5, 7, 4, 4, 10, 3, 6, 6, 3, 7, 8, 5, 6, 7, 12, 5, 9, 1, 1, 1, 6, 7, 4, 7, 3, 3, 4, 1, 2, 3, 3, 7, 3, 3, 10, 6, 11, 5, 8, 1, 8, 4, 8, 6, 12, 7, 9, 5, 7, 5, 6, 4, 12, 5, 4, 7, 9, 4, 7, 6, 6, 2, 5, 3, 8, 5, 7, 3, 5, 7, 1, 1, 1, 5, 12, 7, 1, 5, 7, 2, 12, 5, 11, 4, 12, 6, 9, 6, 4, 6, 6, 5, 9], [6, 10, 2, 9, 6, 4, 4, 11, 7, 10, 7, 9, 6, 4, 4, 8, 3, 4, 5, 8, 2, 2, 1, 9, 5, 9, 3, 6, 3, 8, 3, 4, 7, 4, 4, 8, 6, 2, 6, 9, 3, 5, 3, 5, 6, 7, 4, 9, 2, 7, 6, 3, 7, 8, 5, 6, 7, 12, 5, 9, 1, 1, 1, 6, 7, 4, 7, 3, 3, 4, 1, 2, 3, 3, 7, 3, 3, 10, 6, 11, 5, 8, 1, 8, 4, 8, 7, 7, 7, 12, 6, 11, 5, 10, 7, 5, 1, 2, 3, 5, 7, 9, 4, 11, 4, 4, 7, 9, 7, 12, 3, 4, 7, 1, 3, 1, 2, 10, 7, 10, 2, 12, 3, 12, 7, 8, 6, 7, 7, 12, 3, 10, 5, 9, 4, 3], [1, 8, 4, 12, 5, 12, 1, 11, 2, 12, 6, 7, 7, 4, 2, 5, 1, 9, 7, 4, 3, 11, 3, 12, 4, 12, 5, 8, 4, 4, 2, 2, 7, 7, 2, 4, 5, 10, 2, 4, 7, 9, 3, 5, 6, 7, 4, 9, 2, 7, 6, 3, 7, 8, 5, 6, 7, 12, 5, 10, 6, 7, 2, 11, 6, 2, 1, 12, 7, 7, 1, 5, 7, 8, 2, 11, 7, 2, 1, 12, 3, 8, 1, 1, 7, 4, 6, 1, 4, 1, 2, 7, 4, 1, 4, 6, 1, 2, 3, 5, 7, 9, 4, 11, 4, 4, 7, 9, 7, 12, 3, 4, 7, 1, 3, 1, 2, 10, 7, 10, 2, 12, 3, 12, 7, 8, 6, 7, 7, 12, 3, 10, 5, 9, 4, 3], [1, 8, 4, 12, 5, 12, 1, 11, 2, 12, 6, 7, 7, 4, 2, 5, 1, 9, 7, 4, 3, 11, 3, 12, 4, 12, 5, 8, 4, 4, 2, 2, 7, 7, 2, 4, 5, 10, 2, 4, 7, 9, 3, 5, 6, 7, 4, 9, 2, 7, 6, 8, 5, 6, 6, 8, 6, 10, 7, 10, 6, 7, 2, 11, 6, 2, 1, 12, 7, 7, 1, 5, 7, 8, 2, 11, 7, 2, 1, 12, 3, 8, 1, 1, 7, 4, 6, 1, 4, 1, 2, 7, 4, 1, 4, 6, 1, 2, 3, 5, 7, 9, 4, 11, 4, 4, 7, 9, 7, 12, 3, 4, 7, 1, 3, 1, 2, 10, 7, 10, 2, 12, 3, 12, 7, 8, 6, 7, 7, 12, 3, 10, 5, 9, 4, 3], [6, 10, 2, 9, 6, 4, 4, 11, 7, 10, 7, 9, 6, 4, 4, 8, 3, 4, 5, 8, 2, 2, 1, 12, 4, 12, 5, 8, 4, 4, 2, 2, 7, 7, 2, 4, 5, 10, 2, 4, 7, 9, 3, 5, 6, 7, 4, 9, 2, 7, 6, 3, 7, 8, 5, 6, 7, 12, 5, 9, 1, 1, 1, 6, 7, 4, 7, 3, 3, 4, 1, 2, 3, 8, 2, 11, 7, 2, 1, 12, 3, 9, 1, 1, 7, 4, 6, 1, 4, 1, 2, 7, 4, 1, 4, 6, 1, 2, 3, 5, 7, 9, 4, 11, 4, 4, 7, 9, 7, 12, 3, 4, 7, 1, 3, 1, 2, 10, 7, 10, 2, 12, 3, 12, 7, 8, 6, 7, 7, 12, 3, 10, 5, 9, 4, 3], [1, 8, 4, 12, 5, 12, 1, 11, 2, 12, 6, 7, 7, 4, 2, 5, 1, 9, 7, 4, 3, 11, 3, 12, 4, 12, 5, 8, 4, 4, 2, 2, 7, 7, 2, 4, 5, 10, 2, 4, 7, 9, 3, 5, 6, 7, 4, 9, 2, 7, 6, 3, 7, 8, 5, 4, 6, 10, 7, 10, 6, 7, 2, 11, 6, 2, 1, 12, 7, 7, 1, 5, 7, 8, 2, 11, 7, 2, 1, 12, 3, 9, 1, 1, 7, 4, 6, 1, 4, 1, 2, 7, 4, 1, 4, 6, 1, 2, 3, 5, 7, 9, 4, 11, 4, 4, 7, 9, 7, 12, 3, 4, 7, 1, 3, 1, 2, 10, 7, 10, 2, 12, 3, 12, 7, 8, 6, 7, 7, 12, 3, 10, 5, 9, 4, 3], [1, 8, 4, 12, 5, 12, 1, 11, 2, 12, 6, 7, 7, 4, 2, 5, 1, 9, 7, 4, 3, 11, 3, 12, 4, 12, 5, 8, 4, 8, 3, 4, 7, 4, 4, 8, 6, 2, 6, 9, 3, 5, 6, 5, 7, 4, 4, 3, 7, 1, 1, 12, 7, 8, 5, 6, 7, 12, 5, 9, 1, 1, 1, 6, 7, 4, 7, 3, 3, 4, 1, 2, 3, 3, 7, 3, 3, 10, 6, 11, 5, 8, 1, 8, 4, 8, 6, 12, 7, 9, 5, 7, 5, 6, 4, 12, 5, 4, 7, 9, 3, 7, 6, 10, 2, 7, 2, 12, 1, 11, 3, 10, 7, 3, 7, 9, 5, 5, 5, 4, 3, 11, 6, 4, 1, 3, 6, 12, 6, 8, 6, 4, 6, 6, 5, 9], [1, 8, 4, 12, 5, 12, 1, 11, 2, 12, 6, 7, 7, 4, 2, 5, 1, 9, 7, 4, 3, 11, 3, 12, 4, 12, 5, 8, 4, 8, 3, 4, 7, 4, 4, 8, 6, 2, 6, 9, 3, 5, 6, 5, 7, 4, 4, 3, 7, 1, 1, 12, 7, 8, 5, 6, 7, 12, 5, 9, 1, 1, 1, 6, 7, 4, 7, 3, 3, 4, 1, 2, 3, 3, 7, 3, 3, 10, 6, 11, 5, 8, 1, 8, 4, 8, 6, 12, 7, 9, 5, 7, 5, 6, 4, 12, 5, 4, 7, 9, 3, 7, 6, 10, 2, 7, 2, 12, 1, 11, 3, 10, 7, 3, 7, 9, 5, 5, 5, 4, 3, 11, 6, 4, 1, 3, 6, 12, 6, 9, 6, 4, 6, 6, 5, 9], [1, 8, 4, 12, 5, 12, 1, 11, 2, 12, 6, 7, 7, 4, 2, 5, 1, 9, 7, 4, 3, 11, 3, 12, 4, 12, 5, 8, 4, 8, 3, 4, 7, 4, 4, 8, 6, 2, 6, 9, 3, 5, 6, 5, 7, 4, 4, 10, 3, 6, 6, 3, 7, 8, 5, 6, 7, 12, 5, 9, 1, 1, 1, 6, 7, 4, 7, 3, 3, 4, 1, 2, 3, 3, 7, 3, 3, 10, 6, 12, 3, 8, 1, 1, 7, 4, 6, 1, 4, 1, 2, 7, 4, 1, 4, 6, 1, 2, 3, 5, 7, 9, 4, 11, 4, 4, 7, 9, 7, 12, 3, 4, 7, 1, 3, 1, 2, 10, 7, 10, 2, 12, 3, 12, 7, 8, 6, 7, 7, 12, 3, 10, 5, 9, 4, 3], [1, 8, 4, 12, 5, 12, 1, 11, 2, 12, 6, 7, 7, 4, 2, 5, 1, 9, 7, 4, 3, 11, 3, 12, 4, 12, 5, 8, 4, 8, 3, 4, 7, 4, 4, 8, 6, 2, 6, 9, 2, 5, 6, 5, 7, 4, 4, 10, 3, 6, 6, 3, 7, 8, 5, 6, 7, 12, 5, 9, 1, 1, 1, 6, 7, 4, 7, 3, 3, 4, 1, 2, 3, 3, 7, 3, 3, 10, 6, 11, 5, 8, 1, 8, 4, 8, 6, 12, 7, 9, 5, 7, 5, 6, 4, 12, 5, 4, 7, 9, 4, 7, 6, 6, 2, 5, 3, 8, 5, 7, 3, 5, 7, 1, 1, 1, 5, 12, 7, 1, 5, 7, 2, 12, 5, 11, 4, 12, 6, 9, 6, 4, 6, 6, 5, 9], [1, 8, 4, 12, 5, 12, 1, 11, 2, 12, 6, 7, 7, 4, 2, 5, 1, 9, 7, 4, 3, 11, 3, 12, 4, 12, 5, 8, 4, 8, 3, 4, 7, 4, 4, 8, 6, 2, 6, 9, 3, 5, 6, 5, 7, 4, 4, 10, 3, 6, 5, 8, 5, 6, 6, 8, 6, 10, 7, 10, 6, 7, 2, 11, 6, 2, 1, 12, 7, 7, 1, 5, 7, 8, 2, 11, 7, 2, 1, 12, 3, 8, 1, 1, 7, 8, 6, 12, 7, 9, 5, 7, 5, 6, 4, 12, 5, 4, 7, 9, 3, 7, 6, 10, 2, 7, 2, 12, 1, 11, 3, 10, 7, 3, 7, 9, 5, 5, 5, 4, 3, 11, 6, 4, 1, 3, 6, 12, 6, 9, 6, 4, 6, 6, 5, 9], [6, 10, 2, 9, 6, 4, 4, 11, 7, 10, 7, 9, 6, 4, 4, 8, 3, 4, 5, 8, 2, 2, 1, 9, 5, 9, 3, 6, 3, 8, 3, 4, 7, 4, 4, 8, 6, 2, 6, 9, 3, 5, 3, 5, 6, 7, 4, 9, 2, 7, 6, 3, 7, 8, 5, 6, 7, 12, 5, 9, 1, 1, 1, 6, 7, 4, 7, 3, 3, 4, 1, 2, 3, 3, 7, 3, 3, 10, 6, 11, 5, 8, 1, 8, 4, 8, 6, 12, 7, 9, 5, 7, 5, 6, 4, 12, 5, 4, 7, 9, 3, 7, 4, 11, 4, 4, 7, 9, 7, 12, 3, 4, 7, 1, 3, 1, 2, 10, 7, 10, 2, 12, 3, 12, 7, 8, 6, 7, 7, 12, 3, 10, 5, 9, 4, 3], [1, 8, 4, 12, 5, 12, 1, 11, 2, 12, 6, 7, 7, 4, 2, 5, 1, 9, 7, 4, 3, 11, 3, 12, 4, 12, 4, 8, 4, 4, 2, 2, 7, 7, 2, 4, 5, 10, 2, 4, 7, 9, 3, 5, 6, 7, 4, 9, 2, 7, 6, 3, 7, 8, 5, 4, 6, 10, 7, 10, 6, 7, 2, 11, 6, 2, 1, 12, 7, 7, 1, 5, 7, 8, 2, 11, 7, 2, 1, 12, 3, 9, 1, 1, 7, 4, 6, 1, 4, 1, 2, 7, 4, 1, 4, 6, 1, 2, 3, 5, 7, 9, 4, 11, 4, 4, 7, 9, 7, 12, 3, 4, 7, 1, 3, 1, 2, 10, 7, 10, 2, 12, 3, 12, 7, 8, 6, 7, 7, 12, 3, 10, 5, 9, 4, 3], [1, 8, 4, 12, 5, 12, 1, 11, 2, 12, 6, 7, 7, 4, 2, 5, 1, 9, 7, 4, 3, 11, 3, 12, 4, 12, 5, 8, 4, 4, 2, 2, 7, 7, 2, 4, 5, 10, 2, 4, 7, 9, 3, 5, 6, 7, 4, 3, 7, 5, 4, 10, 3, 9, 6, 4, 1, 7, 2, 3, 2, 1, 2, 2, 5, 12, 6, 4, 7, 6, 6, 2, 1, 6, 6, 10, 1, 5, 2, 10, 3, 5, 5, 7, 2, 8, 7, 7, 7, 12, 6, 11, 5, 10, 7, 5, 1, 2, 3, 5, 7, 9, 4, 11, 4, 4, 7, 9, 7, 12, 3, 4, 7, 1, 3, 1, 2, 10, 7, 10, 2, 12, 3, 12, 7, 8, 6, 7, 7, 12, 3, 10, 5, 9, 4, 3], None, [1, 8, 4, 12, 6, 4, 4, 11, 7, 10, 7, 9, 6, 4, 4, 8, 3, 4, 5, 8, 2, 2, 1, 9, 5, 9, 3, 6, 3, 8, 3, 4, 7, 4, 4, 8, 6, 2, 6, 9, 3, 5, 3, 5, 6, 7, 4, 9, 2, 7, 6, 3, 7, 8, 5, 6, 7, 12, 5, 9, 1, 1, 1, 6, 7, 4, 7, 3, 3, 4, 1, 2, 3, 3, 7, 3, 3, 10, 6, 11, 5, 8, 1, 8, 4, 8, 6, 12, 7, 9, 5, 7, 5, 6, 4, 12, 5, 4, 7, 9, 3, 7, 6, 11, 4, 4, 7, 9, 7, 12, 3, 4, 7, 1, 3, 1, 2, 10, 7, 10, 2, 12, 3, 12, 7, 8, 6, 7, 7, 12, 3, 10, 5, 9, 4, 3], [1, 8, 4, 12, 5, 12, 1, 11, 2, 12, 6, 7, 7, 4, 2, 5, 1, 9, 7, 4, 3, 11, 3, 12, 4, 12, 5, 8, 4, 4, 2, 2, 7, 7, 2, 4, 5, 10, 2, 4, 7, 9, 3, 5, 6, 7, 4, 9, 2, 6, 5, 8, 5, 6, 6, 8, 6, 10, 7, 10, 6, 7, 2, 11, 6, 2, 1, 12, 7, 7, 1, 5, 7, 8, 2, 11, 7, 2, 1, 12, 3, 8, 1, 1, 7, 4, 6, 1, 4, 1, 2, 7, 4, 1, 4, 6, 1, 2, 3, 5, 7, 9, 4, 11, 4, 4, 7, 9, 7, 12, 3, 4, 7, 1, 3, 1, 2, 10, 7, 10, 2, 12, 3, 12, 7, 8, 6, 7, 7, 12, 3, 10, 5, 9, 4, 3], [2, 8, 3, 8, 6, 10, 6, 5, 5, 12, 3, 12, 4, 5, 2, 11, 7, 11, 5, 2, 3, 5, 7, 9, 2, 3, 1, 11, 6, 4, 2, 8, 5, 10, 3, 7, 6, 3, 7, 2, 5, 2, 2, 2, 7, 5, 4, 10, 3, 6, 5, 8, 5, 6, 6, 8, 6, 10, 7, 10, 6, 7, 2, 11, 6, 2, 1, 12, 7, 7, 1, 5, 7, 8, 2, 11, 7, 2, 1, 12, 3, 8, 1, 1, 7, 4, 6, 1, 4, 1, 2, 7, 4, 1, 4, 6, 1, 2, 3, 5, 7, 9, 4, 11, 4, 4, 7, 9, 7, 12, 3, 4, 7, 1, 3, 1, 2, 10, 7, 10, 2, 12, 3, 12, 7, 8, 6, 7, 7, 12, 3, 10, 5, 9, 4, 3], [1, 8, 4, 12, 5, 12, 1, 11, 2, 12, 6, 7, 7, 4, 2, 5, 1, 9, 7, 4, 3, 11, 3, 12, 4, 12, 5, 8, 4, 8, 3, 4, 7, 4, 4, 8, 6, 2, 6, 9, 3, 5, 6, 5, 7, 4, 4, 3, 7, 1, 1, 12, 7, 8, 5, 6, 7, 12, 5, 9, 1, 1, 1, 6, 7, 4, 7, 3, 3, 4, 1, 2, 3, 3, 7, 3, 3, 10, 6, 11, 5, 8, 1, 8, 4, 8, 6, 12, 7, 9, 5, 7, 5, 10, 7, 5, 1, 2, 3, 5, 7, 9, 4, 11, 4, 4, 7, 9, 7, 12, 3, 4, 7, 1, 3, 1, 2, 10, 7, 10, 2, 12, 3, 12, 7, 8, 6, 7, 7, 12, 3, 10, 5, 9, 4, 3], [1, 8, 4, 12, 5, 12, 1, 11, 2, 12, 6, 7, 7, 4, 2, 5, 1, 9, 7, 4, 3, 11, 3, 12, 4, 12, 5, 8, 4, 8, 3, 4, 7, 4, 4, 8, 6, 2, 6, 9, 3, 5, 6, 5, 7, 4, 4, 10, 3, 6, 6, 3, 7, 8, 5, 6, 7, 12, 5, 9, 1, 1, 1, 6, 7, 4, 7, 3, 3, 4, 1, 2, 3, 3, 7, 3, 3, 10, 6, 11, 5, 8, 1, 8, 4, 8, 6, 12, 7, 9, 5, 7, 5, 6, 4, 12, 5, 4, 7, 5, 7, 9, 4, 11, 4, 4, 7, 9, 7, 12, 3, 4, 7, 1, 3, 1, 2, 10, 7, 10, 2, 12, 3, 12, 7, 8, 6, 7, 7, 12, 3, 10, 5, 9, 4, 3], [1, 8, 4, 12, 5, 12, 1, 11, 2, 12, 6, 7, 7, 4, 2, 5, 1, 9, 7, 4, 3, 11, 3, 12, 4, 12, 5, 8, 4, 8, 3, 4, 7, 4, 4, 8, 6, 2, 6, 9, 3, 5, 6, 5, 7, 4, 4, 10, 3, 6, 5, 8, 5, 6, 6, 8, 6, 10, 7, 10, 6, 7, 2, 11, 6, 2, 1, 12, 7, 7, 1, 5, 7, 8, 2, 11, 7, 2, 1, 12, 3, 8, 1, 1, 7, 4, 6, 1, 4, 1, 2, 7, 4, 1, 4, 6, 1, 2, 3, 5, 7, 9, 4, 11, 4, 4, 7, 9, 7, 12, 3, 4, 7, 1, 3, 1, 2, 10, 7, 10, 2, 12, 3, 12, 7, 8, 6, 7, 7, 12, 3, 10, 5, 9, 4, 3], [6, 10, 2, 9, 6, 4, 4, 11, 7, 10, 7, 9, 6, 4, 4, 8, 3, 4, 5, 8, 2, 2, 1, 9, 5, 9, 3, 6, 3, 8, 3, 4, 7, 4, 4, 8, 6, 2, 6, 9, 3, 5, 3, 5, 6, 7, 4, 9, 2, 7, 6, 3, 7, 8, 5, 6, 7, 12, 5, 9, 1, 1, 1, 6, 7, 4, 7, 3, 3, 4, 1, 2, 3, 8, 2, 11, 7, 2, 1, 12, 3, 9, 1, 1, 7, 4, 6, 1, 4, 1, 2, 7, 4, 1, 4, 6, 1, 2, 3, 5, 7, 9, 4, 11, 4, 4, 7, 9, 7, 12, 3, 4, 7, 1, 3, 1, 2, 10, 7, 10, 2, 12, 3, 12, 7, 8, 6, 7, 7, 12, 3, 10, 5, 9, 4, 3], [1, 8, 4, 12, 5, 12, 1, 11, 2, 12, 6, 7, 7, 4, 2, 5, 1, 9, 7, 4, 3, 11, 3, 12, 4, 12, 5, 8, 4, 4, 2, 2, 7, 7, 2, 4, 5, 10, 2, 4, 7, 9, 3, 5, 6, 7, 4, 9, 2, 7, 6, 3, 7, 8, 5, 6, 7, 12, 5, 9, 1, 1, 1, 6, 7, 4, 7, 3, 3, 4, 1, 2, 3, 3, 7, 3, 3, 10, 6, 11, 5, 8, 1, 8, 4, 8, 7, 1, 4, 1, 2, 7, 4, 1, 4, 6, 1, 2, 3, 5, 7, 9, 4, 11, 4, 4, 7, 9, 7, 12, 3, 4, 7, 1, 3, 1, 2, 10, 7, 10, 2, 12, 3, 12, 7, 8, 6, 7, 7, 12, 3, 10, 5, 9, 4, 3], [1, 8, 4, 12, 5, 12, 1, 11, 2, 12, 6, 7, 7, 4, 2, 5, 1, 9, 7, 4, 3, 11, 3, 12, 4, 12, 5, 8, 4, 4, 2, 2, 7, 7, 2, 4, 5, 10, 2, 4, 7, 9, 3, 5, 6, 7, 4, 9, 2, 7, 6, 3, 7, 8, 5, 6, 7, 12, 5, 9, 1, 1, 1, 6, 7, 4, 7, 3, 3, 4, 1, 2, 3, 8, 2, 11, 7, 2, 1, 12, 3, 9, 1, 1, 7, 4, 6, 1, 4, 1, 2, 7, 4, 1, 4, 6, 1, 2, 3, 5, 7, 9, 4, 11, 4, 4, 7, 9, 7, 12, 3, 4, 7, 1, 3, 1, 2, 10, 7, 10, 2, 12, 3, 12, 7, 8, 6, 7, 7, 12, 3, 10, 5, 9, 4, 3], [1, 8, 4, 12, 5, 12, 1, 11, 2, 12, 6, 7, 7, 4, 2, 5, 1, 9, 7, 4, 3, 11, 3, 12, 4, 12, 5, 8, 4, 4, 2, 2, 7, 7, 2, 4, 5, 10, 2, 4, 7, 9, 3, 5, 6, 7, 4, 9, 2, 7, 6, 3, 7, 8, 5, 6, 7, 12, 5, 9, 1, 1, 1, 6, 7, 4, 7, 3, 3, 4, 1, 2, 3, 8, 2, 11, 7, 2, 1, 12, 3, 9, 1, 1, 7, 4, 6, 1, 4, 1, 2, 7, 4, 1, 4, 6, 1, 2, 3, 5, 7, 9, 4, 11, 4, 4, 7, 9, 7, 12, 3, 4, 7, 1, 3, 1, 2, 10, 7, 10, 2, 12, 3, 12, 7, 8, 6, 7, 7, 12, 3, 10, 5, 9, 4, 3], [1, 8, 4, 12, 5, 12, 1, 11, 2, 12, 6, 7, 7, 4, 2, 5, 1, 9, 7, 4, 3, 11, 3, 12, 4, 12, 5, 8, 4, 8, 3, 4, 7, 4, 4, 8, 6, 2, 6, 9, 3, 5, 6, 5, 7, 4, 4, 10, 3, 6, 5, 8, 5, 6, 6, 8, 6, 10, 7, 10, 6, 7, 2, 11, 6, 2, 1, 12, 7, 7, 1, 5, 7, 8, 2, 11, 7, 2, 1, 12, 3, 8, 1, 1, 7, 4, 6, 1, 4, 1, 2, 7, 4, 1, 4, 6, 1, 2, 3, 5, 7, 9, 4, 10, 4, 4, 7, 9, 7, 12, 3, 4, 7, 1, 3, 1, 2, 10, 7, 10, 2, 12, 3, 12, 7, 8, 6, 7, 7, 12, 3, 10, 5, 9, 4, 3], [1, 8, 4, 12, 5, 12, 1, 11, 2, 12, 6, 7, 7, 4, 2, 5, 1, 9, 7, 4, 3, 11, 3, 12, 4, 12, 5, 8, 4, 8, 3, 4, 7, 4, 4, 8, 6, 2, 6, 9, 3, 5, 6, 5, 7, 4, 4, 10, 3, 6, 6, 3, 7, 8, 5, 6, 7, 12, 5, 9, 1, 1, 1, 6, 7, 4, 7, 3, 3, 4, 1, 2, 4, 3, 7, 3, 3, 10, 6, 11, 5, 8, 1, 8, 4, 8, 6, 12, 7, 9, 5, 7, 5, 6, 4, 12, 5, 4, 7, 9, 4, 7, 6, 6, 2, 5, 3, 8, 5, 7, 3, 5, 7, 1, 1, 1, 5, 12, 7, 1, 5, 7, 2, 12, 5, 11, 4, 12, 6, 9, 6, 4, 6, 6, 5, 9], [1, 8, 4, 12, 5, 12, 1, 11, 2, 12, 6, 7, 7, 4, 2, 5, 1, 9, 7, 4, 3, 11, 3, 12, 4, 12, 5, 8, 4, 8, 3, 4, 7, 4, 4, 8, 6, 2, 6, 9, 3, 5, 6, 5, 7, 4, 4, 10, 7, 5, 4, 10, 3, 9, 6, 4, 1, 7, 2, 3, 2, 1, 2, 2, 5, 12, 6, 4, 7, 6, 6, 2, 1, 6, 6, 10, 1, 5, 2, 10, 3, 5, 5, 7, 2, 8, 7, 7, 7, 12, 6, 11, 5, 10, 7, 5, 1, 2, 3, 5, 7, 9, 4, 11, 4, 4, 7, 9, 7, 12, 3, 4, 7, 1, 3, 1, 2, 10, 7, 10, 2, 12, 3, 12, 7, 8, 6, 7, 7, 12, 3, 10, 5, 9, 4, 3], [1, 8, 4, 12, 5, 12, 1, 11, 2, 12, 6, 7, 7, 4, 2, 5, 1, 9, 7, 4, 3, 11, 3, 12, 4, 12, 5, 8, 4, 4, 2, 2, 7, 7, 2, 4, 5, 10, 2, 4, 7, 9, 3, 5, 6, 7, 4, 9, 2, 7, 6, 3, 7, 8, 5, 6, 7, 12, 5, 9, 1, 1, 1, 6, 7, 4, 7, 3, 3, 4, 1, 2, 3, 8, 2, 11, 7, 2, 1, 12, 2, 9, 1, 1, 7, 4, 6, 1, 4, 1, 2, 7, 4, 1, 4, 6, 1, 2, 3, 5, 7, 9, 4, 11, 4, 4, 7, 9, 7, 12, 3, 4, 7, 1, 3, 1, 2, 10, 7, 10, 2, 12, 3, 12, 7, 8, 6, 7, 7, 12, 3, 10, 5, 9, 4, 3], [1, 8, 4, 12, 5, 12, 1, 11, 2, 12, 6, 7, 7, 4, 2, 5, 1, 9, 7, 4, 3, 11, 3, 12, 4, 12, 5, 8, 4, 8, 3, 4, 7, 4, 4, 8, 6, 2, 6, 9, 3, 5, 6, 5, 7, 4, 4, 3, 7, 1, 1, 12, 7, 8, 5, 6, 7, 12, 5, 9, 1, 1, 1, 6, 7, 4, 7, 3, 3, 4, 1, 2, 3, 3, 7, 3, 3, 10, 6, 11, 5, 8, 1, 8, 4, 8, 6, 12, 7, 9, 5, 7, 5, 6, 4, 12, 5, 4, 7, 9, 3, 7, 6, 10, 2, 7, 2, 12, 1, 11, 3, 10, 7, 3, 7, 9, 5, 5, 5, 4, 3, 11, 6, 4, 1, 3, 6, 7, 7, 12, 3, 10, 5, 9, 4, 3], [1, 8, 4, 12, 5, 12, 1, 11, 2, 12, 6, 7, 7, 4, 2, 5, 1, 9, 7, 4, 3, 11, 3, 12, 4, 12, 5, 8, 4, 8, 3, 4, 7, 4, 4, 8, 6, 2, 6, 9, 3, 5, 6, 5, 7, 4, 4, 10, 3, 6, 6, 3, 7, 8, 5, 6, 7, 12, 7, 10, 6, 7, 2, 11, 6, 2, 1, 12, 7, 7, 1, 5, 7, 8, 2, 11, 7, 2, 1, 12, 3, 8, 1, 1, 7, 4, 6, 1, 4, 1, 2, 7, 4, 1, 4, 6, 1, 2, 3, 5, 7, 9, 4, 11, 4, 4, 7, 9, 7, 12, 3, 4, 7, 1, 3, 1, 2, 10, 7, 10, 2, 12, 3, 12, 7, 8, 6, 7, 7, 12, 3, 10, 5, 9, 4, 3], [1, 8, 4, 12, 5, 12, 1, 11, 2, 12, 6, 7, 7, 4, 2, 5, 1, 9, 7, 4, 3, 11, 3, 12, 4, 12, 5, 8, 4, 4, 2, 2, 7, 7, 2, 4, 5, 10, 2, 4, 7, 9, 3, 5, 6, 7, 4, 9, 2, 7, 6, 3, 7, 8, 5, 6, 7, 12, 5, 9, 1, 1, 1, 6, 7, 4, 7, 3, 3, 4, 1, 2, 3, 8, 2, 11, 7, 2, 1, 12, 3, 8, 1, 8, 4, 8, 6, 12, 7, 9, 5, 7, 5, 6, 4, 12, 5, 4, 7, 9, 3, 7, 6, 10, 2, 7, 2, 12, 1, 11, 3, 10, 7, 3, 7, 9, 5, 5, 5, 4, 3, 11, 6, 4, 1, 3, 6, 12, 6, 9, 6, 4, 6, 6, 5, 9], [1, 8, 4, 12, 5, 12, 1, 11, 2, 12, 6, 7, 7, 4, 2, 5, 1, 9, 7, 4, 3, 11, 3, 12, 4, 12, 5, 8, 4, 4, 2, 2, 7, 7, 2, 4, 5, 10, 2, 4, 7, 9, 3, 5, 6, 7, 4, 9, 2, 7, 6, 3, 7, 8, 5, 6, 7, 12, 5, 9, 1, 1, 1, 6, 7, 4, 7, 3, 3, 4, 1, 2, 3, 3, 7, 3, 2, 10, 6, 11, 5, 8, 1, 8, 4, 8, 7, 7, 7, 12, 6, 11, 5, 10, 7, 5, 1, 2, 3, 5, 7, 9, 4, 11, 4, 4, 7, 9, 7, 12, 3, 4, 7, 1, 3, 1, 2, 10, 7, 10, 2, 12, 3, 12, 7, 8, 6, 7, 7, 12, 3, 10, 5, 9, 4, 3], [1, 8, 4, 12, 5, 12, 1, 11, 2, 12, 6, 7, 7, 4, 2, 5, 1, 9, 7, 4, 3, 11, 3, 12, 4, 12, 5, 8, 4, 8, 3, 4, 7, 4, 4, 8, 6, 2, 6, 9, 3, 5, 6, 5, 7, 4, 4, 10, 3, 6, 5, 8, 5, 6, 6, 8, 6, 10, 7, 10, 6, 7, 2, 11, 6, 2, 1, 12, 7, 7, 1, 5, 7, 8, 2, 11, 7, 2, 1, 12, 3, 8, 1, 1, 7, 4, 6, 1, 4, 1, 2, 7, 4, 1, 4, 6, 1, 2, 3, 5, 7, 9, 4, 11, 4, 4, 7, 9, 7, 12, 3, 4, 7, 1, 3, 1, 2, 10, 7, 10, 2, 12, 3, 12, 7, 8, 6, 7, 7, 12, 3, 10, 5, 9, 4, 3], [6, 10, 2, 9, 6, 4, 4, 11, 7, 10, 7, 9, 6, 4, 4, 8, 3, 4, 5, 8, 2, 2, 1, 12, 4, 12, 5, 8, 4, 8, 3, 4, 7, 4, 4, 8, 6, 2, 6, 9, 3, 5, 6, 5, 7, 4, 4, 10, 3, 6, 5, 8, 5, 6, 6, 8, 6, 10, 7, 10, 6, 7, 2, 11, 6, 2, 1, 12, 7, 7, 1, 5, 7, 8, 2, 11, 7, 2, 1, 12, 3, 8, 1, 1, 7, 4, 6, 1, 4, 1, 2, 7, 4, 1, 4, 6, 1, 2, 3, 5, 7, 9, 4, 11, 4, 4, 7, 9, 7, 12, 3, 4, 7, 1, 3, 1, 2, 10, 7, 10, 2, 12, 3, 12, 7, 8, 6, 7, 7, 12, 3, 10, 5, 9, 4, 3], [1, 8, 4, 12, 5, 12, 1, 11, 2, 12, 6, 7, 7, 4, 2, 5, 1, 9, 7, 4, 3, 11, 3, 12, 4, 12, 5, 8, 4, 4, 2, 2, 7, 7, 2, 4, 5, 10, 2, 4, 7, 9, 3, 5, 6, 7, 4, 9, 2, 7, 6, 3, 7, 8, 5, 4, 6, 10, 7, 10, 6, 7, 2, 11, 6, 2, 1, 12, 7, 7, 1, 5, 7, 8, 2, 11, 7, 2, 1, 12, 3, 9, 1, 1, 7, 4, 6, 1, 4, 1, 2, 7, 4, 1, 4, 6, 1, 2, 3, 5, 7, 9, 4, 11, 4, 4, 7, 9, 7, 12, 3, 4, 7, 1, 3, 1, 2, 10, 7, 10, 2, 12, 3, 12, 7, 8, 6, 7, 7, 12, 3, 10, 5, 9, 4, 3], [1, 8, 4, 12, 5, 12, 1, 11, 2, 12, 6, 7, 7, 4, 2, 5, 1, 9, 7, 4, 3, 11, 3, 9, 2, 3, 1, 11, 6, 4, 2, 8, 5, 10, 3, 7, 6, 3, 7, 2, 5, 2, 2, 2, 7, 5, 2, 3, 7, 5, 4, 10, 3, 9, 6, 4, 1, 7, 2, 3, 2, 1, 2, 2, 5, 12, 6, 4, 7, 6, 6, 2, 1, 6, 6, 10, 1, 5, 2, 10, 3, 5, 5, 7, 2, 8, 7, 7, 7, 12, 6, 11, 5, 10, 7, 5, 1, 2, 3, 5, 7, 9, 4, 11, 4, 4, 7, 9, 7, 12, 3, 4, 7, 1, 3, 1, 2, 10, 7, 10, 2, 12, 3, 12, 7, 8, 6, 7, 7, 12, 3, 10, 5, 9, 4, 3], [1, 8, 4, 12, 5, 12, 1, 11, 2, 12, 6, 7, 7, 4, 2, 5, 1, 9, 7, 4, 3, 11, 3, 12, 4, 12, 5, 8, 4, 8, 3, 4, 7, 4, 4, 8, 6, 2, 6, 9, 3, 5, 6, 5, 7, 4, 4, 10, 3, 6, 6, 3, 7, 8, 5, 6, 7, 12, 5, 9, 1, 1, 1, 6, 7, 4, 7, 3, 3, 4, 1, 2, 3, 3, 7, 3, 3, 10, 6, 11, 5, 8, 1, 8, 3, 8, 6, 12, 7, 9, 5, 7, 5, 6, 4, 12, 5, 4, 7, 9, 4, 7, 6, 6, 2, 5, 3, 8, 5, 7, 3, 5, 7, 1, 1, 1, 5, 12, 7, 1, 5, 7, 2, 12, 5, 11, 4, 12, 6, 9, 6, 4, 6, 6, 5, 9], [6, 10, 2, 9, 6, 4, 4, 11, 7, 10, 6, 9, 6, 4, 4, 8, 3, 4, 5, 8, 2, 2, 1, 9, 5, 9, 3, 6, 3, 8, 3, 4, 7, 4, 4, 8, 6, 2, 6, 9, 3, 5, 3, 5, 6, 7, 4, 9, 2, 7, 6, 3, 7, 8, 5, 6, 7, 12, 5, 9, 1, 1, 1, 6, 7, 4, 7, 3, 3, 4, 1, 2, 3, 3, 7, 3, 3, 10, 6, 11, 5, 8, 1, 8, 4, 8, 6, 12, 7, 9, 5, 7, 5, 6, 4, 12, 5, 4, 7, 9, 3, 7, 6, 11, 4, 4, 7, 9, 7, 12, 3, 4, 7, 1, 3, 1, 2, 10, 7, 10, 2, 12, 3, 12, 7, 8, 6, 7, 7, 12, 3, 10, 5, 9, 4, 3], [1, 8, 4, 12, 5, 12, 1, 11, 2, 12, 6, 7, 7, 4, 2, 5, 1, 9, 7, 4, 3, 11, 3, 12, 4, 12, 5, 8, 4, 8, 3, 4, 7, 4, 4, 8, 6, 2, 6, 9, 3, 5, 6, 5, 7, 4, 4, 10, 3, 6, 6, 3, 7, 8, 5, 6, 7, 12, 5, 9, 1, 1, 1, 6, 7, 4, 7, 3, 3, 4, 1, 2, 3, 3, 7, 3, 3, 10, 6, 11, 5, 8, 1, 8, 4, 8, 6, 12, 7, 9, 5, 7, 5, 6, 4, 12, 5, 4, 7, 9, 3, 7, 6, 11, 4, 4, 7, 9, 7, 12, 3, 4, 7, 1, 3, 1, 2, 10, 7, 10, 2, 12, 3, 12, 7, 8, 6, 7, 7, 12, 3, 10, 5, 9, 4, 3], [1, 8, 4, 12, 5, 12, 1, 11, 2, 12, 6, 7, 4, 5, 2, 11, 7, 11, 5, 2, 3, 5, 7, 9, 2, 3, 1, 11, 6, 4, 2, 8, 5, 10, 3, 7, 6, 3, 7, 2, 5, 2, 2, 2, 7, 5, 2, 3, 7, 5, 4, 10, 3, 9, 6, 4, 1, 7, 2, 3, 2, 1, 2, 2, 5, 12, 6, 4, 7, 6, 6, 2, 1, 6, 6, 10, 1, 5, 2, 10, 3, 5, 5, 7, 2, 8, 7, 7, 7, 12, 6, 11, 5, 10, 7, 5, 1, 2, 3, 5, 7, 9, 4, 11, 4, 4, 7, 9, 7, 12, 3, 4, 7, 1, 3, 1, 2, 10, 7, 10, 2, 12, 3, 12, 7, 8, 6, 7, 7, 12, 3, 10, 5, 9, 4, 3]]"
   ]
  },
  {
   "cell_type": "code",
   "execution_count": 39,
   "metadata": {
    "collapsed": false
   },
   "outputs": [
    {
     "data": {
      "text/plain": [
       "50"
      ]
     },
     "execution_count": 39,
     "metadata": {},
     "output_type": "execute_result"
    }
   ],
   "source": [
    "len(p)"
   ]
  },
  {
   "cell_type": "code",
   "execution_count": 51,
   "metadata": {
    "collapsed": false
   },
   "outputs": [
    {
     "name": "stdout",
     "output_type": "stream",
     "text": [
      "23\n"
     ]
    }
   ],
   "source": [
    "for i,n  in enumerate(p):\n",
    "    if n == None:\n",
    "        print i"
   ]
  },
  {
   "cell_type": "code",
   "execution_count": 59,
   "metadata": {
    "collapsed": false
   },
   "outputs": [
    {
     "name": "stdout",
     "output_type": "stream",
     "text": [
      "\n"
     ]
    }
   ],
   "source": [
    "mutation = [1, 7, 2, 9, 1, 2, 3, 4, 5, 10, 7, 8, 5, 1, 7, 4, 3, 4, 7, 4, 1, 10, 5, 2, 6, 3, 5, 6, 7, 3, 1, 11, 5, 10, 3, 12, 5, 11, 6, 8, 2, 12, 1, 1, 1, 11, 3, 3, 3, 2, 4, 8, 4, 12, 1, 8, 3, 4, 4, 7, 2, 2, 7, 10, 5, 6, 7, 8, 3, 11, 5, 8, 7, 6, 1, 6, 7, 11, 6, 1, 7, 2, 6, 6, 6, 8, 7, 12, 3, 9, 7, 6, 7, 9, 3, 5, 7, 5, 2, 4, 2, 8, 4, 1, 2, 10, 2, 8, 5, 9, 1, 1, 4, 3, 1, 1, 4, 4, 4, 8, 2, 7, 1, 4, 5, 1, 2, 1, 2, 3, 3, 6, 1, 4, 7, 6]\n",
    "random = 82\n",
    "#7 1.0 7.0"
   ]
  },
  {
   "cell_type": "code",
   "execution_count": 60,
   "metadata": {
    "collapsed": false
   },
   "outputs": [
    {
     "data": {
      "text/plain": [
       "6"
      ]
     },
     "execution_count": 60,
     "metadata": {},
     "output_type": "execute_result"
    }
   ],
   "source": [
    "mutation[82]"
   ]
  },
  {
   "cell_type": "code",
   "execution_count": 61,
   "metadata": {
    "collapsed": false
   },
   "outputs": [
    {
     "data": {
      "text/plain": [
       "(1.0, 7.0)"
      ]
     },
     "execution_count": 61,
     "metadata": {},
     "output_type": "execute_result"
    }
   ],
   "source": [
    "domain[82]"
   ]
  },
  {
   "cell_type": "code",
   "execution_count": 62,
   "metadata": {
    "collapsed": false
   },
   "outputs": [
    {
     "data": {
      "text/plain": [
       "136"
      ]
     },
     "execution_count": 62,
     "metadata": {},
     "output_type": "execute_result"
    }
   ],
   "source": [
    "len(domain)"
   ]
  },
  {
   "cell_type": "code",
   "execution_count": 63,
   "metadata": {
    "collapsed": false
   },
   "outputs": [
    {
     "data": {
      "text/plain": [
       "[(1.0, 7.0),\n",
       " (1.0, 12.0),\n",
       " (1.0, 7.0),\n",
       " (1.0, 12.0),\n",
       " (1.0, 7.0),\n",
       " (1.0, 12.0),\n",
       " (1.0, 7.0),\n",
       " (1.0, 12.0),\n",
       " (1.0, 7.0),\n",
       " (1.0, 12.0),\n",
       " (1.0, 7.0),\n",
       " (1.0, 12.0),\n",
       " (1.0, 7.0),\n",
       " (1.0, 12.0),\n",
       " (1.0, 7.0),\n",
       " (1.0, 12.0),\n",
       " (1.0, 7.0),\n",
       " (1.0, 12.0),\n",
       " (1.0, 7.0),\n",
       " (1.0, 12.0),\n",
       " (1.0, 7.0),\n",
       " (1.0, 12.0),\n",
       " (1.0, 7.0),\n",
       " (1.0, 12.0),\n",
       " (1.0, 7.0),\n",
       " (1.0, 12.0),\n",
       " (1.0, 7.0),\n",
       " (1.0, 12.0),\n",
       " (1.0, 7.0),\n",
       " (1.0, 12.0),\n",
       " (1.0, 7.0),\n",
       " (1.0, 12.0),\n",
       " (1.0, 7.0),\n",
       " (1.0, 12.0),\n",
       " (1.0, 7.0),\n",
       " (1.0, 12.0),\n",
       " (1.0, 7.0),\n",
       " (1.0, 12.0),\n",
       " (1.0, 7.0),\n",
       " (1.0, 12.0),\n",
       " (1.0, 7.0),\n",
       " (1.0, 12.0),\n",
       " (1.0, 7.0),\n",
       " (1.0, 12.0),\n",
       " (1.0, 7.0),\n",
       " (1.0, 12.0),\n",
       " (1.0, 7.0),\n",
       " (1.0, 12.0),\n",
       " (1.0, 7.0),\n",
       " (1.0, 12.0),\n",
       " (1.0, 7.0),\n",
       " (1.0, 12.0),\n",
       " (1.0, 7.0),\n",
       " (1.0, 12.0),\n",
       " (1.0, 7.0),\n",
       " (1.0, 12.0),\n",
       " (1.0, 7.0),\n",
       " (1.0, 12.0),\n",
       " (1.0, 7.0),\n",
       " (1.0, 12.0),\n",
       " (1.0, 7.0),\n",
       " (1.0, 12.0),\n",
       " (1.0, 7.0),\n",
       " (1.0, 12.0),\n",
       " (1.0, 7.0),\n",
       " (1.0, 12.0),\n",
       " (1.0, 7.0),\n",
       " (1.0, 12.0),\n",
       " (1.0, 7.0),\n",
       " (1.0, 12.0),\n",
       " (1.0, 7.0),\n",
       " (1.0, 12.0),\n",
       " (1.0, 7.0),\n",
       " (1.0, 12.0),\n",
       " (1.0, 7.0),\n",
       " (1.0, 12.0),\n",
       " (1.0, 7.0),\n",
       " (1.0, 12.0),\n",
       " (1.0, 7.0),\n",
       " (1.0, 12.0),\n",
       " (1.0, 7.0),\n",
       " (1.0, 12.0),\n",
       " (1.0, 7.0),\n",
       " (1.0, 12.0),\n",
       " (1.0, 7.0),\n",
       " (1.0, 12.0),\n",
       " (1.0, 7.0),\n",
       " (1.0, 12.0),\n",
       " (1.0, 7.0),\n",
       " (1.0, 12.0),\n",
       " (1.0, 7.0),\n",
       " (1.0, 12.0),\n",
       " (1.0, 7.0),\n",
       " (1.0, 12.0),\n",
       " (1.0, 7.0),\n",
       " (1.0, 12.0),\n",
       " (1.0, 7.0),\n",
       " (1.0, 12.0),\n",
       " (1.0, 7.0),\n",
       " (1.0, 12.0),\n",
       " (1.0, 7.0),\n",
       " (1.0, 12.0),\n",
       " (1.0, 7.0),\n",
       " (1.0, 12.0),\n",
       " (1.0, 7.0),\n",
       " (1.0, 12.0),\n",
       " (1.0, 7.0),\n",
       " (1.0, 12.0),\n",
       " (1.0, 7.0),\n",
       " (1.0, 12.0),\n",
       " (1.0, 7.0),\n",
       " (1.0, 12.0),\n",
       " (1.0, 7.0),\n",
       " (1.0, 12.0),\n",
       " (1.0, 7.0),\n",
       " (1.0, 12.0),\n",
       " (1.0, 7.0),\n",
       " (1.0, 12.0),\n",
       " (1.0, 7.0),\n",
       " (1.0, 12.0),\n",
       " (1.0, 7.0),\n",
       " (1.0, 12.0),\n",
       " (1.0, 7.0),\n",
       " (1.0, 12.0),\n",
       " (1.0, 7.0),\n",
       " (1.0, 12.0),\n",
       " (1.0, 7.0),\n",
       " (1.0, 12.0),\n",
       " (1.0, 7.0),\n",
       " (1.0, 12.0),\n",
       " (1.0, 7.0),\n",
       " (1.0, 12.0),\n",
       " (1.0, 7.0),\n",
       " (1.0, 12.0),\n",
       " (1.0, 7.0),\n",
       " (1.0, 12.0)]"
      ]
     },
     "execution_count": 63,
     "metadata": {},
     "output_type": "execute_result"
    }
   ],
   "source": [
    "domain"
   ]
  },
  {
   "cell_type": "code",
   "execution_count": null,
   "metadata": {
    "collapsed": true
   },
   "outputs": [],
   "source": []
  }
 ],
 "metadata": {
  "kernelspec": {
   "display_name": "Python 2",
   "language": "python",
   "name": "python2"
  },
  "language_info": {
   "codemirror_mode": {
    "name": "ipython",
    "version": 2
   },
   "file_extension": ".py",
   "mimetype": "text/x-python",
   "name": "python",
   "nbconvert_exporter": "python",
   "pygments_lexer": "ipython2",
   "version": "2.7.9"
  }
 },
 "nbformat": 4,
 "nbformat_minor": 0
}
